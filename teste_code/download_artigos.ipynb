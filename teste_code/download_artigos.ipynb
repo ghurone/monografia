{
 "cells": [
  {
   "cell_type": "code",
   "execution_count": 1,
   "metadata": {
    "collapsed": true
   },
   "outputs": [],
   "source": [
    "import os\n",
    "from urllib.parse import urljoin\n",
    "\n",
    "import requests\n",
    "from requests.adapters import HTTPAdapter, Retry\n",
    "from bs4 import BeautifulSoup, SoupStrainer"
   ]
  },
  {
   "cell_type": "markdown",
   "source": [
    "## classe Request"
   ],
   "metadata": {
    "collapsed": false
   }
  },
  {
   "cell_type": "code",
   "execution_count": 2,
   "outputs": [],
   "source": [
    "class Request:\n",
    "    def __init__(self, n_retry: int = 10, timeout: float = 5):\n",
    "        self.retries = Retry(total=n_retry, backoff_factor=1, status_forcelist=[429, 500, 502, 503, 504])\n",
    "        self.adapter = HTTPAdapter(max_retries=self.retries)\n",
    "        self.http = requests.Session()\n",
    "        self.http.mount(\"https://\", self.adapter)\n",
    "\n",
    "        self.timeout = timeout\n",
    "\n",
    "    def get(self, url: str, params: dict = None) -> str:\n",
    "        if params is None:\n",
    "            params = {}\n",
    "\n",
    "        resp = self.http.get(url, params=params, timeout=self.timeout, headers={'accept-language':'pt-BR,pt;q=0.5'})\n",
    "        resp.raise_for_status()\n",
    "\n",
    "        return resp"
   ],
   "metadata": {
    "collapsed": false
   }
  },
  {
   "cell_type": "code",
   "execution_count": 3,
   "outputs": [],
   "source": [
    "my_request = Request()"
   ],
   "metadata": {
    "collapsed": false
   }
  },
  {
   "cell_type": "markdown",
   "source": [
    "## SciELO Artigos\n",
    "### Funções"
   ],
   "metadata": {
    "collapsed": false
   }
  },
  {
   "cell_type": "code",
   "execution_count": 4,
   "outputs": [],
   "source": [
    "scielo_url = lambda x: urljoin('https://www.scielo.br', x)"
   ],
   "metadata": {
    "collapsed": false
   }
  },
  {
   "cell_type": "code",
   "execution_count": 5,
   "outputs": [],
   "source": [
    "def volumes_por_ano() -> dict[str:list]:\n",
    "    req = my_request.get(scielo_url('j/rbef/grid'))\n",
    "    soup = BeautifulSoup(req.text, 'lxml', parse_only=SoupStrainer('tbody'))\n",
    "\n",
    "    links = {linha.td.text.strip(): [scielo_url(a['href']) for a in linha.find_all('a')] for linha in soup.find_all('tr')}\n",
    "    return links"
   ],
   "metadata": {
    "collapsed": false
   }
  },
  {
   "cell_type": "code",
   "execution_count": 6,
   "outputs": [],
   "source": [
    "def artigos_por_volume(url: str, formato: str = 'html', idioma: str = 'pt') -> list:\n",
    "    languages = {'pt': 'Português', 'en': 'Inglês', 'es': 'Espanhol'}\n",
    "    formatos = {'html': '/?lang=', 'pdf': '/?format=pdf&'}\n",
    "\n",
    "    lang = languages.get(idioma.lower())\n",
    "    form = formatos.get(formato.lower())\n",
    "\n",
    "    req = my_request.get(url)\n",
    "\n",
    "    strainer = SoupStrainer('a', attrs={'title': lang})\n",
    "    soup = BeautifulSoup(req.text, 'lxml', parse_only=strainer)\n",
    "\n",
    "    links = []\n",
    "    for a in soup.findAll('a'):\n",
    "        if 'abstract' not in a['href'] and form in a['href']:\n",
    "            links.append(scielo_url(a['href']))\n",
    "\n",
    "    return links"
   ],
   "metadata": {
    "collapsed": false
   }
  },
  {
   "cell_type": "code",
   "execution_count": 7,
   "outputs": [],
   "source": [
    "def html_do_artigo(text: str) -> str:\n",
    "    strainer = SoupStrainer('div', attrs={'class': 'articleTxt'})\n",
    "    return BeautifulSoup(text, 'lxml', parse_only=strainer).prettify()"
   ],
   "metadata": {
    "collapsed": false
   }
  },
  {
   "cell_type": "markdown",
   "source": [
    "### Código\n",
    "Salva os artigos da scielo na pasta `artigos_brutos`"
   ],
   "metadata": {
    "collapsed": false
   }
  },
  {
   "cell_type": "code",
   "execution_count": 8,
   "outputs": [
    {
     "name": "stdout",
     "output_type": "stream",
     "text": [
      "Pasta existente!\n",
      "Ano: 2001 | Volume: 4/4 | Artigo: 012/012 | Total: 1680\r"
     ]
    }
   ],
   "source": [
    "volumes = volumes_por_ano()\n",
    "del volumes['2023']  # remove 2023\n",
    "\n",
    "try:\n",
    "    os.mkdir(os.path.join(os.getcwd(), 'artigos_brutos')) # cria a pasta\n",
    "except FileExistsError:\n",
    "    print('Pasta existente!')\n",
    "\n",
    "path = os.path.join(os.getcwd(), 'artigos_brutos')\n",
    "\n",
    "n = 0  # Numeração dos artigos\n",
    "for ano, urls in volumes.items():\n",
    "    for i, link in enumerate(urls, start=1):  # itera nas urls dos volumes\n",
    "        all_ = artigos_por_volume(link)\n",
    "\n",
    "        for j, artigo in enumerate(all_, start=1):  # itera nas urls dos artigos contidos no volume\n",
    "            nome_arquivo = str(n).rjust(4, \"0\") + '.html'  # Nome do arquivo em função do n. ex: 0123.html\n",
    "            path_save = os.path.join(path, nome_arquivo)  # local onde salvar os arquivos\n",
    "\n",
    "            # print do progresso\n",
    "            print(f'Ano: {ano} | Volume: {i}/{len(urls)} | Artigo: {str(j).rjust(3, \"0\")}/{str(len(all_)).rjust(3, \"0\")} | Total: {str(n).rjust(4, \"0\")}', end='\\r')\n",
    "\n",
    "            # requesição da url do artigo\n",
    "            reque = my_request.get(artigo)\n",
    "\n",
    "            # salva o html artigo completo num arquivo\n",
    "            with open(path_save, 'w', encoding='utf8') as file:\n",
    "                file.write(html_do_artigo(reque.text))\n",
    "\n",
    "            n += 1"
   ],
   "metadata": {
    "collapsed": false
   }
  },
  {
   "cell_type": "code",
   "execution_count": 8,
   "outputs": [],
   "source": [],
   "metadata": {
    "collapsed": false
   }
  }
 ],
 "metadata": {
  "kernelspec": {
   "display_name": "Python 3",
   "language": "python",
   "name": "python3"
  },
  "language_info": {
   "codemirror_mode": {
    "name": "ipython",
    "version": 2
   },
   "file_extension": ".py",
   "mimetype": "text/x-python",
   "name": "python",
   "nbconvert_exporter": "python",
   "pygments_lexer": "ipython2",
   "version": "2.7.6"
  }
 },
 "nbformat": 4,
 "nbformat_minor": 0
}
