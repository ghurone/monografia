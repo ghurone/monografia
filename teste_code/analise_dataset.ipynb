{
 "cells": [
  {
   "cell_type": "code",
   "execution_count": 1,
   "metadata": {
    "tags": []
   },
   "outputs": [],
   "source": [
    "import os\n",
    "\n",
    "from tqdm.notebook import tqdm\n",
    "import pandas as pd\n",
    "from bs4 import BeautifulSoup, SoupStrainer\n",
    "import matplotlib.pyplot as plt"
   ]
  },
  {
   "cell_type": "code",
   "execution_count": 31,
   "metadata": {},
   "outputs": [
    {
     "data": {
      "text/plain": [
       "'d:\\\\OneDrive\\\\monografia\\\\code'"
      ]
     },
     "execution_count": 31,
     "metadata": {},
     "output_type": "execute_result"
    }
   ],
   "source": [
    "# muda o diretório atual para a pasta code onde temos o dataset salvo\n",
    "os.chdir(\"../code\")\n",
    "os.getcwd()"
   ]
  },
  {
   "cell_type": "code",
   "execution_count": 32,
   "metadata": {
    "collapsed": false,
    "jupyter": {
     "outputs_hidden": false
    }
   },
   "outputs": [],
   "source": [
    "df = pd.read_feather('scielo_dataset.feather')  # lendo o ano como um uint16 para economizar memória"
   ]
  },
  {
   "cell_type": "code",
   "execution_count": 33,
   "metadata": {},
   "outputs": [
    {
     "name": "stdout",
     "output_type": "stream",
     "text": [
      "<class 'pandas.core.frame.DataFrame'>\n",
      "RangeIndex: 1681 entries, 0 to 1680\n",
      "Data columns (total 5 columns):\n",
      " #   Column     Non-Null Count  Dtype \n",
      "---  ------     --------------  ----- \n",
      " 0   title      1681 non-null   object\n",
      " 1   seção      1681 non-null   object\n",
      " 2   ano        1681 non-null   uint16\n",
      " 3   doi_id     1661 non-null   object\n",
      " 4   text_html  1681 non-null   object\n",
      "dtypes: object(4), uint16(1)\n",
      "memory usage: 55.9+ KB\n"
     ]
    }
   ],
   "source": [
    "df.info()"
   ]
  },
  {
   "cell_type": "markdown",
   "metadata": {},
   "source": [
    "Visualizando quais são os tipos dos textos"
   ]
  },
  {
   "cell_type": "markdown",
   "metadata": {},
   "source": [
    "Criei essa lista com os tipos que se relacionam com ensino de ciências."
   ]
  },
  {
   "cell_type": "code",
   "execution_count": 34,
   "metadata": {
    "collapsed": false,
    "jupyter": {
     "outputs_hidden": false
    }
   },
   "outputs": [],
   "source": [
    "c = ['produtos e materiais didáticos',\n",
    "     'pesquisa em ensino de física',\n",
    "     'história da física e ciências afins',\n",
    "     'desenvolvimento em ensino de física',\n",
    "     'seção especial: informática no ensino de física',\n",
    "     'história da física',\n",
    "     'história da física e áreas afins',\n",
    "     'seção especial: encontro \" reflexões no ensino de física\", sbf/mec ( brasília, 2005)']"
   ]
  },
  {
   "cell_type": "markdown",
   "metadata": {},
   "source": [
    "Escolhendo os itens que o tipo está contido lista e o ano é maior que 2014"
   ]
  },
  {
   "cell_type": "code",
   "execution_count": 35,
   "metadata": {
    "collapsed": false,
    "jupyter": {
     "outputs_hidden": false
    }
   },
   "outputs": [],
   "source": [
    "edu_df = df.query('seção in @c and ano > 2014')"
   ]
  },
  {
   "cell_type": "code",
   "execution_count": 36,
   "metadata": {},
   "outputs": [
    {
     "data": {
      "text/plain": [
       "323"
      ]
     },
     "execution_count": 36,
     "metadata": {},
     "output_type": "execute_result"
    }
   ],
   "source": [
    "len(edu_df)"
   ]
  },
  {
   "cell_type": "code",
   "execution_count": 11,
   "metadata": {
    "collapsed": false,
    "jupyter": {
     "outputs_hidden": false
    }
   },
   "outputs": [],
   "source": [
    "arquivos = edu_df['text_html'].values  # pegando os arquivos"
   ]
  },
  {
   "cell_type": "code",
   "execution_count": 12,
   "metadata": {
    "collapsed": false,
    "jupyter": {
     "outputs_hidden": false
    }
   },
   "outputs": [],
   "source": [
    "def limpa_html(text_html) -> str:\n",
    "     soup = BeautifulSoup(text_html, 'lxml', parse_only=SoupStrainer('div', attrs={'data-anchor': 'Text'}))\n",
    "\n",
    "     # tags do título, citações, referências, equações e figuras foram removidas.\n",
    "     remover = soup.find_all('h1') + soup.find_all('span', attrs={'class': 'ref'}) + \\\n",
    "               soup.find_all('div', attrs={'class':'row formula'}) + soup.find_all('div', attrs={'class': 'row fig'}) + \\\n",
    "               soup.find_all('math')\n",
    "\n",
    "     for tag in remover:\n",
    "          tag.decompose()\n",
    "\n",
    "     return ' '.join(soup.text.lower().split())"
   ]
  },
  {
   "cell_type": "code",
   "execution_count": 13,
   "metadata": {
    "collapsed": false,
    "jupyter": {
     "outputs_hidden": false
    }
   },
   "outputs": [
    {
     "data": {
      "application/vnd.jupyter.widget-view+json": {
       "model_id": "2fefd4bfa26c4b90a683b3511bb180ff",
       "version_major": 2,
       "version_minor": 0
      },
      "text/plain": [
       "  0%|          | 0/323 [00:00<?, ?it/s]"
      ]
     },
     "metadata": {},
     "output_type": "display_data"
    }
   ],
   "source": [
    "textos = []\n",
    "for arq in tqdm(arquivos):\n",
    "     textos.append(limpa_html(arq))"
   ]
  },
  {
   "cell_type": "markdown",
   "metadata": {},
   "source": [
    "# Análise NLP"
   ]
  },
  {
   "cell_type": "code",
   "execution_count": 14,
   "metadata": {
    "collapsed": false,
    "jupyter": {
     "outputs_hidden": false
    }
   },
   "outputs": [],
   "source": [
    "import spacy\n",
    "nlp = spacy.load(\"pt_core_news_lg\")\n",
    "\n",
    "from nltk.corpus import stopwords\n",
    "from spacy.lang.pt.stop_words import STOP_WORDS"
   ]
  },
  {
   "cell_type": "code",
   "execution_count": 15,
   "metadata": {
    "collapsed": false,
    "jupyter": {
     "outputs_hidden": false
    }
   },
   "outputs": [],
   "source": [
    "my = {'p', 'fig', 'p.', 'cm', 'et', 'al', 't', 's', 'm', 'v', 'd', 'of', 'the',\n",
    "      'eq', 'figura', 'b', 'pi', 'ref', 'km', 'kg', 'ii', 'iii', 'iv', 'xix', 'mm',\n",
    "      'δ', 'in', 'and', 'x', 'f', 'r', 'u', 'i', 'g', 'h', 'l', 'y', 'z', 'w', 'k', 'q'}\n",
    "stop = set(stopwords.words('portuguese')).union(STOP_WORDS).union(my)"
   ]
  },
  {
   "cell_type": "code",
   "execution_count": 16,
   "metadata": {
    "collapsed": false,
    "jupyter": {
     "outputs_hidden": false
    }
   },
   "outputs": [
    {
     "data": {
      "application/vnd.jupyter.widget-view+json": {
       "model_id": "6bc09f36e028423682cdb866c858c958",
       "version_major": 2,
       "version_minor": 0
      },
      "text/plain": [
       "  0%|          | 0/323 [00:00<?, ?it/s]"
      ]
     },
     "metadata": {},
     "output_type": "display_data"
    }
   ],
   "source": [
    "# tokenização\n",
    "documentos = []\n",
    "for texto in tqdm(textos):\n",
    "     doc = nlp(texto)\n",
    "     documentos.append([token.lemma_ for token in doc if token.lemma_ not in stop and token.is_alpha])"
   ]
  },
  {
   "cell_type": "code",
   "execution_count": 17,
   "metadata": {
    "collapsed": false,
    "jupyter": {
     "outputs_hidden": false
    }
   },
   "outputs": [],
   "source": [
    "from gensim.models import Phrases\n",
    "from gensim.corpora import Dictionary\n",
    "from gensim.models import LdaModel\n",
    "from gensim.models.coherencemodel import CoherenceModel\n",
    "\n",
    "# Adiciona bigrams e trigrams para os documentos (só se aparecer 5 vezes ou mais).\n",
    "bigram = Phrases(documentos, min_count=5)\n",
    "for idx in range(len(documentos)):\n",
    "     for token in bigram[documentos[idx]]:\n",
    "          if '_' in token:  # se for um n-gram, adiciona no documento\n",
    "               documentos[idx].append(token)\n",
    "\n",
    "# cria o dicionário\n",
    "dictionary = Dictionary(documentos)\n",
    "\n",
    "# Filtra as palabras que ocorrem em menos de 30 documentos ou mais que 60% dos documentos.\n",
    "dictionary.filter_extremes(no_below=30, no_above=0.5)\n",
    "corpus = [dictionary.doc2bow(doc) for doc in documentos]\n",
    "\n",
    "# Set training parameters.\n",
    "chunksize = 400\n",
    "passes = 50\n",
    "iterations = 400\n",
    "eval_every = None  # Don't evaluate model perplexity, takes too much time. Only in test mode.\n",
    "random_seed = 99\n",
    "\n",
    "# Make an index to word dictionary.\n",
    "id2word = dictionary.id2token"
   ]
  },
  {
   "cell_type": "code",
   "execution_count": 26,
   "metadata": {
    "collapsed": false,
    "jupyter": {
     "outputs_hidden": false
    },
    "pycharm": {
     "is_executing": true
    }
   },
   "outputs": [
    {
     "name": "stderr",
     "output_type": "stream",
     "text": [
      "100%|██████████| 6/6 [03:52<00:00, 38.80s/it]\n"
     ]
    }
   ],
   "source": [
    "medias = {}\n",
    "for n in tqdm(range(8,14)):\n",
    "     model = LdaModel(\n",
    "          corpus=corpus,\n",
    "          id2word=id2word,\n",
    "          chunksize=chunksize,\n",
    "          alpha='auto',\n",
    "          eta='auto',\n",
    "          iterations=iterations,\n",
    "          num_topics=n,\n",
    "          passes=passes,\n",
    "          eval_every=eval_every,\n",
    "          random_state=random_seed\n",
    "     )\n",
    "     \n",
    "     cm_u_mass = CoherenceModel(model = model, corpus = corpus, coherence = 'u_mass')\n",
    "     medias[n] = cm_u_mass.get_coherence()"
   ]
  },
  {
   "cell_type": "code",
   "execution_count": 27,
   "metadata": {
    "collapsed": false,
    "jupyter": {
     "outputs_hidden": false
    }
   },
   "outputs": [
    {
     "data": {
      "text/plain": [
       "{8: -0.9083630893289188,\n",
       " 9: -0.9659876703591025,\n",
       " 10: -0.9746598177366833,\n",
       " 11: -0.9266430136058936,\n",
       " 12: -0.9634288545844548,\n",
       " 13: -0.9796356983791397}"
      ]
     },
     "execution_count": 27,
     "metadata": {},
     "output_type": "execute_result"
    }
   ],
   "source": [
    "medias"
   ]
  },
  {
   "cell_type": "code",
   "execution_count": 28,
   "metadata": {
    "collapsed": false,
    "jupyter": {
     "outputs_hidden": false
    }
   },
   "outputs": [
    {
     "data": {
      "image/png": "[encoded data removed]",
      "text/plain": [
       "<Figure size 640x480 with 1 Axes>"
      ]
     },
     "metadata": {},
     "output_type": "display_data"
    }
   ],
   "source": [
    "plt.scatter(medias.keys(), medias.values())\n",
    "plt.show()"
   ]
  },
  {
   "cell_type": "code",
   "execution_count": 29,
   "metadata": {},
   "outputs": [],
   "source": [
    "def printar_topicos(topics):\n",
    "    for i, topic in enumerate(topics, start=1):\n",
    "        print(f'Tópico {i} ({topic[1]:.4f}):')\n",
    "        print('     ', end= '')\n",
    "        for j, t in enumerate(topic[0], start=1):\n",
    "            print(f'{t[1]} ({t[0]:.4f})', end = ' ')\n",
    "            if j % 5 == 0:\n",
    "                print('\\n     ', end='')\n",
    "        print()"
   ]
  },
  {
   "cell_type": "code",
   "execution_count": 30,
   "metadata": {},
   "outputs": [
    {
     "name": "stdout",
     "output_type": "stream",
     "text": [
      "Coerência média: -0.9083630893289188\n",
      "Tópico 1 (-0.7710):\n",
      "     ensino_médio (0.0238) item (0.0147) livro_didático (0.0131) teste (0.0100) turma (0.0097) \n",
      "     prova (0.0082) conceitual (0.0079) disciplina (0.0078) avaliação (0.0078) aprendizagem (0.0077) \n",
      "     questionário (0.0072) desempenho (0.0071) leitura (0.0070) metodologia (0.0067) alternativa (0.0059) \n",
      "     educação (0.0058) educação_básico (0.0054) acerto (0.0052) associar_a o (0.0050) relacionar_a o (0.0050) \n",
      "     \n",
      "Tópico 2 (-0.8156):\n",
      "     sol (0.0180) corpo (0.0144) estrela (0.0126) planeta (0.0123) terra (0.0121) \n",
      "     solar (0.0077) obra (0.0067) esfera (0.0063) lua (0.0062) século (0.0061) \n",
      "     universo (0.0060) dia (0.0053) raio (0.0053) parecer (0.0051) ângulo (0.0050) \n",
      "     celeste (0.0050) astronomia (0.0048) visão (0.0045) matéria (0.0045) Newton (0.0044) \n",
      "     \n",
      "Tópico 3 (-0.8334):\n",
      "     elétrico (0.0178) onda (0.0156) magnético (0.0133) campo_magnético (0.0127) frequência (0.0108) \n",
      "     tensão (0.0101) circuito (0.0099) campo_elétrico (0.0093) sensor (0.0078) comprimento (0.0069) \n",
      "     sinal (0.0069) comprimento_onda (0.0062) em este_trabalho (0.0058) placa (0.0058) fio (0.0057) \n",
      "     eixo (0.0051) carga (0.0051) componente (0.0051) intensidade (0.0049) curva (0.0045) \n",
      "     \n",
      "Tópico 4 (-0.8593):\n",
      "     partícula (0.0369) quântico (0.0227) mecânica_quântico (0.0130) radiação (0.0122) teoria_quântico (0.0114) \n",
      "     onda (0.0105) elétron (0.0105) massa (0.0102) mecânica (0.0082) átomo (0.0081) \n",
      "     fóton (0.0076) ensino_médio (0.0069) carga (0.0068) nuclear (0.0068) eletromagnético (0.0063) \n",
      "     núcleo (0.0061) atômico (0.0061) interpretação (0.0059) matéria (0.0059) incerteza (0.0056) \n",
      "     \n",
      "Tópico 5 (-0.8685):\n",
      "     aprendizagem (0.0194) resolução_problema (0.0105) etapa (0.0086) ensino_médio (0.0085) sequência_didático (0.0076) \n",
      "     ensino_ciência (0.0074) jogo (0.0073) equipe (0.0072) simulação (0.0072) estratégia (0.0071) \n",
      "     resolução (0.0067) aprendizagem_significativo (0.0063) abrir (0.0062) sequência (0.0062) conhecimento_prévio (0.0060) \n",
      "     recurso (0.0056) metodologia (0.0056) quadro (0.0053) vídeo (0.0052) representação (0.0052) \n",
      "     \n",
      "Tópico 6 (-0.9777):\n",
      "     disciplina (0.0139) Brasil (0.0095) universidade (0.0090) público (0.0086) São_Paulo (0.0072) \n",
      "     curso_licenciatura (0.0072) brasileiro (0.0068) astronomia (0.0067) região (0.0066) educação (0.0059) \n",
      "     monitor (0.0058) relacionar_a o (0.0058) licenciatura (0.0058) programa (0.0053) cientista (0.0052) \n",
      "     profissional (0.0051) escola (0.0049) publicar (0.0048) Ciência (0.0045) Estados_Unidos (0.0045) \n",
      "     \n",
      "Tópico 7 (-1.0222):\n",
      "     lente (0.0205) cor (0.0187) laser (0.0160) raio (0.0151) feixe (0.0135) \n",
      "     óptico (0.0119) ângulo (0.0119) refração (0.0116) óptica (0.0107) led (0.0105) \n",
      "     bola (0.0098) olho (0.0098) vermelho (0.0095) feixe_luz (0.0088) água (0.0087) \n",
      "     superfície (0.0085) espelho (0.0080) reflexão (0.0079) comprimento_onda (0.0075) plano (0.0069) \n",
      "     \n",
      "Tópico 8 (-1.1192):\n",
      "     temperatura (0.0263) ar (0.0188) pressão (0.0179) massa (0.0179) água (0.0176) \n",
      "     calor (0.0141) corpo (0.0129) líquido (0.0118) fluido (0.0115) modelo_teórico (0.0109) \n",
      "     densidade (0.0082) dado_experimental (0.0069) amostra (0.0067) superfície (0.0066) em este_trabalho (0.0060) \n",
      "     volume (0.0060) gás (0.0059) aceleração (0.0058) térmico (0.0053) coeficiente (0.0053) \n",
      "     \n"
     ]
    }
   ],
   "source": [
    "model = LdaModel(\n",
    "          corpus=corpus,\n",
    "          id2word=id2word,\n",
    "          chunksize=chunksize,\n",
    "          alpha='auto',\n",
    "          eta='auto',\n",
    "          iterations=iterations,\n",
    "          num_topics=8,\n",
    "          passes=passes,\n",
    "          eval_every=eval_every,\n",
    "          random_state=99\n",
    "     )\n",
    "\n",
    "cm_u_mass = CoherenceModel(model = model, corpus = corpus, coherence = 'u_mass')\n",
    "print('Coerência média:', cm_u_mass.get_coherence())\n",
    "\n",
    "topics = model.top_topics(corpus)\n",
    "printar_topicos(topics)"
   ]
  },
  {
   "cell_type": "code",
   "execution_count": 31,
   "metadata": {},
   "outputs": [
    {
     "name": "stdout",
     "output_type": "stream",
     "text": [
      "Coerência média: -0.9266430136058936\n",
      "Tópico 1 (-0.7174):\n",
      "     corpo (0.0249) obra (0.0095) visão (0.0078) século (0.0068) Newton (0.0067) \n",
      "     fluido (0.0063) matéria (0.0060) parecer (0.0060) histórico (0.0056) natural (0.0056) \n",
      "     concepção (0.0054) massa (0.0051) história (0.0048) afirmar (0.0048) pressão (0.0047) \n",
      "     calor (0.0047) publicar (0.0043) hipótese (0.0043) Ciência (0.0043) mecânica (0.0043) \n",
      "     \n",
      "Tópico 2 (-0.7382):\n",
      "     turma (0.0154) aprendizagem (0.0151) metodologia (0.0143) resolução_problema (0.0135) disciplina (0.0124) \n",
      "     conceitual (0.0097) atividade_experimental (0.0095) resolução (0.0085) avaliação (0.0083) teste (0.0079) \n",
      "     avaliar (0.0070) abrir (0.0069) tarefa (0.0065) resolver_problema (0.0060) motivação (0.0059) \n",
      "     ensino_médio (0.0058) ativo (0.0058) etapa (0.0057) tradicional (0.0057) habilidade (0.0055) \n",
      "     \n",
      "Tópico 3 (-0.8253):\n",
      "     sol (0.0421) estrela (0.0293) planeta (0.0287) terra (0.0274) solar (0.0191) \n",
      "     astronomia (0.0159) lua (0.0147) esfera (0.0141) celeste (0.0113) ângulo (0.0111) \n",
      "     dia (0.0110) universo (0.0095) órbita (0.0095) astronômico (0.0083) círculo (0.0074) \n",
      "     raio (0.0073) torno (0.0070) céu (0.0070) observador (0.0068) sul (0.0064) \n",
      "     \n",
      "Tópico 4 (-0.8358):\n",
      "     aprendizagem (0.0217) aprendizagem_significativo (0.0140) sequência_didático (0.0133) simulação (0.0114) modelo_teórico (0.0113) \n",
      "     sequência (0.0090) representação (0.0089) ensino_ciência (0.0089) ensino_médio (0.0087) equipe (0.0086) \n",
      "     conhecimento_prévio (0.0083) comunidade (0.0072) estratégia (0.0072) realidade (0.0068) educacional (0.0065) \n",
      "     software (0.0064) etapa (0.0062) investigação (0.0061) prévio (0.0061) quadro (0.0059) \n",
      "     \n",
      "Tópico 5 (-0.9014):\n",
      "     partícula (0.0398) quântico (0.0291) mecânica_quântico (0.0159) teoria_quântico (0.0149) massa (0.0128) \n",
      "     radiação (0.0120) elétron (0.0111) fóton (0.0099) ensino_médio (0.0098) mecânica (0.0085) \n",
      "     onda (0.0081) incerteza (0.0075) carga (0.0068) matéria (0.0068) átomo (0.0067) \n",
      "     probabilidade (0.0066) interpretação (0.0066) atômico (0.0060) distribuição (0.0060) energia_cinético (0.0060) \n",
      "     \n",
      "Tópico 6 (-0.9185):\n",
      "     lente (0.0228) cor (0.0210) laser (0.0182) raio (0.0158) comprimento_onda (0.0147) \n",
      "     feixe (0.0145) ângulo (0.0128) óptico (0.0126) led (0.0123) refração (0.0122) \n",
      "     óptica (0.0110) espectro (0.0110) vermelho (0.0108) olho (0.0108) feixe_luz (0.0097) \n",
      "     espelho (0.0094) água (0.0094) intensidade (0.0092) reflexão (0.0075) onda (0.0074) \n",
      "     \n",
      "Tópico 7 (-0.9885):\n",
      "     item (0.0362) ensino_médio (0.0252) prova (0.0199) disciplina (0.0188) teste (0.0141) \n",
      "     desempenho (0.0135) alternativa (0.0129) média (0.0109) curso_licenciatura (0.0097) nota (0.0095) \n",
      "     acerto (0.0094) avaliação (0.0091) licenciatura (0.0084) índice (0.0082) correlação (0.0079) \n",
      "     thumbnail_tabela (0.0075) questionário (0.0073) região (0.0070) percentual (0.0070) instrumento (0.0067) \n",
      "     \n",
      "Tópico 8 (-1.0094):\n",
      "     livro_didático (0.0228) ensino_médio (0.0213) educação (0.0106) relacionar_a o (0.0095) leitura (0.0093) \n",
      "     público (0.0087) conhecimento_científico (0.0082) escola (0.0082) Ciência (0.0074) em esse_sentido (0.0068) \n",
      "     educação_básico (0.0065) social (0.0060) categoria (0.0057) tecnologia (0.0055) docente (0.0054) \n",
      "     escola_público (0.0052) vídeo (0.0051) quadro (0.0051) escolar (0.0050) monitor (0.0049) \n",
      "     \n",
      "Tópico 9 (-1.0718):\n",
      "     universidade (0.0098) Brasil (0.0097) nuclear (0.0093) São_Paulo (0.0091) brasileiro (0.0085) \n",
      "     partícula (0.0080) cientista (0.0072) publicar (0.0070) raio (0.0068) evento (0.0063) \n",
      "     Estados_Unidos (0.0062) época (0.0061) radiação (0.0060) receber (0.0057) filme (0.0053) \n",
      "     instituto (0.0052) projeto (0.0050) década (0.0049) janeiro (0.0049) eletricidade (0.0048) \n",
      "     \n",
      "Tópico 10 (-1.0728):\n",
      "     sensor (0.0097) temperatura (0.0095) massa (0.0090) em este_trabalho (0.0080) ar (0.0071) \n",
      "     placa (0.0063) comprimento (0.0062) pêndulo (0.0061) frequência (0.0056) coeficiente (0.0056) \n",
      "     circuito (0.0054) água (0.0054) curva (0.0053) tensão (0.0053) superfície (0.0053) \n",
      "     intervalo (0.0051) arduino (0.0051) corresponder_a o (0.0051) dado_experimental (0.0048) pressão (0.0047) \n",
      "     \n",
      "Tópico 11 (-1.1140):\n",
      "     elétrico (0.0365) magnético (0.0333) onda (0.0319) campo_magnético (0.0302) campo_elétrico (0.0223) \n",
      "     frequência (0.0148) eletromagnético (0.0133) tensão (0.0120) carga (0.0117) circuito (0.0109) \n",
      "     polarização (0.0087) Maxwell (0.0083) sinal (0.0080) onda_eletromagnético (0.0074) propagação (0.0074) \n",
      "     carga_elétrico (0.0068) fio (0.0067) comprimento_onda (0.0062) associar_a o (0.0062) condutor (0.0062) \n",
      "     \n"
     ]
    }
   ],
   "source": [
    "model = LdaModel(\n",
    "          corpus=corpus,\n",
    "          id2word=id2word,\n",
    "          chunksize=chunksize,\n",
    "          alpha='auto',\n",
    "          eta='auto',\n",
    "          iterations=iterations,\n",
    "          num_topics=11,\n",
    "          passes=passes,\n",
    "          eval_every=eval_every,\n",
    "          random_state=99\n",
    "     )\n",
    "\n",
    "cm_u_mass = CoherenceModel(model = model, corpus = corpus, coherence = 'u_mass')\n",
    "print('Coerência média:', cm_u_mass.get_coherence())\n",
    "\n",
    "topics = model.top_topics(corpus)\n",
    "printar_topicos(topics)"
   ]
  }
 ],
 "metadata": {
  "kernelspec": {
   "display_name": "Python 3 (ipykernel)",
   "language": "python",
   "name": "python3"
  },
  "language_info": {
   "codemirror_mode": {
    "name": "ipython",
    "version": 3
   },
   "file_extension": ".py",
   "mimetype": "text/x-python",
   "name": "python",
   "nbconvert_exporter": "python",
   "pygments_lexer": "ipython3",
   "version": "3.10.9"
  },
  "vscode": {
   "interpreter": {
    "hash": "e668fd8da83d294f882a9b1881bcdf4fad9aa355d0eef119f9c689d241b75da3"
   }
  }
 },
 "nbformat": 4,
 "nbformat_minor": 4
}
