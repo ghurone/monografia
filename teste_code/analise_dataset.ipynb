{
 "cells": [
  {
   "cell_type": "code",
   "execution_count": 1,
   "metadata": {
    "collapsed": true
   },
   "outputs": [],
   "source": [
    "import os\n",
    "\n",
    "from tqdm import tqdm\n",
    "import pandas as pd\n",
    "import numpy as np\n",
    "from bs4 import BeautifulSoup, SoupStrainer"
   ]
  },
  {
   "cell_type": "code",
   "execution_count": 2,
   "outputs": [],
   "source": [
    "df = pd.read_csv('scielo_dataset.csv', dtype={'ano': np.uint16})  # lendo o ano como um uint16 para economizar memória"
   ],
   "metadata": {
    "collapsed": false
   }
  },
  {
   "cell_type": "code",
   "execution_count": 3,
   "outputs": [
    {
     "name": "stdout",
     "output_type": "stream",
     "text": [
      "<class 'pandas.core.frame.DataFrame'>\n",
      "RangeIndex: 1681 entries, 0 to 1680\n",
      "Data columns (total 5 columns):\n",
      " #   Column           Non-Null Count  Dtype \n",
      "---  ------           --------------  ----- \n",
      " 0   title            1672 non-null   object\n",
      " 1   tipo             1665 non-null   object\n",
      " 2   ano              1681 non-null   uint16\n",
      " 3   doi_id           1661 non-null   object\n",
      " 4   file_bruto_name  1681 non-null   object\n",
      "dtypes: object(4), uint16(1)\n",
      "memory usage: 55.9+ KB\n"
     ]
    }
   ],
   "source": [
    "df.info()"
   ],
   "metadata": {
    "collapsed": false
   }
  },
  {
   "cell_type": "markdown",
   "source": [
    "Visualizando quais são os tipos dos textos"
   ],
   "metadata": {
    "collapsed": false
   }
  },
  {
   "cell_type": "code",
   "execution_count": 4,
   "outputs": [
    {
     "data": {
      "text/plain": "artigos gerais                                                                          798\nprodutos e materiais didáticos                                                          202\npesquisa em ensino de física                                                            158\nhistória da física e ciências afins                                                     145\ndesenvolvimento em ensino de física                                                      78\nnotas e discussões                                                                       61\ncartas ao editor                                                                         28\nseção especial: informática no ensino de física                                          19\neditorial                                                                                17\nseção especial                                                                           16\nseção especial - celebrando os 100 anos de nascimento de richard p. feynman              14\nartigos de einstein e ensaios sobre sua obra                                             13\narticles                                                                                 12\nresenha                                                                                  11\nerrata                                                                                    9\nseção especial: centenário da morte de ludwig boltzmann (1844-1906)                       8\nartigo gerais                                                                             8\nresenhas de livros                                                                        7\ncarta ao editor                                                                           7\nano internacional da luz                                                                  6\nseção especial: centenário da morte de william thomson (1824-1907)                        6\nhistória da física                                                                        6\nhistória da física e áreas afins                                                          4\nartigos de revisão sobre relatividade geral e cosmologia                                  4\ndidactic resources                                                                        4\nseção especial, história da física e ciências afins                                       4\nresenhas                                                                                  4\nseção especial: encontro \" reflexões no ensino de física\", sbf/mec ( brasília, 2005)      3\ncarta do editor                                                                           3\nseção especial, artigos gerais                                                            2\nseção especial - ondas gravitacionais                                                     2\ntipo de artigo                                                                            1\nnotas e discussõoes                                                                       1\nseção especial, notas e discussões                                                        1\nphysics education research                                                                1\nresenhas de livro                                                                         1\nseção especial - artigos convidados                                                       1\nName: tipo, dtype: int64"
     },
     "execution_count": 4,
     "metadata": {},
     "output_type": "execute_result"
    }
   ],
   "source": [
    "df['tipo'].value_counts()"
   ],
   "metadata": {
    "collapsed": false
   }
  },
  {
   "cell_type": "markdown",
   "source": [
    "Criei essa lista com os tipos que se relacionam com ensino de ciências."
   ],
   "metadata": {
    "collapsed": false
   }
  },
  {
   "cell_type": "code",
   "execution_count": 5,
   "outputs": [],
   "source": [
    "c = ['produtos e materiais didáticos', 'pesquisa em ensino de física', 'história da física e ciências afins',\n",
    "     'desenvolvimento em ensino de física', 'seção especial: informática no ensino de física', 'história da física',\n",
    "     'história da física e áreas afins', 'seção especial: encontro \" reflexões no ensino de física\", sbf/mec ( brasília, 2005)']"
   ],
   "metadata": {
    "collapsed": false
   }
  },
  {
   "cell_type": "markdown",
   "source": [
    "Escolhendo os itens que o tipo está contido lista e o ano é maior que 2014"
   ],
   "metadata": {
    "collapsed": false
   }
  },
  {
   "cell_type": "code",
   "execution_count": 6,
   "outputs": [],
   "source": [
    "edu_df = df.loc[(df['tipo'].isin(c)) & (df['ano'] > 2014)]  # Analisando de 2015 até 2022"
   ],
   "metadata": {
    "collapsed": false
   }
  },
  {
   "cell_type": "code",
   "execution_count": 7,
   "outputs": [
    {
     "name": "stdout",
     "output_type": "stream",
     "text": [
      "<class 'pandas.core.frame.DataFrame'>\n",
      "Int64Index: 323 entries, 50 to 808\n",
      "Data columns (total 5 columns):\n",
      " #   Column           Non-Null Count  Dtype \n",
      "---  ------           --------------  ----- \n",
      " 0   title            323 non-null    object\n",
      " 1   tipo             323 non-null    object\n",
      " 2   ano              323 non-null    uint16\n",
      " 3   doi_id           323 non-null    object\n",
      " 4   file_bruto_name  323 non-null    object\n",
      "dtypes: object(4), uint16(1)\n",
      "memory usage: 13.2+ KB\n"
     ]
    }
   ],
   "source": [
    "edu_df.info()"
   ],
   "metadata": {
    "collapsed": false
   }
  },
  {
   "cell_type": "code",
   "execution_count": 8,
   "outputs": [],
   "source": [
    "arquivos = edu_df['file_bruto_name'].values  # pegando os arquivos"
   ],
   "metadata": {
    "collapsed": false
   }
  },
  {
   "cell_type": "code",
   "execution_count": 9,
   "outputs": [],
   "source": [
    "def limpa_html(text_html) -> str:\n",
    "     soup = BeautifulSoup(text_html, 'lxml', parse_only=SoupStrainer('div', attrs={'data-anchor': 'Text'}))\n",
    "\n",
    "     # tags do título, citações, referências, equações e figuras foram removidas.\n",
    "     remover = soup.find_all('h1') + soup.find_all('span', attrs={'class': 'ref'}) + \\\n",
    "               soup.find_all('div', attrs={'class':'row formula'}) + soup.find_all('div', attrs={'class': 'row fig'}) + \\\n",
    "               soup.find_all('math')\n",
    "\n",
    "     for tag in remover:\n",
    "          tag.decompose()\n",
    "\n",
    "     return ' '.join(soup.text.lower().split())"
   ],
   "metadata": {
    "collapsed": false
   }
  },
  {
   "cell_type": "code",
   "execution_count": 10,
   "outputs": [
    {
     "name": "stderr",
     "output_type": "stream",
     "text": [
      "100%|██████████| 323/323 [00:23<00:00, 13.82it/s]\n"
     ]
    }
   ],
   "source": [
    "textos = []\n",
    "for arq in tqdm(arquivos):\n",
    "     path = os.path.abspath(os.path.join('artigos_brutos', arq))\n",
    "\n",
    "     with open(path, 'r', encoding='utf8') as f:\n",
    "          text = f.read()\n",
    "\n",
    "     textos.append(limpa_html(text))"
   ],
   "metadata": {
    "collapsed": false
   }
  },
  {
   "cell_type": "markdown",
   "source": [
    "# Análise NLP"
   ],
   "metadata": {
    "collapsed": false
   }
  },
  {
   "cell_type": "code",
   "execution_count": 118,
   "outputs": [],
   "source": [
    "import spacy\n",
    "nlp = spacy.load(\"pt_core_news_sm\")\n",
    "\n",
    "from nltk.corpus import stopwords\n",
    "from spacy.lang.pt.stop_words import STOP_WORDS"
   ],
   "metadata": {
    "collapsed": false
   }
  },
  {
   "cell_type": "code",
   "execution_count": 119,
   "outputs": [],
   "source": [
    "my = {'p', 'fig', 'p.', 'cm', 'et', 'al', 't', 's', 'm', 'v', 'd', 'of', 'the', 'eq'}\n",
    "stop = set(stopwords.words('portuguese')).union(STOP_WORDS).union(my)"
   ],
   "metadata": {
    "collapsed": false
   }
  },
  {
   "cell_type": "code",
   "execution_count": 120,
   "outputs": [
    {
     "name": "stderr",
     "output_type": "stream",
     "text": [
      "100%|██████████| 323/323 [03:59<00:00,  1.35it/s]\n"
     ]
    }
   ],
   "source": [
    "documentos = []\n",
    "for texto in tqdm(textos):\n",
    "     doc = nlp(texto)\n",
    "     documentos.append([token.lemma_ for token in doc if token.orth_ not in stop and token.is_alpha])"
   ],
   "metadata": {
    "collapsed": false
   }
  },
  {
   "cell_type": "code",
   "execution_count": 121,
   "outputs": [],
   "source": [
    "from gensim.models import Phrases\n",
    "\n",
    "# Adiciona bigrams e trigrams para os documentos (só se aparecer 5 vezes ou mais).\n",
    "bigram = Phrases(documentos, min_count=5)\n",
    "for idx in range(len(documentos)):\n",
    "     for token in bigram[documentos[idx]]:\n",
    "          if '_' in token:  # se for um n-gram, adiciona no documento\n",
    "               documentos[idx].append(token)"
   ],
   "metadata": {
    "collapsed": false
   }
  },
  {
   "cell_type": "code",
   "execution_count": 127,
   "outputs": [],
   "source": [
    "from gensim.corpora import Dictionary\n",
    "\n",
    "# c\n",
    "dictionary = Dictionary(documentos)\n",
    "\n",
    "# Filtra as palabras que ocorrem em menos de 20 documentos ou mais que 60% dos documentos.\n",
    "dictionary.filter_extremes(no_below=10, no_above=0.6)"
   ],
   "metadata": {
    "collapsed": false
   }
  },
  {
   "cell_type": "code",
   "execution_count": 128,
   "outputs": [
    {
     "name": "stdout",
     "output_type": "stream",
     "text": [
      "Número de tokens únicos: 5394\n",
      "Número de documentos: 323\n"
     ]
    }
   ],
   "source": [
    "corpus = [dictionary.doc2bow(doc) for doc in documentos]\n",
    "\n",
    "print(f'Número de tokens únicos: {len(dictionary)}')\n",
    "print(f'Número de documentos: {len(corpus)}')"
   ],
   "metadata": {
    "collapsed": false
   }
  },
  {
   "cell_type": "code",
   "execution_count": 135,
   "outputs": [],
   "source": [
    "# Train LDA model.\n",
    "from gensim.models import LdaModel\n",
    "\n",
    "# Set training parameters.\n",
    "num_topics = 20\n",
    "chunksize = 400\n",
    "passes = 50\n",
    "iterations = 500\n",
    "eval_every = None  # Don't evaluate model perplexity, takes too much time.\n",
    "\n",
    "# Make an index to word dictionary.\n",
    "temp = dictionary[0]  # This is only to \"load\" the dictionary.\n",
    "id2word = dictionary.id2token\n",
    "\n",
    "model = LdaModel(\n",
    "     corpus=corpus,\n",
    "     id2word=id2word,\n",
    "     chunksize=chunksize,\n",
    "     alpha='auto',\n",
    "     eta='auto',\n",
    "     iterations=iterations,\n",
    "     num_topics=num_topics,\n",
    "     passes=passes,\n",
    "     eval_every=eval_every,\n",
    "     random_state=99\n",
    ")"
   ],
   "metadata": {
    "collapsed": false
   }
  },
  {
   "cell_type": "code",
   "execution_count": 136,
   "outputs": [
    {
     "name": "stdout",
     "output_type": "stream",
     "text": [
      "Coerência média entre os tópicos: -1.0291\n"
     ]
    }
   ],
   "source": [
    "top_topics = model.top_topics(corpus)\n",
    "\n",
    "avg_topic_coherence = sum([t[1] for t in top_topics]) / num_topics\n",
    "print(f'Coerência média entre os tópicos: {avg_topic_coherence:.4f}')"
   ],
   "metadata": {
    "collapsed": false
   }
  },
  {
   "cell_type": "code",
   "execution_count": 137,
   "outputs": [
    {
     "name": "stdout",
     "output_type": "stream",
     "text": [
      "Tópico 1 (-0.6847):\n",
      "        aprendizagem (0.0129) conteúdo (0.0101) resposta (0.0083) questão (0.0063) prática (0.0055) sala (0.0053) metodologia (0.0048) contexto (0.0046) sala_aula (0.0044) avaliação (0.0044) etapa (0.0042) conceitual (0.0040) estratégia (0.0039) ensino_médio (0.0039) jogo (0.0038) questionário (0.0037) autor (0.0036) compreensão (0.0035) significativo (0.0035) equipe (0.0035) \n",
      "Tópico 2 (-0.7870):\n",
      "        item (0.0368) prova (0.0165) questão (0.0140) alternativa (0.0125) desempenho (0.0097) resposta (0.0082) teste (0.0074) enem (0.0074) média (0.0071) correlação (0.0068) tabela (0.0065) elétrico (0.0065) avaliação (0.0060) ensino_médio (0.0057) instrumento (0.0056) fator (0.0056) acerto (0.0056) concepção (0.0056) variável (0.0055) nota (0.0053) \n",
      "Tópico 3 (-0.7998):\n",
      "        partícula (0.0270) energia (0.0252) quântico (0.0132) interação (0.0117) fóton (0.0095) massa (0.0092) elétron (0.0092) elétrom (0.0086) radiação (0.0073) núcleo (0.0065) átomo (0.0065) carga (0.0058) nuclear (0.0058) atômico (0.0054) matéria (0.0053) emissão (0.0040) raio (0.0040) existência (0.0037) descoberta (0.0033) evento (0.0033) \n",
      "Tópico 4 (-0.8025):\n",
      "        lua (0.0115) terra (0.0106) planeta (0.0095) obra (0.0095) século (0.0091) centro (0.0087) corpo (0.0082) pedra (0.0079) kepler (0.0078) matemático (0.0069) distância (0.0066) copérnico (0.0062) ideia (0.0061) círculo (0.0057) polo (0.0057) natureza (0.0055) concepção (0.0055) livro (0.0054) escrever (0.0053) haver (0.0053) \n",
      "Tópico 5 (-0.8493):\n",
      "        velocidade (0.0387) força (0.0306) corpo (0.0188) energia (0.0118) elétrico (0.0103) distância (0.0100) massa (0.0098) bola (0.0077) colisão (0.0065) Newton (0.0065) esfera (0.0056) b (0.0054) constante (0.0051) princípio (0.0051) intervalo (0.0048) ação (0.0046) x (0.0045) plano (0.0044) inércia (0.0044) espaço (0.0043) \n",
      "Tópico 6 (-0.8528):\n",
      "        imagem (0.0465) lente (0.0309) distância (0.0169) luz (0.0132) feixe (0.0123) espelho (0.0122) ângulo (0.0121) raio (0.0105) óptico (0.0101) refração (0.0087) óptica (0.0083) formar (0.0072) olho (0.0071) laser (0.0069) superfície (0.0061) focal (0.0060) geométrico (0.0054) plano (0.0053) observação (0.0053) tamanho (0.0052) \n",
      "Tópico 7 (-0.8975):\n",
      "        sensor (0.0137) gráfico (0.0096) arduino (0.0092) luz (0.0074) intensidade (0.0072) laboratório (0.0071) software (0.0069) fonte (0.0063) custo (0.0059) laser (0.0059) circuito (0.0057) distância (0.0055) digital (0.0053) placa (0.0052) lâmpada (0.0051) código (0.0051) simulação (0.0050) sinal (0.0048) tabela (0.0047) equipamento (0.0047) \n",
      "Tópico 8 (-0.9188):\n",
      "        princípio (0.0143) leitura (0.0140) histórico (0.0138) texto (0.0121) Ciência (0.0096) som (0.0095) história (0.0076) livro (0.0075) corda (0.0075) sonoro (0.0069) visão (0.0066) autor (0.0066) destacar (0.0066) pressão (0.0059) contexto (0.0056) frequência (0.0055) obra (0.0050) fonte (0.0050) formação (0.0049) discurso (0.0048) \n",
      "Tópico 9 (-0.9291):\n",
      "        sol (0.0348) estrela (0.0226) planeta (0.0174) terra (0.0159) solar (0.0153) pêndulo (0.0126) esfera (0.0100) dia (0.0086) ângulo (0.0084) eixo (0.0075) período (0.0074) astronomia (0.0074) celeste (0.0072) plano (0.0068) órbita (0.0067) latitude (0.0064) observação (0.0064) centro (0.0062) rotação (0.0062) observador (0.0058) \n",
      "Tópico 10 (-0.9329):\n",
      "        força (0.0292) ar (0.0178) massa (0.0173) água (0.0164) pressão (0.0163) velocidade (0.0124) aceleração (0.0093) fluido (0.0091) corpo (0.0088) líquido (0.0082) parâmetro (0.0080) constante (0.0079) b (0.0078) arrasto (0.0071) densidade (0.0070) curva (0.0066) volume (0.0062) ajuste (0.0058) c (0.0057) temperatura (0.0056) \n",
      "Tópico 11 (-0.9434):\n",
      "        curso (0.0438) disciplina (0.0353) formação (0.0177) astronomia (0.0128) licenciatura (0.0120) monitor (0.0110) público (0.0108) região (0.0103) presencial (0.0084) educação (0.0076) profissional (0.0064) semestre (0.0063) nota (0.0061) avaliação (0.0061) oferecer (0.0057) formar (0.0055) tabela (0.0051) turma (0.0050) graduação (0.0048) prova (0.0047) \n",
      "Tópico 12 (-1.0478):\n",
      "        teste (0.0285) turma (0.0275) pi (0.0164) conceitual (0.0157) questão (0.0155) ganho (0.0143) metodologia (0.0129) acerto (0.0121) trânsito (0.0118) resposta (0.0108) desempenho (0.0078) grupo (0.0075) videoanálise (0.0067) curso (0.0063) disciplina (0.0057) questionário (0.0051) aplicativo (0.0051) tradicional (0.0051) avaliar (0.0050) participante (0.0048) \n",
      "Tópico 13 (-1.0827):\n",
      "        luz (0.0237) quântico (0.0128) onda (0.0125) princípio (0.0096) einstein (0.0094) visão (0.0083) mecânica (0.0081) interpretação (0.0069) radiação (0.0069) incerteza (0.0068) ondulatório (0.0058) partícula (0.0054) broglie (0.0052) corpuscular (0.0052) água (0.0051) expressão (0.0049) natureza (0.0048) schrödinger (0.0045) espaço (0.0044) reflexão (0.0043) \n",
      "Tópico 14 (-1.0997):\n",
      "        livro (0.0569) livro_didático (0.0215) obra (0.0151) eletricidade (0.0138) coleção (0.0125) euler (0.0108) conteúdo (0.0106) escola (0.0101) elétrico (0.0098) texto (0.0098) autor (0.0092) exercício (0.0087) volume (0.0075) corpo (0.0067) década (0.0065) público (0.0062) educação (0.0062) nacional (0.0060) éter (0.0060) interesse (0.0057) \n",
      "Tópico 15 (-1.1526):\n",
      "        Brasil (0.0074) laboratório (0.0074) brasileiro (0.0068) universidade (0.0067) latte (0.0066) nuclear (0.0057) publicar (0.0054) cientista (0.0053) leite (0.0048) haver (0.0047) época (0.0046) trabalhar (0.0044) fermi (0.0044) janeiro (0.0043) receber (0.0043) partícula (0.0042) and (0.0042) instituto (0.0041) carta (0.0040) in (0.0039) \n",
      "Tópico 16 (-1.2323):\n",
      "        onda (0.0388) frequência (0.0238) abrir (0.0203) resolução (0.0151) modelagem (0.0141) ondas (0.0123) filme (0.0119) solução (0.0116) amplitude (0.0104) propagação (0.0103) resolução_problema (0.0102) haste (0.0098) velocidade (0.0092) sinal (0.0082) acústico (0.0073) comprimento (0.0067) guia (0.0066) elétrico (0.0065) propagar (0.0060) direção (0.0057) \n",
      "Tópico 17 (-1.2346):\n",
      "        luz (0.0370) eletromagnético (0.0169) polarização (0.0165) éter (0.0124) magnético (0.0123) onda (0.0120) maxwell (0.0103) elástico (0.0085) propagação (0.0084) direção (0.0083) ação (0.0080) polarizar (0.0074) vórtice (0.0070) young (0.0065) rotação (0.0064) plano (0.0063) óptica (0.0059) deformação (0.0058) fresnel (0.0058) elétrico (0.0057) \n",
      "Tópico 18 (-1.2652):\n",
      "        magnético (0.0151) elétrico (0.0118) tensão (0.0118) temperatura (0.0106) circuito (0.0094) calor (0.0088) fio (0.0080) bobina (0.0079) frequência (0.0061) placa (0.0057) carga (0.0057) barra (0.0055) campo_magnético (0.0051) terminal (0.0050) tubo (0.0049) superfície (0.0048) condutor (0.0044) transformador (0.0043) motor (0.0042) comprimento (0.0041) \n",
      "Tópico 19 (-1.4371):\n",
      "        distribuição (0.0140) partícula (0.0096) cósmico (0.0089) sistema (0.0086) estatístico (0.0086) remoto (0.0077) quântico (0.0065) matemático (0.0063) raio (0.0062) representação (0.0061) probabilidade (0.0060) projeto (0.0056) raio_cósmico (0.0054) spin (0.0051) estrutura (0.0050) solução (0.0043) formalismo (0.0040) radiação (0.0040) protótipo (0.0040) mecânica (0.0038) \n",
      "Tópico 20 (-1.6330):\n",
      "        cor (0.0295) luz (0.0224) vermelho (0.0157) temperatura (0.0113) branco (0.0103) azul (0.0102) espectro (0.0101) água (0.0088) raio (0.0083) olho (0.0078) ar (0.0073) região (0.0070) prisma (0.0069) aparecer (0.0068) led (0.0061) verde (0.0061) vidro (0.0059) absorção (0.0049) figurar (0.0046) subsunçor (0.0045) \n"
     ]
    }
   ],
   "source": [
    "for i, topic in enumerate(top_topics, start=1):\n",
    "     print(f'Tópico {i} ({topic[1]:.4f}):')\n",
    "     print('        ', end= '')\n",
    "     for prob, word, in topic[0]:\n",
    "          print(f'{word} ({prob:.4f})', end=' ')\n",
    "     print()"
   ],
   "metadata": {
    "collapsed": false
   }
  },
  {
   "cell_type": "code",
   "execution_count": null,
   "outputs": [],
   "source": [],
   "metadata": {
    "collapsed": false
   }
  }
 ],
 "metadata": {
  "kernelspec": {
   "display_name": "Python 3",
   "language": "python",
   "name": "python3"
  },
  "language_info": {
   "codemirror_mode": {
    "name": "ipython",
    "version": 2
   },
   "file_extension": ".py",
   "mimetype": "text/x-python",
   "name": "python",
   "nbconvert_exporter": "python",
   "pygments_lexer": "ipython2",
   "version": "2.7.6"
  }
 },
 "nbformat": 4,
 "nbformat_minor": 0
}
