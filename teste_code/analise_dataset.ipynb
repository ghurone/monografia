{
 "cells": [
  {
   "cell_type": "code",
   "execution_count": 1,
   "metadata": {
    "collapsed": true
   },
   "outputs": [],
   "source": [
    "import os\n",
    "\n",
    "from tqdm import tqdm\n",
    "import pandas as pd\n",
    "import numpy as np\n",
    "from bs4 import BeautifulSoup, SoupStrainer"
   ]
  },
  {
   "cell_type": "code",
   "execution_count": 2,
   "metadata": {
    "collapsed": false
   },
   "outputs": [],
   "source": [
    "df = pd.read_csv('scielo_dataset.csv', dtype={'ano': np.uint16})  # lendo o ano como um uint16 para economizar memória"
   ]
  },
  {
   "cell_type": "code",
   "execution_count": 3,
   "metadata": {
    "collapsed": false
   },
   "outputs": [
    {
     "name": "stdout",
     "output_type": "stream",
     "text": [
      "<class 'pandas.core.frame.DataFrame'>\n",
      "RangeIndex: 1681 entries, 0 to 1680\n",
      "Data columns (total 5 columns):\n",
      " #   Column           Non-Null Count  Dtype \n",
      "---  ------           --------------  ----- \n",
      " 0   title            1672 non-null   object\n",
      " 1   tipo             1665 non-null   object\n",
      " 2   ano              1681 non-null   uint16\n",
      " 3   doi_id           1661 non-null   object\n",
      " 4   file_bruto_name  1681 non-null   object\n",
      "dtypes: object(4), uint16(1)\n",
      "memory usage: 55.9+ KB\n"
     ]
    }
   ],
   "source": [
    "df.info()"
   ]
  },
  {
   "cell_type": "markdown",
   "metadata": {
    "collapsed": false
   },
   "source": [
    "Visualizando quais são os tipos dos textos"
   ]
  },
  {
   "cell_type": "code",
   "execution_count": 4,
   "metadata": {
    "collapsed": false
   },
   "outputs": [
    {
     "data": {
      "text/plain": [
       "artigos gerais                                                                          798\n",
       "produtos e materiais didáticos                                                          202\n",
       "pesquisa em ensino de física                                                            158\n",
       "história da física e ciências afins                                                     145\n",
       "desenvolvimento em ensino de física                                                      78\n",
       "notas e discussões                                                                       61\n",
       "cartas ao editor                                                                         28\n",
       "seção especial: informática no ensino de física                                          19\n",
       "editorial                                                                                17\n",
       "seção especial                                                                           16\n",
       "seção especial - celebrando os 100 anos de nascimento de richard p. feynman              14\n",
       "artigos de einstein e ensaios sobre sua obra                                             13\n",
       "articles                                                                                 12\n",
       "resenha                                                                                  11\n",
       "errata                                                                                    9\n",
       "seção especial: centenário da morte de ludwig boltzmann (1844-1906)                       8\n",
       "artigo gerais                                                                             8\n",
       "resenhas de livros                                                                        7\n",
       "carta ao editor                                                                           7\n",
       "ano internacional da luz                                                                  6\n",
       "seção especial: centenário da morte de william thomson (1824-1907)                        6\n",
       "história da física                                                                        6\n",
       "história da física e áreas afins                                                          4\n",
       "artigos de revisão sobre relatividade geral e cosmologia                                  4\n",
       "didactic resources                                                                        4\n",
       "seção especial, história da física e ciências afins                                       4\n",
       "resenhas                                                                                  4\n",
       "seção especial: encontro \" reflexões no ensino de física\", sbf/mec ( brasília, 2005)      3\n",
       "carta do editor                                                                           3\n",
       "seção especial, artigos gerais                                                            2\n",
       "seção especial - ondas gravitacionais                                                     2\n",
       "tipo de artigo                                                                            1\n",
       "notas e discussõoes                                                                       1\n",
       "seção especial, notas e discussões                                                        1\n",
       "physics education research                                                                1\n",
       "resenhas de livro                                                                         1\n",
       "seção especial - artigos convidados                                                       1\n",
       "Name: tipo, dtype: int64"
      ]
     },
     "execution_count": 4,
     "metadata": {},
     "output_type": "execute_result"
    }
   ],
   "source": [
    "df['tipo'].value_counts()"
   ]
  },
  {
   "cell_type": "markdown",
   "metadata": {
    "collapsed": false
   },
   "source": [
    "Criei essa lista com os tipos que se relacionam com ensino de ciências."
   ]
  },
  {
   "cell_type": "code",
   "execution_count": 5,
   "metadata": {
    "collapsed": false
   },
   "outputs": [],
   "source": [
    "c = ['produtos e materiais didáticos', 'pesquisa em ensino de física', 'história da física e ciências afins',\n",
    "     'desenvolvimento em ensino de física', 'seção especial: informática no ensino de física', 'história da física',\n",
    "     'história da física e áreas afins', 'seção especial: encontro \" reflexões no ensino de física\", sbf/mec ( brasília, 2005)']"
   ]
  },
  {
   "cell_type": "markdown",
   "metadata": {
    "collapsed": false
   },
   "source": [
    "Escolhendo os itens que o tipo está contido lista e o ano é maior que 2014"
   ]
  },
  {
   "cell_type": "code",
   "execution_count": 6,
   "metadata": {
    "collapsed": false
   },
   "outputs": [],
   "source": [
    "edu_df = df.loc[(df['tipo'].isin(c)) & (df['ano'] > 2014)]  # Analisando de 2015 até 2022"
   ]
  },
  {
   "cell_type": "code",
   "execution_count": 7,
   "metadata": {
    "collapsed": false
   },
   "outputs": [
    {
     "name": "stdout",
     "output_type": "stream",
     "text": [
      "<class 'pandas.core.frame.DataFrame'>\n",
      "Int64Index: 323 entries, 50 to 808\n",
      "Data columns (total 5 columns):\n",
      " #   Column           Non-Null Count  Dtype \n",
      "---  ------           --------------  ----- \n",
      " 0   title            323 non-null    object\n",
      " 1   tipo             323 non-null    object\n",
      " 2   ano              323 non-null    uint16\n",
      " 3   doi_id           323 non-null    object\n",
      " 4   file_bruto_name  323 non-null    object\n",
      "dtypes: object(4), uint16(1)\n",
      "memory usage: 13.2+ KB\n"
     ]
    }
   ],
   "source": [
    "edu_df.info()"
   ]
  },
  {
   "cell_type": "code",
   "execution_count": 8,
   "metadata": {
    "collapsed": false
   },
   "outputs": [],
   "source": [
    "arquivos = edu_df['file_bruto_name'].values  # pegando os arquivos"
   ]
  },
  {
   "cell_type": "code",
   "execution_count": 9,
   "metadata": {
    "collapsed": false
   },
   "outputs": [],
   "source": [
    "def limpa_html(text_html) -> str:\n",
    "     soup = BeautifulSoup(text_html, 'lxml', parse_only=SoupStrainer('div', attrs={'data-anchor': 'Text'}))\n",
    "\n",
    "     # tags do título, citações, referências, equações e figuras foram removidas.\n",
    "     remover = soup.find_all('h1') + soup.find_all('span', attrs={'class': 'ref'}) + \\\n",
    "               soup.find_all('div', attrs={'class':'row formula'}) + soup.find_all('div', attrs={'class': 'row fig'}) + \\\n",
    "               soup.find_all('math')\n",
    "\n",
    "     for tag in remover:\n",
    "          tag.decompose()\n",
    "\n",
    "     return ' '.join(soup.text.lower().split())"
   ]
  },
  {
   "cell_type": "code",
   "execution_count": 10,
   "metadata": {
    "collapsed": false
   },
   "outputs": [
    {
     "name": "stderr",
     "output_type": "stream",
     "text": [
      "100%|██████████| 323/323 [00:23<00:00, 13.51it/s]\n"
     ]
    }
   ],
   "source": [
    "textos = []\n",
    "for arq in tqdm(arquivos):\n",
    "     path = os.path.abspath(os.path.join('artigos_brutos', arq))\n",
    "\n",
    "     with open(path, 'r', encoding='utf8') as f:\n",
    "          text = f.read()\n",
    "\n",
    "     textos.append(limpa_html(text))"
   ]
  },
  {
   "cell_type": "markdown",
   "metadata": {
    "collapsed": false
   },
   "source": [
    "# Análise NLP"
   ]
  },
  {
   "cell_type": "code",
   "execution_count": 11,
   "metadata": {
    "collapsed": false
   },
   "outputs": [],
   "source": [
    "import spacy\n",
    "nlp = spacy.load(\"pt_core_news_sm\")\n",
    "\n",
    "from nltk.corpus import stopwords\n",
    "from spacy.lang.pt.stop_words import STOP_WORDS"
   ]
  },
  {
   "cell_type": "code",
   "execution_count": 69,
   "metadata": {
    "collapsed": false
   },
   "outputs": [],
   "source": [
    "my = {'p', 'fig', 'p.', 'cm', 'et', 'al', 't', 's', 'm', 'v', 'd', 'of', 'the', 'eq', 'figura', 'b', 'pi'}\n",
    "stop = set(stopwords.words('portuguese')).union(STOP_WORDS).union(my)"
   ]
  },
  {
   "cell_type": "code",
   "execution_count": 117,
   "metadata": {
    "collapsed": false
   },
   "outputs": [
    {
     "name": "stderr",
     "output_type": "stream",
     "text": [
      "100%|██████████| 323/323 [03:33<00:00,  1.51it/s]\n"
     ]
    }
   ],
   "source": [
    "# tokenização\n",
    "documentos = []\n",
    "for texto in tqdm(textos):\n",
    "     doc = nlp(texto)\n",
    "     documentos.append([token.lemma_ for token in doc if token.lemma_ not in stop and token.is_alpha])"
   ]
  },
  {
   "cell_type": "code",
   "execution_count": 118,
   "metadata": {
    "collapsed": false
   },
   "outputs": [],
   "source": [
    "from gensim.models import Phrases\n",
    "from gensim.corpora import Dictionary\n",
    "from gensim.models import LdaModel\n",
    "from gensim.models.coherencemodel import CoherenceModel\n",
    "\n",
    "# Adiciona bigrams e trigrams para os documentos (só se aparecer 5 vezes ou mais).\n",
    "bigram = Phrases(documentos, min_count=5)\n",
    "for idx in range(len(documentos)):\n",
    "     for token in bigram[documentos[idx]]:\n",
    "          if '_' in token:  # se for um n-gram, adiciona no documento\n",
    "               documentos[idx].append(token)\n",
    "\n",
    "# cria o dicionário\n",
    "dictionary = Dictionary(documentos)\n",
    "\n",
    "# Filtra as palabras que ocorrem em menos de 20 documentos ou mais que 60% dos documentos.\n",
    "dictionary.filter_extremes(no_below=10, no_above=0.6)\n",
    "corpus = [dictionary.doc2bow(doc) for doc in documentos]\n",
    "\n",
    "# Train LDA model.\n",
    "# Set training parameters.\n",
    "num_topics = 12\n",
    "chunksize = 400\n",
    "passes = 50\n",
    "iterations = 400\n",
    "eval_every = None  # Don't evaluate model perplexity, takes too much time.\n",
    "\n",
    "# Make an index to word dictionary.\n",
    "temp = dictionary[0]  # This is only to \"load\" the dictionary.\n",
    "id2word = dictionary.id2token"
   ]
  },
  {
   "cell_type": "code",
   "execution_count": 119,
   "metadata": {
    "collapsed": false,
    "pycharm": {
     "is_executing": true
    }
   },
   "outputs": [
    {
     "name": "stderr",
     "output_type": "stream",
     "text": [
      "100%|██████████| 11/11 [09:09<00:00, 49.92s/it]\n"
     ]
    }
   ],
   "source": [
    "medias = {}\n",
    "for n in tqdm(range(10,21)):\n",
    "     model = LdaModel(\n",
    "          corpus=corpus,\n",
    "          id2word=id2word,\n",
    "          chunksize=chunksize,\n",
    "          alpha='auto',\n",
    "          eta='auto',\n",
    "          iterations=iterations,\n",
    "          num_topics=n,\n",
    "          passes=passes,\n",
    "          eval_every=eval_every,\n",
    "          random_state=99\n",
    "     )\n",
    "     cm_u_mass = CoherenceModel(model = model, corpus = corpus, coherence = 'u_mass')\n",
    "     \n",
    "     medias[n] = cm_u_mass.get_coherence()"
   ]
  },
  {
   "cell_type": "code",
   "execution_count": 120,
   "metadata": {
    "collapsed": false
   },
   "outputs": [
    {
     "name": "stdout",
     "output_type": "stream",
     "text": [
      "{10: -0.8491334773169685, 11: -0.858679565195838, 12: -0.920492154262273, 13: -0.9133333615416539, 14: -0.9682025242906429, 15: -1.0083208967367667, 16: -0.9339091156330673, 17: -0.9803571757065636, 18: -1.044112154473843, 19: -0.9991654009540748, 20: -1.0096338608888416}\n"
     ]
    }
   ],
   "source": [
    "print(medias)"
   ]
  },
  {
   "cell_type": "code",
   "execution_count": 121,
   "metadata": {
    "collapsed": false
   },
   "outputs": [],
   "source": [
    "import matplotlib.pyplot as plt"
   ]
  },
  {
   "cell_type": "code",
   "execution_count": 122,
   "metadata": {
    "collapsed": false
   },
   "outputs": [
    {
     "data": {
      "text/plain": [
       "<matplotlib.collections.PathCollection at 0x26e57118160>"
      ]
     },
     "execution_count": 122,
     "metadata": {},
     "output_type": "execute_result"
    },
    {
     "data": {
      "image/png": "[encoded data removed]",
      "text/plain": [
       "<Figure size 640x480 with 1 Axes>"
      ]
     },
     "metadata": {},
     "output_type": "display_data"
    }
   ],
   "source": [
    "plt.scatter(medias.keys(), medias.values())"
   ]
  },
  {
   "cell_type": "code",
   "execution_count": null,
   "metadata": {},
   "outputs": [],
   "source": []
  }
 ],
 "metadata": {
  "kernelspec": {
   "display_name": "monografia",
   "language": "python",
   "name": "python3"
  },
  "language_info": {
   "codemirror_mode": {
    "name": "ipython",
    "version": 3
   },
   "file_extension": ".py",
   "mimetype": "text/x-python",
   "name": "python",
   "nbconvert_exporter": "python",
   "pygments_lexer": "ipython3",
   "version": "3.10.9"
  },
  "vscode": {
   "interpreter": {
    "hash": "e668fd8da83d294f882a9b1881bcdf4fad9aa355d0eef119f9c689d241b75da3"
   }
  }
 },
 "nbformat": 4,
 "nbformat_minor": 0
}
