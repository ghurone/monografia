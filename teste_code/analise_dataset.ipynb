{
 "cells": [
  {
   "cell_type": "code",
   "execution_count": 1,
   "metadata": {
    "tags": []
   },
   "outputs": [],
   "source": [
    "import os\n",
    "\n",
    "from tqdm.notebook import tqdm\n",
    "import pandas as pd\n",
    "from bs4 import BeautifulSoup, SoupStrainer\n",
    "import matplotlib.pyplot as plt"
   ]
  },
  {
   "cell_type": "code",
   "execution_count": 2,
   "metadata": {},
   "outputs": [
    {
     "data": {
      "text/plain": [
       "'d:\\\\OneDrive\\\\monografia\\\\code'"
      ]
     },
     "execution_count": 2,
     "metadata": {},
     "output_type": "execute_result"
    }
   ],
   "source": [
    "# muda o diretório atual para a pasta code onde temos o dataset salvo\n",
    "os.chdir(\"../code\")\n",
    "os.getcwd()"
   ]
  },
  {
   "cell_type": "code",
   "execution_count": 3,
   "metadata": {
    "collapsed": false,
    "jupyter": {
     "outputs_hidden": false
    }
   },
   "outputs": [],
   "source": [
    "df = pd.read_feather('scielo_dataset.feather')"
   ]
  },
  {
   "cell_type": "markdown",
   "metadata": {},
   "source": [
    "Visualizando quais são os tipos dos textos"
   ]
  },
  {
   "cell_type": "markdown",
   "metadata": {},
   "source": [
    "Criei essa lista com os tipos que se relacionam com ensino de ciências."
   ]
  },
  {
   "cell_type": "code",
   "execution_count": 4,
   "metadata": {
    "collapsed": false,
    "jupyter": {
     "outputs_hidden": false
    }
   },
   "outputs": [],
   "source": [
    "c = ['produtos e materiais didáticos',\n",
    "     'pesquisa em ensino de física',\n",
    "     'história da física e ciências afins',\n",
    "     'desenvolvimento em ensino de física',\n",
    "     'seção especial: informática no ensino de física',\n",
    "     'história da física',\n",
    "     'história da física e áreas afins',\n",
    "     'seção especial: encontro \" reflexões no ensino de física\", sbf/mec ( brasília, 2005)']"
   ]
  },
  {
   "cell_type": "markdown",
   "metadata": {},
   "source": [
    "Escolhendo os itens que o tipo está contido lista e o ano é maior que 2014"
   ]
  },
  {
   "cell_type": "code",
   "execution_count": 5,
   "metadata": {
    "collapsed": false,
    "jupyter": {
     "outputs_hidden": false
    }
   },
   "outputs": [],
   "source": [
    "edu_df = df.query('seção in @c and ano > 2014')"
   ]
  },
  {
   "cell_type": "code",
   "execution_count": 6,
   "metadata": {
    "collapsed": false,
    "jupyter": {
     "outputs_hidden": false
    }
   },
   "outputs": [],
   "source": [
    "def limpa_html(text_html) -> str:\n",
    "     soup = BeautifulSoup(text_html, 'lxml', parse_only=SoupStrainer('div', attrs={'data-anchor': 'Text'}))\n",
    "\n",
    "     # tags do título, citações, referências, equações e figuras foram removidas.\n",
    "     remover = soup.find_all('h1') + soup.find_all('span', attrs={'class': 'ref'}) + \\\n",
    "               soup.find_all('div', attrs={'class':'row formula'}) + soup.find_all('div', attrs={'class': 'row fig'}) + \\\n",
    "               soup.find_all('math')\n",
    "\n",
    "     for tag in remover:\n",
    "          tag.decompose()\n",
    "\n",
    "     return ' '.join(soup.text.lower().split())"
   ]
  },
  {
   "cell_type": "code",
   "execution_count": 7,
   "metadata": {
    "collapsed": false,
    "jupyter": {
     "outputs_hidden": false
    }
   },
   "outputs": [
    {
     "data": {
      "application/vnd.jupyter.widget-view+json": {
       "model_id": "938fbdfb172e43418e4ee5c159067f50",
       "version_major": 2,
       "version_minor": 0
      },
      "text/plain": [
       "  0%|          | 0/323 [00:00<?, ?it/s]"
      ]
     },
     "metadata": {},
     "output_type": "display_data"
    }
   ],
   "source": [
    "textos = []\n",
    "for arq in tqdm(edu_df['text_html']):\n",
    "     textos.append(limpa_html(arq))"
   ]
  },
  {
   "cell_type": "markdown",
   "metadata": {},
   "source": [
    "# Análise NLP"
   ]
  },
  {
   "cell_type": "code",
   "execution_count": 8,
   "metadata": {
    "collapsed": false,
    "jupyter": {
     "outputs_hidden": false
    }
   },
   "outputs": [],
   "source": [
    "import spacy\n",
    "nlp = spacy.load(\"pt_core_news_lg\")\n",
    "\n",
    "from nltk.corpus import stopwords\n",
    "from spacy.lang.pt.stop_words import STOP_WORDS"
   ]
  },
  {
   "cell_type": "code",
   "execution_count": 9,
   "metadata": {
    "collapsed": false,
    "jupyter": {
     "outputs_hidden": false
    }
   },
   "outputs": [],
   "source": [
    "my = {'p', 'fig', 'p.', 'cm', 'et', 'al', 't', 's', 'm', 'v', 'd', 'of', 'the',\n",
    "      'eq', 'figura', 'b', 'pi', 'ref', 'km', 'kg', 'ii', 'iii', 'iv', 'xix', 'mm',\n",
    "      'δ', 'in', 'and', 'x', 'f', 'r', 'u', 'i', 'g', 'h', 'l', 'y', 'z', 'w', 'k', 'q'}\n",
    "stop = set(stopwords.words('portuguese')).union(STOP_WORDS).union(my)"
   ]
  },
  {
   "cell_type": "code",
   "execution_count": 10,
   "metadata": {
    "collapsed": false,
    "jupyter": {
     "outputs_hidden": false
    }
   },
   "outputs": [
    {
     "data": {
      "application/vnd.jupyter.widget-view+json": {
       "model_id": "7257954055c44bd09e51aa89478fae8e",
       "version_major": 2,
       "version_minor": 0
      },
      "text/plain": [
       "  0%|          | 0/323 [00:00<?, ?it/s]"
      ]
     },
     "metadata": {},
     "output_type": "display_data"
    }
   ],
   "source": [
    "# tokenização\n",
    "documentos = []\n",
    "for texto in tqdm(textos):\n",
    "     doc = nlp(texto)\n",
    "     temp = []\n",
    "     for token in doc:\n",
    "          if (token.orth_ not in stop or token.lemma_ not in stop) and token.is_alpha:\n",
    "               temp.append(token.lemma_)\n",
    "     documentos.append(temp)"
   ]
  },
  {
   "cell_type": "code",
   "execution_count": 11,
   "metadata": {
    "collapsed": false,
    "jupyter": {
     "outputs_hidden": false
    }
   },
   "outputs": [],
   "source": [
    "from gensim.models import Phrases\n",
    "from gensim.corpora import Dictionary\n",
    "from gensim.models import LdaModel\n",
    "from gensim.models.coherencemodel import CoherenceModel\n",
    "\n",
    "# Adiciona bigrams e trigrams para os documentos (só se aparecer 5 vezes ou mais).\n",
    "bigram = Phrases(documentos, min_count=5)\n",
    "for idx in range(len(documentos)):\n",
    "     for token in bigram[documentos[idx]]:\n",
    "          if '_' in token:  # se for um n-gram, adiciona no documento\n",
    "               documentos[idx].append(token)\n",
    "\n",
    "# cria o dicionário\n",
    "dictionary = Dictionary(documentos)\n",
    "\n",
    "# Filtra as palabras que ocorrem em menos de 30 documentos ou mais que 60% dos documentos.\n",
    "dictionary.filter_extremes(no_below=30, no_above=0.5)\n",
    "corpus = [dictionary.doc2bow(doc) for doc in documentos]\n",
    "\n",
    "# Set training parameters.\n",
    "chunksize = 400\n",
    "passes = 50\n",
    "iterations = 400\n",
    "eval_every = None  # Don't evaluate model perplexity, takes too much time. Only in test mode.\n",
    "random_seed = 99\n",
    "\n",
    "# Make an index to word dictionary.\n",
    "tempo = dictionary[0]\n",
    "id2word = dictionary.id2token"
   ]
  },
  {
   "cell_type": "code",
   "execution_count": 12,
   "metadata": {
    "collapsed": false,
    "jupyter": {
     "outputs_hidden": false
    },
    "pycharm": {
     "is_executing": true
    }
   },
   "outputs": [
    {
     "data": {
      "application/vnd.jupyter.widget-view+json": {
       "model_id": "bfa9769f28d64bec8133ed9a6290a28b",
       "version_major": 2,
       "version_minor": 0
      },
      "text/plain": [
       "  0%|          | 0/6 [00:00<?, ?it/s]"
      ]
     },
     "metadata": {},
     "output_type": "display_data"
    }
   ],
   "source": [
    "medias = {}\n",
    "for n in tqdm(range(8,14)):\n",
    "     model = LdaModel(\n",
    "          corpus=corpus,\n",
    "          id2word=id2word,\n",
    "          chunksize=chunksize,\n",
    "          alpha='auto',\n",
    "          eta='auto',\n",
    "          iterations=iterations,\n",
    "          num_topics=n,\n",
    "          passes=passes,\n",
    "          eval_every=eval_every,\n",
    "          random_state=random_seed\n",
    "     )\n",
    "     \n",
    "     cm_u_mass = CoherenceModel(model = model, corpus = corpus, coherence = 'u_mass')\n",
    "     medias[n] = cm_u_mass.get_coherence()"
   ]
  },
  {
   "cell_type": "code",
   "execution_count": 13,
   "metadata": {
    "collapsed": false,
    "jupyter": {
     "outputs_hidden": false
    }
   },
   "outputs": [
    {
     "data": {
      "text/plain": [
       "{8: -0.9835015128648643,\n",
       " 9: -0.9950743362013112,\n",
       " 10: -0.945479331897815,\n",
       " 11: -0.9465998064844258,\n",
       " 12: -0.9736575256431044,\n",
       " 13: -0.967906700867723}"
      ]
     },
     "execution_count": 13,
     "metadata": {},
     "output_type": "execute_result"
    }
   ],
   "source": [
    "medias"
   ]
  },
  {
   "cell_type": "code",
   "execution_count": 14,
   "metadata": {
    "collapsed": false,
    "jupyter": {
     "outputs_hidden": false
    }
   },
   "outputs": [
    {
     "data": {
      "image/png": "[encoded data removed]",
      "text/plain": [
       "<Figure size 640x480 with 1 Axes>"
      ]
     },
     "metadata": {},
     "output_type": "display_data"
    }
   ],
   "source": [
    "plt.scatter(medias.keys(), medias.values())\n",
    "plt.show()"
   ]
  },
  {
   "cell_type": "code",
   "execution_count": 15,
   "metadata": {},
   "outputs": [],
   "source": [
    "def printar_topicos(topics):\n",
    "    for i, topic in enumerate(topics, start=1):\n",
    "        print(f'Tópico {i} ({topic[1]:.4f}):')\n",
    "        print('     ', end= '')\n",
    "        for j, t in enumerate(topic[0], start=1):\n",
    "            print(f'{t[1]} ({t[0]:.4f})', end = ' ')\n",
    "            if j % 5 == 0:\n",
    "                print('\\n     ', end='')\n",
    "        print()"
   ]
  },
  {
   "cell_type": "code",
   "execution_count": 16,
   "metadata": {},
   "outputs": [
    {
     "name": "stdout",
     "output_type": "stream",
     "text": [
      "Coerência média: -0.945479331897815\n",
      "Tópico 1 (-0.7537):\n",
      "     disciplina (0.0156) aprendizagem (0.0113) conceitual (0.0080) avaliação (0.0074) turma (0.0074) \n",
      "     metodologia (0.0074) leitura (0.0072) educação (0.0069) ensino_médio (0.0056) categoria (0.0055) \n",
      "     questionário (0.0052) livro_didático (0.0050) social (0.0048) etapa (0.0048) avaliar (0.0046) \n",
      "     docente (0.0046) tarefa (0.0043) escola (0.0041) profissional (0.0040) licenciatura (0.0040) \n",
      "     \n",
      "Tópico 2 (-0.8367):\n",
      "     corpo (0.0154) quântico (0.0110) planeta (0.0091) terra (0.0079) obra (0.0075) \n",
      "     século (0.0067) visão (0.0064) universo (0.0062) mecânica (0.0061) lua (0.0061) \n",
      "     sol (0.0059) histórico (0.0059) parecer (0.0054) partícula (0.0053) matéria (0.0050) \n",
      "     esfera (0.0049) concepção (0.0048) história (0.0048) Newton (0.0046) ângulo (0.0044) \n",
      "     \n",
      "Tópico 3 (-0.8551):\n",
      "     item (0.0392) prova (0.0204) teste (0.0167) alternativa (0.0146) desempenho (0.0140) \n",
      "     acerto (0.0114) média (0.0110) ensino_médio (0.0103) correlação (0.0093) variável (0.0084) \n",
      "     nota (0.0082) instrumento (0.0076) índice (0.0075) concepção (0.0075) percentual (0.0067) \n",
      "     participante (0.0065) padrão (0.0063) questionário (0.0062) avaliação (0.0060) estatístico (0.0060) \n",
      "     \n",
      "Tópico 4 (-0.8754):\n",
      "     aprendizagem (0.0177) simulação (0.0118) jogo (0.0116) equipe (0.0113) estratégia (0.0085) \n",
      "     software (0.0083) monitor (0.0074) etapa (0.0073) aplicativo (0.0071) sequência (0.0070) \n",
      "     turma (0.0066) ferramenta (0.0062) projeto (0.0061) metodologia (0.0059) habilidade (0.0055) \n",
      "     educacional (0.0055) vídeo (0.0054) grupo (0.0053) animação (0.0051) recurso (0.0051) \n",
      "     \n",
      "Tópico 5 (-0.8879):\n",
      "     lente (0.0225) cor (0.0216) laser (0.0199) ângulo (0.0151) feixe (0.0144) \n",
      "     raio (0.0143) vermelho (0.0127) óptico (0.0120) led (0.0113) olho (0.0108) \n",
      "     refração (0.0106) intensidade (0.0100) espelho (0.0098) óptica (0.0095) água (0.0085) \n",
      "     comprimento (0.0085) onda (0.0080) superfície (0.0073) luminoso (0.0073) azul (0.0070) \n",
      "     \n",
      "Tópico 6 (-0.9027):\n",
      "     partícula (0.0240) radiação (0.0122) nuclear (0.0108) Brasil (0.0079) universidade (0.0078) \n",
      "     brasileiro (0.0074) núcleo (0.0071) raio (0.0070) elétron (0.0066) cientista (0.0066) \n",
      "     átomo (0.0063) publicar (0.0061) espectro (0.0060) fóton (0.0058) atômico (0.0057) \n",
      "     evento (0.0055) época (0.0051) receber (0.0047) década (0.0047) emissão (0.0045) \n",
      "     \n",
      "Tópico 7 (-0.9549):\n",
      "     elétrico (0.0378) circuito (0.0236) tensão (0.0165) sensor (0.0165) placa (0.0123) \n",
      "     arduino (0.0105) fio (0.0105) lâmpada (0.0089) terminal (0.0081) carga (0.0077) \n",
      "     motor (0.0074) componente (0.0073) custo (0.0069) potencial (0.0068) eletricidade (0.0065) \n",
      "     resistência (0.0064) frequência (0.0063) projeto (0.0062) sinal (0.0062) campo_elétrico (0.0061) \n",
      "     \n",
      "Tópico 8 (-1.0884):\n",
      "     massa (0.0226) pressão (0.0131) pêndulo (0.0116) ar (0.0115) corpo (0.0099) \n",
      "     aceleração (0.0097) água (0.0097) líquido (0.0088) bola (0.0085) comprimento (0.0083) \n",
      "     densidade (0.0078) tubo (0.0075) curva (0.0075) fluido (0.0070) oscilação (0.0069) \n",
      "     intervalo (0.0069) barra (0.0061) ajuste (0.0061) coeficiente (0.0061) eixo (0.0060) \n",
      "     \n",
      "Tópico 9 (-1.0954):\n",
      "     onda (0.0430) magnético (0.0344) frequência (0.0195) eletromagnético (0.0157) campo_magnético (0.0114) \n",
      "     elétrico (0.0113) propagação (0.0100) polarização (0.0096) sinal (0.0096) Maxwell (0.0094) \n",
      "     som (0.0073) elástico (0.0067) comprimento (0.0065) amplitude (0.0065) carga (0.0064) \n",
      "     plano (0.0062) harmônico (0.0057) tensão (0.0056) vetor (0.0054) densidade (0.0053) \n",
      "     \n",
      "Tópico 10 (-1.2046):\n",
      "     sol (0.0391) temperatura (0.0359) estrela (0.0271) calor (0.0239) solar (0.0230) \n",
      "     dia (0.0149) terra (0.0138) planeta (0.0109) superfície (0.0101) térmico (0.0091) \n",
      "     ar (0.0080) celeste (0.0078) água (0.0076) modelo_teórico (0.0075) astronomia (0.0072) \n",
      "     região (0.0072) modelagem (0.0070) realidade (0.0070) sul (0.0064) transferência (0.0058) \n",
      "     \n"
     ]
    }
   ],
   "source": [
    "model = LdaModel(\n",
    "          corpus=corpus,\n",
    "          id2word=id2word,\n",
    "          chunksize=chunksize,\n",
    "          alpha='auto',\n",
    "          eta='auto',\n",
    "          iterations=iterations,\n",
    "          num_topics=10,\n",
    "          passes=passes,\n",
    "          eval_every=eval_every,\n",
    "          random_state=99\n",
    "     )\n",
    "\n",
    "cm_u_mass = CoherenceModel(model = model, corpus = corpus, coherence = 'u_mass')\n",
    "print('Coerência média:', cm_u_mass.get_coherence())\n",
    "\n",
    "topics = model.top_topics(corpus)\n",
    "printar_topicos(topics)"
   ]
  },
  {
   "cell_type": "code",
   "execution_count": null,
   "metadata": {},
   "outputs": [],
   "source": []
  }
 ],
 "metadata": {
  "kernelspec": {
   "display_name": "Python 3 (ipykernel)",
   "language": "python",
   "name": "python3"
  },
  "language_info": {
   "codemirror_mode": {
    "name": "ipython",
    "version": 3
   },
   "file_extension": ".py",
   "mimetype": "text/x-python",
   "name": "python",
   "nbconvert_exporter": "python",
   "pygments_lexer": "ipython3",
   "version": "3.10.9"
  },
  "vscode": {
   "interpreter": {
    "hash": "e668fd8da83d294f882a9b1881bcdf4fad9aa355d0eef119f9c689d241b75da3"
   }
  }
 },
 "nbformat": 4,
 "nbformat_minor": 4
}
