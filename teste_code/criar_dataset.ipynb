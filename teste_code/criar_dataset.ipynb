{
 "cells": [
  {
   "cell_type": "code",
   "execution_count": 1,
   "metadata": {
    "collapsed": true
   },
   "outputs": [],
   "source": [
    "import os\n",
    "\n",
    "import pandas as pd\n",
    "from bs4 import BeautifulSoup\n",
    "from tqdm import tqdm"
   ]
  },
  {
   "cell_type": "code",
   "execution_count": 2,
   "metadata": {
    "collapsed": false
   },
   "outputs": [],
   "source": [
    "path_artigos = os.path.join(os.getcwd(), 'artigos_brutos')"
   ]
  },
  {
   "cell_type": "code",
   "execution_count": 3,
   "metadata": {
    "collapsed": false
   },
   "outputs": [
    {
     "name": "stdout",
     "output_type": "stream",
     "text": [
      "Total de artigos: 1681\n"
     ]
    }
   ],
   "source": [
    "# contagem de artigos\n",
    "soma = len(os.listdir(path_artigos))\n",
    "print(f'Total de artigos: {soma}')"
   ]
  },
  {
   "cell_type": "markdown",
   "metadata": {
    "collapsed": false
   },
   "source": [
    "# Criando o Dataset"
   ]
  },
  {
   "cell_type": "code",
   "execution_count": 4,
   "metadata": {
    "collapsed": false
   },
   "outputs": [
    {
     "name": "stderr",
     "output_type": "stream",
     "text": [
      "1681it [02:12, 12.73it/s]\n"
     ]
    }
   ],
   "source": [
    "dict_df = {'title': [], 'tipo': [], 'ano': [],  'doi_id': [], 'file_bruto_name': []}\n",
    "\n",
    "for idx, arquivo in tqdm(enumerate(os.listdir(path_artigos), start=1)):\n",
    "\n",
    "    path_abs  = os.path.join(path_artigos, arquivo)\n",
    "\n",
    "    with open(path_abs, 'r', encoding='utf8') as f:\n",
    "        texto_html = f.read()\n",
    "\n",
    "    soup = BeautifulSoup(texto_html, 'lxml')\n",
    "\n",
    "    try:\n",
    "        doi_id = soup.find('a', attrs={'class': '_doi'}).text.strip().removeprefix('https://doi.org/')\n",
    "    except AttributeError:\n",
    "        doi_id = ''\n",
    "\n",
    "    try:\n",
    "        titulo = ' '.join(soup.find('h1', attrs={'class': 'article-title'}).text.split())\n",
    "    except AttributeError:\n",
    "        titulo = ''\n",
    "\n",
    "    try:\n",
    "        tipo = soup.find('span', attrs={'class': '_articleBadge'}).text.strip().lower()\n",
    "    except AttributeError:\n",
    "        tipo = ''\n",
    "\n",
    "    try:\n",
    "        ano = soup.find('span', attrs={'class': '_editionMeta'}).text.split('•')[-1].strip()\n",
    "        if len(ano) > 4:\n",
    "            ano = ano[-4:]\n",
    "    except AttributeError:\n",
    "        ano = ''\n",
    "\n",
    "    dict_df['title'].append(titulo)\n",
    "    dict_df['doi_id'].append(doi_id)\n",
    "    dict_df['file_bruto_name'].append(arquivo)\n",
    "    dict_df['tipo'].append(tipo)\n",
    "    dict_df['ano'].append(int(ano))\n"
   ]
  },
  {
   "cell_type": "code",
   "execution_count": 5,
   "metadata": {
    "collapsed": false
   },
   "outputs": [],
   "source": [
    "df = pd.DataFrame(dict_df)"
   ]
  },
  {
   "cell_type": "code",
   "execution_count": 6,
   "metadata": {
    "collapsed": false
   },
   "outputs": [
    {
     "data": {
      "text/html": [
       "<div>\n",
       "<style scoped>\n",
       "    .dataframe tbody tr th:only-of-type {\n",
       "        vertical-align: middle;\n",
       "    }\n",
       "\n",
       "    .dataframe tbody tr th {\n",
       "        vertical-align: top;\n",
       "    }\n",
       "\n",
       "    .dataframe thead th {\n",
       "        text-align: right;\n",
       "    }\n",
       "</style>\n",
       "<table border=\"1\" class=\"dataframe\">\n",
       "  <thead>\n",
       "    <tr style=\"text-align: right;\">\n",
       "      <th></th>\n",
       "      <th>title</th>\n",
       "      <th>tipo</th>\n",
       "      <th>ano</th>\n",
       "      <th>doi_id</th>\n",
       "      <th>file_bruto_name</th>\n",
       "    </tr>\n",
       "  </thead>\n",
       "  <tbody>\n",
       "    <tr>\n",
       "      <th>0</th>\n",
       "      <td>Mestrado Nacional Profissional em Ensino de Fí...</td>\n",
       "      <td>cartas ao editor</td>\n",
       "      <td>2022</td>\n",
       "      <td>10.1590/1806-9126-RBEF-2021-0392</td>\n",
       "      <td>0000.html</td>\n",
       "    </tr>\n",
       "    <tr>\n",
       "      <th>1</th>\n",
       "      <td>A equivalência entre o Princípio de Maximizaçã...</td>\n",
       "      <td>cartas ao editor</td>\n",
       "      <td>2022</td>\n",
       "      <td>10.1590/1806-9126-RBEF-2021-0407</td>\n",
       "      <td>0001.html</td>\n",
       "    </tr>\n",
       "    <tr>\n",
       "      <th>2</th>\n",
       "      <td>O impacto do MNPEF no desenvolvimento científi...</td>\n",
       "      <td>cartas ao editor</td>\n",
       "      <td>2022</td>\n",
       "      <td>10.1590/1806-9126-RBEF-2022-0128</td>\n",
       "      <td>0002.html</td>\n",
       "    </tr>\n",
       "    <tr>\n",
       "      <th>3</th>\n",
       "      <td>Quebra espontânea de simetria e mecanismo de H...</td>\n",
       "      <td>artigos gerais</td>\n",
       "      <td>2022</td>\n",
       "      <td>10.1590/1806-9126-RBEF-2021-0264</td>\n",
       "      <td>0003.html</td>\n",
       "    </tr>\n",
       "    <tr>\n",
       "      <th>4</th>\n",
       "      <td>Sombras de buracos negros: desvendando a físic...</td>\n",
       "      <td>artigos gerais</td>\n",
       "      <td>2021</td>\n",
       "      <td>10.1590/1806-9126-RBEF-2020-0232</td>\n",
       "      <td>0004.html</td>\n",
       "    </tr>\n",
       "  </tbody>\n",
       "</table>\n",
       "</div>"
      ],
      "text/plain": [
       "                                               title              tipo   ano  \\\n",
       "0  Mestrado Nacional Profissional em Ensino de Fí...  cartas ao editor  2022   \n",
       "1  A equivalência entre o Princípio de Maximizaçã...  cartas ao editor  2022   \n",
       "2  O impacto do MNPEF no desenvolvimento científi...  cartas ao editor  2022   \n",
       "3  Quebra espontânea de simetria e mecanismo de H...    artigos gerais  2022   \n",
       "4  Sombras de buracos negros: desvendando a físic...    artigos gerais  2021   \n",
       "\n",
       "                             doi_id file_bruto_name  \n",
       "0  10.1590/1806-9126-RBEF-2021-0392       0000.html  \n",
       "1  10.1590/1806-9126-RBEF-2021-0407       0001.html  \n",
       "2  10.1590/1806-9126-RBEF-2022-0128       0002.html  \n",
       "3  10.1590/1806-9126-RBEF-2021-0264       0003.html  \n",
       "4  10.1590/1806-9126-RBEF-2020-0232       0004.html  "
      ]
     },
     "execution_count": 6,
     "metadata": {},
     "output_type": "execute_result"
    }
   ],
   "source": [
    "df.head()"
   ]
  },
  {
   "cell_type": "code",
   "execution_count": 7,
   "metadata": {
    "collapsed": false
   },
   "outputs": [],
   "source": [
    "df.to_csv('scielo_dataset.csv', index=False)  # salva o arquivo"
   ]
  }
 ],
 "metadata": {
  "kernelspec": {
   "display_name": "monografia",
   "language": "python",
   "name": "python3"
  },
  "language_info": {
   "codemirror_mode": {
    "name": "ipython",
    "version": 3
   },
   "file_extension": ".py",
   "mimetype": "text/x-python",
   "name": "python",
   "nbconvert_exporter": "python",
   "pygments_lexer": "ipython3",
   "version": "3.10.9"
  },
  "vscode": {
   "interpreter": {
    "hash": "e668fd8da83d294f882a9b1881bcdf4fad9aa355d0eef119f9c689d241b75da3"
   }
  }
 },
 "nbformat": 4,
 "nbformat_minor": 0
}
