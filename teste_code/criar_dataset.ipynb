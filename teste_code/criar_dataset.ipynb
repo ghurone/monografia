{
 "cells": [
  {
   "cell_type": "code",
   "execution_count": 1,
   "metadata": {
    "collapsed": true
   },
   "outputs": [],
   "source": [
    "import os\n",
    "\n",
    "import pandas as pd\n",
    "from bs4 import BeautifulSoup"
   ]
  },
  {
   "cell_type": "code",
   "execution_count": 2,
   "outputs": [],
   "source": [
    "path_artigos = os.path.join(os.getcwd(), 'artigos_brutos')"
   ],
   "metadata": {
    "collapsed": false
   }
  },
  {
   "cell_type": "code",
   "execution_count": 3,
   "outputs": [
    {
     "name": "stdout",
     "output_type": "stream",
     "text": [
      "Total de artigos: 1681\n"
     ]
    }
   ],
   "source": [
    "# contagem de artigos\n",
    "soma = len(os.listdir(path_artigos))\n",
    "print(f'Total de artigos: {soma}')"
   ],
   "metadata": {
    "collapsed": false
   }
  },
  {
   "cell_type": "markdown",
   "source": [
    "# Criando o Dataset"
   ],
   "metadata": {
    "collapsed": false
   }
  },
  {
   "cell_type": "code",
   "execution_count": 8,
   "outputs": [
    {
     "name": "stdout",
     "output_type": "stream",
     "text": [
      "Artigos lidos: 1681\r"
     ]
    }
   ],
   "source": [
    "dict_df = {'title': [], 'doi_id': [], 'file_bruto_path': [], 'tipo': [], 'ano': []}\n",
    "\n",
    "for idx, arquivo in enumerate(os.listdir(path_artigos), start=1):\n",
    "    print(f'Artigos lidos: {str(idx).rjust(4, \"0\")}', end='\\r')\n",
    "\n",
    "    path_abs  = os.path.join(path_artigos, arquivo)\n",
    "    path_rel = os.path.relpath(os.path.join(path_artigos, arquivo))\n",
    "\n",
    "    with open(path_abs, 'r', encoding='utf8') as f:\n",
    "        texto_html = f.read()\n",
    "\n",
    "    soup = BeautifulSoup(texto_html, 'lxml')\n",
    "\n",
    "    try:\n",
    "        doi_id = soup.find('a', attrs={'class': '_doi'}).text.strip().removeprefix('https://doi.org/')\n",
    "    except AttributeError:\n",
    "        doi_id = ''\n",
    "\n",
    "    try:\n",
    "        titulo = soup.find('h1', attrs={'class': 'article-title'}).text.strip()\n",
    "    except AttributeError:\n",
    "        titulo = ''\n",
    "\n",
    "    try:\n",
    "        tipo = soup.find('span', attrs={'class': '_articleBadge'}).text.strip()\n",
    "    except AttributeError:\n",
    "        tipo = ''\n",
    "\n",
    "    try:\n",
    "        ano = soup.find('span', attrs={'class': '_editionMeta'}).text.split('•')[-1].strip()\n",
    "        if len(ano) > 4:\n",
    "            ano = ano[-4:]\n",
    "    except AttributeError:\n",
    "        ano = ''\n",
    "\n",
    "    dict_df['title'].append(titulo)\n",
    "    dict_df['doi_id'].append(doi_id)\n",
    "    dict_df['file_bruto_path'].append(path_rel)\n",
    "    dict_df['tipo'].append(tipo)\n",
    "    dict_df['ano'].append(ano)\n"
   ],
   "metadata": {
    "collapsed": false
   }
  },
  {
   "cell_type": "code",
   "execution_count": 26,
   "outputs": [],
   "source": [
    "df = pd.DataFrame(dict_df)"
   ],
   "metadata": {
    "collapsed": false
   }
  },
  {
   "cell_type": "code",
   "execution_count": 18,
   "outputs": [
    {
     "data": {
      "text/plain": "                                               title  \\\n0  Mestrado Nacional Profissional em Ensino de Fí...   \n1  A equivalência entre o Princípio de Maximizaçã...   \n2  O impacto do MNPEF no desenvolvimento científi...   \n3  Quebra espontânea de simetria e mecanismo de H...   \n4  Sombras de buracos negros: desvendando a físic...   \n\n                             doi_id           file_bruto_path  \\\n0  10.1590/1806-9126-RBEF-2021-0392  artigos_brutos\\0000.html   \n1  10.1590/1806-9126-RBEF-2021-0407  artigos_brutos\\0001.html   \n2  10.1590/1806-9126-RBEF-2022-0128  artigos_brutos\\0002.html   \n3  10.1590/1806-9126-RBEF-2021-0264  artigos_brutos\\0003.html   \n4  10.1590/1806-9126-RBEF-2020-0232  artigos_brutos\\0004.html   \n\n               tipo   ano  \n0  Cartas ao Editor  2022  \n1  Cartas ao Editor  2022  \n2  Cartas ao Editor  2022  \n3    Artigos Gerais  2022  \n4    Artigos Gerais  2021  ",
      "text/html": "<div>\n<style scoped>\n    .dataframe tbody tr th:only-of-type {\n        vertical-align: middle;\n    }\n\n    .dataframe tbody tr th {\n        vertical-align: top;\n    }\n\n    .dataframe thead th {\n        text-align: right;\n    }\n</style>\n<table border=\"1\" class=\"dataframe\">\n  <thead>\n    <tr style=\"text-align: right;\">\n      <th></th>\n      <th>title</th>\n      <th>doi_id</th>\n      <th>file_bruto_path</th>\n      <th>tipo</th>\n      <th>ano</th>\n    </tr>\n  </thead>\n  <tbody>\n    <tr>\n      <th>0</th>\n      <td>Mestrado Nacional Profissional em Ensino de Fí...</td>\n      <td>10.1590/1806-9126-RBEF-2021-0392</td>\n      <td>artigos_brutos\\0000.html</td>\n      <td>Cartas ao Editor</td>\n      <td>2022</td>\n    </tr>\n    <tr>\n      <th>1</th>\n      <td>A equivalência entre o Princípio de Maximizaçã...</td>\n      <td>10.1590/1806-9126-RBEF-2021-0407</td>\n      <td>artigos_brutos\\0001.html</td>\n      <td>Cartas ao Editor</td>\n      <td>2022</td>\n    </tr>\n    <tr>\n      <th>2</th>\n      <td>O impacto do MNPEF no desenvolvimento científi...</td>\n      <td>10.1590/1806-9126-RBEF-2022-0128</td>\n      <td>artigos_brutos\\0002.html</td>\n      <td>Cartas ao Editor</td>\n      <td>2022</td>\n    </tr>\n    <tr>\n      <th>3</th>\n      <td>Quebra espontânea de simetria e mecanismo de H...</td>\n      <td>10.1590/1806-9126-RBEF-2021-0264</td>\n      <td>artigos_brutos\\0003.html</td>\n      <td>Artigos Gerais</td>\n      <td>2022</td>\n    </tr>\n    <tr>\n      <th>4</th>\n      <td>Sombras de buracos negros: desvendando a físic...</td>\n      <td>10.1590/1806-9126-RBEF-2020-0232</td>\n      <td>artigos_brutos\\0004.html</td>\n      <td>Artigos Gerais</td>\n      <td>2021</td>\n    </tr>\n  </tbody>\n</table>\n</div>"
     },
     "execution_count": 18,
     "metadata": {},
     "output_type": "execute_result"
    }
   ],
   "source": [
    "df.head()"
   ],
   "metadata": {
    "collapsed": false
   }
  },
  {
   "cell_type": "code",
   "execution_count": 30,
   "outputs": [
    {
     "data": {
      "text/plain": "Artigos Gerais                                                                          795\nProdutos e Materiais Didáticos                                                          202\nPesquisa em Ensino de Física                                                            158\nHistória da Física e Ciências Afins                                                     145\nDesenvolvimento em Ensino de Física                                                      78\nNotas e Discussões                                                                       61\nCartas ao Editor                                                                         27\nSeção Especial: Informática no Ensino de Física                                          19\nEditorial                                                                                17\nSeção Especial                                                                           16\n                                                                                         16\nSeção especial - Celebrando os 100 anos de nascimento de Richard P. Feynman              14\nArtigos de Einstein e ensaios sobre sua obra                                             13\nArticles                                                                                 12\nResenha                                                                                  11\nErrata                                                                                    9\nSeção Especial: Centenário da morte de Ludwig Boltzmann (1844-1906)                       8\nArtigo Gerais                                                                             8\nResenhas de Livros                                                                        7\nCarta ao Editor                                                                           7\nAno Internacional da Luz                                                                  6\nSeção especial: Centenário da morte de William Thomson (1824-1907)                        6\nHistória da Física                                                                        6\nHistória da Física e Áreas Afins                                                          4\nArtigos de Revisão sobre Relatividade Geral e Cosmologia                                  4\nSeção Especial, História da Física e Ciências Afins                                       4\nDidactic Resources                                                                        4\nResenhas                                                                                  4\nArtigos gerais                                                                            3\nCarta do Editor                                                                           3\nSeção Especial: Encontro \" Reflexões no Ensino de Física\", SBF/MEC ( Brasília, 2005)      3\nSeção Especial - Ondas Gravitacionais                                                     2\nSeção Especial, Artigos Gerais                                                            2\nTipo de artigo                                                                            1\nPhysics Education Research                                                                1\nNotas e Discussõoes                                                                       1\nSeção Especial, Notas e Discussões                                                        1\nCartas ao editor                                                                          1\nResenhas de Livro                                                                         1\nSeção Especial - Artigos Convidados                                                       1\nName: tipo, dtype: int64"
     },
     "execution_count": 30,
     "metadata": {},
     "output_type": "execute_result"
    }
   ],
   "source": [
    "df['tipo'].value_counts()"
   ],
   "metadata": {
    "collapsed": false
   }
  },
  {
   "cell_type": "code",
   "execution_count": 33,
   "outputs": [
    {
     "data": {
      "text/plain": "                                                 title  \\\n400  Conceitos básicos de radiômetros de substituiç...   \n\n                               doi_id           file_bruto_path  \\\n400  10.1590/1806-9126-RBEF-2018-0220  artigos_brutos\\0400.html   \n\n               tipo   ano  \n400  Tipo de artigo  2019  ",
      "text/html": "<div>\n<style scoped>\n    .dataframe tbody tr th:only-of-type {\n        vertical-align: middle;\n    }\n\n    .dataframe tbody tr th {\n        vertical-align: top;\n    }\n\n    .dataframe thead th {\n        text-align: right;\n    }\n</style>\n<table border=\"1\" class=\"dataframe\">\n  <thead>\n    <tr style=\"text-align: right;\">\n      <th></th>\n      <th>title</th>\n      <th>doi_id</th>\n      <th>file_bruto_path</th>\n      <th>tipo</th>\n      <th>ano</th>\n    </tr>\n  </thead>\n  <tbody>\n    <tr>\n      <th>400</th>\n      <td>Conceitos básicos de radiômetros de substituiç...</td>\n      <td>10.1590/1806-9126-RBEF-2018-0220</td>\n      <td>artigos_brutos\\0400.html</td>\n      <td>Tipo de artigo</td>\n      <td>2019</td>\n    </tr>\n  </tbody>\n</table>\n</div>"
     },
     "execution_count": 33,
     "metadata": {},
     "output_type": "execute_result"
    }
   ],
   "source": [
    "df[df['tipo'] == 'Tipo de artigo']"
   ],
   "metadata": {
    "collapsed": false
   }
  },
  {
   "cell_type": "code",
   "execution_count": 34,
   "outputs": [],
   "source": [
    "df.to_csv('scielo_dataset.csv', index=False)"
   ],
   "metadata": {
    "collapsed": false
   }
  },
  {
   "cell_type": "code",
   "execution_count": null,
   "outputs": [],
   "source": [],
   "metadata": {
    "collapsed": false
   }
  }
 ],
 "metadata": {
  "kernelspec": {
   "display_name": "Python 3",
   "language": "python",
   "name": "python3"
  },
  "language_info": {
   "codemirror_mode": {
    "name": "ipython",
    "version": 2
   },
   "file_extension": ".py",
   "mimetype": "text/x-python",
   "name": "python",
   "nbconvert_exporter": "python",
   "pygments_lexer": "ipython2",
   "version": "2.7.6"
  }
 },
 "nbformat": 4,
 "nbformat_minor": 0
}
