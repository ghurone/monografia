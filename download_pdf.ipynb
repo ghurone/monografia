{
 "cells": [
  {
   "cell_type": "markdown",
   "metadata": {},
   "source": [
    "# Download artigos RBEF"
   ]
  },
  {
   "cell_type": "markdown",
   "metadata": {},
   "source": [
    "Os artigos podem ser encontrados nos seguintes links:\n",
    "\n",
    "(2001-atual) https://www.scielo.br/j/rbef/grid\n",
    "\n",
    "(1979-2001) http://www.sbfisica.org.br/rbef/edicoes.shtml"
   ]
  },
  {
   "cell_type": "code",
   "execution_count": 6,
   "metadata": {},
   "outputs": [],
   "source": [
    "import os\n",
    "\n",
    "from funcoes import criar_pasta\n",
    "\n",
    "from requests import get\n",
    "from bs4 import BeautifulSoup"
   ]
  },
  {
   "cell_type": "code",
   "execution_count": 7,
   "metadata": {},
   "outputs": [],
   "source": [
    "dir_path = os.getcwd()  # meu diretorio atual"
   ]
  },
  {
   "cell_type": "code",
   "execution_count": 8,
   "metadata": {},
   "outputs": [
    {
     "name": "stdout",
     "output_type": "stream",
     "text": [
      "A pasta \"artigos\" já existe!\n"
     ]
    }
   ],
   "source": [
    "# cria a pasta artigos caso ela nao exista\n",
    "artigos_path = os.path.join(dir_path, 'artigos')\n",
    "criar_pasta(artigos_path)"
   ]
  },
  {
   "cell_type": "markdown",
   "metadata": {},
   "source": [
    "### Download (1979-2001)"
   ]
  },
  {
   "cell_type": "code",
   "execution_count": 4,
   "metadata": {},
   "outputs": [
    {
     "name": "stdout",
     "output_type": "stream",
     "text": [
      "A pasta \"1979\" já existe!\n",
      "A pasta \"1980\" já existe!\n",
      "A pasta \"1981\" já existe!\n",
      "A pasta \"1982\" já existe!\n",
      "A pasta \"1983\" já existe!\n",
      "A pasta \"1984\" já existe!\n",
      "A pasta \"1985\" já existe!\n",
      "A pasta \"1986\" já existe!\n",
      "A pasta \"1987\" já existe!\n",
      "A pasta \"1988\" já existe!\n",
      "A pasta \"1989\" já existe!\n",
      "A pasta \"1990\" já existe!\n",
      "A pasta \"1991\" já existe!\n",
      "A pasta \"1992\" já existe!\n",
      "A pasta \"1993\" já existe!\n",
      "A pasta \"1994\" já existe!\n",
      "A pasta \"1995\" já existe!\n",
      "A pasta \"1996\" já existe!\n",
      "A pasta \"1997\" já existe!\n",
      "A pasta \"1998\" já existe!\n",
      "A pasta \"1999\" já existe!\n",
      "A pasta \"2000\" já existe!\n",
      "A pasta \"2001\" já existe!\n"
     ]
    }
   ],
   "source": [
    "tam = 23  # numero de edicoes nesse intervalo\n",
    "    \n",
    "for i in range(1, tam+1):\n",
    "    ano = i + 1978\n",
    "    ano_path = os.path.join(artigos_path, str(ano))\n",
    "    criar_pasta(ano_path)\n",
    "    "
   ]
  },
  {
   "cell_type": "code",
   "execution_count": null,
   "metadata": {},
   "outputs": [],
   "source": []
  }
 ],
 "metadata": {
  "kernelspec": {
   "display_name": "Python 3.9.12 ('base')",
   "language": "python",
   "name": "python3"
  },
  "language_info": {
   "codemirror_mode": {
    "name": "ipython",
    "version": 3
   },
   "file_extension": ".py",
   "mimetype": "text/x-python",
   "name": "python",
   "nbconvert_exporter": "python",
   "pygments_lexer": "ipython3",
   "version": "3.9.12"
  },
  "orig_nbformat": 4,
  "vscode": {
   "interpreter": {
    "hash": "40d3a090f54c6569ab1632332b64b2c03c39dcf918b08424e98f38b5ae0af88f"
   }
  }
 },
 "nbformat": 4,
 "nbformat_minor": 2
}
