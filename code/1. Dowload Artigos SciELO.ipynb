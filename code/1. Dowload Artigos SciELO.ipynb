{
 "cells": [
  {
   "cell_type": "markdown",
   "metadata": {},
   "source": [
    "# 1. Download Artigos SciELO\n",
    "\n",
    "Neste notebook é possível fazer download dos artigos da RBEF que podem ser encontrados no site de [SciELO](https://www.scielo.br/j/rbef/). "
   ]
  },
  {
   "cell_type": "markdown",
   "metadata": {},
   "source": [
    "## Imports"
   ]
  },
  {
   "cell_type": "code",
   "execution_count": null,
   "metadata": {},
   "outputs": [],
   "source": [
    "%load_ext autoreload\n",
    "%autoreload 2"
   ]
  },
  {
   "cell_type": "code",
   "execution_count": null,
   "metadata": {},
   "outputs": [],
   "source": [
    "import os\n",
    "\n",
    "from tqdm.notebook import tqdm\n",
    "\n",
    "from utils.scielo import volumes_por_ano, html_do_artigo, artigos_por_volume"
   ]
  },
  {
   "cell_type": "markdown",
   "metadata": {},
   "source": [
    "## Código\n",
    "\n",
    "Nesta parte do notebook consiste no código de download dos artigos que estão no site da SciELO e que são da língua portugesa."
   ]
  },
  {
   "cell_type": "code",
   "execution_count": null,
   "metadata": {},
   "outputs": [],
   "source": [
    "volumes = volumes_por_ano() \n",
    "del volumes[2023]  # remove 2023 dos volumes."
   ]
  },
  {
   "cell_type": "code",
   "execution_count": null,
   "metadata": {},
   "outputs": [],
   "source": [
    "try:\n",
    "    os.mkdir(os.path.join(os.getcwd(), 'artigos_brutos_SciELO')) # cria a pasta dos artigos brutos\n",
    "except FileExistsError:\n",
    "    print('A pasta `artigos_brutos_SciELO` já existe!')"
   ]
  },
  {
   "cell_type": "code",
   "execution_count": null,
   "metadata": {},
   "outputs": [],
   "source": [
    "path = os.path.join(os.getcwd(), 'artigos_brutos_SciELO')"
   ]
  },
  {
   "cell_type": "code",
   "execution_count": null,
   "metadata": {},
   "outputs": [],
   "source": [
    "for ano, urls in tqdm(volumes.items()):\n",
    "    \n",
    "    dir_path = os.path.join(path, str(ano))\n",
    "    \n",
    "    try:\n",
    "        os.mkdir(dir_path)\n",
    "    except FileExistsError:\n",
    "        pass\n",
    "    \n",
    "    n = 1\n",
    "    for volume_url in tqdm(urls, leave=False):\n",
    "        todos = artigos_por_volume(volume_url)\n",
    "        \n",
    "        for artigo_url in tqdm(todos, leave=False):\n",
    "            text = html_do_artigo(artigo_url)\n",
    "            titulo = f'artigo_{ano}_{str(n).rjust(3, \"0\")}.html'\n",
    "            path_save = os.path.join(dir_path, titulo)\n",
    "            \n",
    "            with open(path_save, 'w', encoding='utf8') as file:\n",
    "                file.write(text)\n",
    "            \n",
    "            n += 1\n"
   ]
  },
  {
   "cell_type": "markdown",
   "metadata": {},
   "source": [
    "Depois de fazer o download dos arquivos e salvá-los em uma pasta, podemos criar um Dataset para facilitar a navegação pelo conteúdo.\n",
    "\n",
    "Após a criação do dataset esses arquivos brutos são apagados."
   ]
  }
 ],
 "metadata": {
  "kernelspec": {
   "display_name": "Python 3 (ipykernel)",
   "language": "python",
   "name": "python3"
  },
  "language_info": {
   "codemirror_mode": {
    "name": "ipython",
    "version": 3
   },
   "file_extension": ".py",
   "mimetype": "text/x-python",
   "name": "python",
   "nbconvert_exporter": "python",
   "pygments_lexer": "ipython3",
   "version": "3.10.9"
  },
  "vscode": {
   "interpreter": {
    "hash": "e668fd8da83d294f882a9b1881bcdf4fad9aa355d0eef119f9c689d241b75da3"
   }
  }
 },
 "nbformat": 4,
 "nbformat_minor": 4
}
