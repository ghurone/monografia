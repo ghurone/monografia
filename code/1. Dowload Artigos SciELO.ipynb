{
 "cells": [
  {
   "cell_type": "markdown",
   "metadata": {},
   "source": [
    "# 1. Download Artigos SciELO\n",
    "\n",
    "Neste notebook é possível fazer download dos artigos da RBEF que podem ser encontrados no site de [SciELO](https://www.scielo.br/j/rbef/). "
   ]
  },
  {
   "cell_type": "markdown",
   "metadata": {},
   "source": [
    "## Imports"
   ]
  },
  {
   "cell_type": "code",
   "execution_count": null,
   "metadata": {},
   "outputs": [],
   "source": [
    "%load_ext autoreload\n",
    "%autoreload 2"
   ]
  },
  {
   "cell_type": "code",
   "execution_count": null,
   "metadata": {},
   "outputs": [],
   "source": [
    "import os\n",
    "\n",
    "from tqdm.notebook import tqdm\n",
    "\n",
    "from utils.scielo import volumes_por_ano, html_do_artigo, artigos_por_volume"
   ]
  },
  {
   "cell_type": "markdown",
   "metadata": {},
   "source": [
    "## Código\n",
    "\n",
    "Nesta parte do notebook consiste no código de download dos artigos que estão no site da SciELO e que são da língua portugesa."
   ]
  },
  {
   "cell_type": "code",
   "execution_count": null,
   "metadata": {},
   "outputs": [],
   "source": [
    "volumes = volumes_por_ano() \n",
    "del volumes[2023]  # remove 2023 dos volumes."
   ]
  },
  {
   "cell_type": "code",
   "execution_count": null,
   "metadata": {},
   "outputs": [],
   "source": [
    "try:\n",
    "    os.mkdir(os.path.join(os.getcwd(), 'artigos_brutos_SciELO')) # cria a pasta dos artigos brutos\n",
    "except FileExistsError:\n",
    "    print('A pasta `artigos_brutos_SciELO` já existe!')"
   ]
  },
  {
   "cell_type": "code",
   "execution_count": null,
   "metadata": {},
   "outputs": [],
   "source": [
    "path = os.path.join(os.getcwd(), 'artigos_brutos_SciELO')"
   ]
  },
  {
   "cell_type": "code",
   "execution_count": null,
   "metadata": {},
   "outputs": [],
   "source": [
    "for ano, urls in tqdm(volumes.items()):\n",
    "    \n",
    "    dir_path = os.path.join(path, str(ano))\n",
    "    \n",
    "    try:\n",
    "        os.mkdir(dir_path)\n",
    "    except FileExistsError:\n",
    "        pass\n",
    "    \n",
    "    n = 1\n",
    "    for volume_url in urls:\n",
    "        todos = artigos_por_volume(volume_url)\n",
    "        \n",
    "        for artigo_url in todos:\n",
    "            text = html_do_artigo(artigo_url)\n",
    "            titulo = f'artigo_{ano}_{str(n).rjust(3, \"0\")}.html'\n",
    "            path_save = os.path.join(dir_path, titulo)\n",
    "            \n",
    "            with open(path_save, 'w', encoding='utf8') as file:\n",
    "                file.write(text)\n",
    "            \n",
    "            n += 1\n"
   ]
  },
  {
   "cell_type": "markdown",
   "metadata": {},
   "source": [
    "Depois de fazer o download dos arquivos e salvá-los em uma pasta, podemos criar um Dataset para facilitar a navegação pelo conteúdo.\n",
    "\n",
    "Após a criação do dataset esses arquivos brutos são apagados."
   ]
  }
 ],
 "metadata": {
  "kernelspec": {
   "display_name": "Python 3 (ipykernel)",
   "language": "python",
   "name": "python3"
  },
  "language_info": {
   "codemirror_mode": {
    "name": "ipython",
    "version": 3
   },
   "file_extension": ".py",
   "mimetype": "text/x-python",
   "name": "python",
   "nbconvert_exporter": "python",
   "pygments_lexer": "ipython3",
   "version": "3.9.15"
  },
  "vscode": {
   "interpreter": {
    "hash": "e668fd8da83d294f882a9b1881bcdf4fad9aa355d0eef119f9c689d241b75da3"
   }
  },
  "widgets": {
   "application/vnd.jupyter.widget-state+json": {
    "state": {
     "0603ee0fbae54b5f98d892177e603658": {
      "model_module": "@jupyter-widgets/controls",
      "model_module_version": "2.0.0",
      "model_name": "ProgressStyleModel",
      "state": {
       "description_width": ""
      }
     },
     "06d8d11016f945d8a56a3c66841ac5a7": {
      "model_module": "@jupyter-widgets/controls",
      "model_module_version": "2.0.0",
      "model_name": "FloatProgressModel",
      "state": {
       "layout": "IPY_MODEL_e22b61c44a22498ebcd263381e44bb0b",
       "max": 22,
       "style": "IPY_MODEL_0603ee0fbae54b5f98d892177e603658"
      }
     },
     "0e811b4712034a099a616442f63de475": {
      "model_module": "@jupyter-widgets/controls",
      "model_module_version": "2.0.0",
      "model_name": "HTMLStyleModel",
      "state": {
       "description_width": "",
       "font_size": null,
       "text_color": null
      }
     },
     "13cdc13200de4bc78554698f4fe1f056": {
      "model_module": "@jupyter-widgets/controls",
      "model_module_version": "2.0.0",
      "model_name": "HTMLStyleModel",
      "state": {
       "description_width": "",
       "font_size": null,
       "text_color": null
      }
     },
     "1e9b156dee1e43a19096a9140f9355a8": {
      "model_module": "@jupyter-widgets/controls",
      "model_module_version": "2.0.0",
      "model_name": "HBoxModel",
      "state": {
       "children": [
        "IPY_MODEL_d0e4f2c61d4147cbb4dca4d6a9818064",
        "IPY_MODEL_42512fbf2ec2451cb61be7a5c0b7051f",
        "IPY_MODEL_9f11518d5c8a4e239c117a04e8160501"
       ],
       "layout": "IPY_MODEL_4170cd878a294db3a04ea2c389f5b0fb"
      }
     },
     "26b28ac9f2ff469981308ce793e8cfac": {
      "model_module": "@jupyter-widgets/controls",
      "model_module_version": "2.0.0",
      "model_name": "FloatProgressModel",
      "state": {
       "bar_style": "danger",
       "layout": "IPY_MODEL_4999f19f7f3047658ae0818113821e5a",
       "max": 22,
       "style": "IPY_MODEL_34df817956214e139ff46c30b4cefa64"
      }
     },
     "34df817956214e139ff46c30b4cefa64": {
      "model_module": "@jupyter-widgets/controls",
      "model_module_version": "2.0.0",
      "model_name": "ProgressStyleModel",
      "state": {
       "description_width": ""
      }
     },
     "35391beefbd84b669b173ff6dda77d93": {
      "model_module": "@jupyter-widgets/controls",
      "model_module_version": "2.0.0",
      "model_name": "HTMLModel",
      "state": {
       "layout": "IPY_MODEL_932847cf2e4a4d2b8701dae3d9cd9957",
       "style": "IPY_MODEL_8793193b84ad40c8ae1c544a91044149",
       "value": " 0/22 [00:00&lt;?, ?it/s]"
      }
     },
     "39de897f24b14dd9a634368dbb9ef537": {
      "model_module": "@jupyter-widgets/base",
      "model_module_version": "2.0.0",
      "model_name": "LayoutModel",
      "state": {}
     },
     "3baefa5627414b7fa2d33e3b689ec0c5": {
      "model_module": "@jupyter-widgets/controls",
      "model_module_version": "2.0.0",
      "model_name": "HTMLStyleModel",
      "state": {
       "description_width": "",
       "font_size": null,
       "text_color": null
      }
     },
     "3fb271774a5247d0944c15f42394092f": {
      "model_module": "@jupyter-widgets/controls",
      "model_module_version": "2.0.0",
      "model_name": "HTMLModel",
      "state": {
       "layout": "IPY_MODEL_69ffcce5059d451b9c6d35ec3d3ab7fe",
       "style": "IPY_MODEL_13cdc13200de4bc78554698f4fe1f056",
       "value": "  0%"
      }
     },
     "4170cd878a294db3a04ea2c389f5b0fb": {
      "model_module": "@jupyter-widgets/base",
      "model_module_version": "2.0.0",
      "model_name": "LayoutModel",
      "state": {}
     },
     "42512fbf2ec2451cb61be7a5c0b7051f": {
      "model_module": "@jupyter-widgets/controls",
      "model_module_version": "2.0.0",
      "model_name": "FloatProgressModel",
      "state": {
       "bar_style": "danger",
       "layout": "IPY_MODEL_b46675bc7fe74e759b290d43fa88990c",
       "max": 22,
       "style": "IPY_MODEL_4e9793de1eb340ecb7a9bfe4e933df1d"
      }
     },
     "4999f19f7f3047658ae0818113821e5a": {
      "model_module": "@jupyter-widgets/base",
      "model_module_version": "2.0.0",
      "model_name": "LayoutModel",
      "state": {}
     },
     "4e9793de1eb340ecb7a9bfe4e933df1d": {
      "model_module": "@jupyter-widgets/controls",
      "model_module_version": "2.0.0",
      "model_name": "ProgressStyleModel",
      "state": {
       "description_width": ""
      }
     },
     "5829b0764c5a440697ed0d30692e436c": {
      "model_module": "@jupyter-widgets/controls",
      "model_module_version": "2.0.0",
      "model_name": "HBoxModel",
      "state": {
       "children": [
        "IPY_MODEL_bd86cae0533447c29aa76579c3539f25",
        "IPY_MODEL_06d8d11016f945d8a56a3c66841ac5a7",
        "IPY_MODEL_35391beefbd84b669b173ff6dda77d93"
       ],
       "layout": "IPY_MODEL_f30e6a28eca54d7f944d90a9449dcd2b"
      }
     },
     "62468bcff80f4210b99faaadcd350018": {
      "model_module": "@jupyter-widgets/controls",
      "model_module_version": "2.0.0",
      "model_name": "HTMLModel",
      "state": {
       "layout": "IPY_MODEL_ab67815f7c164e1389c5796d38e8ee1c",
       "style": "IPY_MODEL_7f4db236bf2a4c20be103bb720d53610",
       "value": "  0%"
      }
     },
     "69ffcce5059d451b9c6d35ec3d3ab7fe": {
      "model_module": "@jupyter-widgets/base",
      "model_module_version": "2.0.0",
      "model_name": "LayoutModel",
      "state": {}
     },
     "6af18b2ecf2b41c2b9e4a9442cf8358d": {
      "model_module": "@jupyter-widgets/base",
      "model_module_version": "2.0.0",
      "model_name": "LayoutModel",
      "state": {}
     },
     "79cafb63088c4e05b8baff2de292ca74": {
      "model_module": "@jupyter-widgets/base",
      "model_module_version": "2.0.0",
      "model_name": "LayoutModel",
      "state": {}
     },
     "7f4db236bf2a4c20be103bb720d53610": {
      "model_module": "@jupyter-widgets/controls",
      "model_module_version": "2.0.0",
      "model_name": "HTMLStyleModel",
      "state": {
       "description_width": "",
       "font_size": null,
       "text_color": null
      }
     },
     "8793193b84ad40c8ae1c544a91044149": {
      "model_module": "@jupyter-widgets/controls",
      "model_module_version": "2.0.0",
      "model_name": "HTMLStyleModel",
      "state": {
       "description_width": "",
       "font_size": null,
       "text_color": null
      }
     },
     "8cbaac0d5d3d47a3b26afc8692a5e0b9": {
      "model_module": "@jupyter-widgets/controls",
      "model_module_version": "2.0.0",
      "model_name": "HBoxModel",
      "state": {
       "children": [
        "IPY_MODEL_3fb271774a5247d0944c15f42394092f",
        "IPY_MODEL_26b28ac9f2ff469981308ce793e8cfac",
        "IPY_MODEL_bda9a72d4a544120ba7d1d9156aa17dd"
       ],
       "layout": "IPY_MODEL_d4e3257923e1426c9b20636befd6c000"
      }
     },
     "91e8cf397bd7425ea12f998fa009b9d5": {
      "model_module": "@jupyter-widgets/controls",
      "model_module_version": "2.0.0",
      "model_name": "HTMLStyleModel",
      "state": {
       "description_width": "",
       "font_size": null,
       "text_color": null
      }
     },
     "932847cf2e4a4d2b8701dae3d9cd9957": {
      "model_module": "@jupyter-widgets/base",
      "model_module_version": "2.0.0",
      "model_name": "LayoutModel",
      "state": {}
     },
     "960cfd95bead4e1ebdaa479bc17a344d": {
      "model_module": "@jupyter-widgets/controls",
      "model_module_version": "2.0.0",
      "model_name": "HTMLModel",
      "state": {
       "layout": "IPY_MODEL_6af18b2ecf2b41c2b9e4a9442cf8358d",
       "style": "IPY_MODEL_3baefa5627414b7fa2d33e3b689ec0c5",
       "value": " 0/22 [00:00&lt;?, ?it/s]"
      }
     },
     "9f11518d5c8a4e239c117a04e8160501": {
      "model_module": "@jupyter-widgets/controls",
      "model_module_version": "2.0.0",
      "model_name": "HTMLModel",
      "state": {
       "layout": "IPY_MODEL_b41dc640873c496298a556f99720289d",
       "style": "IPY_MODEL_91e8cf397bd7425ea12f998fa009b9d5",
       "value": " 0/22 [01:52&lt;?, ?it/s]"
      }
     },
     "9f6d7cec45c34479aaf58160815883ed": {
      "model_module": "@jupyter-widgets/base",
      "model_module_version": "2.0.0",
      "model_name": "LayoutModel",
      "state": {}
     },
     "a74860bb88bc45f0a268b8051b930549": {
      "model_module": "@jupyter-widgets/controls",
      "model_module_version": "2.0.0",
      "model_name": "HBoxModel",
      "state": {
       "children": [
        "IPY_MODEL_62468bcff80f4210b99faaadcd350018",
        "IPY_MODEL_b277826a694e41558f7ae1e4909c5017",
        "IPY_MODEL_960cfd95bead4e1ebdaa479bc17a344d"
       ],
       "layout": "IPY_MODEL_9f6d7cec45c34479aaf58160815883ed"
      }
     },
     "ab67815f7c164e1389c5796d38e8ee1c": {
      "model_module": "@jupyter-widgets/base",
      "model_module_version": "2.0.0",
      "model_name": "LayoutModel",
      "state": {}
     },
     "b277826a694e41558f7ae1e4909c5017": {
      "model_module": "@jupyter-widgets/controls",
      "model_module_version": "2.0.0",
      "model_name": "FloatProgressModel",
      "state": {
       "layout": "IPY_MODEL_ee4f9c62bef14240b3e480565dfee2bb",
       "max": 22,
       "style": "IPY_MODEL_fcc71fc4bc1747a2ae978d5909c102b7"
      }
     },
     "b41dc640873c496298a556f99720289d": {
      "model_module": "@jupyter-widgets/base",
      "model_module_version": "2.0.0",
      "model_name": "LayoutModel",
      "state": {}
     },
     "b46675bc7fe74e759b290d43fa88990c": {
      "model_module": "@jupyter-widgets/base",
      "model_module_version": "2.0.0",
      "model_name": "LayoutModel",
      "state": {}
     },
     "bb6d5777d6f64a27b68483a139e8f32f": {
      "model_module": "@jupyter-widgets/controls",
      "model_module_version": "2.0.0",
      "model_name": "HTMLStyleModel",
      "state": {
       "description_width": "",
       "font_size": null,
       "text_color": null
      }
     },
     "bd86cae0533447c29aa76579c3539f25": {
      "model_module": "@jupyter-widgets/controls",
      "model_module_version": "2.0.0",
      "model_name": "HTMLModel",
      "state": {
       "layout": "IPY_MODEL_79cafb63088c4e05b8baff2de292ca74",
       "style": "IPY_MODEL_cc300eae06a74a5ca10d874211ce22b5",
       "value": "  0%"
      }
     },
     "bda9a72d4a544120ba7d1d9156aa17dd": {
      "model_module": "@jupyter-widgets/controls",
      "model_module_version": "2.0.0",
      "model_name": "HTMLModel",
      "state": {
       "layout": "IPY_MODEL_39de897f24b14dd9a634368dbb9ef537",
       "style": "IPY_MODEL_bb6d5777d6f64a27b68483a139e8f32f",
       "value": " 0/22 [00:07&lt;?, ?it/s]"
      }
     },
     "cc300eae06a74a5ca10d874211ce22b5": {
      "model_module": "@jupyter-widgets/controls",
      "model_module_version": "2.0.0",
      "model_name": "HTMLStyleModel",
      "state": {
       "description_width": "",
       "font_size": null,
       "text_color": null
      }
     },
     "d0e4f2c61d4147cbb4dca4d6a9818064": {
      "model_module": "@jupyter-widgets/controls",
      "model_module_version": "2.0.0",
      "model_name": "HTMLModel",
      "state": {
       "layout": "IPY_MODEL_f5d0262af06048bfae0d047731e08d41",
       "style": "IPY_MODEL_0e811b4712034a099a616442f63de475",
       "value": "  0%"
      }
     },
     "d4e3257923e1426c9b20636befd6c000": {
      "model_module": "@jupyter-widgets/base",
      "model_module_version": "2.0.0",
      "model_name": "LayoutModel",
      "state": {}
     },
     "e22b61c44a22498ebcd263381e44bb0b": {
      "model_module": "@jupyter-widgets/base",
      "model_module_version": "2.0.0",
      "model_name": "LayoutModel",
      "state": {}
     },
     "ee4f9c62bef14240b3e480565dfee2bb": {
      "model_module": "@jupyter-widgets/base",
      "model_module_version": "2.0.0",
      "model_name": "LayoutModel",
      "state": {}
     },
     "f30e6a28eca54d7f944d90a9449dcd2b": {
      "model_module": "@jupyter-widgets/base",
      "model_module_version": "2.0.0",
      "model_name": "LayoutModel",
      "state": {}
     },
     "f5d0262af06048bfae0d047731e08d41": {
      "model_module": "@jupyter-widgets/base",
      "model_module_version": "2.0.0",
      "model_name": "LayoutModel",
      "state": {}
     },
     "fcc71fc4bc1747a2ae978d5909c102b7": {
      "model_module": "@jupyter-widgets/controls",
      "model_module_version": "2.0.0",
      "model_name": "ProgressStyleModel",
      "state": {
       "description_width": ""
      }
     }
    },
    "version_major": 2,
    "version_minor": 0
   }
  }
 },
 "nbformat": 4,
 "nbformat_minor": 4
}
