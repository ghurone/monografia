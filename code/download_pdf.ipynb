{
 "cells": [
  {
   "cell_type": "markdown",
   "metadata": {},
   "source": [
    "# Download artigos RBEF"
   ]
  },
  {
   "cell_type": "markdown",
   "metadata": {},
   "source": [
    "Os artigos podem ser encontrados nos seguintes links:\n",
    "\n",
    "(2001-atual) https://www.scielo.br/j/rbef/grid\n",
    "\n",
    "(1979-2001) http://www.sbfisica.org.br/rbef/edicoes.shtml"
   ]
  },
  {
   "cell_type": "code",
   "execution_count": 1,
   "metadata": {},
   "outputs": [],
   "source": [
    "# Coisas do Jupyter\n",
    "%load_ext autoreload\n",
    "%autoreload 2"
   ]
  },
  {
   "cell_type": "code",
   "execution_count": 2,
   "metadata": {},
   "outputs": [],
   "source": [
    "import os\n",
    "\n",
    "import matplotlib.pyplot as plt\n",
    "import requests\n",
    "from bs4 import BeautifulSoup\n",
    "\n",
    "from funcoes import criar_pasta"
   ]
  },
  {
   "cell_type": "code",
   "execution_count": 3,
   "metadata": {},
   "outputs": [
    {
     "name": "stdout",
     "output_type": "stream",
     "text": [
      "Esse é o seu diretório atual: \"/Users/ghuron/monografia/code\"\n"
     ]
    }
   ],
   "source": [
    "dir_path = os.getcwd()  # meu diretorio atual\n",
    "print(f'Esse é o seu diretório atual: \"{dir_path}\"')"
   ]
  },
  {
   "cell_type": "code",
   "execution_count": 4,
   "metadata": {},
   "outputs": [],
   "source": [
    "# cria a pasta artigos caso ela nao exista\n",
    "artigos_path = os.path.join(dir_path, 'artigos')\n",
    "criar_pasta(artigos_path, debug=False)"
   ]
  },
  {
   "cell_type": "markdown",
   "metadata": {},
   "source": [
    "### Análise do site da SBF (1979-2001)\n",
    "Site da SBF\n",
    "\n",
    "Por algum motivo, acredito que a seja localização do servidor, não consigo acessar o site da SBF quando estou conectado no EDUROAM"
   ]
  },
  {
   "cell_type": "markdown",
   "metadata": {},
   "source": [
    "Notei que se a gente fizer uma busca na barra de pesquisa, com uma string vazia, o site lista todos os artigos publicados de 1979 até 2014, o que é curioso, porque na tabela ele só mostra os atigos até 2001. Vou utilizar esse resultado para conseguir a quantidade de artigos no site."
   ]
  },
  {
   "cell_type": "code",
   "execution_count": 5,
   "metadata": {},
   "outputs": [],
   "source": [
    "url_base = 'http://www.sbfisica.org.br/rbef/'"
   ]
  },
  {
   "cell_type": "code",
   "execution_count": 6,
   "metadata": {},
   "outputs": [],
   "source": [
    "req = requests.post('http://www.sbfisica.org.br/rbef/pesquisa.php',\n",
    "                   data={'txtQuery':'','Busca':'Pesquisar','type':'title'})"
   ]
  },
  {
   "cell_type": "code",
   "execution_count": 7,
   "metadata": {},
   "outputs": [],
   "source": [
    "site_post = BeautifulSoup(req.text, 'html.parser')"
   ]
  },
  {
   "cell_type": "code",
   "execution_count": 8,
   "metadata": {},
   "outputs": [],
   "source": [
    "tabela_post = site_post.find(name='table', attrs={'id':'AutoNumber1'})"
   ]
  },
  {
   "cell_type": "code",
   "execution_count": 9,
   "metadata": {},
   "outputs": [],
   "source": [
    "contador_sbf_post = {}\n",
    "\n",
    "for item in tabela_post.find_all('table'):\n",
    "    _, ano_td, artigo_td = item.find_all('td')  # retorna uma lista com 3 elementos.\n",
    "    \n",
    "    ano = ano_td.text.split(',')[-1].strip()  # Ano da publicação\n",
    "    nome = artigo_td.a.text.strip()  # Nome do artigo\n",
    "    url = url_base + artigo_td.a['href'].strip()  # Url para baixar o artigo\n",
    "      \n",
    "    try:  # Tenta adicionar +1 ao contador do ano\n",
    "        contador_sbf_post[ano] += 1\n",
    "    except KeyError:  # Se acontecer o KeyError, siginifica que esse ano ainda não faz parte do contador\n",
    "        contador_sbf_post[ano] = 1  # então eu inicializo ele e adionando 1"
   ]
  },
  {
   "cell_type": "markdown",
   "metadata": {},
   "source": [
    "Agora se fizermos a busca dos artigos pela tabela principal, a que vai de 1979 até 2001, será que teremos a mesma quantidade de artigos nesse intervalo?"
   ]
  },
  {
   "cell_type": "code",
   "execution_count": 10,
   "metadata": {},
   "outputs": [],
   "source": [
    "req = requests.get('http://www.sbfisica.org.br/rbef/edicoes.shtml')"
   ]
  },
  {
   "cell_type": "code",
   "execution_count": 11,
   "metadata": {},
   "outputs": [],
   "source": [
    "site_get = BeautifulSoup(req.text, 'html.parser')"
   ]
  },
  {
   "cell_type": "code",
   "execution_count": 12,
   "metadata": {},
   "outputs": [],
   "source": [
    "tabela_get = site_get.find(name='table', attrs={'id':'AutoNumber2'})"
   ]
  },
  {
   "cell_type": "code",
   "execution_count": 13,
   "metadata": {},
   "outputs": [],
   "source": [
    "links = {}\n",
    "\n",
    "for item in tabela_get.find_all('tr'):\n",
    "    linha = item.find_all('td')\n",
    "    \n",
    "    if len(linha) == 6:  # Número de colunas \n",
    "        ano = linha[0].text.strip()\n",
    "        vol = linha[1].text.strip()  # ainda nao sei oq eu fazer com essa informação do volume.\n",
    "        \n",
    "        links[ano] = []\n",
    "        \n",
    "        for i in range(2,6):  # do elemento 2 até o elemento 5, são as colunas que possuem link.\n",
    "            a_tag = linha[i].find('a')\n",
    "            if a_tag:\n",
    "                links[ano].append(a_tag['href'])\n"
   ]
  },
  {
   "cell_type": "code",
   "execution_count": 14,
   "metadata": {},
   "outputs": [],
   "source": [
    "contador_sbf_get = {}\n",
    "\n",
    "for key, v in links.items():\n",
    "    for url in v:\n",
    "        req = requests.get(url_base + url)\n",
    "        site = BeautifulSoup(req.text, 'html.parser')\n",
    "        a_tag = site.find_all('a')\n",
    "        \n",
    "        try:  # Tenta adicionar +1 ao contador do ano\n",
    "            contador_sbf_get[key] += len(a_tag)\n",
    "        except KeyError:  # Se acontecer o KeyError, siginifica que esse ano ainda não faz parte do contador\n",
    "            contador_sbf_get[key] = len(a_tag)  # então eu inicializo ele e adionando 1\n",
    "        "
   ]
  },
  {
   "cell_type": "markdown",
   "metadata": {},
   "source": [
    "Comparando o resultado dos contadores. Como o contador_sbf_get é menor, vamos utilizá-lo como base"
   ]
  },
  {
   "cell_type": "code",
   "execution_count": 15,
   "metadata": {},
   "outputs": [
    {
     "name": "stdout",
     "output_type": "stream",
     "text": [
      "A quantidade de artigos em 2001 é igual? R: True\n",
      "A quantidade de artigos em 2000 é igual? R: True\n",
      "A quantidade de artigos em 1999 é igual? R: True\n",
      "A quantidade de artigos em 1998 é igual? R: True\n",
      "A quantidade de artigos em 1997 é igual? R: True\n",
      "A quantidade de artigos em 1996 é igual? R: True\n",
      "A quantidade de artigos em 1995 é igual? R: True\n",
      "A quantidade de artigos em 1994 é igual? R: True\n",
      "A quantidade de artigos em 1993 é igual? R: True\n",
      "A quantidade de artigos em 1992 é igual? R: True\n",
      "A quantidade de artigos em 1991 é igual? R: True\n",
      "A quantidade de artigos em 1990 é igual? R: True\n",
      "A quantidade de artigos em 1989 é igual? R: True\n",
      "A quantidade de artigos em 1988 é igual? R: True\n",
      "A quantidade de artigos em 1987 é igual? R: True\n",
      "A quantidade de artigos em 1986 é igual? R: True\n",
      "A quantidade de artigos em 1985 é igual? R: True\n",
      "A quantidade de artigos em 1984 é igual? R: True\n",
      "A quantidade de artigos em 1983 é igual? R: True\n",
      "A quantidade de artigos em 1982 é igual? R: True\n",
      "A quantidade de artigos em 1981 é igual? R: True\n",
      "A quantidade de artigos em 1980 é igual? R: True\n",
      "A quantidade de artigos em 1979 é igual? R: True\n"
     ]
    }
   ],
   "source": [
    "for i, k in enumerate(contador_sbf_get):\n",
    "    print(f'A quantidade de artigos em {k} é igual? R:', contador_sbf_get[k] == contador_sbf_post[k])"
   ]
  },
  {
   "cell_type": "markdown",
   "metadata": {},
   "source": [
    "Sabendo que pelos dois jeitos temos a mesma quantidade de artigos de 1979 até 2001, podemos escolher de forma arbitrária qual método seguir para fazer download dos artigos."
   ]
  },
  {
   "cell_type": "markdown",
   "metadata": {},
   "source": [
    "### Analise do site da SciELO (2001-atualmente)\n"
   ]
  },
  {
   "cell_type": "code",
   "execution_count": 16,
   "metadata": {},
   "outputs": [],
   "source": [
    "url_base = 'https://www.scielo.br'"
   ]
  },
  {
   "cell_type": "code",
   "execution_count": 17,
   "metadata": {},
   "outputs": [],
   "source": [
    "req = requests.get('https://www.scielo.br/j/rbef/grid')"
   ]
  },
  {
   "cell_type": "code",
   "execution_count": 18,
   "metadata": {},
   "outputs": [],
   "source": [
    "site_scielo = BeautifulSoup(req.text, 'html.parser')"
   ]
  },
  {
   "cell_type": "code",
   "execution_count": 19,
   "metadata": {},
   "outputs": [],
   "source": [
    "tabela_scielo = site_scielo.find('tbody')"
   ]
  },
  {
   "cell_type": "code",
   "execution_count": 20,
   "metadata": {},
   "outputs": [],
   "source": [
    "links = {}\n",
    "\n",
    "for item in tabela_scielo.find_all('tr'):\n",
    "    td_all = item.find_all('td')  # lista com 2 elementos\n",
    "    ano = td_all[0].text.strip()  # o ano sempre é o primeiro elemento da lista\n",
    "    a_td = td_all[1]              # as tag <a> sempre são o segunfo elemento da lista\n",
    "        \n",
    "    links[ano] = []\n",
    "    for linha in a_td.find_all('a'):\n",
    "        a_tag = linha\n",
    "        if a_tag:\n",
    "            links[ano].append(a_tag['href'])\n",
    "    "
   ]
  },
  {
   "cell_type": "code",
   "execution_count": 21,
   "metadata": {},
   "outputs": [],
   "source": [
    "contador_scielo_get = {}\n",
    "\n",
    "for key, v in links.items():\n",
    "    for url in v:\n",
    "        req = requests.get(url_base + url)\n",
    "        site = BeautifulSoup(req.text, 'html.parser')\n",
    "        tabela = site.find(name='ul', attrs={'class':'articles'})\n",
    "        li_tag = tabela.find_all(\"li\", {\"data-date\": True})\n",
    "        \n",
    "        try:\n",
    "            contador_scielo_get[key] += len(li_tag)\n",
    "        except KeyError:\n",
    "            contador_scielo_get[key] = len(li_tag) \n",
    "        "
   ]
  },
  {
   "cell_type": "markdown",
   "metadata": {},
   "source": [
    "Com o contador de artigos da Scielo podemos comparar a quantidade de artigos, de 2001 até 2014, no site da SBF e no site da SciELO"
   ]
  },
  {
   "cell_type": "code",
   "execution_count": 22,
   "metadata": {},
   "outputs": [
    {
     "name": "stdout",
     "output_type": "stream",
     "text": [
      "A quantidade de artigos em 2001 é igual? R: False\n",
      "   |___ A SBF possui 17 a mais\n",
      "A quantidade de artigos em 2002 é igual? R: False\n",
      "   |___ A SciELO possui 1 a mais\n",
      "A quantidade de artigos em 2003 é igual? R: True\n",
      "A quantidade de artigos em 2004 é igual? R: False\n",
      "   |___ A SciELO possui 1 a mais\n",
      "A quantidade de artigos em 2005 é igual? R: True\n",
      "A quantidade de artigos em 2006 é igual? R: False\n",
      "   |___ A SciELO possui 1 a mais\n",
      "A quantidade de artigos em 2007 é igual? R: True\n",
      "A quantidade de artigos em 2008 é igual? R: True\n",
      "A quantidade de artigos em 2009 é igual? R: False\n",
      "   |___ A SBF possui 1 a mais\n",
      "A quantidade de artigos em 2010 é igual? R: True\n",
      "A quantidade de artigos em 2011 é igual? R: False\n",
      "   |___ A SBF possui 1 a mais\n",
      "A quantidade de artigos em 2012 é igual? R: True\n",
      "A quantidade de artigos em 2013 é igual? R: True\n",
      "A quantidade de artigos em 2014 é igual? R: True\n"
     ]
    }
   ],
   "source": [
    "for k in range(2001, 2015):\n",
    "    k = str(k)\n",
    "    if contador_scielo_get[k] == contador_sbf_post[k]:\n",
    "        print(f'A quantidade de artigos em {k} é igual? R: True')\n",
    "    else:\n",
    "        print(f'A quantidade de artigos em {k} é igual? R: False')\n",
    "        \n",
    "        diff = abs(contador_scielo_get[k] -  contador_sbf_post[k])\n",
    "        if contador_scielo_get[k] > contador_sbf_post[k]:\n",
    "            print(f'   |___ A SciELO possui {diff} a mais')\n",
    "        else:\n",
    "            print(f'   |___ A SBF possui {diff} a mais')"
   ]
  },
  {
   "cell_type": "markdown",
   "metadata": {},
   "source": [
    "### Análise final"
   ]
  },
  {
   "cell_type": "markdown",
   "metadata": {},
   "source": [
    "Notamos que de 1979 até 2001 podemos utilizar o método que quisermos para fazer download dos artigos, pois os dois nos retornam a mesma quantidade de artigos.\n",
    "\n",
    "O problema é quando comparamos o site da SBF e o da SciELO de 2001 até 2014. Notamos que em alguns anos temos mais artigos em um site e mais artigos em outro. O mais notório é o ano de 2001, onde na SBF temos 17 artigos a mais.\n"
   ]
  },
  {
   "cell_type": "code",
   "execution_count": 23,
   "metadata": {},
   "outputs": [
    {
     "name": "stdout",
     "output_type": "stream",
     "text": [
      "Quantidade de artigos de 1979 até 2014 (SBF): 1697\n"
     ]
    }
   ],
   "source": [
    "print('Quantidade de artigos de 1979 até 2014 (SBF):', sum(contador_sbf_post.values()))"
   ]
  },
  {
   "cell_type": "code",
   "execution_count": 24,
   "metadata": {},
   "outputs": [
    {
     "name": "stdout",
     "output_type": "stream",
     "text": [
      "Quantidade de artigos de 2015 até 2022 (SciELO): 1049\n"
     ]
    }
   ],
   "source": [
    "soma = 0\n",
    "for i in range(2015,2023):\n",
    "    i = str(i)\n",
    "    soma += contador_scielo_get[i]\n",
    "    \n",
    "print('Quantidade de artigos de 2015 até 2022 (SciELO):', soma)"
   ]
  },
  {
   "cell_type": "code",
   "execution_count": 25,
   "metadata": {},
   "outputs": [
    {
     "name": "stdout",
     "output_type": "stream",
     "text": [
      "Número total de artigos: 2746\n"
     ]
    }
   ],
   "source": [
    "print('Número total de artigos:', soma+sum(contador_sbf_post.values()))"
   ]
  },
  {
   "cell_type": "code",
   "execution_count": 26,
   "metadata": {},
   "outputs": [],
   "source": [
    "temp = dict(contador_scielo_get, **contador_sbf_post)\n",
    "contador = {}\n",
    "\n",
    "# ordenando esse dicionário\n",
    "for k in sorted(temp.keys()):\n",
    "    contador[k] = temp[k]"
   ]
  },
  {
   "cell_type": "markdown",
   "metadata": {},
   "source": [
    "E por fim podemos fazer um plot simples para observamos o crescimento na quantidade das publicações ao longo dos anos."
   ]
  },
  {
   "cell_type": "code",
   "execution_count": 57,
   "metadata": {},
   "outputs": [
    {
     "data": {
      "image/png": "[encoded data removed]",
      "text/plain": [
       "<Figure size 1080x720 with 1 Axes>"
      ]
     },
     "metadata": {
      "needs_background": "light"
     },
     "output_type": "display_data"
    }
   ],
   "source": [
    "# Plot\n",
    "fig, ax = plt.subplots(figsize=(15,10))\n",
    "\n",
    "r = ax.bar(contador.keys(), contador.values(), color='#7d7dce')\n",
    "ax.set_xticks([1, 11, 21, 31, 41])\n",
    "\n",
    "ax.tick_params(axis='both', labelsize=15)\n",
    "\n",
    "ax.set_title('Quantidade de artigos publicados na RBEF por ano', size='22')\n",
    "ax.set_xlabel('Ano', size='18')\n",
    "ax.set_ylabel('Número de artigos', size='18')\n",
    "\n",
    "plt.show()\n",
    "fig.savefig('quantidade_de_artigos.png', dpi=250, bbox_inches='tight')"
   ]
  },
  {
   "cell_type": "code",
   "execution_count": null,
   "metadata": {},
   "outputs": [],
   "source": []
  }
 ],
 "metadata": {
  "kernelspec": {
   "display_name": "Python 3.9.12 ('base')",
   "language": "python",
   "name": "python3"
  },
  "language_info": {
   "codemirror_mode": {
    "name": "ipython",
    "version": 3
   },
   "file_extension": ".py",
   "mimetype": "text/x-python",
   "name": "python",
   "nbconvert_exporter": "python",
   "pygments_lexer": "ipython3",
   "version": "3.9.12"
  },
  "orig_nbformat": 4,
  "vscode": {
   "interpreter": {
    "hash": "40d3a090f54c6569ab1632332b64b2c03c39dcf918b08424e98f38b5ae0af88f"
   }
  }
 },
 "nbformat": 4,
 "nbformat_minor": 2
}
