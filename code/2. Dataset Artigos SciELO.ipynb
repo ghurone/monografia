{
 "cells": [
  {
   "cell_type": "markdown",
   "metadata": {},
   "source": [
    "# 2. Dataset Artigos SciELO"
   ]
  },
  {
   "cell_type": "markdown",
   "metadata": {},
   "source": [
    "## Imports"
   ]
  },
  {
   "cell_type": "code",
   "execution_count": 1,
   "metadata": {},
   "outputs": [],
   "source": [
    "import os\n",
    "\n",
    "import pandas as pd\n",
    "import numpy as np\n",
    "from bs4 import BeautifulSoup\n",
    "from tqdm.notebook import tqdm"
   ]
  },
  {
   "cell_type": "markdown",
   "metadata": {},
   "source": [
    "## Código"
   ]
  },
  {
   "cell_type": "code",
   "execution_count": 2,
   "metadata": {},
   "outputs": [],
   "source": [
    "path_artigos = os.path.join(os.getcwd(), 'artigos_brutos_SciELO')"
   ]
  },
  {
   "cell_type": "code",
   "execution_count": 3,
   "metadata": {},
   "outputs": [
    {
     "name": "stdout",
     "output_type": "stream",
     "text": [
      "Total de artigos: 1681\n"
     ]
    }
   ],
   "source": [
    "# contagem de artigos\n",
    "soma = sum(len(os.listdir(os.path.join(path_artigos, a))) for a in os.listdir(path_artigos))\n",
    "print(f'Total de artigos: {soma}')"
   ]
  },
  {
   "cell_type": "markdown",
   "metadata": {},
   "source": [
    "### Criando o DataSet"
   ]
  },
  {
   "cell_type": "code",
   "execution_count": 4,
   "metadata": {},
   "outputs": [
    {
     "data": {
      "application/vnd.jupyter.widget-view+json": {
       "model_id": "8609c07b6a094ecabc7fb600ae5215aa",
       "version_major": 2,
       "version_minor": 0
      },
      "text/plain": [
       "  0%|          | 0/22 [00:00<?, ?it/s]"
      ]
     },
     "metadata": {},
     "output_type": "display_data"
    },
    {
     "data": {
      "application/vnd.jupyter.widget-view+json": {
       "model_id": "",
       "version_major": 2,
       "version_minor": 0
      },
      "text/plain": [
       "  0%|          | 0/72 [00:00<?, ?it/s]"
      ]
     },
     "metadata": {},
     "output_type": "display_data"
    },
    {
     "data": {
      "application/vnd.jupyter.widget-view+json": {
       "model_id": "",
       "version_major": 2,
       "version_minor": 0
      },
      "text/plain": [
       "  0%|          | 0/71 [00:00<?, ?it/s]"
      ]
     },
     "metadata": {},
     "output_type": "display_data"
    },
    {
     "data": {
      "application/vnd.jupyter.widget-view+json": {
       "model_id": "",
       "version_major": 2,
       "version_minor": 0
      },
      "text/plain": [
       "  0%|          | 0/76 [00:00<?, ?it/s]"
      ]
     },
     "metadata": {},
     "output_type": "display_data"
    },
    {
     "data": {
      "application/vnd.jupyter.widget-view+json": {
       "model_id": "",
       "version_major": 2,
       "version_minor": 0
      },
      "text/plain": [
       "  0%|          | 0/68 [00:00<?, ?it/s]"
      ]
     },
     "metadata": {},
     "output_type": "display_data"
    },
    {
     "data": {
      "application/vnd.jupyter.widget-view+json": {
       "model_id": "",
       "version_major": 2,
       "version_minor": 0
      },
      "text/plain": [
       "  0%|          | 0/84 [00:00<?, ?it/s]"
      ]
     },
     "metadata": {},
     "output_type": "display_data"
    },
    {
     "data": {
      "application/vnd.jupyter.widget-view+json": {
       "model_id": "",
       "version_major": 2,
       "version_minor": 0
      },
      "text/plain": [
       "  0%|          | 0/134 [00:00<?, ?it/s]"
      ]
     },
     "metadata": {},
     "output_type": "display_data"
    },
    {
     "data": {
      "application/vnd.jupyter.widget-view+json": {
       "model_id": "",
       "version_major": 2,
       "version_minor": 0
      },
      "text/plain": [
       "  0%|          | 0/41 [00:00<?, ?it/s]"
      ]
     },
     "metadata": {},
     "output_type": "display_data"
    },
    {
     "data": {
      "application/vnd.jupyter.widget-view+json": {
       "model_id": "",
       "version_major": 2,
       "version_minor": 0
      },
      "text/plain": [
       "  0%|          | 0/75 [00:00<?, ?it/s]"
      ]
     },
     "metadata": {},
     "output_type": "display_data"
    },
    {
     "data": {
      "application/vnd.jupyter.widget-view+json": {
       "model_id": "",
       "version_major": 2,
       "version_minor": 0
      },
      "text/plain": [
       "  0%|          | 0/102 [00:00<?, ?it/s]"
      ]
     },
     "metadata": {},
     "output_type": "display_data"
    },
    {
     "data": {
      "application/vnd.jupyter.widget-view+json": {
       "model_id": "",
       "version_major": 2,
       "version_minor": 0
      },
      "text/plain": [
       "  0%|          | 0/134 [00:00<?, ?it/s]"
      ]
     },
     "metadata": {},
     "output_type": "display_data"
    },
    {
     "data": {
      "application/vnd.jupyter.widget-view+json": {
       "model_id": "",
       "version_major": 2,
       "version_minor": 0
      },
      "text/plain": [
       "  0%|          | 0/47 [00:00<?, ?it/s]"
      ]
     },
     "metadata": {},
     "output_type": "display_data"
    },
    {
     "data": {
      "application/vnd.jupyter.widget-view+json": {
       "model_id": "",
       "version_major": 2,
       "version_minor": 0
      },
      "text/plain": [
       "  0%|          | 0/55 [00:00<?, ?it/s]"
      ]
     },
     "metadata": {},
     "output_type": "display_data"
    },
    {
     "data": {
      "application/vnd.jupyter.widget-view+json": {
       "model_id": "",
       "version_major": 2,
       "version_minor": 0
      },
      "text/plain": [
       "  0%|          | 0/52 [00:00<?, ?it/s]"
      ]
     },
     "metadata": {},
     "output_type": "display_data"
    },
    {
     "data": {
      "application/vnd.jupyter.widget-view+json": {
       "model_id": "",
       "version_major": 2,
       "version_minor": 0
      },
      "text/plain": [
       "  0%|          | 0/72 [00:00<?, ?it/s]"
      ]
     },
     "metadata": {},
     "output_type": "display_data"
    },
    {
     "data": {
      "application/vnd.jupyter.widget-view+json": {
       "model_id": "",
       "version_major": 2,
       "version_minor": 0
      },
      "text/plain": [
       "  0%|          | 0/61 [00:00<?, ?it/s]"
      ]
     },
     "metadata": {},
     "output_type": "display_data"
    },
    {
     "data": {
      "application/vnd.jupyter.widget-view+json": {
       "model_id": "",
       "version_major": 2,
       "version_minor": 0
      },
      "text/plain": [
       "  0%|          | 0/68 [00:00<?, ?it/s]"
      ]
     },
     "metadata": {},
     "output_type": "display_data"
    },
    {
     "data": {
      "application/vnd.jupyter.widget-view+json": {
       "model_id": "",
       "version_major": 2,
       "version_minor": 0
      },
      "text/plain": [
       "  0%|          | 0/61 [00:00<?, ?it/s]"
      ]
     },
     "metadata": {},
     "output_type": "display_data"
    },
    {
     "data": {
      "application/vnd.jupyter.widget-view+json": {
       "model_id": "",
       "version_major": 2,
       "version_minor": 0
      },
      "text/plain": [
       "  0%|          | 0/85 [00:00<?, ?it/s]"
      ]
     },
     "metadata": {},
     "output_type": "display_data"
    },
    {
     "data": {
      "application/vnd.jupyter.widget-view+json": {
       "model_id": "",
       "version_major": 2,
       "version_minor": 0
      },
      "text/plain": [
       "  0%|          | 0/109 [00:00<?, ?it/s]"
      ]
     },
     "metadata": {},
     "output_type": "display_data"
    },
    {
     "data": {
      "application/vnd.jupyter.widget-view+json": {
       "model_id": "",
       "version_major": 2,
       "version_minor": 0
      },
      "text/plain": [
       "  0%|          | 0/54 [00:00<?, ?it/s]"
      ]
     },
     "metadata": {},
     "output_type": "display_data"
    },
    {
     "data": {
      "application/vnd.jupyter.widget-view+json": {
       "model_id": "",
       "version_major": 2,
       "version_minor": 0
      },
      "text/plain": [
       "  0%|          | 0/53 [00:00<?, ?it/s]"
      ]
     },
     "metadata": {},
     "output_type": "display_data"
    },
    {
     "data": {
      "application/vnd.jupyter.widget-view+json": {
       "model_id": "",
       "version_major": 2,
       "version_minor": 0
      },
      "text/plain": [
       "  0%|          | 0/107 [00:00<?, ?it/s]"
      ]
     },
     "metadata": {},
     "output_type": "display_data"
    }
   ],
   "source": [
    "dict_df = {'titulo': [], 'seção': [], 'ano': [],  'doi_id': [], 'texto_html': []}\n",
    "\n",
    "for ano in tqdm(os.listdir(path_artigos)):\n",
    "    path_abs = os.path.join(path_artigos, ano)\n",
    "\n",
    "    for arquivo in tqdm(os.listdir(path_abs), leave=False):\n",
    "        arq_path = os.path.join(path_abs, arquivo)\n",
    "\n",
    "        with open(arq_path, 'r', encoding='utf8') as arq:\n",
    "            texto_html = arq.read()\n",
    "\n",
    "        soup = BeautifulSoup(texto_html, 'lxml')\n",
    "\n",
    "        try:\n",
    "            doi_id = soup.find('a', attrs={'class': '_doi'}).text.strip().removeprefix('https://doi.org/')\n",
    "        except AttributeError:\n",
    "            doi_id = None\n",
    "\n",
    "        try:\n",
    "            titulo = ' '.join(soup.find('h1', attrs={'class': 'article-title'}).text.split())\n",
    "            if not titulo:\n",
    "                titulo = 'SEM TÍTULO'\n",
    "        except AttributeError:\n",
    "            titulo = 'SEM TÍTULO'\n",
    "\n",
    "        try:\n",
    "            seção = soup.find('span', attrs={'class': '_articleBadge'}).text.strip().lower()\n",
    "            if not seção:\n",
    "                seção = 'SEM CATEGORIA'\n",
    "        except AttributeError:\n",
    "            seção = 'SEM CATEGORIA'\n",
    "\n",
    "        dict_df['titulo'].append(titulo)\n",
    "        dict_df['doi_id'].append(doi_id)\n",
    "        dict_df['texto_html'].append(texto_html)\n",
    "        dict_df['seção'].append(seção)\n",
    "        dict_df['ano'].append(int(ano))\n"
   ]
  },
  {
   "cell_type": "code",
   "execution_count": 5,
   "metadata": {},
   "outputs": [],
   "source": [
    "# salvando o dataset em feather\n",
    "df = pd.DataFrame(dict_df)\n",
    "df['ano'] = df['ano'].astype(np.uint16)\n",
    "\n",
    "remover = ['didactic resources', 'articles', 'physics education research']\n",
    "df = df.query('seção not in @remover')\n",
    "\n",
    "replace_dict = {\n",
    "    'cartas ao editor': 'carta ao editor',\n",
    "    'carta do editor': 'carta ao editor',\n",
    "    'resenha': 'resenhas',\n",
    "    'resenhas de livros': 'resenhas',\n",
    "    'tipo de artigo': 'artigos gerais',\n",
    "    'artigo gerais': 'artigos gerais'\n",
    "}\n",
    "\n",
    "df['seção'] = df['seção'].replace(replace_dict)"
   ]
  },
  {
   "cell_type": "code",
   "execution_count": 6,
   "metadata": {},
   "outputs": [],
   "source": [
    "replace_dict = {'desenvolvimento em ensino de física': 'pesquisa em ensino de física',\n",
    "                'história da física': 'história da física e ciências afins',\n",
    "                'história da física e áreas afins': 'história da física e ciências afins',\n",
    "                'notas e discussões': 'outros',\n",
    "                'carta ao editor': 'outros',\n",
    "                'resenhas': 'outros',\n",
    "                'editorial': 'outros',\n",
    "                'errata': 'outros',\n",
    "                'resenhas de livro': 'outros',\n",
    "                'notas e discussõoes': 'outros',\n",
    "                'seção especial: informática no ensino de física': 'seções especiais',\n",
    "                'seção especial - celebrando os 100 anos de nascimento de richard p. feynman': 'seções especiais',\n",
    "                'artigos de einstein e ensaios sobre sua obra': 'seções especiais',\n",
    "                'seção especial: centenário da morte de ludwig boltzmann (1844-1906)': 'seções especiais',\n",
    "                'seção especial: centenário da morte de william thomson (1824-1907)': 'seções especiais',\n",
    "                'ano internacional da luz': 'seções especiais',\n",
    "                'seção especial, história da física e ciências afins': 'seções especiais',\n",
    "                'artigos de revisão sobre relatividade geral e cosmologia': 'seções especiais',\n",
    "                'seção especial: encontro \" reflexões no ensino de física\", sbf/mec ( brasília, 2005)': 'seções especiais',\n",
    "                'seção especial - ondas gravitacionais': 'seções especiais',\n",
    "                'seção especial, artigos gerais': 'seções especiais',\n",
    "                'seção especial - artigos convidados': 'seções especiais', \n",
    "                'seção especial, notas e discussões': 'seções especiais',\n",
    "                'seção especial': 'seções especiais'}\n",
    "\n",
    "df['nova_seção'] = df['seção'].replace(replace_dict)"
   ]
  },
  {
   "cell_type": "code",
   "execution_count": 10,
   "metadata": {},
   "outputs": [],
   "source": [
    "df = df.sort_values('ano')\n",
    "df = df.reset_index(drop=True)\n",
    "df = df[['titulo', 'ano', 'seção', 'nova_seção', 'doi_id', 'texto_html']]\n",
    "df.to_feather('scielo_dataset.feather')"
   ]
  },
  {
   "cell_type": "code",
   "execution_count": 11,
   "metadata": {},
   "outputs": [
    {
     "data": {
      "text/html": [
       "<div>\n",
       "<style scoped>\n",
       "    .dataframe tbody tr th:only-of-type {\n",
       "        vertical-align: middle;\n",
       "    }\n",
       "\n",
       "    .dataframe tbody tr th {\n",
       "        vertical-align: top;\n",
       "    }\n",
       "\n",
       "    .dataframe thead th {\n",
       "        text-align: right;\n",
       "    }\n",
       "</style>\n",
       "<table border=\"1\" class=\"dataframe\">\n",
       "  <thead>\n",
       "    <tr style=\"text-align: right;\">\n",
       "      <th></th>\n",
       "      <th>titulo</th>\n",
       "      <th>ano</th>\n",
       "      <th>seção</th>\n",
       "      <th>nova_seção</th>\n",
       "      <th>doi_id</th>\n",
       "      <th>texto_html</th>\n",
       "    </tr>\n",
       "  </thead>\n",
       "  <tbody>\n",
       "    <tr>\n",
       "      <th>0</th>\n",
       "      <td>Discussão dos Conceitos de Massa Inercial e Ma...</td>\n",
       "      <td>2001</td>\n",
       "      <td>notas e discussões</td>\n",
       "      <td>outros</td>\n",
       "      <td>10.1590/S1806-11172001000300013</td>\n",
       "      <td>&lt;!DOCTYPE html&gt;\\n&lt;div class=\"articleTxt\"&gt;\\n &lt;d...</td>\n",
       "    </tr>\n",
       "    <tr>\n",
       "      <th>1</th>\n",
       "      <td>A influência do fator de vibração térmica na d...</td>\n",
       "      <td>2001</td>\n",
       "      <td>SEM CATEGORIA</td>\n",
       "      <td>SEM CATEGORIA</td>\n",
       "      <td>10.1590/S1806-11172001000200012</td>\n",
       "      <td>&lt;!DOCTYPE html&gt;\\n&lt;div class=\"articleTxt\"&gt;\\n &lt;d...</td>\n",
       "    </tr>\n",
       "    <tr>\n",
       "      <th>2</th>\n",
       "      <td>Perfil de velocidade para o escoamento de flui...</td>\n",
       "      <td>2001</td>\n",
       "      <td>SEM CATEGORIA</td>\n",
       "      <td>SEM CATEGORIA</td>\n",
       "      <td>10.1590/S1806-11172001000200010</td>\n",
       "      <td>&lt;!DOCTYPE html&gt;\\n&lt;div class=\"articleTxt\"&gt;\\n &lt;d...</td>\n",
       "    </tr>\n",
       "    <tr>\n",
       "      <th>3</th>\n",
       "      <td>Uso da Pesquisa em Ensino de Física na prática...</td>\n",
       "      <td>2001</td>\n",
       "      <td>editorial</td>\n",
       "      <td>outros</td>\n",
       "      <td>10.1590/S1806-11172001000300001</td>\n",
       "      <td>&lt;!DOCTYPE html&gt;\\n&lt;div class=\"articleTxt\"&gt;\\n &lt;d...</td>\n",
       "    </tr>\n",
       "    <tr>\n",
       "      <th>4</th>\n",
       "      <td>Introdução à supercondutividade, suas aplicaçõ...</td>\n",
       "      <td>2001</td>\n",
       "      <td>artigos gerais</td>\n",
       "      <td>artigos gerais</td>\n",
       "      <td>None</td>\n",
       "      <td>&lt;!DOCTYPE html&gt;\\n&lt;div class=\"articleTxt\"&gt;\\n &lt;d...</td>\n",
       "    </tr>\n",
       "  </tbody>\n",
       "</table>\n",
       "</div>"
      ],
      "text/plain": [
       "                                              titulo   ano   \n",
       "0  Discussão dos Conceitos de Massa Inercial e Ma...  2001  \\\n",
       "1  A influência do fator de vibração térmica na d...  2001   \n",
       "2  Perfil de velocidade para o escoamento de flui...  2001   \n",
       "3  Uso da Pesquisa em Ensino de Física na prática...  2001   \n",
       "4  Introdução à supercondutividade, suas aplicaçõ...  2001   \n",
       "\n",
       "                seção      nova_seção                           doi_id   \n",
       "0  notas e discussões          outros  10.1590/S1806-11172001000300013  \\\n",
       "1       SEM CATEGORIA   SEM CATEGORIA  10.1590/S1806-11172001000200012   \n",
       "2       SEM CATEGORIA   SEM CATEGORIA  10.1590/S1806-11172001000200010   \n",
       "3           editorial          outros  10.1590/S1806-11172001000300001   \n",
       "4      artigos gerais  artigos gerais                             None   \n",
       "\n",
       "                                          texto_html  \n",
       "0  <!DOCTYPE html>\\n<div class=\"articleTxt\">\\n <d...  \n",
       "1  <!DOCTYPE html>\\n<div class=\"articleTxt\">\\n <d...  \n",
       "2  <!DOCTYPE html>\\n<div class=\"articleTxt\">\\n <d...  \n",
       "3  <!DOCTYPE html>\\n<div class=\"articleTxt\">\\n <d...  \n",
       "4  <!DOCTYPE html>\\n<div class=\"articleTxt\">\\n <d...  "
      ]
     },
     "execution_count": 11,
     "metadata": {},
     "output_type": "execute_result"
    }
   ],
   "source": [
    "pd.read_feather('scielo_dataset.feather').head()"
   ]
  },
  {
   "cell_type": "code",
   "execution_count": null,
   "metadata": {},
   "outputs": [],
   "source": []
  }
 ],
 "metadata": {
  "kernelspec": {
   "display_name": "Python 3 (ipykernel)",
   "language": "python",
   "name": "python3"
  },
  "language_info": {
   "codemirror_mode": {
    "name": "ipython",
    "version": 3
   },
   "file_extension": ".py",
   "mimetype": "text/x-python",
   "name": "python",
   "nbconvert_exporter": "python",
   "pygments_lexer": "ipython3",
   "version": "3.9.15"
  },
  "vscode": {
   "interpreter": {
    "hash": "e668fd8da83d294f882a9b1881bcdf4fad9aa355d0eef119f9c689d241b75da3"
   }
  },
  "widgets": {
   "application/vnd.jupyter.widget-state+json": {
    "state": {
     "0008297165984873b0158662f06b5676": {
      "model_module": "@jupyter-widgets/controls",
      "model_module_version": "2.0.0",
      "model_name": "HTMLStyleModel",
      "state": {
       "description_width": "",
       "font_size": null,
       "text_color": null
      }
     },
     "003d2e8b5c594f5484ff87267b4e83ae": {
      "model_module": "@jupyter-widgets/controls",
      "model_module_version": "2.0.0",
      "model_name": "ProgressStyleModel",
      "state": {
       "description_width": ""
      }
     },
     "00c317819db842df9e39bb3ebb8419a5": {
      "model_module": "@jupyter-widgets/base",
      "model_module_version": "2.0.0",
      "model_name": "LayoutModel",
      "state": {
       "visibility": "hidden"
      }
     },
     "015195b7f55246d8b59dd7358150adf6": {
      "model_module": "@jupyter-widgets/controls",
      "model_module_version": "2.0.0",
      "model_name": "HTMLModel",
      "state": {
       "layout": "IPY_MODEL_ee30e5bd68904b9ca7421beaf5bbe363",
       "style": "IPY_MODEL_7e170860706a4ddd9589e952839838b4",
       "value": "100%"
      }
     },
     "02d8dd4d6fce47f9bb94f1cbf05463f4": {
      "model_module": "@jupyter-widgets/base",
      "model_module_version": "2.0.0",
      "model_name": "LayoutModel",
      "state": {}
     },
     "02f6251ff2664acc9f3cfa7c5db69290": {
      "model_module": "@jupyter-widgets/controls",
      "model_module_version": "2.0.0",
      "model_name": "HTMLModel",
      "state": {
       "layout": "IPY_MODEL_acd438779b6c489195ae50a16df6a43c",
       "style": "IPY_MODEL_25ae11cd166340b981c6980aaac7b0b2",
       "value": " 75/75 [00:04&lt;00:00, 15.59it/s]"
      }
     },
     "04d345d99fa34b6da53a7b6c02a57f59": {
      "model_module": "@jupyter-widgets/controls",
      "model_module_version": "2.0.0",
      "model_name": "HTMLStyleModel",
      "state": {
       "description_width": "",
       "font_size": null,
       "text_color": null
      }
     },
     "08f9bf91b73b4819abf6bec8d932957d": {
      "model_module": "@jupyter-widgets/controls",
      "model_module_version": "2.0.0",
      "model_name": "HTMLStyleModel",
      "state": {
       "description_width": "",
       "font_size": null,
       "text_color": null
      }
     },
     "09c9e40fb1754fa8af94e62c9960a8a2": {
      "model_module": "@jupyter-widgets/base",
      "model_module_version": "2.0.0",
      "model_name": "LayoutModel",
      "state": {}
     },
     "0ba3de25d72b4c1a910e30eb7b17d4c4": {
      "model_module": "@jupyter-widgets/base",
      "model_module_version": "2.0.0",
      "model_name": "LayoutModel",
      "state": {}
     },
     "0d9a7e41fbbb4f1d8b9aa7374ad90f59": {
      "model_module": "@jupyter-widgets/controls",
      "model_module_version": "2.0.0",
      "model_name": "HTMLModel",
      "state": {
       "layout": "IPY_MODEL_cbc03fe3fcb346b8b5a33f970483310b",
       "style": "IPY_MODEL_5ce3d6985d1d43b8b431aaaf55bbd724",
       "value": " 53/54 [00:02&lt;00:00, 14.97it/s]"
      }
     },
     "0db8b0a288264b3bb50219ba1e9fe0fc": {
      "model_module": "@jupyter-widgets/controls",
      "model_module_version": "2.0.0",
      "model_name": "HTMLModel",
      "state": {
       "layout": "IPY_MODEL_dca311980950485c8a49dfef039903b0",
       "style": "IPY_MODEL_ff5ea09e2838426daa31a36df748d06e",
       "value": " 95%"
      }
     },
     "0e75b6ce63aa49af807b6c6e1b552dea": {
      "model_module": "@jupyter-widgets/base",
      "model_module_version": "2.0.0",
      "model_name": "LayoutModel",
      "state": {}
     },
     "0f13513dd8b74ab28843590bd2ff72cb": {
      "model_module": "@jupyter-widgets/base",
      "model_module_version": "2.0.0",
      "model_name": "LayoutModel",
      "state": {}
     },
     "0f2cf3fa5c824fc28d8396d33f233bab": {
      "model_module": "@jupyter-widgets/base",
      "model_module_version": "2.0.0",
      "model_name": "LayoutModel",
      "state": {}
     },
     "104be930fc814ec3be2ccee203024c7f": {
      "model_module": "@jupyter-widgets/controls",
      "model_module_version": "2.0.0",
      "model_name": "FloatProgressModel",
      "state": {
       "layout": "IPY_MODEL_b0de8764e93143749920b74817fd657e",
       "max": 75,
       "style": "IPY_MODEL_aab32828f7304d47bd0308c0b00871f4",
       "value": 75
      }
     },
     "1072fa996fad4cdfaaa284e17dac228e": {
      "model_module": "@jupyter-widgets/controls",
      "model_module_version": "2.0.0",
      "model_name": "HTMLModel",
      "state": {
       "layout": "IPY_MODEL_0f13513dd8b74ab28843590bd2ff72cb",
       "style": "IPY_MODEL_5c4ec3ac5bb842028f9b539be28cd99a",
       "value": "100%"
      }
     },
     "10b286bf68d44c02b411544a64bd7181": {
      "model_module": "@jupyter-widgets/base",
      "model_module_version": "2.0.0",
      "model_name": "LayoutModel",
      "state": {}
     },
     "11e3626c24b948faa5c3677d1c981e87": {
      "model_module": "@jupyter-widgets/controls",
      "model_module_version": "2.0.0",
      "model_name": "ProgressStyleModel",
      "state": {
       "description_width": ""
      }
     },
     "122cd661874d4b988a6dc3d4f38950ce": {
      "model_module": "@jupyter-widgets/controls",
      "model_module_version": "2.0.0",
      "model_name": "FloatProgressModel",
      "state": {
       "layout": "IPY_MODEL_0e75b6ce63aa49af807b6c6e1b552dea",
       "max": 53,
       "style": "IPY_MODEL_a50b692145044f949c17a3ac9b005ab9",
       "value": 53
      }
     },
     "147f51b0db434e05bbc5d2304dfa3986": {
      "model_module": "@jupyter-widgets/controls",
      "model_module_version": "2.0.0",
      "model_name": "ProgressStyleModel",
      "state": {
       "description_width": ""
      }
     },
     "15e71e2737674223962e803ef9a14003": {
      "model_module": "@jupyter-widgets/controls",
      "model_module_version": "2.0.0",
      "model_name": "HTMLModel",
      "state": {
       "layout": "IPY_MODEL_8797e8ca198d460c9cb6ee7da32e1b82",
       "style": "IPY_MODEL_988e75a5e3cf4124ba06715d7a47daa4",
       "value": " 51/52 [00:03&lt;00:00, 17.44it/s]"
      }
     },
     "18d46669ec164f4ba2193687bfd89969": {
      "model_module": "@jupyter-widgets/controls",
      "model_module_version": "2.0.0",
      "model_name": "HTMLModel",
      "state": {
       "layout": "IPY_MODEL_5e650b753f134138938ad2fa4f70290b",
       "style": "IPY_MODEL_5767f26c12464ea5a57b6d206130a6ce",
       "value": " 97%"
      }
     },
     "19b00b0da2c84a4ba547a6bd6b67768a": {
      "model_module": "@jupyter-widgets/controls",
      "model_module_version": "2.0.0",
      "model_name": "HTMLStyleModel",
      "state": {
       "description_width": "",
       "font_size": null,
       "text_color": null
      }
     },
     "1f09c277941a45cb8e4e557e59ba0fba": {
      "model_module": "@jupyter-widgets/controls",
      "model_module_version": "2.0.0",
      "model_name": "HTMLStyleModel",
      "state": {
       "description_width": "",
       "font_size": null,
       "text_color": null
      }
     },
     "204a58d891344db9a95a877c50212c02": {
      "model_module": "@jupyter-widgets/controls",
      "model_module_version": "2.0.0",
      "model_name": "HTMLModel",
      "state": {
       "layout": "IPY_MODEL_8b89881fddc8410ea9b8e63777113341",
       "style": "IPY_MODEL_6beaade31d954152af8b437df0003c60",
       "value": " 107/107 [00:24&lt;00:00,  5.04it/s]"
      }
     },
     "21ab0f18802b48b7b4cba6ac42e5117c": {
      "model_module": "@jupyter-widgets/controls",
      "model_module_version": "2.0.0",
      "model_name": "HTMLModel",
      "state": {
       "layout": "IPY_MODEL_c5decf13dc0746c29b343cbc143e75e6",
       "style": "IPY_MODEL_9195a9de7c4240a59ecbeaf72ed79fe2",
       "value": " 94%"
      }
     },
     "224da6725f044c9f81ec51d5b1656015": {
      "model_module": "@jupyter-widgets/controls",
      "model_module_version": "2.0.0",
      "model_name": "ProgressStyleModel",
      "state": {
       "description_width": ""
      }
     },
     "23fbc4d903c24f80a555444f7370929e": {
      "model_module": "@jupyter-widgets/base",
      "model_module_version": "2.0.0",
      "model_name": "LayoutModel",
      "state": {
       "visibility": "hidden"
      }
     },
     "25ae11cd166340b981c6980aaac7b0b2": {
      "model_module": "@jupyter-widgets/controls",
      "model_module_version": "2.0.0",
      "model_name": "HTMLStyleModel",
      "state": {
       "description_width": "",
       "font_size": null,
       "text_color": null
      }
     },
     "25ea8a43a4eb4227b5ba5a2cd2e91ff1": {
      "model_module": "@jupyter-widgets/base",
      "model_module_version": "2.0.0",
      "model_name": "LayoutModel",
      "state": {}
     },
     "273741d173e7461e816f6f531e32b9a4": {
      "model_module": "@jupyter-widgets/controls",
      "model_module_version": "2.0.0",
      "model_name": "ProgressStyleModel",
      "state": {
       "description_width": ""
      }
     },
     "2741d5ed16e242b38de1d40fcf76429e": {
      "model_module": "@jupyter-widgets/controls",
      "model_module_version": "2.0.0",
      "model_name": "HTMLStyleModel",
      "state": {
       "description_width": "",
       "font_size": null,
       "text_color": null
      }
     },
     "282920f341f64a54962c192f022610ab": {
      "model_module": "@jupyter-widgets/controls",
      "model_module_version": "2.0.0",
      "model_name": "HTMLModel",
      "state": {
       "layout": "IPY_MODEL_09c9e40fb1754fa8af94e62c9960a8a2",
       "style": "IPY_MODEL_0008297165984873b0158662f06b5676",
       "value": " 134/134 [00:38&lt;00:00,  4.09it/s]"
      }
     },
     "28e5decbb9aa492e84f4515e1cb6547f": {
      "model_module": "@jupyter-widgets/controls",
      "model_module_version": "2.0.0",
      "model_name": "HTMLModel",
      "state": {
       "layout": "IPY_MODEL_b6039304be2b40af8c3b1bd7d28f467a",
       "style": "IPY_MODEL_6fda3bf09da544918a587895a537a6a5",
       "value": "100%"
      }
     },
     "292be9a1c32a42a39037facf9393d454": {
      "model_module": "@jupyter-widgets/base",
      "model_module_version": "2.0.0",
      "model_name": "LayoutModel",
      "state": {}
     },
     "2e1d3ffc35da48c78ec55b29403c4c29": {
      "model_module": "@jupyter-widgets/base",
      "model_module_version": "2.0.0",
      "model_name": "LayoutModel",
      "state": {
       "visibility": "hidden"
      }
     },
     "2f2dbb57ff5b4526970d11438376fdf5": {
      "model_module": "@jupyter-widgets/controls",
      "model_module_version": "2.0.0",
      "model_name": "HTMLStyleModel",
      "state": {
       "description_width": "",
       "font_size": null,
       "text_color": null
      }
     },
     "3245a17292b14806bae74f944349dc2a": {
      "model_module": "@jupyter-widgets/base",
      "model_module_version": "2.0.0",
      "model_name": "LayoutModel",
      "state": {
       "visibility": "hidden"
      }
     },
     "32ea9b9c917746e995fc45cf8b386d04": {
      "model_module": "@jupyter-widgets/base",
      "model_module_version": "2.0.0",
      "model_name": "LayoutModel",
      "state": {
       "visibility": "hidden"
      }
     },
     "3457f955750045818337f809e14c46b1": {
      "model_module": "@jupyter-widgets/controls",
      "model_module_version": "2.0.0",
      "model_name": "FloatProgressModel",
      "state": {
       "layout": "IPY_MODEL_f7da04e83ebc418ab5dec51ab9cbad1d",
       "max": 71,
       "style": "IPY_MODEL_f2be6700db3f424495930c3fa12af808",
       "value": 71
      }
     },
     "35be9fd22fa746d5b82eb78a70504ed0": {
      "model_module": "@jupyter-widgets/controls",
      "model_module_version": "2.0.0",
      "model_name": "HTMLModel",
      "state": {
       "layout": "IPY_MODEL_ff8c81ca6454442e8cc2ce35c21fae5a",
       "style": "IPY_MODEL_2741d5ed16e242b38de1d40fcf76429e",
       "value": " 47/47 [00:02&lt;00:00, 22.87it/s]"
      }
     },
     "37945bebd8804991b1ea7c2de7327403": {
      "model_module": "@jupyter-widgets/base",
      "model_module_version": "2.0.0",
      "model_name": "LayoutModel",
      "state": {}
     },
     "38834e84a5c04c19b1563d430b3a7d46": {
      "model_module": "@jupyter-widgets/controls",
      "model_module_version": "2.0.0",
      "model_name": "HTMLStyleModel",
      "state": {
       "description_width": "",
       "font_size": null,
       "text_color": null
      }
     },
     "3abb06da9eaa4f5881fb92d08b454959": {
      "model_module": "@jupyter-widgets/controls",
      "model_module_version": "2.0.0",
      "model_name": "ProgressStyleModel",
      "state": {
       "description_width": ""
      }
     },
     "3bb0d8639db14b0eb82106885e97651b": {
      "model_module": "@jupyter-widgets/base",
      "model_module_version": "2.0.0",
      "model_name": "LayoutModel",
      "state": {}
     },
     "3d33ec84725d47b6a97501090d5e81f3": {
      "model_module": "@jupyter-widgets/base",
      "model_module_version": "2.0.0",
      "model_name": "LayoutModel",
      "state": {}
     },
     "3d9aa4d2c20b460fb37204d403a4a88a": {
      "model_module": "@jupyter-widgets/base",
      "model_module_version": "2.0.0",
      "model_name": "LayoutModel",
      "state": {
       "visibility": "hidden"
      }
     },
     "3f806e396d9f4b9e9b5ad00e58938c7f": {
      "model_module": "@jupyter-widgets/controls",
      "model_module_version": "2.0.0",
      "model_name": "HTMLStyleModel",
      "state": {
       "description_width": "",
       "font_size": null,
       "text_color": null
      }
     },
     "4081ac074d6c4a438518e5178c8449e3": {
      "model_module": "@jupyter-widgets/base",
      "model_module_version": "2.0.0",
      "model_name": "LayoutModel",
      "state": {
       "visibility": "hidden"
      }
     },
     "40cffd1f97f64fe4aa2bb5695a204e9c": {
      "model_module": "@jupyter-widgets/controls",
      "model_module_version": "2.0.0",
      "model_name": "HTMLModel",
      "state": {
       "layout": "IPY_MODEL_4a4cfa65abd5457ca9b2511c42e3bb83",
       "style": "IPY_MODEL_92829765f6f54486aa091e2337b94d98",
       "value": " 54/55 [00:03&lt;00:00, 17.00it/s]"
      }
     },
     "4239a28836b34e6f967902c1c1670fbb": {
      "model_module": "@jupyter-widgets/base",
      "model_module_version": "2.0.0",
      "model_name": "LayoutModel",
      "state": {}
     },
     "42b166125a2d4fa4993a31b8ab9f5380": {
      "model_module": "@jupyter-widgets/base",
      "model_module_version": "2.0.0",
      "model_name": "LayoutModel",
      "state": {
       "visibility": "hidden"
      }
     },
     "42de2fdcb6d34167bd16fa45f0125e21": {
      "model_module": "@jupyter-widgets/base",
      "model_module_version": "2.0.0",
      "model_name": "LayoutModel",
      "state": {}
     },
     "497b071bf08c4caf979e2171a5fe674d": {
      "model_module": "@jupyter-widgets/base",
      "model_module_version": "2.0.0",
      "model_name": "LayoutModel",
      "state": {}
     },
     "4a0d8904e54945c0809c9ea6dc9938bf": {
      "model_module": "@jupyter-widgets/base",
      "model_module_version": "2.0.0",
      "model_name": "LayoutModel",
      "state": {}
     },
     "4a14ca9805334ee093fbaf274c9eb115": {
      "model_module": "@jupyter-widgets/controls",
      "model_module_version": "2.0.0",
      "model_name": "HTMLStyleModel",
      "state": {
       "description_width": "",
       "font_size": null,
       "text_color": null
      }
     },
     "4a4cfa65abd5457ca9b2511c42e3bb83": {
      "model_module": "@jupyter-widgets/base",
      "model_module_version": "2.0.0",
      "model_name": "LayoutModel",
      "state": {}
     },
     "4a50b98040684d958b9f9f1539edd0e1": {
      "model_module": "@jupyter-widgets/controls",
      "model_module_version": "2.0.0",
      "model_name": "HTMLModel",
      "state": {
       "layout": "IPY_MODEL_42de2fdcb6d34167bd16fa45f0125e21",
       "style": "IPY_MODEL_1f09c277941a45cb8e4e557e59ba0fba",
       "value": " 66/68 [00:03&lt;00:00, 23.88it/s]"
      }
     },
     "4bf3531d1a944c7db4a1e7d3af92a1d9": {
      "model_module": "@jupyter-widgets/controls",
      "model_module_version": "2.0.0",
      "model_name": "FloatProgressModel",
      "state": {
       "bar_style": "success",
       "layout": "IPY_MODEL_a835fbdfac814363b7347e58f2bd3f8e",
       "max": 22,
       "style": "IPY_MODEL_766f99b1e5404e51bf5ba05ad020e1c4",
       "value": 22
      }
     },
     "4c3d6ce3752b4ea1bab5c807e9f9ad4a": {
      "model_module": "@jupyter-widgets/controls",
      "model_module_version": "2.0.0",
      "model_name": "HTMLModel",
      "state": {
       "layout": "IPY_MODEL_f29c74e280514a93b7b4e3d570685870",
       "style": "IPY_MODEL_bb47a6d654de43afaa69616b11c5f195",
       "value": " 58/61 [00:03&lt;00:00, 20.77it/s]"
      }
     },
     "4cbdeece6cc4423cb71fb6c1d11c2463": {
      "model_module": "@jupyter-widgets/controls",
      "model_module_version": "2.0.0",
      "model_name": "ProgressStyleModel",
      "state": {
       "description_width": ""
      }
     },
     "4d276dd1381a462f833055ef962e9b32": {
      "model_module": "@jupyter-widgets/base",
      "model_module_version": "2.0.0",
      "model_name": "LayoutModel",
      "state": {
       "visibility": "hidden"
      }
     },
     "4d42e4ec5f644455abcf67e72941ad11": {
      "model_module": "@jupyter-widgets/controls",
      "model_module_version": "2.0.0",
      "model_name": "HTMLStyleModel",
      "state": {
       "description_width": "",
       "font_size": null,
       "text_color": null
      }
     },
     "4ffafbbc31de478c97620aba65ff08c6": {
      "model_module": "@jupyter-widgets/base",
      "model_module_version": "2.0.0",
      "model_name": "LayoutModel",
      "state": {}
     },
     "536f36f6568f49a087d48442be2e0f53": {
      "model_module": "@jupyter-widgets/controls",
      "model_module_version": "2.0.0",
      "model_name": "FloatProgressModel",
      "state": {
       "layout": "IPY_MODEL_c1a8873f7260481ab5328850a0e7f19c",
       "max": 72,
       "style": "IPY_MODEL_147f51b0db434e05bbc5d2304dfa3986",
       "value": 72
      }
     },
     "544329bcb58549e6be061f3218359514": {
      "model_module": "@jupyter-widgets/controls",
      "model_module_version": "2.0.0",
      "model_name": "HTMLStyleModel",
      "state": {
       "description_width": "",
       "font_size": null,
       "text_color": null
      }
     },
     "5590c3c466924a97a0742143a7e29b0c": {
      "model_module": "@jupyter-widgets/controls",
      "model_module_version": "2.0.0",
      "model_name": "ProgressStyleModel",
      "state": {
       "description_width": ""
      }
     },
     "560982fb973340808502c1f74f6073ae": {
      "model_module": "@jupyter-widgets/base",
      "model_module_version": "2.0.0",
      "model_name": "LayoutModel",
      "state": {}
     },
     "5767f26c12464ea5a57b6d206130a6ce": {
      "model_module": "@jupyter-widgets/controls",
      "model_module_version": "2.0.0",
      "model_name": "HTMLStyleModel",
      "state": {
       "description_width": "",
       "font_size": null,
       "text_color": null
      }
     },
     "57d96d2f445948eea54b4124eb2e1fb8": {
      "model_module": "@jupyter-widgets/base",
      "model_module_version": "2.0.0",
      "model_name": "LayoutModel",
      "state": {}
     },
     "5865c8d147884a6c87cc29a431522c4c": {
      "model_module": "@jupyter-widgets/controls",
      "model_module_version": "2.0.0",
      "model_name": "FloatProgressModel",
      "state": {
       "layout": "IPY_MODEL_92871c616807426e82b8d9fa5b86abf5",
       "max": 54,
       "style": "IPY_MODEL_8b231e480ce044bc91b11fea3fb107d5",
       "value": 54
      }
     },
     "5869f865c697402282aed9df210386eb": {
      "model_module": "@jupyter-widgets/controls",
      "model_module_version": "2.0.0",
      "model_name": "HTMLStyleModel",
      "state": {
       "description_width": "",
       "font_size": null,
       "text_color": null
      }
     },
     "58c6f30f0e7c4679999ade1adb30cc2b": {
      "model_module": "@jupyter-widgets/controls",
      "model_module_version": "2.0.0",
      "model_name": "ProgressStyleModel",
      "state": {
       "description_width": ""
      }
     },
     "5973def67f0b478cad180939d36a432e": {
      "model_module": "@jupyter-widgets/base",
      "model_module_version": "2.0.0",
      "model_name": "LayoutModel",
      "state": {}
     },
     "5a91028b52e347379e708bd590693dbc": {
      "model_module": "@jupyter-widgets/controls",
      "model_module_version": "2.0.0",
      "model_name": "ProgressStyleModel",
      "state": {
       "description_width": ""
      }
     },
     "5b0482b04de240daa1f95d330bc98d12": {
      "model_module": "@jupyter-widgets/controls",
      "model_module_version": "2.0.0",
      "model_name": "HTMLStyleModel",
      "state": {
       "description_width": "",
       "font_size": null,
       "text_color": null
      }
     },
     "5c4ec3ac5bb842028f9b539be28cd99a": {
      "model_module": "@jupyter-widgets/controls",
      "model_module_version": "2.0.0",
      "model_name": "HTMLStyleModel",
      "state": {
       "description_width": "",
       "font_size": null,
       "text_color": null
      }
     },
     "5ce3d6985d1d43b8b431aaaf55bbd724": {
      "model_module": "@jupyter-widgets/controls",
      "model_module_version": "2.0.0",
      "model_name": "HTMLStyleModel",
      "state": {
       "description_width": "",
       "font_size": null,
       "text_color": null
      }
     },
     "5e650b753f134138938ad2fa4f70290b": {
      "model_module": "@jupyter-widgets/base",
      "model_module_version": "2.0.0",
      "model_name": "LayoutModel",
      "state": {}
     },
     "5fd352118fb04d3a8a04a69b9c39c8ff": {
      "model_module": "@jupyter-widgets/controls",
      "model_module_version": "2.0.0",
      "model_name": "HTMLStyleModel",
      "state": {
       "description_width": "",
       "font_size": null,
       "text_color": null
      }
     },
     "60f0c02687a74abda9aca3b0a6d796b7": {
      "model_module": "@jupyter-widgets/controls",
      "model_module_version": "2.0.0",
      "model_name": "FloatProgressModel",
      "state": {
       "layout": "IPY_MODEL_65b0ac0892b746d4ac7e1b85362ca2de",
       "max": 55,
       "style": "IPY_MODEL_11e3626c24b948faa5c3677d1c981e87",
       "value": 55
      }
     },
     "61363d4d8335496ab47516ebc11879cf": {
      "model_module": "@jupyter-widgets/base",
      "model_module_version": "2.0.0",
      "model_name": "LayoutModel",
      "state": {
       "visibility": "hidden"
      }
     },
     "6138333dcd70421787ab1faa3ab13e92": {
      "model_module": "@jupyter-widgets/base",
      "model_module_version": "2.0.0",
      "model_name": "LayoutModel",
      "state": {}
     },
     "616486ee831e4d47801c86df086d7b06": {
      "model_module": "@jupyter-widgets/controls",
      "model_module_version": "2.0.0",
      "model_name": "HTMLModel",
      "state": {
       "layout": "IPY_MODEL_e268bbfc1ae44035ac10fd33340c93b7",
       "style": "IPY_MODEL_aea2eae2ca324c57b4963c4e90b4c1ea",
       "value": " 93%"
      }
     },
     "65b0ac0892b746d4ac7e1b85362ca2de": {
      "model_module": "@jupyter-widgets/base",
      "model_module_version": "2.0.0",
      "model_name": "LayoutModel",
      "state": {}
     },
     "6607bed1ff2b46b1b7f6c7dda0a5d726": {
      "model_module": "@jupyter-widgets/controls",
      "model_module_version": "2.0.0",
      "model_name": "HTMLStyleModel",
      "state": {
       "description_width": "",
       "font_size": null,
       "text_color": null
      }
     },
     "67ff49022f724b13a021b51ac2e3c85b": {
      "model_module": "@jupyter-widgets/base",
      "model_module_version": "2.0.0",
      "model_name": "LayoutModel",
      "state": {}
     },
     "68a7a0db7e09468c9c747a9bddeb6b62": {
      "model_module": "@jupyter-widgets/base",
      "model_module_version": "2.0.0",
      "model_name": "LayoutModel",
      "state": {}
     },
     "68c8a2a20ec7441b860f9c4d12152100": {
      "model_module": "@jupyter-widgets/controls",
      "model_module_version": "2.0.0",
      "model_name": "HTMLModel",
      "state": {
       "layout": "IPY_MODEL_68cfe0062e7147388ca18a454d899526",
       "style": "IPY_MODEL_2f2dbb57ff5b4526970d11438376fdf5",
       "value": " 71/71 [00:04&lt;00:00, 17.62it/s]"
      }
     },
     "68cfe0062e7147388ca18a454d899526": {
      "model_module": "@jupyter-widgets/base",
      "model_module_version": "2.0.0",
      "model_name": "LayoutModel",
      "state": {}
     },
     "6b2d0adb8438447e86274b75c73651b1": {
      "model_module": "@jupyter-widgets/controls",
      "model_module_version": "2.0.0",
      "model_name": "HTMLStyleModel",
      "state": {
       "description_width": "",
       "font_size": null,
       "text_color": null
      }
     },
     "6beaade31d954152af8b437df0003c60": {
      "model_module": "@jupyter-widgets/controls",
      "model_module_version": "2.0.0",
      "model_name": "HTMLStyleModel",
      "state": {
       "description_width": "",
       "font_size": null,
       "text_color": null
      }
     },
     "6cde479596864cfe8644df929d30fd66": {
      "model_module": "@jupyter-widgets/controls",
      "model_module_version": "2.0.0",
      "model_name": "HTMLModel",
      "state": {
       "layout": "IPY_MODEL_4239a28836b34e6f967902c1c1670fbb",
       "style": "IPY_MODEL_04d345d99fa34b6da53a7b6c02a57f59",
       "value": "100%"
      }
     },
     "6fda3bf09da544918a587895a537a6a5": {
      "model_module": "@jupyter-widgets/controls",
      "model_module_version": "2.0.0",
      "model_name": "HTMLStyleModel",
      "state": {
       "description_width": "",
       "font_size": null,
       "text_color": null
      }
     },
     "6fdc6680924245cf92bbd1ab93c73fcb": {
      "model_module": "@jupyter-widgets/base",
      "model_module_version": "2.0.0",
      "model_name": "LayoutModel",
      "state": {}
     },
     "71376f18236149218acad39efca28f64": {
      "model_module": "@jupyter-widgets/controls",
      "model_module_version": "2.0.0",
      "model_name": "HTMLStyleModel",
      "state": {
       "description_width": "",
       "font_size": null,
       "text_color": null
      }
     },
     "733c95c233e143c3bfc75f966baf3a58": {
      "model_module": "@jupyter-widgets/controls",
      "model_module_version": "2.0.0",
      "model_name": "HTMLModel",
      "state": {
       "layout": "IPY_MODEL_6fdc6680924245cf92bbd1ab93c73fcb",
       "style": "IPY_MODEL_aae732406383422a86e004f980ad71e5",
       "value": "100%"
      }
     },
     "766f99b1e5404e51bf5ba05ad020e1c4": {
      "model_module": "@jupyter-widgets/controls",
      "model_module_version": "2.0.0",
      "model_name": "ProgressStyleModel",
      "state": {
       "description_width": ""
      }
     },
     "76da8fde9f1243b0b07f4cf5cfb7adba": {
      "model_module": "@jupyter-widgets/controls",
      "model_module_version": "2.0.0",
      "model_name": "FloatProgressModel",
      "state": {
       "layout": "IPY_MODEL_4ffafbbc31de478c97620aba65ff08c6",
       "max": 61,
       "style": "IPY_MODEL_5a91028b52e347379e708bd590693dbc",
       "value": 61
      }
     },
     "782e5eee98a84d64a892a259263130c2": {
      "model_module": "@jupyter-widgets/controls",
      "model_module_version": "2.0.0",
      "model_name": "HTMLModel",
      "state": {
       "layout": "IPY_MODEL_a4b1890712f4409ba64d964d5c24614c",
       "style": "IPY_MODEL_bd664a15f240477d85185dcc8882ad20",
       "value": "100%"
      }
     },
     "78933772fe624753ad76c4d0c5b049ef": {
      "model_module": "@jupyter-widgets/controls",
      "model_module_version": "2.0.0",
      "model_name": "HTMLModel",
      "state": {
       "layout": "IPY_MODEL_f82a0750e3644290ae6d92b70463f3f5",
       "style": "IPY_MODEL_79a56a29589c400d9dff24b663119d11",
       "value": " 84/84 [00:16&lt;00:00,  4.25it/s]"
      }
     },
     "79a56a29589c400d9dff24b663119d11": {
      "model_module": "@jupyter-widgets/controls",
      "model_module_version": "2.0.0",
      "model_name": "HTMLStyleModel",
      "state": {
       "description_width": "",
       "font_size": null,
       "text_color": null
      }
     },
     "79ce1f4791db49749a287d146f7ded0a": {
      "model_module": "@jupyter-widgets/controls",
      "model_module_version": "2.0.0",
      "model_name": "HTMLModel",
      "state": {
       "layout": "IPY_MODEL_d417233463bb4e918d24a98b56020e4f",
       "style": "IPY_MODEL_90537b710b904fd1a2b7b6081cc4dfce",
       "value": " 109/109 [00:29&lt;00:00,  5.86it/s]"
      }
     },
     "79dabd78c4b047f2bd61ad66e76d9eee": {
      "model_module": "@jupyter-widgets/base",
      "model_module_version": "2.0.0",
      "model_name": "LayoutModel",
      "state": {}
     },
     "7d1488ccc8a645d18a827ae24a44df82": {
      "model_module": "@jupyter-widgets/controls",
      "model_module_version": "2.0.0",
      "model_name": "HTMLModel",
      "state": {
       "layout": "IPY_MODEL_9432f4bef9b24a119328a972de5cab12",
       "style": "IPY_MODEL_986ff6b23ea944969943a6721a695966",
       "value": " 68/68 [00:11&lt;00:00,  6.99it/s]"
      }
     },
     "7e170860706a4ddd9589e952839838b4": {
      "model_module": "@jupyter-widgets/controls",
      "model_module_version": "2.0.0",
      "model_name": "HTMLStyleModel",
      "state": {
       "description_width": "",
       "font_size": null,
       "text_color": null
      }
     },
     "7e9b4fbc3bee44c49a6cd6020e94f0c6": {
      "model_module": "@jupyter-widgets/base",
      "model_module_version": "2.0.0",
      "model_name": "LayoutModel",
      "state": {}
     },
     "7f2c166626904e8ca78f14d22989d69a": {
      "model_module": "@jupyter-widgets/controls",
      "model_module_version": "2.0.0",
      "model_name": "HTMLModel",
      "state": {
       "layout": "IPY_MODEL_3d33ec84725d47b6a97501090d5e81f3",
       "style": "IPY_MODEL_3f806e396d9f4b9e9b5ad00e58938c7f",
       "value": " 75/76 [00:04&lt;00:00, 16.90it/s]"
      }
     },
     "84a3fd65d5b34af1a9c2b0754dac1386": {
      "model_module": "@jupyter-widgets/controls",
      "model_module_version": "2.0.0",
      "model_name": "FloatProgressModel",
      "state": {
       "layout": "IPY_MODEL_79dabd78c4b047f2bd61ad66e76d9eee",
       "max": 68,
       "style": "IPY_MODEL_273741d173e7461e816f6f531e32b9a4",
       "value": 68
      }
     },
     "8609c07b6a094ecabc7fb600ae5215aa": {
      "model_module": "@jupyter-widgets/controls",
      "model_module_version": "2.0.0",
      "model_name": "HBoxModel",
      "state": {
       "children": [
        "IPY_MODEL_ff45e222e1794f559bdcff410a22e89d",
        "IPY_MODEL_4bf3531d1a944c7db4a1e7d3af92a1d9",
        "IPY_MODEL_a182c346dba34e3a8714695ebe8e6672"
       ],
       "layout": "IPY_MODEL_4a0d8904e54945c0809c9ea6dc9938bf"
      }
     },
     "8718ae095b0142b5bbda4b2e54d7f2b2": {
      "model_module": "@jupyter-widgets/controls",
      "model_module_version": "2.0.0",
      "model_name": "HTMLModel",
      "state": {
       "layout": "IPY_MODEL_eb2903fb2c504fb5bc1973401130d678",
       "style": "IPY_MODEL_38834e84a5c04c19b1563d430b3a7d46",
       "value": " 134/134 [00:30&lt;00:00,  4.17it/s]"
      }
     },
     "8760bffa140944608968f2a373e0f148": {
      "model_module": "@jupyter-widgets/controls",
      "model_module_version": "2.0.0",
      "model_name": "FloatProgressModel",
      "state": {
       "layout": "IPY_MODEL_c36555567eb24dc691a91dcb36ccb411",
       "max": 134,
       "style": "IPY_MODEL_967c94f69e114a01a4948fc5bd395051",
       "value": 134
      }
     },
     "8797e8ca198d460c9cb6ee7da32e1b82": {
      "model_module": "@jupyter-widgets/base",
      "model_module_version": "2.0.0",
      "model_name": "LayoutModel",
      "state": {}
     },
     "886c50d03cc14968ba3102344bce54f6": {
      "model_module": "@jupyter-widgets/controls",
      "model_module_version": "2.0.0",
      "model_name": "FloatProgressModel",
      "state": {
       "layout": "IPY_MODEL_0ba3de25d72b4c1a910e30eb7b17d4c4",
       "max": 41,
       "style": "IPY_MODEL_cac8855ba29c49a490c12de7798f8a80",
       "value": 41
      }
     },
     "8b231e480ce044bc91b11fea3fb107d5": {
      "model_module": "@jupyter-widgets/controls",
      "model_module_version": "2.0.0",
      "model_name": "ProgressStyleModel",
      "state": {
       "description_width": ""
      }
     },
     "8b89881fddc8410ea9b8e63777113341": {
      "model_module": "@jupyter-widgets/base",
      "model_module_version": "2.0.0",
      "model_name": "LayoutModel",
      "state": {}
     },
     "8d4355499b4844c59e5205dc336c858d": {
      "model_module": "@jupyter-widgets/controls",
      "model_module_version": "2.0.0",
      "model_name": "HTMLModel",
      "state": {
       "layout": "IPY_MODEL_aa1459405bea40449ebfd747df452900",
       "style": "IPY_MODEL_a6151f5edb074492b6b6896b9c6bcae2",
       "value": " 97%"
      }
     },
     "8e3d6ce89d2b4a8da1008db6e565f1a3": {
      "model_module": "@jupyter-widgets/controls",
      "model_module_version": "2.0.0",
      "model_name": "FloatProgressModel",
      "state": {
       "layout": "IPY_MODEL_3bb0d8639db14b0eb82106885e97651b",
       "max": 72,
       "style": "IPY_MODEL_58c6f30f0e7c4679999ade1adb30cc2b",
       "value": 72
      }
     },
     "8f3272906e4e4230b116a4f6b88eaf76": {
      "model_module": "@jupyter-widgets/base",
      "model_module_version": "2.0.0",
      "model_name": "LayoutModel",
      "state": {
       "visibility": "hidden"
      }
     },
     "8f946a837b474d87a02e430864727c16": {
      "model_module": "@jupyter-widgets/base",
      "model_module_version": "2.0.0",
      "model_name": "LayoutModel",
      "state": {}
     },
     "8fa5804a346544c18e7677c342c97f21": {
      "model_module": "@jupyter-widgets/base",
      "model_module_version": "2.0.0",
      "model_name": "LayoutModel",
      "state": {
       "visibility": "hidden"
      }
     },
     "905255aba5d9461284d615c747287ef0": {
      "model_module": "@jupyter-widgets/base",
      "model_module_version": "2.0.0",
      "model_name": "LayoutModel",
      "state": {}
     },
     "90537b710b904fd1a2b7b6081cc4dfce": {
      "model_module": "@jupyter-widgets/controls",
      "model_module_version": "2.0.0",
      "model_name": "HTMLStyleModel",
      "state": {
       "description_width": "",
       "font_size": null,
       "text_color": null
      }
     },
     "913d6c74457b4b2d965c5f2ec412177c": {
      "model_module": "@jupyter-widgets/controls",
      "model_module_version": "2.0.0",
      "model_name": "HTMLStyleModel",
      "state": {
       "description_width": "",
       "font_size": null,
       "text_color": null
      }
     },
     "9195a9de7c4240a59ecbeaf72ed79fe2": {
      "model_module": "@jupyter-widgets/controls",
      "model_module_version": "2.0.0",
      "model_name": "HTMLStyleModel",
      "state": {
       "description_width": "",
       "font_size": null,
       "text_color": null
      }
     },
     "92829765f6f54486aa091e2337b94d98": {
      "model_module": "@jupyter-widgets/controls",
      "model_module_version": "2.0.0",
      "model_name": "HTMLStyleModel",
      "state": {
       "description_width": "",
       "font_size": null,
       "text_color": null
      }
     },
     "92871c616807426e82b8d9fa5b86abf5": {
      "model_module": "@jupyter-widgets/base",
      "model_module_version": "2.0.0",
      "model_name": "LayoutModel",
      "state": {}
     },
     "939d19879be741379f0be0bc4d98fdff": {
      "model_module": "@jupyter-widgets/controls",
      "model_module_version": "2.0.0",
      "model_name": "FloatProgressModel",
      "state": {
       "layout": "IPY_MODEL_497b071bf08c4caf979e2171a5fe674d",
       "max": 84,
       "style": "IPY_MODEL_224da6725f044c9f81ec51d5b1656015",
       "value": 84
      }
     },
     "9432f4bef9b24a119328a972de5cab12": {
      "model_module": "@jupyter-widgets/base",
      "model_module_version": "2.0.0",
      "model_name": "LayoutModel",
      "state": {}
     },
     "967c94f69e114a01a4948fc5bd395051": {
      "model_module": "@jupyter-widgets/controls",
      "model_module_version": "2.0.0",
      "model_name": "ProgressStyleModel",
      "state": {
       "description_width": ""
      }
     },
     "96a37ba8bcbc4d089ce6aca1f68fbec7": {
      "model_module": "@jupyter-widgets/controls",
      "model_module_version": "2.0.0",
      "model_name": "HTMLStyleModel",
      "state": {
       "description_width": "",
       "font_size": null,
       "text_color": null
      }
     },
     "97991af13b314cf0b9ba166843a9cbfe": {
      "model_module": "@jupyter-widgets/base",
      "model_module_version": "2.0.0",
      "model_name": "LayoutModel",
      "state": {}
     },
     "97d2d3c3695f4ad8b7a6c8f530cf7d01": {
      "model_module": "@jupyter-widgets/base",
      "model_module_version": "2.0.0",
      "model_name": "LayoutModel",
      "state": {}
     },
     "986ff6b23ea944969943a6721a695966": {
      "model_module": "@jupyter-widgets/controls",
      "model_module_version": "2.0.0",
      "model_name": "HTMLStyleModel",
      "state": {
       "description_width": "",
       "font_size": null,
       "text_color": null
      }
     },
     "988dee9547cb4b7882df2b3c8afd63d4": {
      "model_module": "@jupyter-widgets/controls",
      "model_module_version": "2.0.0",
      "model_name": "HTMLModel",
      "state": {
       "layout": "IPY_MODEL_0f2cf3fa5c824fc28d8396d33f233bab",
       "style": "IPY_MODEL_5869f865c697402282aed9df210386eb",
       "value": "100%"
      }
     },
     "988e75a5e3cf4124ba06715d7a47daa4": {
      "model_module": "@jupyter-widgets/controls",
      "model_module_version": "2.0.0",
      "model_name": "HTMLStyleModel",
      "state": {
       "description_width": "",
       "font_size": null,
       "text_color": null
      }
     },
     "9a124b754d494daca5f45a66bb651107": {
      "model_module": "@jupyter-widgets/controls",
      "model_module_version": "2.0.0",
      "model_name": "HTMLModel",
      "state": {
       "layout": "IPY_MODEL_7e9b4fbc3bee44c49a6cd6020e94f0c6",
       "style": "IPY_MODEL_dd867a5492c14caaa727429a2035f3a0",
       "value": " 102/102 [00:30&lt;00:00,  1.69it/s]"
      }
     },
     "9c8e59f90de745d386872764abcae6ad": {
      "model_module": "@jupyter-widgets/base",
      "model_module_version": "2.0.0",
      "model_name": "LayoutModel",
      "state": {
       "visibility": "hidden"
      }
     },
     "9de61e65adaa4551ba4142f34f59c2ea": {
      "model_module": "@jupyter-widgets/base",
      "model_module_version": "2.0.0",
      "model_name": "LayoutModel",
      "state": {}
     },
     "9f965df52ce84f809885704e090359ac": {
      "model_module": "@jupyter-widgets/base",
      "model_module_version": "2.0.0",
      "model_name": "LayoutModel",
      "state": {}
     },
     "a047a4fe0e304eef865d7a4b36e43dbb": {
      "model_module": "@jupyter-widgets/controls",
      "model_module_version": "2.0.0",
      "model_name": "HTMLModel",
      "state": {
       "layout": "IPY_MODEL_e759a57e36d64a98b7fa2b56a02ae81d",
       "style": "IPY_MODEL_6b2d0adb8438447e86274b75c73651b1",
       "value": "100%"
      }
     },
     "a0a66ecc27dc4a66b584c9f89dc77bca": {
      "model_module": "@jupyter-widgets/controls",
      "model_module_version": "2.0.0",
      "model_name": "ProgressStyleModel",
      "state": {
       "description_width": ""
      }
     },
     "a182c346dba34e3a8714695ebe8e6672": {
      "model_module": "@jupyter-widgets/controls",
      "model_module_version": "2.0.0",
      "model_name": "HTMLModel",
      "state": {
       "layout": "IPY_MODEL_6138333dcd70421787ab1faa3ab13e92",
       "style": "IPY_MODEL_e04d95219cee4ac788a3f959b69b9406",
       "value": " 22/22 [04:06&lt;00:00, 13.23s/it]"
      }
     },
     "a4ab46b05c694822bf45df6471dd5947": {
      "model_module": "@jupyter-widgets/controls",
      "model_module_version": "2.0.0",
      "model_name": "HTMLStyleModel",
      "state": {
       "description_width": "",
       "font_size": null,
       "text_color": null
      }
     },
     "a4b1890712f4409ba64d964d5c24614c": {
      "model_module": "@jupyter-widgets/base",
      "model_module_version": "2.0.0",
      "model_name": "LayoutModel",
      "state": {}
     },
     "a50b692145044f949c17a3ac9b005ab9": {
      "model_module": "@jupyter-widgets/controls",
      "model_module_version": "2.0.0",
      "model_name": "ProgressStyleModel",
      "state": {
       "description_width": ""
      }
     },
     "a5189af3e7524483bc6297f3cd8a3d6b": {
      "model_module": "@jupyter-widgets/controls",
      "model_module_version": "2.0.0",
      "model_name": "HTMLModel",
      "state": {
       "layout": "IPY_MODEL_d355170f09084447bdcfd3914a3280f2",
       "style": "IPY_MODEL_e98fc586765246dd81487ea846663d1f",
       "value": " 72/72 [00:12&lt;00:00,  5.81it/s]"
      }
     },
     "a6151f5edb074492b6b6896b9c6bcae2": {
      "model_module": "@jupyter-widgets/controls",
      "model_module_version": "2.0.0",
      "model_name": "HTMLStyleModel",
      "state": {
       "description_width": "",
       "font_size": null,
       "text_color": null
      }
     },
     "a7733ffbba66452a9eb4af55bc94ca0c": {
      "model_module": "@jupyter-widgets/base",
      "model_module_version": "2.0.0",
      "model_name": "LayoutModel",
      "state": {}
     },
     "a835fbdfac814363b7347e58f2bd3f8e": {
      "model_module": "@jupyter-widgets/base",
      "model_module_version": "2.0.0",
      "model_name": "LayoutModel",
      "state": {}
     },
     "a9d221b81b9d4142a03c4a930e62ae88": {
      "model_module": "@jupyter-widgets/controls",
      "model_module_version": "2.0.0",
      "model_name": "HTMLModel",
      "state": {
       "layout": "IPY_MODEL_fd60ddcd4e8946129160b339f4cf6b7d",
       "style": "IPY_MODEL_19b00b0da2c84a4ba547a6bd6b67768a",
       "value": " 99%"
      }
     },
     "aa1459405bea40449ebfd747df452900": {
      "model_module": "@jupyter-widgets/base",
      "model_module_version": "2.0.0",
      "model_name": "LayoutModel",
      "state": {}
     },
     "aab32828f7304d47bd0308c0b00871f4": {
      "model_module": "@jupyter-widgets/controls",
      "model_module_version": "2.0.0",
      "model_name": "ProgressStyleModel",
      "state": {
       "description_width": ""
      }
     },
     "aae732406383422a86e004f980ad71e5": {
      "model_module": "@jupyter-widgets/controls",
      "model_module_version": "2.0.0",
      "model_name": "HTMLStyleModel",
      "state": {
       "description_width": "",
       "font_size": null,
       "text_color": null
      }
     },
     "ab895cd0abdb44699b0eccd9ff1da348": {
      "model_module": "@jupyter-widgets/controls",
      "model_module_version": "2.0.0",
      "model_name": "HTMLModel",
      "state": {
       "layout": "IPY_MODEL_9f965df52ce84f809885704e090359ac",
       "style": "IPY_MODEL_fb353813757a47f2b2587a9ee370ef8b",
       "value": "100%"
      }
     },
     "abe0cb952d904a7b99cdf9f7c97d7760": {
      "model_module": "@jupyter-widgets/base",
      "model_module_version": "2.0.0",
      "model_name": "LayoutModel",
      "state": {}
     },
     "acd438779b6c489195ae50a16df6a43c": {
      "model_module": "@jupyter-widgets/base",
      "model_module_version": "2.0.0",
      "model_name": "LayoutModel",
      "state": {}
     },
     "ae9f4b606edd40c9bb422c14ca1853c7": {
      "model_module": "@jupyter-widgets/base",
      "model_module_version": "2.0.0",
      "model_name": "LayoutModel",
      "state": {
       "visibility": "hidden"
      }
     },
     "aea2eae2ca324c57b4963c4e90b4c1ea": {
      "model_module": "@jupyter-widgets/controls",
      "model_module_version": "2.0.0",
      "model_name": "HTMLStyleModel",
      "state": {
       "description_width": "",
       "font_size": null,
       "text_color": null
      }
     },
     "b0de8764e93143749920b74817fd657e": {
      "model_module": "@jupyter-widgets/base",
      "model_module_version": "2.0.0",
      "model_name": "LayoutModel",
      "state": {}
     },
     "b1f1496bf7704a88a923e8a7284f4e0e": {
      "model_module": "@jupyter-widgets/controls",
      "model_module_version": "2.0.0",
      "model_name": "FloatProgressModel",
      "state": {
       "layout": "IPY_MODEL_5973def67f0b478cad180939d36a432e",
       "max": 61,
       "style": "IPY_MODEL_fe4f9ee1ba074c06b4a87471c982eebe",
       "value": 61
      }
     },
     "b41db7bf46ea446e993c040fae90c434": {
      "model_module": "@jupyter-widgets/controls",
      "model_module_version": "2.0.0",
      "model_name": "HTMLModel",
      "state": {
       "layout": "IPY_MODEL_37945bebd8804991b1ea7c2de7327403",
       "style": "IPY_MODEL_4d42e4ec5f644455abcf67e72941ad11",
       "value": " 83/85 [00:05&lt;00:00, 10.89it/s]"
      }
     },
     "b4d83bfc09bd471ba6255c0de16fece5": {
      "model_module": "@jupyter-widgets/base",
      "model_module_version": "2.0.0",
      "model_name": "LayoutModel",
      "state": {
       "visibility": "hidden"
      }
     },
     "b6039304be2b40af8c3b1bd7d28f467a": {
      "model_module": "@jupyter-widgets/base",
      "model_module_version": "2.0.0",
      "model_name": "LayoutModel",
      "state": {}
     },
     "b65908da7fb44e828080b836b4a1c26b": {
      "model_module": "@jupyter-widgets/base",
      "model_module_version": "2.0.0",
      "model_name": "LayoutModel",
      "state": {}
     },
     "babdc320369f440e91e692acc6bb94f3": {
      "model_module": "@jupyter-widgets/base",
      "model_module_version": "2.0.0",
      "model_name": "LayoutModel",
      "state": {}
     },
     "bb47a6d654de43afaa69616b11c5f195": {
      "model_module": "@jupyter-widgets/controls",
      "model_module_version": "2.0.0",
      "model_name": "HTMLStyleModel",
      "state": {
       "description_width": "",
       "font_size": null,
       "text_color": null
      }
     },
     "bd664a15f240477d85185dcc8882ad20": {
      "model_module": "@jupyter-widgets/controls",
      "model_module_version": "2.0.0",
      "model_name": "HTMLStyleModel",
      "state": {
       "description_width": "",
       "font_size": null,
       "text_color": null
      }
     },
     "bd6771c78a6041c09a98b6350275cf64": {
      "model_module": "@jupyter-widgets/controls",
      "model_module_version": "2.0.0",
      "model_name": "ProgressStyleModel",
      "state": {
       "description_width": ""
      }
     },
     "be63f433a3444723a9f087d0410db8a5": {
      "model_module": "@jupyter-widgets/controls",
      "model_module_version": "2.0.0",
      "model_name": "HTMLModel",
      "state": {
       "layout": "IPY_MODEL_babdc320369f440e91e692acc6bb94f3",
       "style": "IPY_MODEL_5fd352118fb04d3a8a04a69b9c39c8ff",
       "value": "100%"
      }
     },
     "be934e63c22a4da3a836b7b85f408f65": {
      "model_module": "@jupyter-widgets/base",
      "model_module_version": "2.0.0",
      "model_name": "LayoutModel",
      "state": {
       "visibility": "hidden"
      }
     },
     "bed572b5c10f45f59bdd2a9ea8564e10": {
      "model_module": "@jupyter-widgets/controls",
      "model_module_version": "2.0.0",
      "model_name": "HTMLModel",
      "state": {
       "layout": "IPY_MODEL_67ff49022f724b13a021b51ac2e3c85b",
       "style": "IPY_MODEL_544329bcb58549e6be061f3218359514",
       "value": " 98%"
      }
     },
     "bf27a40042ad47dc9ecbecb4318915dd": {
      "model_module": "@jupyter-widgets/base",
      "model_module_version": "2.0.0",
      "model_name": "LayoutModel",
      "state": {
       "visibility": "hidden"
      }
     },
     "bf79b15bbe514c21bdba37117ed8506c": {
      "model_module": "@jupyter-widgets/base",
      "model_module_version": "2.0.0",
      "model_name": "LayoutModel",
      "state": {
       "visibility": "hidden"
      }
     },
     "c1a8873f7260481ab5328850a0e7f19c": {
      "model_module": "@jupyter-widgets/base",
      "model_module_version": "2.0.0",
      "model_name": "LayoutModel",
      "state": {}
     },
     "c2e7770dc6044f7282c8a28890f35887": {
      "model_module": "@jupyter-widgets/base",
      "model_module_version": "2.0.0",
      "model_name": "LayoutModel",
      "state": {}
     },
     "c2ea00c5bee4416cbcadabc031141686": {
      "model_module": "@jupyter-widgets/controls",
      "model_module_version": "2.0.0",
      "model_name": "ProgressStyleModel",
      "state": {
       "description_width": ""
      }
     },
     "c3305309ea094547b529de706ddfba02": {
      "model_module": "@jupyter-widgets/base",
      "model_module_version": "2.0.0",
      "model_name": "LayoutModel",
      "state": {}
     },
     "c36555567eb24dc691a91dcb36ccb411": {
      "model_module": "@jupyter-widgets/base",
      "model_module_version": "2.0.0",
      "model_name": "LayoutModel",
      "state": {}
     },
     "c5decf13dc0746c29b343cbc143e75e6": {
      "model_module": "@jupyter-widgets/base",
      "model_module_version": "2.0.0",
      "model_name": "LayoutModel",
      "state": {}
     },
     "c620147896ee4dae9ea7d785fd0fea50": {
      "model_module": "@jupyter-widgets/controls",
      "model_module_version": "2.0.0",
      "model_name": "FloatProgressModel",
      "state": {
       "layout": "IPY_MODEL_c7802643b5e74be1bfbd3fd6685233a9",
       "max": 134,
       "style": "IPY_MODEL_4cbdeece6cc4423cb71fb6c1d11c2463",
       "value": 134
      }
     },
     "c765a90750d441e1b9f2be21b11e3b04": {
      "model_module": "@jupyter-widgets/controls",
      "model_module_version": "2.0.0",
      "model_name": "HTMLModel",
      "state": {
       "layout": "IPY_MODEL_10b286bf68d44c02b411544a64bd7181",
       "style": "IPY_MODEL_d9d803963c5b4539b7672d41a10026bb",
       "value": " 38/41 [00:02&lt;00:00, 21.40it/s]"
      }
     },
     "c7781c20c7d44cd0bb513ed503498112": {
      "model_module": "@jupyter-widgets/controls",
      "model_module_version": "2.0.0",
      "model_name": "FloatProgressModel",
      "state": {
       "layout": "IPY_MODEL_9de61e65adaa4551ba4142f34f59c2ea",
       "max": 76,
       "style": "IPY_MODEL_a0a66ecc27dc4a66b584c9f89dc77bca",
       "value": 76
      }
     },
     "c7802643b5e74be1bfbd3fd6685233a9": {
      "model_module": "@jupyter-widgets/base",
      "model_module_version": "2.0.0",
      "model_name": "LayoutModel",
      "state": {}
     },
     "ca6480ab4c7f40f195df31f49acdaf52": {
      "model_module": "@jupyter-widgets/controls",
      "model_module_version": "2.0.0",
      "model_name": "FloatProgressModel",
      "state": {
       "layout": "IPY_MODEL_a7733ffbba66452a9eb4af55bc94ca0c",
       "max": 52,
       "style": "IPY_MODEL_5590c3c466924a97a0742143a7e29b0c",
       "value": 52
      }
     },
     "cac8855ba29c49a490c12de7798f8a80": {
      "model_module": "@jupyter-widgets/controls",
      "model_module_version": "2.0.0",
      "model_name": "ProgressStyleModel",
      "state": {
       "description_width": ""
      }
     },
     "cbc03fe3fcb346b8b5a33f970483310b": {
      "model_module": "@jupyter-widgets/base",
      "model_module_version": "2.0.0",
      "model_name": "LayoutModel",
      "state": {}
     },
     "cc04291a23d54fa8b0e3d994113fd3fa": {
      "model_module": "@jupyter-widgets/controls",
      "model_module_version": "2.0.0",
      "model_name": "FloatProgressModel",
      "state": {
       "layout": "IPY_MODEL_292be9a1c32a42a39037facf9393d454",
       "max": 68,
       "style": "IPY_MODEL_3abb06da9eaa4f5881fb92d08b454959",
       "value": 68
      }
     },
     "cc15405fb625402caa4ff665d43731e6": {
      "model_module": "@jupyter-widgets/controls",
      "model_module_version": "2.0.0",
      "model_name": "ProgressStyleModel",
      "state": {
       "description_width": ""
      }
     },
     "cd7904aa9ef341a4b98d9745e0e45d73": {
      "model_module": "@jupyter-widgets/controls",
      "model_module_version": "2.0.0",
      "model_name": "HTMLModel",
      "state": {
       "layout": "IPY_MODEL_f4471af95f954b02b825ce583a8c776a",
       "style": "IPY_MODEL_71376f18236149218acad39efca28f64",
       "value": " 59/61 [00:03&lt;00:00, 22.89it/s]"
      }
     },
     "d0d449fd02c74128a8fd6c89bff9777e": {
      "model_module": "@jupyter-widgets/controls",
      "model_module_version": "2.0.0",
      "model_name": "HTMLModel",
      "state": {
       "layout": "IPY_MODEL_905255aba5d9461284d615c747287ef0",
       "style": "IPY_MODEL_4a14ca9805334ee093fbaf274c9eb115",
       "value": " 50/53 [00:02&lt;00:00, 13.75it/s]"
      }
     },
     "d355170f09084447bdcfd3914a3280f2": {
      "model_module": "@jupyter-widgets/base",
      "model_module_version": "2.0.0",
      "model_name": "LayoutModel",
      "state": {}
     },
     "d3964f22647041479ab809a052c137ac": {
      "model_module": "@jupyter-widgets/controls",
      "model_module_version": "2.0.0",
      "model_name": "FloatProgressModel",
      "state": {
       "layout": "IPY_MODEL_68a7a0db7e09468c9c747a9bddeb6b62",
       "max": 85,
       "style": "IPY_MODEL_003d2e8b5c594f5484ff87267b4e83ae",
       "value": 85
      }
     },
     "d417233463bb4e918d24a98b56020e4f": {
      "model_module": "@jupyter-widgets/base",
      "model_module_version": "2.0.0",
      "model_name": "LayoutModel",
      "state": {}
     },
     "d436ebf46b9a478ba557fc0797a038a0": {
      "model_module": "@jupyter-widgets/controls",
      "model_module_version": "2.0.0",
      "model_name": "HTMLModel",
      "state": {
       "layout": "IPY_MODEL_57d96d2f445948eea54b4124eb2e1fb8",
       "style": "IPY_MODEL_e6e0e4c4e359494b8728aeeeea001591",
       "value": " 98%"
      }
     },
     "d6a8c30e07854cf4bbb986506a9facd2": {
      "model_module": "@jupyter-widgets/controls",
      "model_module_version": "2.0.0",
      "model_name": "HTMLModel",
      "state": {
       "layout": "IPY_MODEL_25ea8a43a4eb4227b5ba5a2cd2e91ff1",
       "style": "IPY_MODEL_6607bed1ff2b46b1b7f6c7dda0a5d726",
       "value": "100%"
      }
     },
     "d9d803963c5b4539b7672d41a10026bb": {
      "model_module": "@jupyter-widgets/controls",
      "model_module_version": "2.0.0",
      "model_name": "HTMLStyleModel",
      "state": {
       "description_width": "",
       "font_size": null,
       "text_color": null
      }
     },
     "dca311980950485c8a49dfef039903b0": {
      "model_module": "@jupyter-widgets/base",
      "model_module_version": "2.0.0",
      "model_name": "LayoutModel",
      "state": {}
     },
     "dd867a5492c14caaa727429a2035f3a0": {
      "model_module": "@jupyter-widgets/controls",
      "model_module_version": "2.0.0",
      "model_name": "HTMLStyleModel",
      "state": {
       "description_width": "",
       "font_size": null,
       "text_color": null
      }
     },
     "e04d95219cee4ac788a3f959b69b9406": {
      "model_module": "@jupyter-widgets/controls",
      "model_module_version": "2.0.0",
      "model_name": "HTMLStyleModel",
      "state": {
       "description_width": "",
       "font_size": null,
       "text_color": null
      }
     },
     "e268bbfc1ae44035ac10fd33340c93b7": {
      "model_module": "@jupyter-widgets/base",
      "model_module_version": "2.0.0",
      "model_name": "LayoutModel",
      "state": {}
     },
     "e3941cf2db164e0b980db4c98f0780ac": {
      "model_module": "@jupyter-widgets/controls",
      "model_module_version": "2.0.0",
      "model_name": "FloatProgressModel",
      "state": {
       "layout": "IPY_MODEL_560982fb973340808502c1f74f6073ae",
       "max": 109,
       "style": "IPY_MODEL_bd6771c78a6041c09a98b6350275cf64",
       "value": 109
      }
     },
     "e3f3d481e4964d8dae1cb13eebe2275c": {
      "model_module": "@jupyter-widgets/base",
      "model_module_version": "2.0.0",
      "model_name": "LayoutModel",
      "state": {
       "visibility": "hidden"
      }
     },
     "e6e0e4c4e359494b8728aeeeea001591": {
      "model_module": "@jupyter-widgets/controls",
      "model_module_version": "2.0.0",
      "model_name": "HTMLStyleModel",
      "state": {
       "description_width": "",
       "font_size": null,
       "text_color": null
      }
     },
     "e759a57e36d64a98b7fa2b56a02ae81d": {
      "model_module": "@jupyter-widgets/base",
      "model_module_version": "2.0.0",
      "model_name": "LayoutModel",
      "state": {}
     },
     "e7713af02c4340e5ab5afd03e02f7885": {
      "model_module": "@jupyter-widgets/controls",
      "model_module_version": "2.0.0",
      "model_name": "HTMLModel",
      "state": {
       "layout": "IPY_MODEL_02d8dd4d6fce47f9bb94f1cbf05463f4",
       "style": "IPY_MODEL_96a37ba8bcbc4d089ce6aca1f68fbec7",
       "value": "100%"
      }
     },
     "e9024a81ce5d42e5ab38018454b83064": {
      "model_module": "@jupyter-widgets/base",
      "model_module_version": "2.0.0",
      "model_name": "LayoutModel",
      "state": {
       "visibility": "hidden"
      }
     },
     "e98fc586765246dd81487ea846663d1f": {
      "model_module": "@jupyter-widgets/controls",
      "model_module_version": "2.0.0",
      "model_name": "HTMLStyleModel",
      "state": {
       "description_width": "",
       "font_size": null,
       "text_color": null
      }
     },
     "eb2903fb2c504fb5bc1973401130d678": {
      "model_module": "@jupyter-widgets/base",
      "model_module_version": "2.0.0",
      "model_name": "LayoutModel",
      "state": {}
     },
     "eb75edf23836470ea50ef60cdef03826": {
      "model_module": "@jupyter-widgets/controls",
      "model_module_version": "2.0.0",
      "model_name": "HTMLModel",
      "state": {
       "layout": "IPY_MODEL_c2e7770dc6044f7282c8a28890f35887",
       "style": "IPY_MODEL_a4ab46b05c694822bf45df6471dd5947",
       "value": " 98%"
      }
     },
     "ecce8fb9d1f440acbb896fc7d8fe238c": {
      "model_module": "@jupyter-widgets/controls",
      "model_module_version": "2.0.0",
      "model_name": "FloatProgressModel",
      "state": {
       "layout": "IPY_MODEL_97d2d3c3695f4ad8b7a6c8f530cf7d01",
       "max": 107,
       "style": "IPY_MODEL_cc15405fb625402caa4ff665d43731e6",
       "value": 107
      }
     },
     "ee30e5bd68904b9ca7421beaf5bbe363": {
      "model_module": "@jupyter-widgets/base",
      "model_module_version": "2.0.0",
      "model_name": "LayoutModel",
      "state": {}
     },
     "ef140f4758ac442b9793330ba5de2eff": {
      "model_module": "@jupyter-widgets/controls",
      "model_module_version": "2.0.0",
      "model_name": "HTMLModel",
      "state": {
       "layout": "IPY_MODEL_b65908da7fb44e828080b836b4a1c26b",
       "style": "IPY_MODEL_08f9bf91b73b4819abf6bec8d932957d",
       "value": " 98%"
      }
     },
     "f17cab06da6b4f23839e93de3a74b3d3": {
      "model_module": "@jupyter-widgets/controls",
      "model_module_version": "2.0.0",
      "model_name": "FloatProgressModel",
      "state": {
       "layout": "IPY_MODEL_8f946a837b474d87a02e430864727c16",
       "max": 47,
       "style": "IPY_MODEL_c2ea00c5bee4416cbcadabc031141686",
       "value": 47
      }
     },
     "f21913852e084c7b9857d44c91ddb43e": {
      "model_module": "@jupyter-widgets/controls",
      "model_module_version": "2.0.0",
      "model_name": "FloatProgressModel",
      "state": {
       "layout": "IPY_MODEL_c3305309ea094547b529de706ddfba02",
       "max": 102,
       "style": "IPY_MODEL_f8f7061a9a574736a24acc4cfd491cf7",
       "value": 102
      }
     },
     "f29c74e280514a93b7b4e3d570685870": {
      "model_module": "@jupyter-widgets/base",
      "model_module_version": "2.0.0",
      "model_name": "LayoutModel",
      "state": {}
     },
     "f2be6700db3f424495930c3fa12af808": {
      "model_module": "@jupyter-widgets/controls",
      "model_module_version": "2.0.0",
      "model_name": "ProgressStyleModel",
      "state": {
       "description_width": ""
      }
     },
     "f378cb9ba51944d5a4016fd586b652f8": {
      "model_module": "@jupyter-widgets/base",
      "model_module_version": "2.0.0",
      "model_name": "LayoutModel",
      "state": {
       "visibility": "hidden"
      }
     },
     "f3d2c1effd74489cb3135a78e7a7a3d6": {
      "model_module": "@jupyter-widgets/controls",
      "model_module_version": "2.0.0",
      "model_name": "HTMLModel",
      "state": {
       "layout": "IPY_MODEL_abe0cb952d904a7b99cdf9f7c97d7760",
       "style": "IPY_MODEL_913d6c74457b4b2d965c5f2ec412177c",
       "value": " 72/72 [00:04&lt;00:00, 20.03it/s]"
      }
     },
     "f4471af95f954b02b825ce583a8c776a": {
      "model_module": "@jupyter-widgets/base",
      "model_module_version": "2.0.0",
      "model_name": "LayoutModel",
      "state": {}
     },
     "f7324a595e6e4e15a9397e8a4a0a4139": {
      "model_module": "@jupyter-widgets/base",
      "model_module_version": "2.0.0",
      "model_name": "LayoutModel",
      "state": {
       "visibility": "hidden"
      }
     },
     "f7da04e83ebc418ab5dec51ab9cbad1d": {
      "model_module": "@jupyter-widgets/base",
      "model_module_version": "2.0.0",
      "model_name": "LayoutModel",
      "state": {}
     },
     "f82a0750e3644290ae6d92b70463f3f5": {
      "model_module": "@jupyter-widgets/base",
      "model_module_version": "2.0.0",
      "model_name": "LayoutModel",
      "state": {}
     },
     "f8f7061a9a574736a24acc4cfd491cf7": {
      "model_module": "@jupyter-widgets/controls",
      "model_module_version": "2.0.0",
      "model_name": "ProgressStyleModel",
      "state": {
       "description_width": ""
      }
     },
     "fb353813757a47f2b2587a9ee370ef8b": {
      "model_module": "@jupyter-widgets/controls",
      "model_module_version": "2.0.0",
      "model_name": "HTMLStyleModel",
      "state": {
       "description_width": "",
       "font_size": null,
       "text_color": null
      }
     },
     "fd60ddcd4e8946129160b339f4cf6b7d": {
      "model_module": "@jupyter-widgets/base",
      "model_module_version": "2.0.0",
      "model_name": "LayoutModel",
      "state": {}
     },
     "fe4f9ee1ba074c06b4a87471c982eebe": {
      "model_module": "@jupyter-widgets/controls",
      "model_module_version": "2.0.0",
      "model_name": "ProgressStyleModel",
      "state": {
       "description_width": ""
      }
     },
     "ff45e222e1794f559bdcff410a22e89d": {
      "model_module": "@jupyter-widgets/controls",
      "model_module_version": "2.0.0",
      "model_name": "HTMLModel",
      "state": {
       "layout": "IPY_MODEL_97991af13b314cf0b9ba166843a9cbfe",
       "style": "IPY_MODEL_5b0482b04de240daa1f95d330bc98d12",
       "value": "100%"
      }
     },
     "ff5ea09e2838426daa31a36df748d06e": {
      "model_module": "@jupyter-widgets/controls",
      "model_module_version": "2.0.0",
      "model_name": "HTMLStyleModel",
      "state": {
       "description_width": "",
       "font_size": null,
       "text_color": null
      }
     },
     "ff8c81ca6454442e8cc2ce35c21fae5a": {
      "model_module": "@jupyter-widgets/base",
      "model_module_version": "2.0.0",
      "model_name": "LayoutModel",
      "state": {}
     }
    },
    "version_major": 2,
    "version_minor": 0
   }
  }
 },
 "nbformat": 4,
 "nbformat_minor": 4
}
