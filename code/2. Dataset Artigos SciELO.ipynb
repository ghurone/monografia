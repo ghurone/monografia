{
 "cells": [
  {
   "cell_type": "markdown",
   "metadata": {},
   "source": [
    "# 2. Dataset Artigos SciELO"
   ]
  },
  {
   "cell_type": "markdown",
   "metadata": {},
   "source": [
    "## Imports"
   ]
  },
  {
   "cell_type": "code",
   "execution_count": 1,
   "metadata": {},
   "outputs": [],
   "source": [
    "import os\n",
    "\n",
    "from utils.pre_processing import\n",
    "\n",
    "import pandas as pd\n",
    "import numpy as np\n",
    "from bs4 import BeautifulSoup\n",
    "from tqdm.notebook import tqdm"
   ]
  },
  {
   "cell_type": "markdown",
   "metadata": {},
   "source": [
    "## Código"
   ]
  },
  {
   "cell_type": "code",
   "execution_count": 2,
   "metadata": {},
   "outputs": [],
   "source": [
    "path_artigos = os.path.join(os.getcwd(), 'artigos_brutos_SciELO')"
   ]
  },
  {
   "cell_type": "code",
   "execution_count": 5,
   "metadata": {},
   "outputs": [
    {
     "name": "stdout",
     "output_type": "stream",
     "text": [
      "Total de artigos: 1681\n"
     ]
    }
   ],
   "source": [
    "# contagem de artigos\n",
    "soma = sum(len(os.listdir(os.path.join(path_artigos, a))) for a in os.listdir(path_artigos))\n",
    "print(f'Total de artigos: {soma}')"
   ]
  },
  {
   "cell_type": "markdown",
   "metadata": {},
   "source": [
    "### Criando o DataSet"
   ]
  },
  {
   "cell_type": "code",
   "execution_count": 6,
   "metadata": {},
   "outputs": [
    {
     "data": {
      "application/vnd.jupyter.widget-view+json": {
       "model_id": "2f7d9936e9cc4a1e89f3eea4c44dee83",
       "version_major": 2,
       "version_minor": 0
      },
      "text/plain": [
       "  0%|          | 0/22 [00:00<?, ?it/s]"
      ]
     },
     "metadata": {},
     "output_type": "display_data"
    },
    {
     "data": {
      "application/vnd.jupyter.widget-view+json": {
       "model_id": "",
       "version_major": 2,
       "version_minor": 0
      },
      "text/plain": [
       "  0%|          | 0/72 [00:00<?, ?it/s]"
      ]
     },
     "metadata": {},
     "output_type": "display_data"
    },
    {
     "data": {
      "application/vnd.jupyter.widget-view+json": {
       "model_id": "",
       "version_major": 2,
       "version_minor": 0
      },
      "text/plain": [
       "  0%|          | 0/71 [00:00<?, ?it/s]"
      ]
     },
     "metadata": {},
     "output_type": "display_data"
    },
    {
     "data": {
      "application/vnd.jupyter.widget-view+json": {
       "model_id": "",
       "version_major": 2,
       "version_minor": 0
      },
      "text/plain": [
       "  0%|          | 0/76 [00:00<?, ?it/s]"
      ]
     },
     "metadata": {},
     "output_type": "display_data"
    },
    {
     "data": {
      "application/vnd.jupyter.widget-view+json": {
       "model_id": "",
       "version_major": 2,
       "version_minor": 0
      },
      "text/plain": [
       "  0%|          | 0/68 [00:00<?, ?it/s]"
      ]
     },
     "metadata": {},
     "output_type": "display_data"
    },
    {
     "data": {
      "application/vnd.jupyter.widget-view+json": {
       "model_id": "",
       "version_major": 2,
       "version_minor": 0
      },
      "text/plain": [
       "  0%|          | 0/84 [00:00<?, ?it/s]"
      ]
     },
     "metadata": {},
     "output_type": "display_data"
    },
    {
     "data": {
      "application/vnd.jupyter.widget-view+json": {
       "model_id": "",
       "version_major": 2,
       "version_minor": 0
      },
      "text/plain": [
       "  0%|          | 0/134 [00:00<?, ?it/s]"
      ]
     },
     "metadata": {},
     "output_type": "display_data"
    },
    {
     "data": {
      "application/vnd.jupyter.widget-view+json": {
       "model_id": "",
       "version_major": 2,
       "version_minor": 0
      },
      "text/plain": [
       "  0%|          | 0/41 [00:00<?, ?it/s]"
      ]
     },
     "metadata": {},
     "output_type": "display_data"
    },
    {
     "data": {
      "application/vnd.jupyter.widget-view+json": {
       "model_id": "",
       "version_major": 2,
       "version_minor": 0
      },
      "text/plain": [
       "  0%|          | 0/75 [00:00<?, ?it/s]"
      ]
     },
     "metadata": {},
     "output_type": "display_data"
    },
    {
     "data": {
      "application/vnd.jupyter.widget-view+json": {
       "model_id": "",
       "version_major": 2,
       "version_minor": 0
      },
      "text/plain": [
       "  0%|          | 0/102 [00:00<?, ?it/s]"
      ]
     },
     "metadata": {},
     "output_type": "display_data"
    },
    {
     "data": {
      "application/vnd.jupyter.widget-view+json": {
       "model_id": "",
       "version_major": 2,
       "version_minor": 0
      },
      "text/plain": [
       "  0%|          | 0/134 [00:00<?, ?it/s]"
      ]
     },
     "metadata": {},
     "output_type": "display_data"
    },
    {
     "data": {
      "application/vnd.jupyter.widget-view+json": {
       "model_id": "",
       "version_major": 2,
       "version_minor": 0
      },
      "text/plain": [
       "  0%|          | 0/47 [00:00<?, ?it/s]"
      ]
     },
     "metadata": {},
     "output_type": "display_data"
    },
    {
     "data": {
      "application/vnd.jupyter.widget-view+json": {
       "model_id": "",
       "version_major": 2,
       "version_minor": 0
      },
      "text/plain": [
       "  0%|          | 0/55 [00:00<?, ?it/s]"
      ]
     },
     "metadata": {},
     "output_type": "display_data"
    },
    {
     "data": {
      "application/vnd.jupyter.widget-view+json": {
       "model_id": "",
       "version_major": 2,
       "version_minor": 0
      },
      "text/plain": [
       "  0%|          | 0/52 [00:00<?, ?it/s]"
      ]
     },
     "metadata": {},
     "output_type": "display_data"
    },
    {
     "data": {
      "application/vnd.jupyter.widget-view+json": {
       "model_id": "",
       "version_major": 2,
       "version_minor": 0
      },
      "text/plain": [
       "  0%|          | 0/72 [00:00<?, ?it/s]"
      ]
     },
     "metadata": {},
     "output_type": "display_data"
    },
    {
     "data": {
      "application/vnd.jupyter.widget-view+json": {
       "model_id": "",
       "version_major": 2,
       "version_minor": 0
      },
      "text/plain": [
       "  0%|          | 0/61 [00:00<?, ?it/s]"
      ]
     },
     "metadata": {},
     "output_type": "display_data"
    },
    {
     "data": {
      "application/vnd.jupyter.widget-view+json": {
       "model_id": "",
       "version_major": 2,
       "version_minor": 0
      },
      "text/plain": [
       "  0%|          | 0/68 [00:00<?, ?it/s]"
      ]
     },
     "metadata": {},
     "output_type": "display_data"
    },
    {
     "data": {
      "application/vnd.jupyter.widget-view+json": {
       "model_id": "",
       "version_major": 2,
       "version_minor": 0
      },
      "text/plain": [
       "  0%|          | 0/61 [00:00<?, ?it/s]"
      ]
     },
     "metadata": {},
     "output_type": "display_data"
    },
    {
     "data": {
      "application/vnd.jupyter.widget-view+json": {
       "model_id": "",
       "version_major": 2,
       "version_minor": 0
      },
      "text/plain": [
       "  0%|          | 0/85 [00:00<?, ?it/s]"
      ]
     },
     "metadata": {},
     "output_type": "display_data"
    },
    {
     "data": {
      "application/vnd.jupyter.widget-view+json": {
       "model_id": "",
       "version_major": 2,
       "version_minor": 0
      },
      "text/plain": [
       "  0%|          | 0/109 [00:00<?, ?it/s]"
      ]
     },
     "metadata": {},
     "output_type": "display_data"
    },
    {
     "data": {
      "application/vnd.jupyter.widget-view+json": {
       "model_id": "",
       "version_major": 2,
       "version_minor": 0
      },
      "text/plain": [
       "  0%|          | 0/54 [00:00<?, ?it/s]"
      ]
     },
     "metadata": {},
     "output_type": "display_data"
    },
    {
     "data": {
      "application/vnd.jupyter.widget-view+json": {
       "model_id": "",
       "version_major": 2,
       "version_minor": 0
      },
      "text/plain": [
       "  0%|          | 0/53 [00:00<?, ?it/s]"
      ]
     },
     "metadata": {},
     "output_type": "display_data"
    },
    {
     "data": {
      "application/vnd.jupyter.widget-view+json": {
       "model_id": "",
       "version_major": 2,
       "version_minor": 0
      },
      "text/plain": [
       "  0%|          | 0/107 [00:00<?, ?it/s]"
      ]
     },
     "metadata": {},
     "output_type": "display_data"
    }
   ],
   "source": [
    "dict_df = {'titulo': [], 'seção': [], 'ano': [],  'doi_id': [], 'texto_html': []}\n",
    "\n",
    "for ano in tqdm(os.listdir(path_artigos)):\n",
    "    path_abs = os.path.join(path_artigos, ano)\n",
    "\n",
    "    for arquivo in tqdm(os.listdir(path_abs), leave=False):\n",
    "        arq_path = os.path.join(path_abs, arquivo)\n",
    "\n",
    "        with open(arq_path, 'r', encoding='utf8') as arq:\n",
    "            texto_html = arq.read()\n",
    "\n",
    "        soup = BeautifulSoup(texto_html, 'lxml')\n",
    "\n",
    "        try:\n",
    "            doi_id = soup.find('a', attrs={'class': '_doi'}).text.strip().removeprefix('https://doi.org/')\n",
    "        except AttributeError:\n",
    "            doi_id = None\n",
    "\n",
    "        try:\n",
    "            titulo = ' '.join(soup.find('h1', attrs={'class': 'article-title'}).text.split())\n",
    "            if not titulo:\n",
    "                titulo = 'SEM TÍTULO'\n",
    "        except AttributeError:\n",
    "            titulo = 'SEM TÍTULO'\n",
    "\n",
    "        try:\n",
    "            seção = soup.find('span', attrs={'class': '_articleBadge'}).text.strip().lower()\n",
    "            if not seção:\n",
    "                seção = 'SEM CATEGORIA'\n",
    "        except AttributeError:\n",
    "            seção = 'SEM CATEGORIA'\n",
    "\n",
    "        dict_df['titulo'].append(titulo)\n",
    "        dict_df['doi_id'].append(doi_id)\n",
    "        dict_df['texto_html'].append(texto_html)\n",
    "        dict_df['seção'].append(seção)\n",
    "        dict_df['ano'].append(int(ano))\n"
   ]
  },
  {
   "cell_type": "code",
   "execution_count": 12,
   "metadata": {},
   "outputs": [],
   "source": [
    "# salvando o dataset em feather\n",
    "df = pd.DataFrame(dict_df)\n",
    "df['ano'] = df['ano'].astype(np.uint16)\n",
    "\n",
    "# remove os artigos em ingles que ainda restaram\n",
    "remover = ['didactic resources', 'articles', 'physics education research']\n",
    "df = df.query('seção not in @remover')\n",
    "\n",
    "replace_dict = {\n",
    "    'cartas ao editor': 'carta ao editor',\n",
    "    'carta do editor': 'carta ao editor',\n",
    "    'resenha': 'resenhas',\n",
    "    'resenhas de livros': 'resenhas',\n",
    "    'tipo de artigo': 'artigos gerais',\n",
    "    'artigo gerais': 'artigos gerais'\n",
    "}\n",
    "\n",
    "df['seção'] = df['seção'].replace(replace_dict)"
   ]
  },
  {
   "cell_type": "code",
   "execution_count": 13,
   "metadata": {},
   "outputs": [],
   "source": [
    "replace_dict = {'desenvolvimento em ensino de física': 'pesquisa em ensino de física',\n",
    "                'história da física': 'história da física e ciências afins',\n",
    "                'história da física e áreas afins': 'história da física e ciências afins',\n",
    "                'notas e discussões': 'outros',\n",
    "                'carta ao editor': 'outros',\n",
    "                'resenhas': 'outros',\n",
    "                'editorial': 'outros',\n",
    "                'errata': 'outros',\n",
    "                'resenhas de livro': 'outros',\n",
    "                'notas e discussõoes': 'outros',\n",
    "                'seção especial: informática no ensino de física': 'seções especiais',\n",
    "                'seção especial - celebrando os 100 anos de nascimento de richard p. feynman': 'seções especiais',\n",
    "                'artigos de einstein e ensaios sobre sua obra': 'seções especiais',\n",
    "                'seção especial: centenário da morte de ludwig boltzmann (1844-1906)': 'seções especiais',\n",
    "                'seção especial: centenário da morte de william thomson (1824-1907)': 'seções especiais',\n",
    "                'ano internacional da luz': 'seções especiais',\n",
    "                'seção especial, história da física e ciências afins': 'seções especiais',\n",
    "                'artigos de revisão sobre relatividade geral e cosmologia': 'seções especiais',\n",
    "                'seção especial: encontro \" reflexões no ensino de física\", sbf/mec ( brasília, 2005)': 'seções especiais',\n",
    "                'seção especial - ondas gravitacionais': 'seções especiais',\n",
    "                'seção especial, artigos gerais': 'seções especiais',\n",
    "                'seção especial - artigos convidados': 'seções especiais', \n",
    "                'seção especial, notas e discussões': 'seções especiais',\n",
    "                'seção especial': 'seções especiais'}\n",
    "\n",
    "df['nova_seção'] = df['seção'].replace(replace_dict)"
   ]
  },
  {
   "cell_type": "code",
   "execution_count": 14,
   "metadata": {},
   "outputs": [],
   "source": [
    "df = df.sort_values('ano')\n",
    "df = df.reset_index(drop=True)\n",
    "df = df[['titulo', 'ano', 'seção', 'nova_seção', 'doi_id', 'texto_html']]\n",
    "df.to_feather('scielo_dataset.feather')"
   ]
  },
  {
   "cell_type": "code",
   "execution_count": 15,
   "metadata": {},
   "outputs": [
    {
     "data": {
      "text/html": [
       "<div>\n",
       "<style scoped>\n",
       "    .dataframe tbody tr th:only-of-type {\n",
       "        vertical-align: middle;\n",
       "    }\n",
       "\n",
       "    .dataframe tbody tr th {\n",
       "        vertical-align: top;\n",
       "    }\n",
       "\n",
       "    .dataframe thead th {\n",
       "        text-align: right;\n",
       "    }\n",
       "</style>\n",
       "<table border=\"1\" class=\"dataframe\">\n",
       "  <thead>\n",
       "    <tr style=\"text-align: right;\">\n",
       "      <th></th>\n",
       "      <th>titulo</th>\n",
       "      <th>ano</th>\n",
       "      <th>seção</th>\n",
       "      <th>nova_seção</th>\n",
       "      <th>doi_id</th>\n",
       "      <th>texto_html</th>\n",
       "    </tr>\n",
       "  </thead>\n",
       "  <tbody>\n",
       "    <tr>\n",
       "      <th>0</th>\n",
       "      <td>Discussão dos Conceitos de Massa Inercial e Ma...</td>\n",
       "      <td>2001</td>\n",
       "      <td>notas e discussões</td>\n",
       "      <td>outros</td>\n",
       "      <td>10.1590/S1806-11172001000300013</td>\n",
       "      <td>&lt;!DOCTYPE html&gt;\\n&lt;div class=\"articleTxt\"&gt;\\n &lt;d...</td>\n",
       "    </tr>\n",
       "    <tr>\n",
       "      <th>1</th>\n",
       "      <td>A influência do fator de vibração térmica na d...</td>\n",
       "      <td>2001</td>\n",
       "      <td>SEM CATEGORIA</td>\n",
       "      <td>SEM CATEGORIA</td>\n",
       "      <td>10.1590/S1806-11172001000200012</td>\n",
       "      <td>&lt;!DOCTYPE html&gt;\\n&lt;div class=\"articleTxt\"&gt;\\n &lt;d...</td>\n",
       "    </tr>\n",
       "    <tr>\n",
       "      <th>2</th>\n",
       "      <td>Perfil de velocidade para o escoamento de flui...</td>\n",
       "      <td>2001</td>\n",
       "      <td>SEM CATEGORIA</td>\n",
       "      <td>SEM CATEGORIA</td>\n",
       "      <td>10.1590/S1806-11172001000200010</td>\n",
       "      <td>&lt;!DOCTYPE html&gt;\\n&lt;div class=\"articleTxt\"&gt;\\n &lt;d...</td>\n",
       "    </tr>\n",
       "    <tr>\n",
       "      <th>3</th>\n",
       "      <td>Uso da Pesquisa em Ensino de Física na prática...</td>\n",
       "      <td>2001</td>\n",
       "      <td>editorial</td>\n",
       "      <td>outros</td>\n",
       "      <td>10.1590/S1806-11172001000300001</td>\n",
       "      <td>&lt;!DOCTYPE html&gt;\\n&lt;div class=\"articleTxt\"&gt;\\n &lt;d...</td>\n",
       "    </tr>\n",
       "    <tr>\n",
       "      <th>4</th>\n",
       "      <td>Introdução à supercondutividade, suas aplicaçõ...</td>\n",
       "      <td>2001</td>\n",
       "      <td>artigos gerais</td>\n",
       "      <td>artigos gerais</td>\n",
       "      <td>None</td>\n",
       "      <td>&lt;!DOCTYPE html&gt;\\n&lt;div class=\"articleTxt\"&gt;\\n &lt;d...</td>\n",
       "    </tr>\n",
       "  </tbody>\n",
       "</table>\n",
       "</div>"
      ],
      "text/plain": [
       "                                              titulo   ano   \n",
       "0  Discussão dos Conceitos de Massa Inercial e Ma...  2001  \\\n",
       "1  A influência do fator de vibração térmica na d...  2001   \n",
       "2  Perfil de velocidade para o escoamento de flui...  2001   \n",
       "3  Uso da Pesquisa em Ensino de Física na prática...  2001   \n",
       "4  Introdução à supercondutividade, suas aplicaçõ...  2001   \n",
       "\n",
       "                seção      nova_seção                           doi_id   \n",
       "0  notas e discussões          outros  10.1590/S1806-11172001000300013  \\\n",
       "1       SEM CATEGORIA   SEM CATEGORIA  10.1590/S1806-11172001000200012   \n",
       "2       SEM CATEGORIA   SEM CATEGORIA  10.1590/S1806-11172001000200010   \n",
       "3           editorial          outros  10.1590/S1806-11172001000300001   \n",
       "4      artigos gerais  artigos gerais                             None   \n",
       "\n",
       "                                          texto_html  \n",
       "0  <!DOCTYPE html>\\n<div class=\"articleTxt\">\\n <d...  \n",
       "1  <!DOCTYPE html>\\n<div class=\"articleTxt\">\\n <d...  \n",
       "2  <!DOCTYPE html>\\n<div class=\"articleTxt\">\\n <d...  \n",
       "3  <!DOCTYPE html>\\n<div class=\"articleTxt\">\\n <d...  \n",
       "4  <!DOCTYPE html>\\n<div class=\"articleTxt\">\\n <d...  "
      ]
     },
     "execution_count": 15,
     "metadata": {},
     "output_type": "execute_result"
    }
   ],
   "source": [
    "pd.read_feather('scielo_dataset.feather').head()"
   ]
  },
  {
   "cell_type": "code",
   "execution_count": 16,
   "metadata": {},
   "outputs": [
    {
     "data": {
      "text/plain": [
       "1664"
      ]
     },
     "execution_count": 16,
     "metadata": {},
     "output_type": "execute_result"
    }
   ],
   "source": [
    "len(df)"
   ]
  },
  {
   "cell_type": "code",
   "execution_count": null,
   "metadata": {},
   "outputs": [],
   "source": []
  }
 ],
 "metadata": {
  "kernelspec": {
   "display_name": "Python 3 (ipykernel)",
   "language": "python",
   "name": "python3"
  },
  "language_info": {
   "codemirror_mode": {
    "name": "ipython",
    "version": 3
   },
   "file_extension": ".py",
   "mimetype": "text/x-python",
   "name": "python",
   "nbconvert_exporter": "python",
   "pygments_lexer": "ipython3",
   "version": "3.9.15"
  },
  "vscode": {
   "interpreter": {
    "hash": "e668fd8da83d294f882a9b1881bcdf4fad9aa355d0eef119f9c689d241b75da3"
   }
  },
  "widgets": {
   "application/vnd.jupyter.widget-state+json": {
    "state": {
     "02c26c37581448a49a54f86e2c03c2f6": {
      "model_module": "@jupyter-widgets/controls",
      "model_module_version": "2.0.0",
      "model_name": "HTMLModel",
      "state": {
       "layout": "IPY_MODEL_879f17cde7f64feeb2829735469d66af",
       "style": "IPY_MODEL_e780f3bef7bd4295abca34e4e068bda1",
       "value": "100%"
      }
     },
     "0379195896ab4fe6a79a82a3f665b43e": {
      "model_module": "@jupyter-widgets/base",
      "model_module_version": "2.0.0",
      "model_name": "LayoutModel",
      "state": {}
     },
     "03ddc93160cd4c80bf0865d96db33304": {
      "model_module": "@jupyter-widgets/base",
      "model_module_version": "2.0.0",
      "model_name": "LayoutModel",
      "state": {
       "visibility": "hidden"
      }
     },
     "0565541b35494647ad37ed05e39797d2": {
      "model_module": "@jupyter-widgets/controls",
      "model_module_version": "2.0.0",
      "model_name": "FloatProgressModel",
      "state": {
       "layout": "IPY_MODEL_dc45c691ef484e7ca993d820788af991",
       "max": 134,
       "style": "IPY_MODEL_82165d3652644f9baa20689c7b314a5e",
       "value": 134
      }
     },
     "0585fa4c052644c2ab9aaea9e9900c93": {
      "model_module": "@jupyter-widgets/controls",
      "model_module_version": "2.0.0",
      "model_name": "HTMLStyleModel",
      "state": {
       "description_width": "",
       "font_size": null,
       "text_color": null
      }
     },
     "065efa78f4e14fa8907c73578cfe88b8": {
      "model_module": "@jupyter-widgets/base",
      "model_module_version": "2.0.0",
      "model_name": "LayoutModel",
      "state": {}
     },
     "066dd6afa1294ffba3817c8af3569ea6": {
      "model_module": "@jupyter-widgets/controls",
      "model_module_version": "2.0.0",
      "model_name": "HTMLStyleModel",
      "state": {
       "description_width": "",
       "font_size": null,
       "text_color": null
      }
     },
     "06e951d7a3b046748235d04aa7845da8": {
      "model_module": "@jupyter-widgets/controls",
      "model_module_version": "2.0.0",
      "model_name": "HTMLModel",
      "state": {
       "layout": "IPY_MODEL_c3d90f80362c49dfba220b78202d8687",
       "style": "IPY_MODEL_ed248d82112e46ecb33973ec0568d3bf",
       "value": "100%"
      }
     },
     "073533433a0c49ecb45420ac05f037ef": {
      "model_module": "@jupyter-widgets/controls",
      "model_module_version": "2.0.0",
      "model_name": "HTMLModel",
      "state": {
       "layout": "IPY_MODEL_f5ee298aedc34d1788eddc1b0a774326",
       "style": "IPY_MODEL_91b71e2fff944a3d9af67e8331991974",
       "value": " 134/134 [00:42&lt;00:00,  3.74it/s]"
      }
     },
     "077a085c1be74dbdba746b6f97551a75": {
      "model_module": "@jupyter-widgets/controls",
      "model_module_version": "2.0.0",
      "model_name": "HTMLStyleModel",
      "state": {
       "description_width": "",
       "font_size": null,
       "text_color": null
      }
     },
     "091ad7563f0643eebb81263be403c12c": {
      "model_module": "@jupyter-widgets/controls",
      "model_module_version": "2.0.0",
      "model_name": "HTMLStyleModel",
      "state": {
       "description_width": "",
       "font_size": null,
       "text_color": null
      }
     },
     "09da946332da4e9e9c8d56e2c9a9e7da": {
      "model_module": "@jupyter-widgets/controls",
      "model_module_version": "2.0.0",
      "model_name": "ProgressStyleModel",
      "state": {
       "description_width": ""
      }
     },
     "09e500e2b8b54623bb8ecc1cd5b81df9": {
      "model_module": "@jupyter-widgets/base",
      "model_module_version": "2.0.0",
      "model_name": "LayoutModel",
      "state": {}
     },
     "0a5479fd750d43eda349f2f22f1ffd77": {
      "model_module": "@jupyter-widgets/base",
      "model_module_version": "2.0.0",
      "model_name": "LayoutModel",
      "state": {}
     },
     "0bf8a03e37c04be2aececf529c522560": {
      "model_module": "@jupyter-widgets/controls",
      "model_module_version": "2.0.0",
      "model_name": "ProgressStyleModel",
      "state": {
       "description_width": ""
      }
     },
     "0c9013a71596479586a991b70fc87788": {
      "model_module": "@jupyter-widgets/base",
      "model_module_version": "2.0.0",
      "model_name": "LayoutModel",
      "state": {}
     },
     "0e3f7c1f75e642e6946c53bf04c20739": {
      "model_module": "@jupyter-widgets/base",
      "model_module_version": "2.0.0",
      "model_name": "LayoutModel",
      "state": {}
     },
     "0e751fe767d348e9a6034e87e98abc4f": {
      "model_module": "@jupyter-widgets/controls",
      "model_module_version": "2.0.0",
      "model_name": "HTMLStyleModel",
      "state": {
       "description_width": "",
       "font_size": null,
       "text_color": null
      }
     },
     "0e755144efb74a66bd55eee4701c0be9": {
      "model_module": "@jupyter-widgets/base",
      "model_module_version": "2.0.0",
      "model_name": "LayoutModel",
      "state": {}
     },
     "0f2a833a23ed4abeb4ab977d3bb0433e": {
      "model_module": "@jupyter-widgets/controls",
      "model_module_version": "2.0.0",
      "model_name": "HTMLStyleModel",
      "state": {
       "description_width": "",
       "font_size": null,
       "text_color": null
      }
     },
     "0f7aef2173094206a9e8c51aa5fc2949": {
      "model_module": "@jupyter-widgets/controls",
      "model_module_version": "2.0.0",
      "model_name": "HTMLModel",
      "state": {
       "layout": "IPY_MODEL_828e8171adb2495eac2f0a7a1b61f96a",
       "style": "IPY_MODEL_61ee88a27f7d4bc4bcb8c902ddf11e95",
       "value": "100%"
      }
     },
     "106b5ba822b84a438c098eeae1a6e397": {
      "model_module": "@jupyter-widgets/base",
      "model_module_version": "2.0.0",
      "model_name": "LayoutModel",
      "state": {
       "visibility": "hidden"
      }
     },
     "11a49318d04c4b57886e0d9daf1e35dd": {
      "model_module": "@jupyter-widgets/controls",
      "model_module_version": "2.0.0",
      "model_name": "HTMLModel",
      "state": {
       "layout": "IPY_MODEL_a4b8f60b1e534513a6b764d3f41d1f62",
       "style": "IPY_MODEL_d21dd09f04ff4dd0a246bef5f01165fd",
       "value": "100%"
      }
     },
     "11b4a1e9c04f4efd96ea45d95477a806": {
      "model_module": "@jupyter-widgets/controls",
      "model_module_version": "2.0.0",
      "model_name": "ProgressStyleModel",
      "state": {
       "description_width": ""
      }
     },
     "12ebf5c86f7349efa279d9aa38c5a668": {
      "model_module": "@jupyter-widgets/controls",
      "model_module_version": "2.0.0",
      "model_name": "FloatProgressModel",
      "state": {
       "layout": "IPY_MODEL_0c9013a71596479586a991b70fc87788",
       "max": 71,
       "style": "IPY_MODEL_0bf8a03e37c04be2aececf529c522560",
       "value": 71
      }
     },
     "1529cf70cbb74efcbd6fbb9288b7a379": {
      "model_module": "@jupyter-widgets/base",
      "model_module_version": "2.0.0",
      "model_name": "LayoutModel",
      "state": {
       "visibility": "hidden"
      }
     },
     "164a7be5cbd845d880acaf8bb38bb7bc": {
      "model_module": "@jupyter-widgets/base",
      "model_module_version": "2.0.0",
      "model_name": "LayoutModel",
      "state": {}
     },
     "165d7ba1012b44eba66da972d961320b": {
      "model_module": "@jupyter-widgets/controls",
      "model_module_version": "2.0.0",
      "model_name": "HTMLModel",
      "state": {
       "layout": "IPY_MODEL_c2f7efb4f93a4ec5a90b49da58506910",
       "style": "IPY_MODEL_7b847e6f411b44f184d256e22869e8f4",
       "value": " 22/22 [04:36&lt;00:00, 15.03s/it]"
      }
     },
     "1a71ac20a4cd4fcf85dffc8bac93b090": {
      "model_module": "@jupyter-widgets/controls",
      "model_module_version": "2.0.0",
      "model_name": "FloatProgressModel",
      "state": {
       "layout": "IPY_MODEL_c7921452d4d04a7493109977d1344154",
       "max": 71,
       "style": "IPY_MODEL_9302ce171f7f4cf8a93fd6bd141e1750",
       "value": 71
      }
     },
     "1b053e9d178b423eae5874c85e298b29": {
      "model_module": "@jupyter-widgets/base",
      "model_module_version": "2.0.0",
      "model_name": "LayoutModel",
      "state": {}
     },
     "1c16dbd05ad84cb8bb41627d3eb2887a": {
      "model_module": "@jupyter-widgets/base",
      "model_module_version": "2.0.0",
      "model_name": "LayoutModel",
      "state": {}
     },
     "1c3219bd37e54a48a7aba87ef7203e35": {
      "model_module": "@jupyter-widgets/controls",
      "model_module_version": "2.0.0",
      "model_name": "HTMLModel",
      "state": {
       "layout": "IPY_MODEL_52efec6b9905461882781418e851b2bf",
       "style": "IPY_MODEL_b29dfc4e6d7b4d99ada76f1485c25e92",
       "value": "100%"
      }
     },
     "1d2caa596b0c4eb7a6168bd4279b84b1": {
      "model_module": "@jupyter-widgets/controls",
      "model_module_version": "2.0.0",
      "model_name": "HTMLModel",
      "state": {
       "layout": "IPY_MODEL_ce53fbe9fce94fcdb22a51ce74a37f19",
       "style": "IPY_MODEL_25e0795923f047b8a0a598462748d18f",
       "value": " 98%"
      }
     },
     "1f273547d2ba4019a34f1609256546e6": {
      "model_module": "@jupyter-widgets/controls",
      "model_module_version": "2.0.0",
      "model_name": "HTMLModel",
      "state": {
       "layout": "IPY_MODEL_7c6c4492b1c241dbae5b93cd942490b0",
       "style": "IPY_MODEL_a074e0db9a9441d8bde10932741cb03b",
       "value": "100%"
      }
     },
     "1fb3354eaf594d5db50d8b9073ff196e": {
      "model_module": "@jupyter-widgets/controls",
      "model_module_version": "2.0.0",
      "model_name": "HTMLModel",
      "state": {
       "layout": "IPY_MODEL_7f8586272355437abcee5a181f31d858",
       "style": "IPY_MODEL_0f2a833a23ed4abeb4ab977d3bb0433e",
       "value": "100%"
      }
     },
     "2094dfa82dc74955ae407d56f6ea9215": {
      "model_module": "@jupyter-widgets/controls",
      "model_module_version": "2.0.0",
      "model_name": "ProgressStyleModel",
      "state": {
       "description_width": ""
      }
     },
     "209ac749a12c4f2c8b0ec43fbf10b061": {
      "model_module": "@jupyter-widgets/controls",
      "model_module_version": "2.0.0",
      "model_name": "ProgressStyleModel",
      "state": {
       "description_width": ""
      }
     },
     "20ab5484210242dcb9339c4ba664a3e7": {
      "model_module": "@jupyter-widgets/base",
      "model_module_version": "2.0.0",
      "model_name": "LayoutModel",
      "state": {}
     },
     "20af780857624989bdedfc5fa3e43ebf": {
      "model_module": "@jupyter-widgets/base",
      "model_module_version": "2.0.0",
      "model_name": "LayoutModel",
      "state": {}
     },
     "20e1fec3fafa4e228259bd2d39815f41": {
      "model_module": "@jupyter-widgets/base",
      "model_module_version": "2.0.0",
      "model_name": "LayoutModel",
      "state": {}
     },
     "2223ab874ebb4ae29df3eb98cacec178": {
      "model_module": "@jupyter-widgets/controls",
      "model_module_version": "2.0.0",
      "model_name": "HTMLStyleModel",
      "state": {
       "description_width": "",
       "font_size": null,
       "text_color": null
      }
     },
     "23044e3ec9ef416499432d433cf24dca": {
      "model_module": "@jupyter-widgets/controls",
      "model_module_version": "2.0.0",
      "model_name": "HTMLStyleModel",
      "state": {
       "description_width": "",
       "font_size": null,
       "text_color": null
      }
     },
     "2349def4f6b042819d8fb2fd1c1f3f60": {
      "model_module": "@jupyter-widgets/controls",
      "model_module_version": "2.0.0",
      "model_name": "HTMLStyleModel",
      "state": {
       "description_width": "",
       "font_size": null,
       "text_color": null
      }
     },
     "240126f9ed2442e09afefcd1dd20f60f": {
      "model_module": "@jupyter-widgets/controls",
      "model_module_version": "2.0.0",
      "model_name": "FloatProgressModel",
      "state": {
       "layout": "IPY_MODEL_68898498672f4b8c849bfe9283c65d90",
       "max": 76,
       "style": "IPY_MODEL_e236e644643a41068c9e3c669217daab",
       "value": 76
      }
     },
     "24bfcc1e519a40f99afa17f50a607e60": {
      "model_module": "@jupyter-widgets/base",
      "model_module_version": "2.0.0",
      "model_name": "LayoutModel",
      "state": {}
     },
     "258b3afa1f7147d298d3e5527e276a52": {
      "model_module": "@jupyter-widgets/controls",
      "model_module_version": "2.0.0",
      "model_name": "HTMLStyleModel",
      "state": {
       "description_width": "",
       "font_size": null,
       "text_color": null
      }
     },
     "25d0f975cf844f55bbc85adb4e97f480": {
      "model_module": "@jupyter-widgets/controls",
      "model_module_version": "2.0.0",
      "model_name": "HTMLStyleModel",
      "state": {
       "description_width": "",
       "font_size": null,
       "text_color": null
      }
     },
     "25e0795923f047b8a0a598462748d18f": {
      "model_module": "@jupyter-widgets/controls",
      "model_module_version": "2.0.0",
      "model_name": "HTMLStyleModel",
      "state": {
       "description_width": "",
       "font_size": null,
       "text_color": null
      }
     },
     "2668f5b814d746fb8f2ca9df19260e8a": {
      "model_module": "@jupyter-widgets/base",
      "model_module_version": "2.0.0",
      "model_name": "LayoutModel",
      "state": {
       "visibility": "hidden"
      }
     },
     "26f8aa6eb3cf4d9787c081fd74e0891e": {
      "model_module": "@jupyter-widgets/base",
      "model_module_version": "2.0.0",
      "model_name": "LayoutModel",
      "state": {}
     },
     "276c4dd7668249a7a9a1b839d8754c40": {
      "model_module": "@jupyter-widgets/controls",
      "model_module_version": "2.0.0",
      "model_name": "HTMLModel",
      "state": {
       "layout": "IPY_MODEL_7f5f54cbd1ae483a81ef467738613a88",
       "style": "IPY_MODEL_25d0f975cf844f55bbc85adb4e97f480",
       "value": "100%"
      }
     },
     "27a760af8cf74be7ba44971f891afd54": {
      "model_module": "@jupyter-widgets/controls",
      "model_module_version": "2.0.0",
      "model_name": "HTMLStyleModel",
      "state": {
       "description_width": "",
       "font_size": null,
       "text_color": null
      }
     },
     "2b205ee3a6c849558826db8ad6f78506": {
      "model_module": "@jupyter-widgets/base",
      "model_module_version": "2.0.0",
      "model_name": "LayoutModel",
      "state": {
       "visibility": "hidden"
      }
     },
     "2ce7c7bb7cd941c3a3881b8d4c5599cf": {
      "model_module": "@jupyter-widgets/controls",
      "model_module_version": "2.0.0",
      "model_name": "HTMLModel",
      "state": {
       "layout": "IPY_MODEL_edfd459715ed4e7d8474e1fbcebd8802",
       "style": "IPY_MODEL_35861879d99d4d258d0c29f4a9229ece",
       "value": " 84/85 [00:06&lt;00:00,  9.91it/s]"
      }
     },
     "2d4f7c2b01eb418eb7d555d7b087b0b6": {
      "model_module": "@jupyter-widgets/controls",
      "model_module_version": "2.0.0",
      "model_name": "FloatProgressModel",
      "state": {
       "layout": "IPY_MODEL_f0809fe94c3a4a29ac66f635846bb0a3",
       "max": 102,
       "style": "IPY_MODEL_f0643067f2ea4741bc61135528184ddf",
       "value": 102
      }
     },
     "2da28fc7f3984d399aa4f4e514ae9319": {
      "model_module": "@jupyter-widgets/controls",
      "model_module_version": "2.0.0",
      "model_name": "HTMLStyleModel",
      "state": {
       "description_width": "",
       "font_size": null,
       "text_color": null
      }
     },
     "2e4ea774afc94370864036a7c39b165b": {
      "model_module": "@jupyter-widgets/controls",
      "model_module_version": "2.0.0",
      "model_name": "HTMLStyleModel",
      "state": {
       "description_width": "",
       "font_size": null,
       "text_color": null
      }
     },
     "2f7d9936e9cc4a1e89f3eea4c44dee83": {
      "model_module": "@jupyter-widgets/controls",
      "model_module_version": "2.0.0",
      "model_name": "HBoxModel",
      "state": {
       "children": [
        "IPY_MODEL_adddcb1d6a384da1be725574a5222290",
        "IPY_MODEL_c68c3936a2ab46d4bd7559edd0c6057b",
        "IPY_MODEL_165d7ba1012b44eba66da972d961320b"
       ],
       "layout": "IPY_MODEL_9e93e2e2716242f69004f6b262948518"
      }
     },
     "2fad2d92732843b09d348d1c7b0c33ee": {
      "model_module": "@jupyter-widgets/controls",
      "model_module_version": "2.0.0",
      "model_name": "FloatProgressModel",
      "state": {
       "layout": "IPY_MODEL_58d2b5e342bf4d0eb9b130207735361f",
       "max": 134,
       "style": "IPY_MODEL_209ac749a12c4f2c8b0ec43fbf10b061",
       "value": 134
      }
     },
     "2fcfa40b2601498093359ee6582f16cf": {
      "model_module": "@jupyter-widgets/controls",
      "model_module_version": "2.0.0",
      "model_name": "HTMLStyleModel",
      "state": {
       "description_width": "",
       "font_size": null,
       "text_color": null
      }
     },
     "310fccb050f3455399499e132f426d3e": {
      "model_module": "@jupyter-widgets/base",
      "model_module_version": "2.0.0",
      "model_name": "LayoutModel",
      "state": {}
     },
     "31b51d1fa9004a62a220bbef277c2344": {
      "model_module": "@jupyter-widgets/controls",
      "model_module_version": "2.0.0",
      "model_name": "HTMLStyleModel",
      "state": {
       "description_width": "",
       "font_size": null,
       "text_color": null
      }
     },
     "32df946246014ad6a7f6425c6b7e5629": {
      "model_module": "@jupyter-widgets/base",
      "model_module_version": "2.0.0",
      "model_name": "LayoutModel",
      "state": {}
     },
     "3345d785d21f4fe48d5380b3418d152b": {
      "model_module": "@jupyter-widgets/base",
      "model_module_version": "2.0.0",
      "model_name": "LayoutModel",
      "state": {}
     },
     "34cae5372f7e41748c4dd2bb95dc19a3": {
      "model_module": "@jupyter-widgets/base",
      "model_module_version": "2.0.0",
      "model_name": "LayoutModel",
      "state": {
       "visibility": "hidden"
      }
     },
     "35861879d99d4d258d0c29f4a9229ece": {
      "model_module": "@jupyter-widgets/controls",
      "model_module_version": "2.0.0",
      "model_name": "HTMLStyleModel",
      "state": {
       "description_width": "",
       "font_size": null,
       "text_color": null
      }
     },
     "361245b42d5a42a182c3f813b483a79e": {
      "model_module": "@jupyter-widgets/controls",
      "model_module_version": "2.0.0",
      "model_name": "HTMLStyleModel",
      "state": {
       "description_width": "",
       "font_size": null,
       "text_color": null
      }
     },
     "3716a323d7bf48b984d2a47e390be113": {
      "model_module": "@jupyter-widgets/base",
      "model_module_version": "2.0.0",
      "model_name": "LayoutModel",
      "state": {}
     },
     "37e8517d602d471991e1a91f084c0769": {
      "model_module": "@jupyter-widgets/base",
      "model_module_version": "2.0.0",
      "model_name": "LayoutModel",
      "state": {
       "visibility": "hidden"
      }
     },
     "392d0e579edb413b8b3a59045babcb13": {
      "model_module": "@jupyter-widgets/controls",
      "model_module_version": "2.0.0",
      "model_name": "HTMLStyleModel",
      "state": {
       "description_width": "",
       "font_size": null,
       "text_color": null
      }
     },
     "3a1ce10fbdbd4705a72b4e6e26b9b1bf": {
      "model_module": "@jupyter-widgets/controls",
      "model_module_version": "2.0.0",
      "model_name": "HTMLModel",
      "state": {
       "layout": "IPY_MODEL_e279057ef3a041ea850b270bf8256609",
       "style": "IPY_MODEL_a59befa34a2a409f9ce77abd99d62368",
       "value": " 97%"
      }
     },
     "3ac00b3f1d9a48bbae36567ea194c7ca": {
      "model_module": "@jupyter-widgets/controls",
      "model_module_version": "2.0.0",
      "model_name": "HTMLStyleModel",
      "state": {
       "description_width": "",
       "font_size": null,
       "text_color": null
      }
     },
     "3bb7e632de8a47cd8a19de20016f9d57": {
      "model_module": "@jupyter-widgets/controls",
      "model_module_version": "2.0.0",
      "model_name": "FloatProgressModel",
      "state": {
       "layout": "IPY_MODEL_80c9f29139104cb3a4b61b6576d77b62",
       "max": 85,
       "style": "IPY_MODEL_713e6271cb6748d9841f616435b9b555",
       "value": 85
      }
     },
     "3bf444c56ad34c39bb0ab3eab8f90e5f": {
      "model_module": "@jupyter-widgets/base",
      "model_module_version": "2.0.0",
      "model_name": "LayoutModel",
      "state": {}
     },
     "3c747eb7e0ef4ed4aa6e8f9f4eaf93b3": {
      "model_module": "@jupyter-widgets/controls",
      "model_module_version": "2.0.0",
      "model_name": "FloatProgressModel",
      "state": {
       "layout": "IPY_MODEL_fa7f43ec73414b7380d00b61e937ed8c",
       "max": 53,
       "style": "IPY_MODEL_bdf944ac7a5945a7bfaa8e5f9545ec8d",
       "value": 53
      }
     },
     "3d00d814e2654a15bb1b81fd5191c934": {
      "model_module": "@jupyter-widgets/base",
      "model_module_version": "2.0.0",
      "model_name": "LayoutModel",
      "state": {
       "visibility": "hidden"
      }
     },
     "3e103aae2926492da0e4c74cee774d4a": {
      "model_module": "@jupyter-widgets/controls",
      "model_module_version": "2.0.0",
      "model_name": "HTMLModel",
      "state": {
       "layout": "IPY_MODEL_5b21c0c38cd54d39aa085b59847b4b0d",
       "style": "IPY_MODEL_7df3fc171e4c493bba2e7bbc832b43cf",
       "value": " 67%"
      }
     },
     "3e4db79b557f44dd8f53f8f60e016f55": {
      "model_module": "@jupyter-widgets/controls",
      "model_module_version": "2.0.0",
      "model_name": "FloatProgressModel",
      "state": {
       "layout": "IPY_MODEL_b782ac9dbd394e7ea7946f24e67e2e7c",
       "max": 107,
       "style": "IPY_MODEL_d595ce6b7fc74d29b783ca2e8c2e5857",
       "value": 107
      }
     },
     "3fc889348a104911aaa778283d7e23f2": {
      "model_module": "@jupyter-widgets/base",
      "model_module_version": "2.0.0",
      "model_name": "LayoutModel",
      "state": {}
     },
     "409031f20cc14f1d8c942484a3f1d036": {
      "model_module": "@jupyter-widgets/base",
      "model_module_version": "2.0.0",
      "model_name": "LayoutModel",
      "state": {}
     },
     "409d90fcc89e4092af2459e099b1d77e": {
      "model_module": "@jupyter-widgets/controls",
      "model_module_version": "2.0.0",
      "model_name": "HTMLModel",
      "state": {
       "layout": "IPY_MODEL_3716a323d7bf48b984d2a47e390be113",
       "style": "IPY_MODEL_9e0ffe0c15fb4915afd36ae77fcdf3be",
       "value": " 53/53 [00:03&lt;00:00, 15.36it/s]"
      }
     },
     "409e53c3a0344de1bb83555b88ee2cf8": {
      "model_module": "@jupyter-widgets/controls",
      "model_module_version": "2.0.0",
      "model_name": "ProgressStyleModel",
      "state": {
       "description_width": ""
      }
     },
     "41499476540b4f3caff53e8e98e9815c": {
      "model_module": "@jupyter-widgets/controls",
      "model_module_version": "2.0.0",
      "model_name": "HTMLStyleModel",
      "state": {
       "description_width": "",
       "font_size": null,
       "text_color": null
      }
     },
     "46b0e3bb4a174be2888dbc1aa5c22286": {
      "model_module": "@jupyter-widgets/base",
      "model_module_version": "2.0.0",
      "model_name": "LayoutModel",
      "state": {
       "visibility": "hidden"
      }
     },
     "488bdef4b9a84405a08fd15192c602ff": {
      "model_module": "@jupyter-widgets/base",
      "model_module_version": "2.0.0",
      "model_name": "LayoutModel",
      "state": {
       "visibility": "hidden"
      }
     },
     "492b6437434e41e591dadf4962853f04": {
      "model_module": "@jupyter-widgets/controls",
      "model_module_version": "2.0.0",
      "model_name": "HTMLModel",
      "state": {
       "layout": "IPY_MODEL_cd639e2388484dcc95c4cfe300942296",
       "style": "IPY_MODEL_a4bbf63257cd42129195068260cefe21",
       "value": " 41/41 [00:02&lt;00:00, 18.84it/s]"
      }
     },
     "4b2fc8d0a06843838806f7ad8a2c8c70": {
      "model_module": "@jupyter-widgets/controls",
      "model_module_version": "2.0.0",
      "model_name": "HTMLModel",
      "state": {
       "layout": "IPY_MODEL_d8c6823d612a45299b619e521b995835",
       "style": "IPY_MODEL_2223ab874ebb4ae29df3eb98cacec178",
       "value": " 51/54 [00:03&lt;00:00, 11.07it/s]"
      }
     },
     "4c67fcfc19c24d98acbb7c8ca99504f0": {
      "model_module": "@jupyter-widgets/base",
      "model_module_version": "2.0.0",
      "model_name": "LayoutModel",
      "state": {}
     },
     "4c9c11f3ba6b4d2390efa4ed22ffc702": {
      "model_module": "@jupyter-widgets/base",
      "model_module_version": "2.0.0",
      "model_name": "LayoutModel",
      "state": {
       "visibility": "hidden"
      }
     },
     "4ccd4ce6f3cf4d4cb39903c2c97dfd36": {
      "model_module": "@jupyter-widgets/controls",
      "model_module_version": "2.0.0",
      "model_name": "HTMLStyleModel",
      "state": {
       "description_width": "",
       "font_size": null,
       "text_color": null
      }
     },
     "4ce4179f39c742829cbd2c3b410e2734": {
      "model_module": "@jupyter-widgets/controls",
      "model_module_version": "2.0.0",
      "model_name": "FloatProgressModel",
      "state": {
       "layout": "IPY_MODEL_3bf444c56ad34c39bb0ab3eab8f90e5f",
       "max": 68,
       "style": "IPY_MODEL_2094dfa82dc74955ae407d56f6ea9215",
       "value": 68
      }
     },
     "4d25a274c01b4cecb4638bae8b91eb04": {
      "model_module": "@jupyter-widgets/base",
      "model_module_version": "2.0.0",
      "model_name": "LayoutModel",
      "state": {}
     },
     "4f7871dcc713435e99563e0a42da6515": {
      "model_module": "@jupyter-widgets/controls",
      "model_module_version": "2.0.0",
      "model_name": "HTMLStyleModel",
      "state": {
       "description_width": "",
       "font_size": null,
       "text_color": null
      }
     },
     "521e91131d72431ab36a951df6a1274f": {
      "model_module": "@jupyter-widgets/base",
      "model_module_version": "2.0.0",
      "model_name": "LayoutModel",
      "state": {
       "visibility": "hidden"
      }
     },
     "523038cc0e3045159d419f00e667d2fd": {
      "model_module": "@jupyter-widgets/controls",
      "model_module_version": "2.0.0",
      "model_name": "HTMLModel",
      "state": {
       "layout": "IPY_MODEL_7d306b3477ff4c97bd6fcf13189bbc68",
       "style": "IPY_MODEL_afafef7d015445599589fc0c3e8da021",
       "value": " 84/84 [00:18&lt;00:00,  3.77it/s]"
      }
     },
     "526a4940d7c341f3b2e185175cd7a65c": {
      "model_module": "@jupyter-widgets/base",
      "model_module_version": "2.0.0",
      "model_name": "LayoutModel",
      "state": {}
     },
     "52efec6b9905461882781418e851b2bf": {
      "model_module": "@jupyter-widgets/base",
      "model_module_version": "2.0.0",
      "model_name": "LayoutModel",
      "state": {}
     },
     "530790ff3352499a8ee19890c29dccf6": {
      "model_module": "@jupyter-widgets/controls",
      "model_module_version": "2.0.0",
      "model_name": "HTMLStyleModel",
      "state": {
       "description_width": "",
       "font_size": null,
       "text_color": null
      }
     },
     "531d41a670464adcbb7f2a4bac4e33f1": {
      "model_module": "@jupyter-widgets/controls",
      "model_module_version": "2.0.0",
      "model_name": "ProgressStyleModel",
      "state": {
       "description_width": ""
      }
     },
     "558aa0ca877e4fb6bbb2d22a753c8f93": {
      "model_module": "@jupyter-widgets/base",
      "model_module_version": "2.0.0",
      "model_name": "LayoutModel",
      "state": {}
     },
     "55a35d2ad8964d00885b41669998ff9a": {
      "model_module": "@jupyter-widgets/controls",
      "model_module_version": "2.0.0",
      "model_name": "HTMLModel",
      "state": {
       "layout": "IPY_MODEL_a8117d1d1f5048649092419d2b54aaf7",
       "style": "IPY_MODEL_8873161e9e30431d9ab4eb81da56f327",
       "value": " 134/134 [00:40&lt;00:00,  4.15it/s]"
      }
     },
     "571a71333b7d43d297ced7eaced2806c": {
      "model_module": "@jupyter-widgets/base",
      "model_module_version": "2.0.0",
      "model_name": "LayoutModel",
      "state": {
       "visibility": "hidden"
      }
     },
     "58d2b5e342bf4d0eb9b130207735361f": {
      "model_module": "@jupyter-widgets/base",
      "model_module_version": "2.0.0",
      "model_name": "LayoutModel",
      "state": {}
     },
     "593c92baa6e0441993af7ac7db98f630": {
      "model_module": "@jupyter-widgets/controls",
      "model_module_version": "2.0.0",
      "model_name": "HTMLModel",
      "state": {
       "layout": "IPY_MODEL_970df317e6fa416485b30960f2a02c1b",
       "style": "IPY_MODEL_fc53b365aeb3419ba0ef503a939c8a16",
       "value": " 84/84 [00:16&lt;00:00,  4.35it/s]"
      }
     },
     "5b21c0c38cd54d39aa085b59847b4b0d": {
      "model_module": "@jupyter-widgets/base",
      "model_module_version": "2.0.0",
      "model_name": "LayoutModel",
      "state": {}
     },
     "5b4541d0c8fd4afcb5452d6d7a8f26ae": {
      "model_module": "@jupyter-widgets/controls",
      "model_module_version": "2.0.0",
      "model_name": "HTMLStyleModel",
      "state": {
       "description_width": "",
       "font_size": null,
       "text_color": null
      }
     },
     "5e6cf430e02a44ce87c5e5c9495d6fa0": {
      "model_module": "@jupyter-widgets/controls",
      "model_module_version": "2.0.0",
      "model_name": "HTMLModel",
      "state": {
       "layout": "IPY_MODEL_20ab5484210242dcb9339c4ba664a3e7",
       "style": "IPY_MODEL_4f7871dcc713435e99563e0a42da6515",
       "value": " 75/75 [00:05&lt;00:00, 12.15it/s]"
      }
     },
     "601ffb6461ca453c880dd2dc156f5068": {
      "model_module": "@jupyter-widgets/base",
      "model_module_version": "2.0.0",
      "model_name": "LayoutModel",
      "state": {
       "visibility": "hidden"
      }
     },
     "61ee88a27f7d4bc4bcb8c902ddf11e95": {
      "model_module": "@jupyter-widgets/controls",
      "model_module_version": "2.0.0",
      "model_name": "HTMLStyleModel",
      "state": {
       "description_width": "",
       "font_size": null,
       "text_color": null
      }
     },
     "644d13c4e4c54f2abbbae6554938eda6": {
      "model_module": "@jupyter-widgets/base",
      "model_module_version": "2.0.0",
      "model_name": "LayoutModel",
      "state": {}
     },
     "651e93bd82d6458ea4039cfc317e00bc": {
      "model_module": "@jupyter-widgets/controls",
      "model_module_version": "2.0.0",
      "model_name": "ProgressStyleModel",
      "state": {
       "description_width": ""
      }
     },
     "6563f909194f4717996b56ba983d7954": {
      "model_module": "@jupyter-widgets/controls",
      "model_module_version": "2.0.0",
      "model_name": "HTMLModel",
      "state": {
       "layout": "IPY_MODEL_24bfcc1e519a40f99afa17f50a607e60",
       "style": "IPY_MODEL_8cd85a0d9aa5455cb2a17de11ff65e50",
       "value": " 27%"
      }
     },
     "6620c2bba97e4fc2ba6e55b5ab423ead": {
      "model_module": "@jupyter-widgets/controls",
      "model_module_version": "2.0.0",
      "model_name": "FloatProgressModel",
      "state": {
       "layout": "IPY_MODEL_96c646484e55456abfd28dd0dafb1f61",
       "max": 52,
       "style": "IPY_MODEL_8af865fef4ef4d179d020c6362f1f8c7",
       "value": 52
      }
     },
     "669180bd871244ebb17111d2b930e628": {
      "model_module": "@jupyter-widgets/controls",
      "model_module_version": "2.0.0",
      "model_name": "HTMLStyleModel",
      "state": {
       "description_width": "",
       "font_size": null,
       "text_color": null
      }
     },
     "671e618bdb854305809235210fdb14f5": {
      "model_module": "@jupyter-widgets/controls",
      "model_module_version": "2.0.0",
      "model_name": "HTMLModel",
      "state": {
       "layout": "IPY_MODEL_409031f20cc14f1d8c942484a3f1d036",
       "style": "IPY_MODEL_31b51d1fa9004a62a220bbef277c2344",
       "value": "100%"
      }
     },
     "68898498672f4b8c849bfe9283c65d90": {
      "model_module": "@jupyter-widgets/base",
      "model_module_version": "2.0.0",
      "model_name": "LayoutModel",
      "state": {}
     },
     "6895fcecfc154c47a2d4b086f3da9bc0": {
      "model_module": "@jupyter-widgets/base",
      "model_module_version": "2.0.0",
      "model_name": "LayoutModel",
      "state": {}
     },
     "69b63aa17321414a95fb560f4da43ca3": {
      "model_module": "@jupyter-widgets/controls",
      "model_module_version": "2.0.0",
      "model_name": "HBoxModel",
      "state": {
       "children": [
        "IPY_MODEL_6563f909194f4717996b56ba983d7954",
        "IPY_MODEL_9170d7f557cf472e972ed1208f2a0eb6",
        "IPY_MODEL_e3cf4687b1f844dcb3fe1eafa4531cc1"
       ],
       "layout": "IPY_MODEL_eef84997cf384955aedcafb1300cecbb"
      }
     },
     "6b311644ac424f42be948dcf36702077": {
      "model_module": "@jupyter-widgets/controls",
      "model_module_version": "2.0.0",
      "model_name": "ProgressStyleModel",
      "state": {
       "description_width": ""
      }
     },
     "6c88e7c9ab8443149f49478fceeed281": {
      "model_module": "@jupyter-widgets/controls",
      "model_module_version": "2.0.0",
      "model_name": "ProgressStyleModel",
      "state": {
       "description_width": ""
      }
     },
     "6c8b84122bcc4542848457e818162c89": {
      "model_module": "@jupyter-widgets/base",
      "model_module_version": "2.0.0",
      "model_name": "LayoutModel",
      "state": {}
     },
     "6dbf31f881bf49ab8004dd0db7e6409e": {
      "model_module": "@jupyter-widgets/controls",
      "model_module_version": "2.0.0",
      "model_name": "HTMLModel",
      "state": {
       "layout": "IPY_MODEL_e51963e04d8d494dad0617db2afd424c",
       "style": "IPY_MODEL_8ed5fd58368b4b5b8eab2eb15589b380",
       "value": " 51/52 [00:03&lt;00:00, 13.94it/s]"
      }
     },
     "6f5e2f61f2c541b5bc5d9e893fb0eef3": {
      "model_module": "@jupyter-widgets/controls",
      "model_module_version": "2.0.0",
      "model_name": "HTMLModel",
      "state": {
       "layout": "IPY_MODEL_4c67fcfc19c24d98acbb7c8ca99504f0",
       "style": "IPY_MODEL_361245b42d5a42a182c3f813b483a79e",
       "value": "100%"
      }
     },
     "6fd7f8ea42dc472fb09ba20e51f478be": {
      "model_module": "@jupyter-widgets/controls",
      "model_module_version": "2.0.0",
      "model_name": "HTMLModel",
      "state": {
       "layout": "IPY_MODEL_4d25a274c01b4cecb4638bae8b91eb04",
       "style": "IPY_MODEL_5b4541d0c8fd4afcb5452d6d7a8f26ae",
       "value": " 99%"
      }
     },
     "706d051ad4b443ec928cea4a0579ecbf": {
      "model_module": "@jupyter-widgets/controls",
      "model_module_version": "2.0.0",
      "model_name": "HTMLModel",
      "state": {
       "layout": "IPY_MODEL_8084535c547e4167bdd3355bd02dec74",
       "style": "IPY_MODEL_0585fa4c052644c2ab9aaea9e9900c93",
       "value": " 99%"
      }
     },
     "708eaaf8420c40aeb5c01eb367278bbb": {
      "model_module": "@jupyter-widgets/base",
      "model_module_version": "2.0.0",
      "model_name": "LayoutModel",
      "state": {
       "visibility": "hidden"
      }
     },
     "713e6271cb6748d9841f616435b9b555": {
      "model_module": "@jupyter-widgets/controls",
      "model_module_version": "2.0.0",
      "model_name": "ProgressStyleModel",
      "state": {
       "description_width": ""
      }
     },
     "72301ff52f10425a891c30d6e0019c17": {
      "model_module": "@jupyter-widgets/base",
      "model_module_version": "2.0.0",
      "model_name": "LayoutModel",
      "state": {}
     },
     "728286e899d04f51a0c44e9107d3dda9": {
      "model_module": "@jupyter-widgets/controls",
      "model_module_version": "2.0.0",
      "model_name": "HTMLModel",
      "state": {
       "layout": "IPY_MODEL_72301ff52f10425a891c30d6e0019c17",
       "style": "IPY_MODEL_b1779ae444ff4167aa6dd0734ced8c50",
       "value": " 71/71 [00:04&lt;00:00, 18.29it/s]"
      }
     },
     "729544045b464450b09b68aec69595fd": {
      "model_module": "@jupyter-widgets/controls",
      "model_module_version": "2.0.0",
      "model_name": "HTMLModel",
      "state": {
       "layout": "IPY_MODEL_87554f77bb434c8185c73346030c1e03",
       "style": "IPY_MODEL_dd0e072e808344709f1809d7c1ce34ed",
       "value": " 107/107 [00:27&lt;00:00,  4.22it/s]"
      }
     },
     "74d7c4101d444f06bdcd01709e08df4e": {
      "model_module": "@jupyter-widgets/controls",
      "model_module_version": "2.0.0",
      "model_name": "HTMLStyleModel",
      "state": {
       "description_width": "",
       "font_size": null,
       "text_color": null
      }
     },
     "750180106ce341a8a1afb5fde47726b2": {
      "model_module": "@jupyter-widgets/controls",
      "model_module_version": "2.0.0",
      "model_name": "FloatProgressModel",
      "state": {
       "layout": "IPY_MODEL_edaef1785b5046dea7a5de813695346b",
       "max": 84,
       "style": "IPY_MODEL_78692d7e38934f56abbebff03b5b4e0d",
       "value": 84
      }
     },
     "752da0b623274a9e95b30d14c9a393ea": {
      "model_module": "@jupyter-widgets/base",
      "model_module_version": "2.0.0",
      "model_name": "LayoutModel",
      "state": {}
     },
     "764d881ab4f740cf8a00b9f333f2890d": {
      "model_module": "@jupyter-widgets/controls",
      "model_module_version": "2.0.0",
      "model_name": "FloatProgressModel",
      "state": {
       "layout": "IPY_MODEL_f85786a7f2b743e1933cfccbd17cbdf2",
       "max": 68,
       "style": "IPY_MODEL_6b311644ac424f42be948dcf36702077",
       "value": 68
      }
     },
     "78692d7e38934f56abbebff03b5b4e0d": {
      "model_module": "@jupyter-widgets/controls",
      "model_module_version": "2.0.0",
      "model_name": "ProgressStyleModel",
      "state": {
       "description_width": ""
      }
     },
     "78b66e5520de466e857460522ce52a19": {
      "model_module": "@jupyter-widgets/controls",
      "model_module_version": "2.0.0",
      "model_name": "ProgressStyleModel",
      "state": {
       "description_width": ""
      }
     },
     "793f92efb8104ef58802a80489514387": {
      "model_module": "@jupyter-widgets/controls",
      "model_module_version": "2.0.0",
      "model_name": "HTMLStyleModel",
      "state": {
       "description_width": "",
       "font_size": null,
       "text_color": null
      }
     },
     "7aece8be30a24825af821fa7a4bf6d2a": {
      "model_module": "@jupyter-widgets/controls",
      "model_module_version": "2.0.0",
      "model_name": "HTMLModel",
      "state": {
       "layout": "IPY_MODEL_32df946246014ad6a7f6425c6b7e5629",
       "style": "IPY_MODEL_a7fd250ad191462ba5523d291a041f8d",
       "value": " 97%"
      }
     },
     "7b73d54b0a5e4d87a82913f964037764": {
      "model_module": "@jupyter-widgets/base",
      "model_module_version": "2.0.0",
      "model_name": "LayoutModel",
      "state": {}
     },
     "7b847e6f411b44f184d256e22869e8f4": {
      "model_module": "@jupyter-widgets/controls",
      "model_module_version": "2.0.0",
      "model_name": "HTMLStyleModel",
      "state": {
       "description_width": "",
       "font_size": null,
       "text_color": null
      }
     },
     "7c6c4492b1c241dbae5b93cd942490b0": {
      "model_module": "@jupyter-widgets/base",
      "model_module_version": "2.0.0",
      "model_name": "LayoutModel",
      "state": {}
     },
     "7d306b3477ff4c97bd6fcf13189bbc68": {
      "model_module": "@jupyter-widgets/base",
      "model_module_version": "2.0.0",
      "model_name": "LayoutModel",
      "state": {}
     },
     "7df3fc171e4c493bba2e7bbc832b43cf": {
      "model_module": "@jupyter-widgets/controls",
      "model_module_version": "2.0.0",
      "model_name": "HTMLStyleModel",
      "state": {
       "description_width": "",
       "font_size": null,
       "text_color": null
      }
     },
     "7edee8320dfb49a09542c63fe7e38015": {
      "model_module": "@jupyter-widgets/controls",
      "model_module_version": "2.0.0",
      "model_name": "HTMLModel",
      "state": {
       "layout": "IPY_MODEL_d994d3c9fc9d4af69e8c663227078bb4",
       "style": "IPY_MODEL_c7a09f02338645d7bb40c8a6231200f0",
       "value": " 134/134 [00:35&lt;00:00,  3.87it/s]"
      }
     },
     "7f5f54cbd1ae483a81ef467738613a88": {
      "model_module": "@jupyter-widgets/base",
      "model_module_version": "2.0.0",
      "model_name": "LayoutModel",
      "state": {}
     },
     "7f8586272355437abcee5a181f31d858": {
      "model_module": "@jupyter-widgets/base",
      "model_module_version": "2.0.0",
      "model_name": "LayoutModel",
      "state": {}
     },
     "802b3ea8144f486b886756072683c8dd": {
      "model_module": "@jupyter-widgets/controls",
      "model_module_version": "2.0.0",
      "model_name": "FloatProgressModel",
      "state": {
       "layout": "IPY_MODEL_065efa78f4e14fa8907c73578cfe88b8",
       "max": 72,
       "style": "IPY_MODEL_409e53c3a0344de1bb83555b88ee2cf8",
       "value": 72
      }
     },
     "8084535c547e4167bdd3355bd02dec74": {
      "model_module": "@jupyter-widgets/base",
      "model_module_version": "2.0.0",
      "model_name": "LayoutModel",
      "state": {}
     },
     "80c9f29139104cb3a4b61b6576d77b62": {
      "model_module": "@jupyter-widgets/base",
      "model_module_version": "2.0.0",
      "model_name": "LayoutModel",
      "state": {}
     },
     "811fa6d495c244b6a1395bc2e0a05fce": {
      "model_module": "@jupyter-widgets/controls",
      "model_module_version": "2.0.0",
      "model_name": "HTMLModel",
      "state": {
       "layout": "IPY_MODEL_e9acecc7107f4083818d5eea3ebe7d5b",
       "style": "IPY_MODEL_41499476540b4f3caff53e8e98e9815c",
       "value": "100%"
      }
     },
     "82165d3652644f9baa20689c7b314a5e": {
      "model_module": "@jupyter-widgets/controls",
      "model_module_version": "2.0.0",
      "model_name": "ProgressStyleModel",
      "state": {
       "description_width": ""
      }
     },
     "828e8171adb2495eac2f0a7a1b61f96a": {
      "model_module": "@jupyter-widgets/base",
      "model_module_version": "2.0.0",
      "model_name": "LayoutModel",
      "state": {}
     },
     "83979a40788548e89f6db30cf7bcfe6f": {
      "model_module": "@jupyter-widgets/controls",
      "model_module_version": "2.0.0",
      "model_name": "HTMLModel",
      "state": {
       "layout": "IPY_MODEL_3fc889348a104911aaa778283d7e23f2",
       "style": "IPY_MODEL_066dd6afa1294ffba3817c8af3569ea6",
       "value": " 99%"
      }
     },
     "85159216752e4480a6a1d7cbdb8f4b73": {
      "model_module": "@jupyter-widgets/controls",
      "model_module_version": "2.0.0",
      "model_name": "HTMLStyleModel",
      "state": {
       "description_width": "",
       "font_size": null,
       "text_color": null
      }
     },
     "871be018fedd4b399abf758766784d64": {
      "model_module": "@jupyter-widgets/controls",
      "model_module_version": "2.0.0",
      "model_name": "FloatProgressModel",
      "state": {
       "layout": "IPY_MODEL_1b053e9d178b423eae5874c85e298b29",
       "max": 55,
       "style": "IPY_MODEL_94a057ceb36b4465a842475dbbb5f0b3",
       "value": 55
      }
     },
     "87554f77bb434c8185c73346030c1e03": {
      "model_module": "@jupyter-widgets/base",
      "model_module_version": "2.0.0",
      "model_name": "LayoutModel",
      "state": {}
     },
     "878adea2c2184077b40a7de28916e567": {
      "model_module": "@jupyter-widgets/base",
      "model_module_version": "2.0.0",
      "model_name": "LayoutModel",
      "state": {}
     },
     "879f17cde7f64feeb2829735469d66af": {
      "model_module": "@jupyter-widgets/base",
      "model_module_version": "2.0.0",
      "model_name": "LayoutModel",
      "state": {}
     },
     "8873161e9e30431d9ab4eb81da56f327": {
      "model_module": "@jupyter-widgets/controls",
      "model_module_version": "2.0.0",
      "model_name": "HTMLStyleModel",
      "state": {
       "description_width": "",
       "font_size": null,
       "text_color": null
      }
     },
     "891965b65f7544638f6c3bdc6d680350": {
      "model_module": "@jupyter-widgets/base",
      "model_module_version": "2.0.0",
      "model_name": "LayoutModel",
      "state": {}
     },
     "898ab67b98db45e3a6fc7a7cdaea9a33": {
      "model_module": "@jupyter-widgets/controls",
      "model_module_version": "2.0.0",
      "model_name": "FloatProgressModel",
      "state": {
       "layout": "IPY_MODEL_f3c376ee073d40a98f4b1264ada12b73",
       "max": 134,
       "style": "IPY_MODEL_09da946332da4e9e9c8d56e2c9a9e7da",
       "value": 134
      }
     },
     "8a6dbc57a4cd48808eda21cfa7ede35f": {
      "model_module": "@jupyter-widgets/base",
      "model_module_version": "2.0.0",
      "model_name": "LayoutModel",
      "state": {
       "visibility": "hidden"
      }
     },
     "8ac61dc573354aed8b44b76afe87e8b1": {
      "model_module": "@jupyter-widgets/controls",
      "model_module_version": "2.0.0",
      "model_name": "HTMLModel",
      "state": {
       "layout": "IPY_MODEL_de1fbca661fe4b3aab63cbc9d185d18b",
       "style": "IPY_MODEL_2fcfa40b2601498093359ee6582f16cf",
       "value": " 60/61 [00:04&lt;00:00, 13.30it/s]"
      }
     },
     "8af865fef4ef4d179d020c6362f1f8c7": {
      "model_module": "@jupyter-widgets/controls",
      "model_module_version": "2.0.0",
      "model_name": "ProgressStyleModel",
      "state": {
       "description_width": ""
      }
     },
     "8cd85a0d9aa5455cb2a17de11ff65e50": {
      "model_module": "@jupyter-widgets/controls",
      "model_module_version": "2.0.0",
      "model_name": "HTMLStyleModel",
      "state": {
       "description_width": "",
       "font_size": null,
       "text_color": null
      }
     },
     "8db90db4693a48e89054757368398482": {
      "model_module": "@jupyter-widgets/controls",
      "model_module_version": "2.0.0",
      "model_name": "FloatProgressModel",
      "state": {
       "layout": "IPY_MODEL_fc3f477a73224c9f87bcdd7561b4c88a",
       "max": 68,
       "style": "IPY_MODEL_651e93bd82d6458ea4039cfc317e00bc",
       "value": 68
      }
     },
     "8ed5fd58368b4b5b8eab2eb15589b380": {
      "model_module": "@jupyter-widgets/controls",
      "model_module_version": "2.0.0",
      "model_name": "HTMLStyleModel",
      "state": {
       "description_width": "",
       "font_size": null,
       "text_color": null
      }
     },
     "8f813ca2c6974625a04383c720ec11e6": {
      "model_module": "@jupyter-widgets/controls",
      "model_module_version": "2.0.0",
      "model_name": "HTMLModel",
      "state": {
       "layout": "IPY_MODEL_558aa0ca877e4fb6bbb2d22a753c8f93",
       "style": "IPY_MODEL_27a760af8cf74be7ba44971f891afd54",
       "value": " 99%"
      }
     },
     "9053412df65a4d59a777515eaf05eee8": {
      "model_module": "@jupyter-widgets/base",
      "model_module_version": "2.0.0",
      "model_name": "LayoutModel",
      "state": {}
     },
     "9170d7f557cf472e972ed1208f2a0eb6": {
      "model_module": "@jupyter-widgets/controls",
      "model_module_version": "2.0.0",
      "model_name": "FloatProgressModel",
      "state": {
       "bar_style": "danger",
       "layout": "IPY_MODEL_bb8242aa876c4df4b4dd6efa0c330ed5",
       "max": 22,
       "style": "IPY_MODEL_cbe69487691e4ce49f599a74e7035b25",
       "value": 6
      }
     },
     "91b528fb11784765aec3d47181469ade": {
      "model_module": "@jupyter-widgets/base",
      "model_module_version": "2.0.0",
      "model_name": "LayoutModel",
      "state": {
       "visibility": "hidden"
      }
     },
     "91b71e2fff944a3d9af67e8331991974": {
      "model_module": "@jupyter-widgets/controls",
      "model_module_version": "2.0.0",
      "model_name": "HTMLStyleModel",
      "state": {
       "description_width": "",
       "font_size": null,
       "text_color": null
      }
     },
     "92137a45a6f94d8c950eeffc9f178004": {
      "model_module": "@jupyter-widgets/controls",
      "model_module_version": "2.0.0",
      "model_name": "HTMLModel",
      "state": {
       "layout": "IPY_MODEL_e61e0bcb97aa4db78eaa67fc9c194c2c",
       "style": "IPY_MODEL_c830a4581cd7404da996af0c8bbdfc25",
       "value": " 72/72 [00:14&lt;00:00,  5.37it/s]"
      }
     },
     "92d2f74a16c34335ac59efc985e7549b": {
      "model_module": "@jupyter-widgets/base",
      "model_module_version": "2.0.0",
      "model_name": "LayoutModel",
      "state": {
       "visibility": "hidden"
      }
     },
     "9302ce171f7f4cf8a93fd6bd141e1750": {
      "model_module": "@jupyter-widgets/controls",
      "model_module_version": "2.0.0",
      "model_name": "ProgressStyleModel",
      "state": {
       "description_width": ""
      }
     },
     "94a057ceb36b4465a842475dbbb5f0b3": {
      "model_module": "@jupyter-widgets/controls",
      "model_module_version": "2.0.0",
      "model_name": "ProgressStyleModel",
      "state": {
       "description_width": ""
      }
     },
     "966763943ff14976994509ff59cb320a": {
      "model_module": "@jupyter-widgets/base",
      "model_module_version": "2.0.0",
      "model_name": "LayoutModel",
      "state": {}
     },
     "96ade37f5d1b4b10bb7bfcef4d4b483a": {
      "model_module": "@jupyter-widgets/controls",
      "model_module_version": "2.0.0",
      "model_name": "HBoxModel",
      "state": {
       "children": [
        "IPY_MODEL_3e103aae2926492da0e4c74cee774d4a",
        "IPY_MODEL_a4297cfae5d7478a9d01dd4fbf996a97",
        "IPY_MODEL_e7924e77a1f1482da4c99d92a08df1f1"
       ],
       "layout": "IPY_MODEL_ecffdda6c7124285b306d245dac63a70"
      }
     },
     "96c646484e55456abfd28dd0dafb1f61": {
      "model_module": "@jupyter-widgets/base",
      "model_module_version": "2.0.0",
      "model_name": "LayoutModel",
      "state": {}
     },
     "970df317e6fa416485b30960f2a02c1b": {
      "model_module": "@jupyter-widgets/base",
      "model_module_version": "2.0.0",
      "model_name": "LayoutModel",
      "state": {}
     },
     "978f641a5e384ab886394eb531bf2aae": {
      "model_module": "@jupyter-widgets/base",
      "model_module_version": "2.0.0",
      "model_name": "LayoutModel",
      "state": {}
     },
     "9cdfd4177760428fa0e9dbefdd2a148a": {
      "model_module": "@jupyter-widgets/base",
      "model_module_version": "2.0.0",
      "model_name": "LayoutModel",
      "state": {
       "visibility": "hidden"
      }
     },
     "9e0044618d5a4df38cce66f9cbc620c2": {
      "model_module": "@jupyter-widgets/base",
      "model_module_version": "2.0.0",
      "model_name": "LayoutModel",
      "state": {
       "visibility": "hidden"
      }
     },
     "9e0ffe0c15fb4915afd36ae77fcdf3be": {
      "model_module": "@jupyter-widgets/controls",
      "model_module_version": "2.0.0",
      "model_name": "HTMLStyleModel",
      "state": {
       "description_width": "",
       "font_size": null,
       "text_color": null
      }
     },
     "9e93e2e2716242f69004f6b262948518": {
      "model_module": "@jupyter-widgets/base",
      "model_module_version": "2.0.0",
      "model_name": "LayoutModel",
      "state": {}
     },
     "a074e0db9a9441d8bde10932741cb03b": {
      "model_module": "@jupyter-widgets/controls",
      "model_module_version": "2.0.0",
      "model_name": "HTMLStyleModel",
      "state": {
       "description_width": "",
       "font_size": null,
       "text_color": null
      }
     },
     "a1476890e81e472fbca1db7735054fef": {
      "model_module": "@jupyter-widgets/controls",
      "model_module_version": "2.0.0",
      "model_name": "FloatProgressModel",
      "state": {
       "layout": "IPY_MODEL_0e3f7c1f75e642e6946c53bf04c20739",
       "max": 76,
       "style": "IPY_MODEL_11b4a1e9c04f4efd96ea45d95477a806",
       "value": 76
      }
     },
     "a4297cfae5d7478a9d01dd4fbf996a97": {
      "model_module": "@jupyter-widgets/controls",
      "model_module_version": "2.0.0",
      "model_name": "FloatProgressModel",
      "state": {
       "bar_style": "danger",
       "layout": "IPY_MODEL_752da0b623274a9e95b30d14c9a393ea",
       "max": 42,
       "style": "IPY_MODEL_e9f891b8cd224a08ab25598e32096947",
       "value": 28
      }
     },
     "a45c6c6aeb8c4cf18ebf152d819d734a": {
      "model_module": "@jupyter-widgets/base",
      "model_module_version": "2.0.0",
      "model_name": "LayoutModel",
      "state": {
       "visibility": "hidden"
      }
     },
     "a4b8f60b1e534513a6b764d3f41d1f62": {
      "model_module": "@jupyter-widgets/base",
      "model_module_version": "2.0.0",
      "model_name": "LayoutModel",
      "state": {}
     },
     "a4bbf63257cd42129195068260cefe21": {
      "model_module": "@jupyter-widgets/controls",
      "model_module_version": "2.0.0",
      "model_name": "HTMLStyleModel",
      "state": {
       "description_width": "",
       "font_size": null,
       "text_color": null
      }
     },
     "a4e57524a9074586a20e6851b0767416": {
      "model_module": "@jupyter-widgets/controls",
      "model_module_version": "2.0.0",
      "model_name": "FloatProgressModel",
      "state": {
       "layout": "IPY_MODEL_164a7be5cbd845d880acaf8bb38bb7bc",
       "max": 109,
       "style": "IPY_MODEL_af093b44fd0e45e88c98d813974456f4",
       "value": 109
      }
     },
     "a59befa34a2a409f9ce77abd99d62368": {
      "model_module": "@jupyter-widgets/controls",
      "model_module_version": "2.0.0",
      "model_name": "HTMLStyleModel",
      "state": {
       "description_width": "",
       "font_size": null,
       "text_color": null
      }
     },
     "a5c3c9b553b74065b1178a175fb07618": {
      "model_module": "@jupyter-widgets/base",
      "model_module_version": "2.0.0",
      "model_name": "LayoutModel",
      "state": {}
     },
     "a620253f6d204b088779b1ec8c540bd4": {
      "model_module": "@jupyter-widgets/base",
      "model_module_version": "2.0.0",
      "model_name": "LayoutModel",
      "state": {}
     },
     "a647404e17ad4e66a6bf79a987d1358e": {
      "model_module": "@jupyter-widgets/controls",
      "model_module_version": "2.0.0",
      "model_name": "HTMLModel",
      "state": {
       "layout": "IPY_MODEL_3345d785d21f4fe48d5380b3418d152b",
       "style": "IPY_MODEL_c7eee5edcf18499aaa8e2268df1f001d",
       "value": " 98%"
      }
     },
     "a7fd250ad191462ba5523d291a041f8d": {
      "model_module": "@jupyter-widgets/controls",
      "model_module_version": "2.0.0",
      "model_name": "HTMLStyleModel",
      "state": {
       "description_width": "",
       "font_size": null,
       "text_color": null
      }
     },
     "a8117d1d1f5048649092419d2b54aaf7": {
      "model_module": "@jupyter-widgets/base",
      "model_module_version": "2.0.0",
      "model_name": "LayoutModel",
      "state": {}
     },
     "a8f487735a714cdea2ab5e588ccf56c7": {
      "model_module": "@jupyter-widgets/controls",
      "model_module_version": "2.0.0",
      "model_name": "HTMLModel",
      "state": {
       "layout": "IPY_MODEL_20af780857624989bdedfc5fa3e43ebf",
       "style": "IPY_MODEL_258b3afa1f7147d298d3e5527e276a52",
       "value": " 70/71 [00:05&lt;00:00, 14.47it/s]"
      }
     },
     "aa1ce47fac7e4b7fb7abc39b73cf7cc7": {
      "model_module": "@jupyter-widgets/controls",
      "model_module_version": "2.0.0",
      "model_name": "HTMLStyleModel",
      "state": {
       "description_width": "",
       "font_size": null,
       "text_color": null
      }
     },
     "aa73f67af02d49e394af550c38bc8ae2": {
      "model_module": "@jupyter-widgets/controls",
      "model_module_version": "2.0.0",
      "model_name": "FloatProgressModel",
      "state": {
       "layout": "IPY_MODEL_bf4227bff20a49faa25676aa4584a0f5",
       "max": 47,
       "style": "IPY_MODEL_b7a7affe42254720aa2be36b4e6edb03",
       "value": 47
      }
     },
     "aae90e548f464821b3474e66f6180d03": {
      "model_module": "@jupyter-widgets/controls",
      "model_module_version": "2.0.0",
      "model_name": "ProgressStyleModel",
      "state": {
       "description_width": ""
      }
     },
     "ab24d66b062e407cab3941b3335db464": {
      "model_module": "@jupyter-widgets/controls",
      "model_module_version": "2.0.0",
      "model_name": "HTMLStyleModel",
      "state": {
       "description_width": "",
       "font_size": null,
       "text_color": null
      }
     },
     "ad7fb2aace8f41ce9c6c93923a245639": {
      "model_module": "@jupyter-widgets/base",
      "model_module_version": "2.0.0",
      "model_name": "LayoutModel",
      "state": {}
     },
     "adddcb1d6a384da1be725574a5222290": {
      "model_module": "@jupyter-widgets/controls",
      "model_module_version": "2.0.0",
      "model_name": "HTMLModel",
      "state": {
       "layout": "IPY_MODEL_891965b65f7544638f6c3bdc6d680350",
       "style": "IPY_MODEL_f70edf95b0a8431886b850efa6bb447d",
       "value": "100%"
      }
     },
     "af093b44fd0e45e88c98d813974456f4": {
      "model_module": "@jupyter-widgets/controls",
      "model_module_version": "2.0.0",
      "model_name": "ProgressStyleModel",
      "state": {
       "description_width": ""
      }
     },
     "af2d90a9ee4a4316b204f2da41bb51a7": {
      "model_module": "@jupyter-widgets/controls",
      "model_module_version": "2.0.0",
      "model_name": "HTMLModel",
      "state": {
       "layout": "IPY_MODEL_ea67b541d76f4621bb5d10c9490d4089",
       "style": "IPY_MODEL_d87625a5fa224fadbcbfd869f873d9c2",
       "value": " 71/72 [00:05&lt;00:00, 13.53it/s]"
      }
     },
     "afafef7d015445599589fc0c3e8da021": {
      "model_module": "@jupyter-widgets/controls",
      "model_module_version": "2.0.0",
      "model_name": "HTMLStyleModel",
      "state": {
       "description_width": "",
       "font_size": null,
       "text_color": null
      }
     },
     "b0acbf5f66dc42ce91f3b68e259e74de": {
      "model_module": "@jupyter-widgets/controls",
      "model_module_version": "2.0.0",
      "model_name": "ProgressStyleModel",
      "state": {
       "description_width": ""
      }
     },
     "b1779ae444ff4167aa6dd0734ced8c50": {
      "model_module": "@jupyter-widgets/controls",
      "model_module_version": "2.0.0",
      "model_name": "HTMLStyleModel",
      "state": {
       "description_width": "",
       "font_size": null,
       "text_color": null
      }
     },
     "b1b128263c5d41158915920c3e4f3747": {
      "model_module": "@jupyter-widgets/controls",
      "model_module_version": "2.0.0",
      "model_name": "HTMLModel",
      "state": {
       "layout": "IPY_MODEL_cdcd8f215bf34c2f81953bb55e73de86",
       "style": "IPY_MODEL_077a085c1be74dbdba746b6f97551a75",
       "value": " 74/76 [00:04&lt;00:00, 20.52it/s]"
      }
     },
     "b29dfc4e6d7b4d99ada76f1485c25e92": {
      "model_module": "@jupyter-widgets/controls",
      "model_module_version": "2.0.0",
      "model_name": "HTMLStyleModel",
      "state": {
       "description_width": "",
       "font_size": null,
       "text_color": null
      }
     },
     "b556aac6a26541e1b4a0e9f5f342c4eb": {
      "model_module": "@jupyter-widgets/controls",
      "model_module_version": "2.0.0",
      "model_name": "ProgressStyleModel",
      "state": {
       "description_width": ""
      }
     },
     "b6479718508448afb4b5cb1158154ddb": {
      "model_module": "@jupyter-widgets/controls",
      "model_module_version": "2.0.0",
      "model_name": "HTMLModel",
      "state": {
       "layout": "IPY_MODEL_f8757623de7f4d0a8c2888c77f65573f",
       "style": "IPY_MODEL_669180bd871244ebb17111d2b930e628",
       "value": " 102/102 [00:35&lt;00:00,  1.56it/s]"
      }
     },
     "b782ac9dbd394e7ea7946f24e67e2e7c": {
      "model_module": "@jupyter-widgets/base",
      "model_module_version": "2.0.0",
      "model_name": "LayoutModel",
      "state": {}
     },
     "b7a7affe42254720aa2be36b4e6edb03": {
      "model_module": "@jupyter-widgets/controls",
      "model_module_version": "2.0.0",
      "model_name": "ProgressStyleModel",
      "state": {
       "description_width": ""
      }
     },
     "b7b33f572b0e48b681f5159fe4c3883d": {
      "model_module": "@jupyter-widgets/base",
      "model_module_version": "2.0.0",
      "model_name": "LayoutModel",
      "state": {
       "visibility": "hidden"
      }
     },
     "b7bbebfbda24470895caf65bd86baa75": {
      "model_module": "@jupyter-widgets/controls",
      "model_module_version": "2.0.0",
      "model_name": "FloatProgressModel",
      "state": {
       "layout": "IPY_MODEL_fc07c4b4e8e247ed88408094dd3e0ba3",
       "max": 84,
       "style": "IPY_MODEL_c0f21371756d48c89c3d143a38adb053",
       "value": 84
      }
     },
     "b8eb680d08864d8699ac1663ef1b54ea": {
      "model_module": "@jupyter-widgets/base",
      "model_module_version": "2.0.0",
      "model_name": "LayoutModel",
      "state": {}
     },
     "ba593ab62f0f43b297871b60328de761": {
      "model_module": "@jupyter-widgets/controls",
      "model_module_version": "2.0.0",
      "model_name": "FloatProgressModel",
      "state": {
       "layout": "IPY_MODEL_6895fcecfc154c47a2d4b086f3da9bc0",
       "max": 61,
       "style": "IPY_MODEL_c35553c5328548258853bf00fdbde5dc",
       "value": 61
      }
     },
     "bb510732b6c243628ee0f884c4160b9a": {
      "model_module": "@jupyter-widgets/base",
      "model_module_version": "2.0.0",
      "model_name": "LayoutModel",
      "state": {}
     },
     "bb8242aa876c4df4b4dd6efa0c330ed5": {
      "model_module": "@jupyter-widgets/base",
      "model_module_version": "2.0.0",
      "model_name": "LayoutModel",
      "state": {}
     },
     "bbc20ef1fbda47ec885a6518f0db60d4": {
      "model_module": "@jupyter-widgets/controls",
      "model_module_version": "2.0.0",
      "model_name": "HTMLModel",
      "state": {
       "layout": "IPY_MODEL_0e755144efb74a66bd55eee4701c0be9",
       "style": "IPY_MODEL_091ad7563f0643eebb81263be403c12c",
       "value": " 109/109 [00:32&lt;00:00,  5.93it/s]"
      }
     },
     "bcb2fbe211a44379840058eeab4951eb": {
      "model_module": "@jupyter-widgets/controls",
      "model_module_version": "2.0.0",
      "model_name": "HTMLModel",
      "state": {
       "layout": "IPY_MODEL_20e1fec3fafa4e228259bd2d39815f41",
       "style": "IPY_MODEL_392d0e579edb413b8b3a59045babcb13",
       "value": "100%"
      }
     },
     "bdf944ac7a5945a7bfaa8e5f9545ec8d": {
      "model_module": "@jupyter-widgets/controls",
      "model_module_version": "2.0.0",
      "model_name": "ProgressStyleModel",
      "state": {
       "description_width": ""
      }
     },
     "bf4227bff20a49faa25676aa4584a0f5": {
      "model_module": "@jupyter-widgets/base",
      "model_module_version": "2.0.0",
      "model_name": "LayoutModel",
      "state": {}
     },
     "c081787400274037b1ce6e18606678e5": {
      "model_module": "@jupyter-widgets/base",
      "model_module_version": "2.0.0",
      "model_name": "LayoutModel",
      "state": {
       "visibility": "hidden"
      }
     },
     "c0f21371756d48c89c3d143a38adb053": {
      "model_module": "@jupyter-widgets/controls",
      "model_module_version": "2.0.0",
      "model_name": "ProgressStyleModel",
      "state": {
       "description_width": ""
      }
     },
     "c2f7efb4f93a4ec5a90b49da58506910": {
      "model_module": "@jupyter-widgets/base",
      "model_module_version": "2.0.0",
      "model_name": "LayoutModel",
      "state": {}
     },
     "c35553c5328548258853bf00fdbde5dc": {
      "model_module": "@jupyter-widgets/controls",
      "model_module_version": "2.0.0",
      "model_name": "ProgressStyleModel",
      "state": {
       "description_width": ""
      }
     },
     "c3d90f80362c49dfba220b78202d8687": {
      "model_module": "@jupyter-widgets/base",
      "model_module_version": "2.0.0",
      "model_name": "LayoutModel",
      "state": {}
     },
     "c55f1e0f1a9846d889bc8f396959a325": {
      "model_module": "@jupyter-widgets/controls",
      "model_module_version": "2.0.0",
      "model_name": "HTMLModel",
      "state": {
       "layout": "IPY_MODEL_0379195896ab4fe6a79a82a3f665b43e",
       "style": "IPY_MODEL_d34b92fa9a8e4c79a9f8ccbcbc631c76",
       "value": " 70/72 [00:04&lt;00:00, 20.36it/s]"
      }
     },
     "c68c3936a2ab46d4bd7559edd0c6057b": {
      "model_module": "@jupyter-widgets/controls",
      "model_module_version": "2.0.0",
      "model_name": "FloatProgressModel",
      "state": {
       "bar_style": "success",
       "layout": "IPY_MODEL_7b73d54b0a5e4d87a82913f964037764",
       "max": 22,
       "style": "IPY_MODEL_6c88e7c9ab8443149f49478fceeed281",
       "value": 22
      }
     },
     "c72a96eb803f406b95e7fc3a2c621cb3": {
      "model_module": "@jupyter-widgets/controls",
      "model_module_version": "2.0.0",
      "model_name": "HTMLStyleModel",
      "state": {
       "description_width": "",
       "font_size": null,
       "text_color": null
      }
     },
     "c7921452d4d04a7493109977d1344154": {
      "model_module": "@jupyter-widgets/base",
      "model_module_version": "2.0.0",
      "model_name": "LayoutModel",
      "state": {}
     },
     "c7a09f02338645d7bb40c8a6231200f0": {
      "model_module": "@jupyter-widgets/controls",
      "model_module_version": "2.0.0",
      "model_name": "HTMLStyleModel",
      "state": {
       "description_width": "",
       "font_size": null,
       "text_color": null
      }
     },
     "c7b0536a76ad44e58b1d4791a5fdc758": {
      "model_module": "@jupyter-widgets/base",
      "model_module_version": "2.0.0",
      "model_name": "LayoutModel",
      "state": {
       "visibility": "hidden"
      }
     },
     "c7eee5edcf18499aaa8e2268df1f001d": {
      "model_module": "@jupyter-widgets/controls",
      "model_module_version": "2.0.0",
      "model_name": "HTMLStyleModel",
      "state": {
       "description_width": "",
       "font_size": null,
       "text_color": null
      }
     },
     "c830a4581cd7404da996af0c8bbdfc25": {
      "model_module": "@jupyter-widgets/controls",
      "model_module_version": "2.0.0",
      "model_name": "HTMLStyleModel",
      "state": {
       "description_width": "",
       "font_size": null,
       "text_color": null
      }
     },
     "cbe69487691e4ce49f599a74e7035b25": {
      "model_module": "@jupyter-widgets/controls",
      "model_module_version": "2.0.0",
      "model_name": "ProgressStyleModel",
      "state": {
       "description_width": ""
      }
     },
     "cd639e2388484dcc95c4cfe300942296": {
      "model_module": "@jupyter-widgets/base",
      "model_module_version": "2.0.0",
      "model_name": "LayoutModel",
      "state": {}
     },
     "cdcd8f215bf34c2f81953bb55e73de86": {
      "model_module": "@jupyter-widgets/base",
      "model_module_version": "2.0.0",
      "model_name": "LayoutModel",
      "state": {}
     },
     "ce1a2d1a57c8489ea2a92d2317ab392d": {
      "model_module": "@jupyter-widgets/controls",
      "model_module_version": "2.0.0",
      "model_name": "HTMLModel",
      "state": {
       "layout": "IPY_MODEL_09e500e2b8b54623bb8ecc1cd5b81df9",
       "style": "IPY_MODEL_c72a96eb803f406b95e7fc3a2c621cb3",
       "value": "100%"
      }
     },
     "ce53fbe9fce94fcdb22a51ce74a37f19": {
      "model_module": "@jupyter-widgets/base",
      "model_module_version": "2.0.0",
      "model_name": "LayoutModel",
      "state": {}
     },
     "ce6f5714344b45e283da3c8c4a72893f": {
      "model_module": "@jupyter-widgets/controls",
      "model_module_version": "2.0.0",
      "model_name": "FloatProgressModel",
      "state": {
       "layout": "IPY_MODEL_a620253f6d204b088779b1ec8c540bd4",
       "max": 72,
       "style": "IPY_MODEL_b556aac6a26541e1b4a0e9f5f342c4eb",
       "value": 72
      }
     },
     "d0675ebf3052421b9cf42f03ccc983d5": {
      "model_module": "@jupyter-widgets/base",
      "model_module_version": "2.0.0",
      "model_name": "LayoutModel",
      "state": {}
     },
     "d21dd09f04ff4dd0a246bef5f01165fd": {
      "model_module": "@jupyter-widgets/controls",
      "model_module_version": "2.0.0",
      "model_name": "HTMLStyleModel",
      "state": {
       "description_width": "",
       "font_size": null,
       "text_color": null
      }
     },
     "d34477387b674169a53cf2a776fbac02": {
      "model_module": "@jupyter-widgets/controls",
      "model_module_version": "2.0.0",
      "model_name": "HTMLModel",
      "state": {
       "layout": "IPY_MODEL_ad7fb2aace8f41ce9c6c93923a245639",
       "style": "IPY_MODEL_530790ff3352499a8ee19890c29dccf6",
       "value": "100%"
      }
     },
     "d34b92fa9a8e4c79a9f8ccbcbc631c76": {
      "model_module": "@jupyter-widgets/controls",
      "model_module_version": "2.0.0",
      "model_name": "HTMLStyleModel",
      "state": {
       "description_width": "",
       "font_size": null,
       "text_color": null
      }
     },
     "d5612893bb4c4be79bc6664236ce4920": {
      "model_module": "@jupyter-widgets/base",
      "model_module_version": "2.0.0",
      "model_name": "LayoutModel",
      "state": {}
     },
     "d595ce6b7fc74d29b783ca2e8c2e5857": {
      "model_module": "@jupyter-widgets/controls",
      "model_module_version": "2.0.0",
      "model_name": "ProgressStyleModel",
      "state": {
       "description_width": ""
      }
     },
     "d6db2cb1bd224a9c902cddd8be50e14d": {
      "model_module": "@jupyter-widgets/controls",
      "model_module_version": "2.0.0",
      "model_name": "FloatProgressModel",
      "state": {
       "layout": "IPY_MODEL_1c16dbd05ad84cb8bb41627d3eb2887a",
       "max": 41,
       "style": "IPY_MODEL_531d41a670464adcbb7f2a4bac4e33f1",
       "value": 41
      }
     },
     "d7074e7ffbf94d47a4426ad0589250aa": {
      "model_module": "@jupyter-widgets/base",
      "model_module_version": "2.0.0",
      "model_name": "LayoutModel",
      "state": {
       "visibility": "hidden"
      }
     },
     "d7240b8abe7c42f29ff47ed93be1846f": {
      "model_module": "@jupyter-widgets/base",
      "model_module_version": "2.0.0",
      "model_name": "LayoutModel",
      "state": {}
     },
     "d87625a5fa224fadbcbfd869f873d9c2": {
      "model_module": "@jupyter-widgets/controls",
      "model_module_version": "2.0.0",
      "model_name": "HTMLStyleModel",
      "state": {
       "description_width": "",
       "font_size": null,
       "text_color": null
      }
     },
     "d8c6823d612a45299b619e521b995835": {
      "model_module": "@jupyter-widgets/base",
      "model_module_version": "2.0.0",
      "model_name": "LayoutModel",
      "state": {}
     },
     "d994d3c9fc9d4af69e8c663227078bb4": {
      "model_module": "@jupyter-widgets/base",
      "model_module_version": "2.0.0",
      "model_name": "LayoutModel",
      "state": {}
     },
     "d9d38f3a6a1b40799bd0a8fe493d8064": {
      "model_module": "@jupyter-widgets/controls",
      "model_module_version": "2.0.0",
      "model_name": "HTMLModel",
      "state": {
       "layout": "IPY_MODEL_878adea2c2184077b40a7de28916e567",
       "style": "IPY_MODEL_2349def4f6b042819d8fb2fd1c1f3f60",
       "value": " 68/68 [00:13&lt;00:00,  5.16it/s]"
      }
     },
     "dbbb920695d941aba1d114b74cd3fabd": {
      "model_module": "@jupyter-widgets/controls",
      "model_module_version": "2.0.0",
      "model_name": "FloatProgressModel",
      "state": {
       "layout": "IPY_MODEL_b8eb680d08864d8699ac1663ef1b54ea",
       "max": 61,
       "style": "IPY_MODEL_b0acbf5f66dc42ce91f3b68e259e74de",
       "value": 61
      }
     },
     "dc45c691ef484e7ca993d820788af991": {
      "model_module": "@jupyter-widgets/base",
      "model_module_version": "2.0.0",
      "model_name": "LayoutModel",
      "state": {}
     },
     "dd0e072e808344709f1809d7c1ce34ed": {
      "model_module": "@jupyter-widgets/controls",
      "model_module_version": "2.0.0",
      "model_name": "HTMLStyleModel",
      "state": {
       "description_width": "",
       "font_size": null,
       "text_color": null
      }
     },
     "de1fbca661fe4b3aab63cbc9d185d18b": {
      "model_module": "@jupyter-widgets/base",
      "model_module_version": "2.0.0",
      "model_name": "LayoutModel",
      "state": {}
     },
     "e070cf149f3247f8abf0a952838bac20": {
      "model_module": "@jupyter-widgets/controls",
      "model_module_version": "2.0.0",
      "model_name": "HTMLModel",
      "state": {
       "layout": "IPY_MODEL_d5612893bb4c4be79bc6664236ce4920",
       "style": "IPY_MODEL_793f92efb8104ef58802a80489514387",
       "value": " 68/68 [00:03&lt;00:00, 17.32it/s]"
      }
     },
     "e0ec058083fd4a3c8b50589c349dd429": {
      "model_module": "@jupyter-widgets/base",
      "model_module_version": "2.0.0",
      "model_name": "LayoutModel",
      "state": {
       "visibility": "hidden"
      }
     },
     "e236e644643a41068c9e3c669217daab": {
      "model_module": "@jupyter-widgets/controls",
      "model_module_version": "2.0.0",
      "model_name": "ProgressStyleModel",
      "state": {
       "description_width": ""
      }
     },
     "e279057ef3a041ea850b270bf8256609": {
      "model_module": "@jupyter-widgets/base",
      "model_module_version": "2.0.0",
      "model_name": "LayoutModel",
      "state": {}
     },
     "e373b1559ea24349a26300731e7f18c0": {
      "model_module": "@jupyter-widgets/base",
      "model_module_version": "2.0.0",
      "model_name": "LayoutModel",
      "state": {
       "visibility": "hidden"
      }
     },
     "e3cf4687b1f844dcb3fe1eafa4531cc1": {
      "model_module": "@jupyter-widgets/controls",
      "model_module_version": "2.0.0",
      "model_name": "HTMLModel",
      "state": {
       "layout": "IPY_MODEL_9053412df65a4d59a777515eaf05eee8",
       "style": "IPY_MODEL_85159216752e4480a6a1d7cbdb8f4b73",
       "value": " 6/22 [01:25&lt;05:39, 21.22s/it]"
      }
     },
     "e47e3196e0804646b98dd14c705a3440": {
      "model_module": "@jupyter-widgets/controls",
      "model_module_version": "2.0.0",
      "model_name": "HTMLStyleModel",
      "state": {
       "description_width": "",
       "font_size": null,
       "text_color": null
      }
     },
     "e51963e04d8d494dad0617db2afd424c": {
      "model_module": "@jupyter-widgets/base",
      "model_module_version": "2.0.0",
      "model_name": "LayoutModel",
      "state": {}
     },
     "e61e0bcb97aa4db78eaa67fc9c194c2c": {
      "model_module": "@jupyter-widgets/base",
      "model_module_version": "2.0.0",
      "model_name": "LayoutModel",
      "state": {}
     },
     "e62007e84b4a41cb8652dc047256ca06": {
      "model_module": "@jupyter-widgets/controls",
      "model_module_version": "2.0.0",
      "model_name": "FloatProgressModel",
      "state": {
       "layout": "IPY_MODEL_a5c3c9b553b74065b1178a175fb07618",
       "max": 72,
       "style": "IPY_MODEL_78b66e5520de466e857460522ce52a19",
       "value": 72
      }
     },
     "e63c31fb62db4c6fb2fd46ec52553af8": {
      "model_module": "@jupyter-widgets/controls",
      "model_module_version": "2.0.0",
      "model_name": "HTMLModel",
      "state": {
       "layout": "IPY_MODEL_ed6be3642d4141f789205322d4b0a9c3",
       "style": "IPY_MODEL_2da28fc7f3984d399aa4f4e514ae9319",
       "value": "100%"
      }
     },
     "e6ac11d7080241f9948fb2adffcfb431": {
      "model_module": "@jupyter-widgets/base",
      "model_module_version": "2.0.0",
      "model_name": "LayoutModel",
      "state": {
       "visibility": "hidden"
      }
     },
     "e732cbb720f7404bbc5fcb12b75524f2": {
      "model_module": "@jupyter-widgets/controls",
      "model_module_version": "2.0.0",
      "model_name": "HTMLModel",
      "state": {
       "layout": "IPY_MODEL_966763943ff14976994509ff59cb320a",
       "style": "IPY_MODEL_0e751fe767d348e9a6034e87e98abc4f",
       "value": "100%"
      }
     },
     "e780f3bef7bd4295abca34e4e068bda1": {
      "model_module": "@jupyter-widgets/controls",
      "model_module_version": "2.0.0",
      "model_name": "HTMLStyleModel",
      "state": {
       "description_width": "",
       "font_size": null,
       "text_color": null
      }
     },
     "e7924e77a1f1482da4c99d92a08df1f1": {
      "model_module": "@jupyter-widgets/controls",
      "model_module_version": "2.0.0",
      "model_name": "HTMLModel",
      "state": {
       "layout": "IPY_MODEL_310fccb050f3455399499e132f426d3e",
       "style": "IPY_MODEL_4ccd4ce6f3cf4d4cb39903c2c97dfd36",
       "value": " 28/42 [00:02&lt;00:00, 15.76it/s]"
      }
     },
     "e981db4e9eeb47bfaea458ef013d63a4": {
      "model_module": "@jupyter-widgets/controls",
      "model_module_version": "2.0.0",
      "model_name": "HTMLModel",
      "state": {
       "layout": "IPY_MODEL_d0675ebf3052421b9cf42f03ccc983d5",
       "style": "IPY_MODEL_f5c3a5b9981c4a578c9e40007d99f203",
       "value": "100%"
      }
     },
     "e9acecc7107f4083818d5eea3ebe7d5b": {
      "model_module": "@jupyter-widgets/base",
      "model_module_version": "2.0.0",
      "model_name": "LayoutModel",
      "state": {}
     },
     "e9f891b8cd224a08ab25598e32096947": {
      "model_module": "@jupyter-widgets/controls",
      "model_module_version": "2.0.0",
      "model_name": "ProgressStyleModel",
      "state": {
       "description_width": ""
      }
     },
     "ea67b541d76f4621bb5d10c9490d4089": {
      "model_module": "@jupyter-widgets/base",
      "model_module_version": "2.0.0",
      "model_name": "LayoutModel",
      "state": {}
     },
     "ebccf99f8ebf4bf9b61ce4d1a180c87a": {
      "model_module": "@jupyter-widgets/controls",
      "model_module_version": "2.0.0",
      "model_name": "ProgressStyleModel",
      "state": {
       "description_width": ""
      }
     },
     "ec8eb9f3f4f545b9b01653b67333b27a": {
      "model_module": "@jupyter-widgets/controls",
      "model_module_version": "2.0.0",
      "model_name": "HTMLModel",
      "state": {
       "layout": "IPY_MODEL_26f8aa6eb3cf4d9787c081fd74e0891e",
       "style": "IPY_MODEL_23044e3ec9ef416499432d433cf24dca",
       "value": "100%"
      }
     },
     "ecffdda6c7124285b306d245dac63a70": {
      "model_module": "@jupyter-widgets/base",
      "model_module_version": "2.0.0",
      "model_name": "LayoutModel",
      "state": {}
     },
     "ed248d82112e46ecb33973ec0568d3bf": {
      "model_module": "@jupyter-widgets/controls",
      "model_module_version": "2.0.0",
      "model_name": "HTMLStyleModel",
      "state": {
       "description_width": "",
       "font_size": null,
       "text_color": null
      }
     },
     "ed6be3642d4141f789205322d4b0a9c3": {
      "model_module": "@jupyter-widgets/base",
      "model_module_version": "2.0.0",
      "model_name": "LayoutModel",
      "state": {}
     },
     "edaef1785b5046dea7a5de813695346b": {
      "model_module": "@jupyter-widgets/base",
      "model_module_version": "2.0.0",
      "model_name": "LayoutModel",
      "state": {}
     },
     "edfd459715ed4e7d8474e1fbcebd8802": {
      "model_module": "@jupyter-widgets/base",
      "model_module_version": "2.0.0",
      "model_name": "LayoutModel",
      "state": {}
     },
     "eef84997cf384955aedcafb1300cecbb": {
      "model_module": "@jupyter-widgets/base",
      "model_module_version": "2.0.0",
      "model_name": "LayoutModel",
      "state": {}
     },
     "f0643067f2ea4741bc61135528184ddf": {
      "model_module": "@jupyter-widgets/controls",
      "model_module_version": "2.0.0",
      "model_name": "ProgressStyleModel",
      "state": {
       "description_width": ""
      }
     },
     "f0809fe94c3a4a29ac66f635846bb0a3": {
      "model_module": "@jupyter-widgets/base",
      "model_module_version": "2.0.0",
      "model_name": "LayoutModel",
      "state": {}
     },
     "f1dab1fcaec04b7e97363f65e37bf50a": {
      "model_module": "@jupyter-widgets/controls",
      "model_module_version": "2.0.0",
      "model_name": "FloatProgressModel",
      "state": {
       "layout": "IPY_MODEL_526a4940d7c341f3b2e185175cd7a65c",
       "max": 75,
       "style": "IPY_MODEL_ebccf99f8ebf4bf9b61ce4d1a180c87a",
       "value": 75
      }
     },
     "f3c376ee073d40a98f4b1264ada12b73": {
      "model_module": "@jupyter-widgets/base",
      "model_module_version": "2.0.0",
      "model_name": "LayoutModel",
      "state": {}
     },
     "f42643a5712142a38831c928027ece9e": {
      "model_module": "@jupyter-widgets/controls",
      "model_module_version": "2.0.0",
      "model_name": "HTMLModel",
      "state": {
       "layout": "IPY_MODEL_644d13c4e4c54f2abbbae6554938eda6",
       "style": "IPY_MODEL_74d7c4101d444f06bdcd01709e08df4e",
       "value": " 75/76 [00:05&lt;00:00, 13.65it/s]"
      }
     },
     "f4ff2200df2d402f8b659926a18b4313": {
      "model_module": "@jupyter-widgets/controls",
      "model_module_version": "2.0.0",
      "model_name": "HTMLStyleModel",
      "state": {
       "description_width": "",
       "font_size": null,
       "text_color": null
      }
     },
     "f57ad1841756432380730e75e643959b": {
      "model_module": "@jupyter-widgets/controls",
      "model_module_version": "2.0.0",
      "model_name": "HTMLModel",
      "state": {
       "layout": "IPY_MODEL_fc148dbbceef4a4684ecfa0a7589a4fa",
       "style": "IPY_MODEL_3ac00b3f1d9a48bbae36567ea194c7ca",
       "value": " 94%"
      }
     },
     "f5c3a5b9981c4a578c9e40007d99f203": {
      "model_module": "@jupyter-widgets/controls",
      "model_module_version": "2.0.0",
      "model_name": "HTMLStyleModel",
      "state": {
       "description_width": "",
       "font_size": null,
       "text_color": null
      }
     },
     "f5ee298aedc34d1788eddc1b0a774326": {
      "model_module": "@jupyter-widgets/base",
      "model_module_version": "2.0.0",
      "model_name": "LayoutModel",
      "state": {}
     },
     "f70edf95b0a8431886b850efa6bb447d": {
      "model_module": "@jupyter-widgets/controls",
      "model_module_version": "2.0.0",
      "model_name": "HTMLStyleModel",
      "state": {
       "description_width": "",
       "font_size": null,
       "text_color": null
      }
     },
     "f85569d8658e4d94890fe64f55bbcafc": {
      "model_module": "@jupyter-widgets/base",
      "model_module_version": "2.0.0",
      "model_name": "LayoutModel",
      "state": {}
     },
     "f85786a7f2b743e1933cfccbd17cbdf2": {
      "model_module": "@jupyter-widgets/base",
      "model_module_version": "2.0.0",
      "model_name": "LayoutModel",
      "state": {}
     },
     "f8757623de7f4d0a8c2888c77f65573f": {
      "model_module": "@jupyter-widgets/base",
      "model_module_version": "2.0.0",
      "model_name": "LayoutModel",
      "state": {}
     },
     "f88ead7b8b7f4c8d85beb3dd14f816fe": {
      "model_module": "@jupyter-widgets/controls",
      "model_module_version": "2.0.0",
      "model_name": "HTMLModel",
      "state": {
       "layout": "IPY_MODEL_6c8b84122bcc4542848457e818162c89",
       "style": "IPY_MODEL_ab24d66b062e407cab3941b3335db464",
       "value": " 98%"
      }
     },
     "f93f691b616f440d9d25fd93d2b75c39": {
      "model_module": "@jupyter-widgets/controls",
      "model_module_version": "2.0.0",
      "model_name": "HTMLModel",
      "state": {
       "layout": "IPY_MODEL_0a5479fd750d43eda349f2f22f1ffd77",
       "style": "IPY_MODEL_2e4ea774afc94370864036a7c39b165b",
       "value": " 55/55 [00:04&lt;00:00, 15.44it/s]"
      }
     },
     "fa7f43ec73414b7380d00b61e937ed8c": {
      "model_module": "@jupyter-widgets/base",
      "model_module_version": "2.0.0",
      "model_name": "LayoutModel",
      "state": {}
     },
     "fc07c4b4e8e247ed88408094dd3e0ba3": {
      "model_module": "@jupyter-widgets/base",
      "model_module_version": "2.0.0",
      "model_name": "LayoutModel",
      "state": {}
     },
     "fc148dbbceef4a4684ecfa0a7589a4fa": {
      "model_module": "@jupyter-widgets/base",
      "model_module_version": "2.0.0",
      "model_name": "LayoutModel",
      "state": {}
     },
     "fc3f477a73224c9f87bcdd7561b4c88a": {
      "model_module": "@jupyter-widgets/base",
      "model_module_version": "2.0.0",
      "model_name": "LayoutModel",
      "state": {}
     },
     "fc52d1d8be3c4d96bcac8ab61d0a5dcd": {
      "model_module": "@jupyter-widgets/controls",
      "model_module_version": "2.0.0",
      "model_name": "FloatProgressModel",
      "state": {
       "layout": "IPY_MODEL_978f641a5e384ab886394eb531bf2aae",
       "max": 54,
       "style": "IPY_MODEL_aae90e548f464821b3474e66f6180d03",
       "value": 54
      }
     },
     "fc53b365aeb3419ba0ef503a939c8a16": {
      "model_module": "@jupyter-widgets/controls",
      "model_module_version": "2.0.0",
      "model_name": "HTMLStyleModel",
      "state": {
       "description_width": "",
       "font_size": null,
       "text_color": null
      }
     },
     "fc8a12ca0ead46b6ba27df8dda86fb96": {
      "model_module": "@jupyter-widgets/controls",
      "model_module_version": "2.0.0",
      "model_name": "HTMLModel",
      "state": {
       "layout": "IPY_MODEL_bb510732b6c243628ee0f884c4160b9a",
       "style": "IPY_MODEL_aa1ce47fac7e4b7fb7abc39b73cf7cc7",
       "value": " 68/68 [00:04&lt;00:00, 14.69it/s]"
      }
     },
     "fcfb0c8a96464bd7b8a0efc5784dd36c": {
      "model_module": "@jupyter-widgets/controls",
      "model_module_version": "2.0.0",
      "model_name": "HTMLModel",
      "state": {
       "layout": "IPY_MODEL_d7240b8abe7c42f29ff47ed93be1846f",
       "style": "IPY_MODEL_f4ff2200df2d402f8b659926a18b4313",
       "value": " 47/47 [00:03&lt;00:00, 18.27it/s]"
      }
     },
     "feb7472b5e974e79a1b875bc033c9129": {
      "model_module": "@jupyter-widgets/controls",
      "model_module_version": "2.0.0",
      "model_name": "HTMLModel",
      "state": {
       "layout": "IPY_MODEL_f85569d8658e4d94890fe64f55bbcafc",
       "style": "IPY_MODEL_e47e3196e0804646b98dd14c705a3440",
       "value": " 60/61 [00:04&lt;00:00, 15.20it/s]"
      }
     }
    },
    "version_major": 2,
    "version_minor": 0
   }
  }
 },
 "nbformat": 4,
 "nbformat_minor": 4
}
