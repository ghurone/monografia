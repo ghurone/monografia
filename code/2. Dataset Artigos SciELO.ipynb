{
 "cells": [
  {
   "cell_type": "markdown",
   "metadata": {},
   "source": [
    "# 2. Dataset Artigos SciELO"
   ]
  },
  {
   "cell_type": "markdown",
   "metadata": {},
   "source": [
    "## Imports"
   ]
  },
  {
   "cell_type": "code",
   "execution_count": 1,
   "metadata": {},
   "outputs": [],
   "source": [
    "import os\n",
    "\n",
    "import pandas as pd\n",
    "import numpy as np\n",
    "from bs4 import BeautifulSoup\n",
    "from tqdm.notebook import tqdm"
   ]
  },
  {
   "cell_type": "markdown",
   "metadata": {},
   "source": [
    "## Código"
   ]
  },
  {
   "cell_type": "code",
   "execution_count": 2,
   "metadata": {},
   "outputs": [],
   "source": [
    "path_artigos = os.path.join(os.getcwd(), 'artigos_brutos_SciELO')"
   ]
  },
  {
   "cell_type": "code",
   "execution_count": 3,
   "metadata": {},
   "outputs": [
    {
     "name": "stdout",
     "output_type": "stream",
     "text": [
      "Total de artigos: 1681\n"
     ]
    }
   ],
   "source": [
    "# contagem de artigos\n",
    "soma = sum(len(os.listdir(os.path.join(path_artigos, a))) for a in os.listdir(path_artigos))\n",
    "print(f'Total de artigos: {soma}')"
   ]
  },
  {
   "cell_type": "markdown",
   "metadata": {},
   "source": [
    "### Criando o DataSet"
   ]
  },
  {
   "cell_type": "code",
   "execution_count": 4,
   "metadata": {},
   "outputs": [
    {
     "data": {
      "application/vnd.jupyter.widget-view+json": {
       "model_id": "0182c307e65f477cba20e529fcdc3706",
       "version_major": 2,
       "version_minor": 0
      },
      "text/plain": [
       "  0%|          | 0/22 [00:00<?, ?it/s]"
      ]
     },
     "metadata": {},
     "output_type": "display_data"
    },
    {
     "data": {
      "application/vnd.jupyter.widget-view+json": {
       "model_id": "",
       "version_major": 2,
       "version_minor": 0
      },
      "text/plain": [
       "  0%|          | 0/41 [00:00<?, ?it/s]"
      ]
     },
     "metadata": {},
     "output_type": "display_data"
    },
    {
     "data": {
      "application/vnd.jupyter.widget-view+json": {
       "model_id": "",
       "version_major": 2,
       "version_minor": 0
      },
      "text/plain": [
       "  0%|          | 0/54 [00:00<?, ?it/s]"
      ]
     },
     "metadata": {},
     "output_type": "display_data"
    },
    {
     "data": {
      "application/vnd.jupyter.widget-view+json": {
       "model_id": "",
       "version_major": 2,
       "version_minor": 0
      },
      "text/plain": [
       "  0%|          | 0/47 [00:00<?, ?it/s]"
      ]
     },
     "metadata": {},
     "output_type": "display_data"
    },
    {
     "data": {
      "application/vnd.jupyter.widget-view+json": {
       "model_id": "",
       "version_major": 2,
       "version_minor": 0
      },
      "text/plain": [
       "  0%|          | 0/61 [00:00<?, ?it/s]"
      ]
     },
     "metadata": {},
     "output_type": "display_data"
    },
    {
     "data": {
      "application/vnd.jupyter.widget-view+json": {
       "model_id": "",
       "version_major": 2,
       "version_minor": 0
      },
      "text/plain": [
       "  0%|          | 0/72 [00:00<?, ?it/s]"
      ]
     },
     "metadata": {},
     "output_type": "display_data"
    },
    {
     "data": {
      "application/vnd.jupyter.widget-view+json": {
       "model_id": "",
       "version_major": 2,
       "version_minor": 0
      },
      "text/plain": [
       "  0%|          | 0/68 [00:00<?, ?it/s]"
      ]
     },
     "metadata": {},
     "output_type": "display_data"
    },
    {
     "data": {
      "application/vnd.jupyter.widget-view+json": {
       "model_id": "",
       "version_major": 2,
       "version_minor": 0
      },
      "text/plain": [
       "  0%|          | 0/75 [00:00<?, ?it/s]"
      ]
     },
     "metadata": {},
     "output_type": "display_data"
    },
    {
     "data": {
      "application/vnd.jupyter.widget-view+json": {
       "model_id": "",
       "version_major": 2,
       "version_minor": 0
      },
      "text/plain": [
       "  0%|          | 0/55 [00:00<?, ?it/s]"
      ]
     },
     "metadata": {},
     "output_type": "display_data"
    },
    {
     "data": {
      "application/vnd.jupyter.widget-view+json": {
       "model_id": "",
       "version_major": 2,
       "version_minor": 0
      },
      "text/plain": [
       "  0%|          | 0/52 [00:00<?, ?it/s]"
      ]
     },
     "metadata": {},
     "output_type": "display_data"
    },
    {
     "data": {
      "application/vnd.jupyter.widget-view+json": {
       "model_id": "",
       "version_major": 2,
       "version_minor": 0
      },
      "text/plain": [
       "  0%|          | 0/53 [00:00<?, ?it/s]"
      ]
     },
     "metadata": {},
     "output_type": "display_data"
    },
    {
     "data": {
      "application/vnd.jupyter.widget-view+json": {
       "model_id": "",
       "version_major": 2,
       "version_minor": 0
      },
      "text/plain": [
       "  0%|          | 0/71 [00:00<?, ?it/s]"
      ]
     },
     "metadata": {},
     "output_type": "display_data"
    },
    {
     "data": {
      "application/vnd.jupyter.widget-view+json": {
       "model_id": "",
       "version_major": 2,
       "version_minor": 0
      },
      "text/plain": [
       "  0%|          | 0/61 [00:00<?, ?it/s]"
      ]
     },
     "metadata": {},
     "output_type": "display_data"
    },
    {
     "data": {
      "application/vnd.jupyter.widget-view+json": {
       "model_id": "",
       "version_major": 2,
       "version_minor": 0
      },
      "text/plain": [
       "  0%|          | 0/85 [00:00<?, ?it/s]"
      ]
     },
     "metadata": {},
     "output_type": "display_data"
    },
    {
     "data": {
      "application/vnd.jupyter.widget-view+json": {
       "model_id": "",
       "version_major": 2,
       "version_minor": 0
      },
      "text/plain": [
       "  0%|          | 0/76 [00:00<?, ?it/s]"
      ]
     },
     "metadata": {},
     "output_type": "display_data"
    },
    {
     "data": {
      "application/vnd.jupyter.widget-view+json": {
       "model_id": "",
       "version_major": 2,
       "version_minor": 0
      },
      "text/plain": [
       "  0%|          | 0/84 [00:00<?, ?it/s]"
      ]
     },
     "metadata": {},
     "output_type": "display_data"
    },
    {
     "data": {
      "application/vnd.jupyter.widget-view+json": {
       "model_id": "",
       "version_major": 2,
       "version_minor": 0
      },
      "text/plain": [
       "  0%|          | 0/68 [00:00<?, ?it/s]"
      ]
     },
     "metadata": {},
     "output_type": "display_data"
    },
    {
     "data": {
      "application/vnd.jupyter.widget-view+json": {
       "model_id": "",
       "version_major": 2,
       "version_minor": 0
      },
      "text/plain": [
       "  0%|          | 0/72 [00:00<?, ?it/s]"
      ]
     },
     "metadata": {},
     "output_type": "display_data"
    },
    {
     "data": {
      "application/vnd.jupyter.widget-view+json": {
       "model_id": "",
       "version_major": 2,
       "version_minor": 0
      },
      "text/plain": [
       "  0%|          | 0/109 [00:00<?, ?it/s]"
      ]
     },
     "metadata": {},
     "output_type": "display_data"
    },
    {
     "data": {
      "application/vnd.jupyter.widget-view+json": {
       "model_id": "",
       "version_major": 2,
       "version_minor": 0
      },
      "text/plain": [
       "  0%|          | 0/107 [00:00<?, ?it/s]"
      ]
     },
     "metadata": {},
     "output_type": "display_data"
    },
    {
     "data": {
      "application/vnd.jupyter.widget-view+json": {
       "model_id": "",
       "version_major": 2,
       "version_minor": 0
      },
      "text/plain": [
       "  0%|          | 0/134 [00:00<?, ?it/s]"
      ]
     },
     "metadata": {},
     "output_type": "display_data"
    },
    {
     "data": {
      "application/vnd.jupyter.widget-view+json": {
       "model_id": "",
       "version_major": 2,
       "version_minor": 0
      },
      "text/plain": [
       "  0%|          | 0/134 [00:00<?, ?it/s]"
      ]
     },
     "metadata": {},
     "output_type": "display_data"
    },
    {
     "data": {
      "application/vnd.jupyter.widget-view+json": {
       "model_id": "",
       "version_major": 2,
       "version_minor": 0
      },
      "text/plain": [
       "  0%|          | 0/102 [00:00<?, ?it/s]"
      ]
     },
     "metadata": {},
     "output_type": "display_data"
    }
   ],
   "source": [
    "dict_df = {'titulo': [], 'seção': [], 'ano': [],  'doi_id': [], 'texto_html': []}\n",
    "\n",
    "for ano in tqdm(os.listdir(path_artigos)):\n",
    "    path_abs = os.path.join(path_artigos, ano)\n",
    "\n",
    "    for arquivo in tqdm(os.listdir(path_abs), leave=False):\n",
    "        arq_path = os.path.join(path_abs, arquivo)\n",
    "\n",
    "        with open(arq_path, 'r', encoding='utf8') as arq:\n",
    "            texto_html = arq.read()\n",
    "\n",
    "        soup = BeautifulSoup(texto_html, 'lxml')\n",
    "\n",
    "        try:\n",
    "            doi_id = soup.find('a', attrs={'class': '_doi'}).text.strip().removeprefix('https://doi.org/')\n",
    "        except AttributeError:\n",
    "            doi_id = None\n",
    "\n",
    "        try:\n",
    "            titulo = ' '.join(soup.find('h1', attrs={'class': 'article-title'}).text.split())\n",
    "            if not titulo:\n",
    "                titulo = 'SEM TÍTULO'\n",
    "        except AttributeError:\n",
    "            titulo = 'SEM TÍTULO'\n",
    "\n",
    "        try:\n",
    "            seção = soup.find('span', attrs={'class': '_articleBadge'}).text.strip().lower()\n",
    "            if not seção:\n",
    "                seção = 'SEM CATEGORIA'\n",
    "        except AttributeError:\n",
    "            seção = 'SEM CATEGORIA'\n",
    "\n",
    "        dict_df['titulo'].append(titulo)\n",
    "        dict_df['doi_id'].append(doi_id)\n",
    "        dict_df['texto_html'].append(texto_html)\n",
    "        dict_df['seção'].append(seção)\n",
    "        dict_df['ano'].append(int(ano))\n"
   ]
  },
  {
   "cell_type": "code",
   "execution_count": 5,
   "metadata": {},
   "outputs": [],
   "source": [
    "# salvando o dataset em feather\n",
    "df = pd.DataFrame(dict_df)\n",
    "df['ano'] = df['ano'].astype(np.uint16)\n",
    "\n",
    "remover = ['didactic resources', 'articles', 'physics education research']\n",
    "df = df.query('seção not in @remover')\n",
    "\n",
    "replace_dict = {\n",
    "    'cartas ao editor': 'carta ao editor',\n",
    "    'carta do editor': 'carta ao editor',\n",
    "    'resenha': 'resenhas',\n",
    "    'resenhas de livros': 'resenhas',\n",
    "    'tipo de artigo': 'artigos gerais',\n",
    "    'artigo gerais': 'artigos gerais'\n",
    "}\n",
    "\n",
    "df['seção'] = df['seção'].replace(replace_dict)"
   ]
  },
  {
   "cell_type": "code",
   "execution_count": 14,
   "metadata": {},
   "outputs": [],
   "source": [
    "replace_dict = {'desenvolvimento em ensino de física': 'pesquisa em ensino de física',\n",
    "                'história da física': 'história da física e ciências afins',\n",
    "                'história da física e áreas afins': 'história da física e ciências afins',\n",
    "                'notas e discussões': 'outros',\n",
    "                'carta ao editor': 'outros',\n",
    "                'resenhas': 'outros',\n",
    "                'editorial': 'outros',\n",
    "                'errata': 'outros',\n",
    "                'resenhas de livro': 'outros',\n",
    "                'notas e discussõoes': 'outros',\n",
    "                'seção especial: informática no ensino de física': 'seções especiais',\n",
    "                'seção especial - celebrando os 100 anos de nascimento de richard p. feynman': 'seções especiais',\n",
    "                'artigos de einstein e ensaios sobre sua obra': 'seções especiais',\n",
    "                'seção especial: centenário da morte de ludwig boltzmann (1844-1906)': 'seções especiais',\n",
    "                'seção especial: centenário da morte de william thomson (1824-1907)': 'seções especiais',\n",
    "                'ano internacional da luz': 'seções especiais',\n",
    "                'seção especial, história da física e ciências afins': 'seções especiais',\n",
    "                'artigos de revisão sobre relatividade geral e cosmologia': 'seções especiais',\n",
    "                'seção especial: encontro \" reflexões no ensino de física\", sbf/mec ( brasília, 2005)': 'seções especiais',\n",
    "                'seção especial - ondas gravitacionais': 'seções especiais',\n",
    "                'seção especial, artigos gerais': 'seções especiais',\n",
    "                'seção especial - artigos convidados': 'seções especiais', \n",
    "                'seção especial, notas e discussões': 'seções especiais',\n",
    "                'seção especial': 'seções especiais'}\n",
    "\n",
    "df['nova_seção'] = df['seção'].replace(replace_dict)"
   ]
  },
  {
   "cell_type": "code",
   "execution_count": 15,
   "metadata": {},
   "outputs": [],
   "source": [
    "df = df.reset_index(drop=True)\n",
    "df = df[['titulo', 'seção', 'nova_seção', 'doi_id', 'texto_html']]\n",
    "df.to_feather('scielo_dataset.feather')"
   ]
  },
  {
   "cell_type": "code",
   "execution_count": 16,
   "metadata": {},
   "outputs": [
    {
     "data": {
      "text/html": [
       "<div>\n",
       "<style scoped>\n",
       "    .dataframe tbody tr th:only-of-type {\n",
       "        vertical-align: middle;\n",
       "    }\n",
       "\n",
       "    .dataframe tbody tr th {\n",
       "        vertical-align: top;\n",
       "    }\n",
       "\n",
       "    .dataframe thead th {\n",
       "        text-align: right;\n",
       "    }\n",
       "</style>\n",
       "<table border=\"1\" class=\"dataframe\">\n",
       "  <thead>\n",
       "    <tr style=\"text-align: right;\">\n",
       "      <th></th>\n",
       "      <th>titulo</th>\n",
       "      <th>seção</th>\n",
       "      <th>nova_seção</th>\n",
       "      <th>doi_id</th>\n",
       "      <th>texto_html</th>\n",
       "    </tr>\n",
       "  </thead>\n",
       "  <tbody>\n",
       "    <tr>\n",
       "      <th>0</th>\n",
       "      <td>\"... E o XIV SNEF aconteceu\"</td>\n",
       "      <td>editorial</td>\n",
       "      <td>outros</td>\n",
       "      <td>10.1590/S1806-11172001000200001</td>\n",
       "      <td>&lt;!DOCTYPE html&gt;\\n&lt;div class=\"articleTxt\"&gt;\\n &lt;d...</td>\n",
       "    </tr>\n",
       "    <tr>\n",
       "      <th>1</th>\n",
       "      <td>Carta ao editor</td>\n",
       "      <td>carta ao editor</td>\n",
       "      <td>outros</td>\n",
       "      <td>10.1590/S1806-11172001000200002</td>\n",
       "      <td>&lt;!DOCTYPE html&gt;\\n&lt;div class=\"articleTxt\"&gt;\\n &lt;d...</td>\n",
       "    </tr>\n",
       "    <tr>\n",
       "      <th>2</th>\n",
       "      <td>Pontos quânticos: átomos artificiais e transis...</td>\n",
       "      <td>SEM CATEGORIA</td>\n",
       "      <td>SEM CATEGORIA</td>\n",
       "      <td>10.1590/S1806-11172001000200004</td>\n",
       "      <td>&lt;!DOCTYPE html&gt;\\n&lt;div class=\"articleTxt\"&gt;\\n &lt;d...</td>\n",
       "    </tr>\n",
       "    <tr>\n",
       "      <th>3</th>\n",
       "      <td>As equações de Hamilton sem transformação de L...</td>\n",
       "      <td>SEM CATEGORIA</td>\n",
       "      <td>SEM CATEGORIA</td>\n",
       "      <td>10.1590/S1806-11172001000200005</td>\n",
       "      <td>&lt;!DOCTYPE html&gt;\\n&lt;div class=\"articleTxt\"&gt;\\n &lt;d...</td>\n",
       "    </tr>\n",
       "    <tr>\n",
       "      <th>4</th>\n",
       "      <td>Um experimento de oscilador forçado amortecido</td>\n",
       "      <td>SEM CATEGORIA</td>\n",
       "      <td>SEM CATEGORIA</td>\n",
       "      <td>10.1590/S1806-11172001000200006</td>\n",
       "      <td>&lt;!DOCTYPE html&gt;\\n&lt;div class=\"articleTxt\"&gt;\\n &lt;d...</td>\n",
       "    </tr>\n",
       "  </tbody>\n",
       "</table>\n",
       "</div>"
      ],
      "text/plain": [
       "                                              titulo            seção  \\\n",
       "0                       \"... E o XIV SNEF aconteceu\"        editorial   \n",
       "1                                    Carta ao editor  carta ao editor   \n",
       "2  Pontos quânticos: átomos artificiais e transis...    SEM CATEGORIA   \n",
       "3  As equações de Hamilton sem transformação de L...    SEM CATEGORIA   \n",
       "4     Um experimento de oscilador forçado amortecido    SEM CATEGORIA   \n",
       "\n",
       "      nova_seção                           doi_id  \\\n",
       "0         outros  10.1590/S1806-11172001000200001   \n",
       "1         outros  10.1590/S1806-11172001000200002   \n",
       "2  SEM CATEGORIA  10.1590/S1806-11172001000200004   \n",
       "3  SEM CATEGORIA  10.1590/S1806-11172001000200005   \n",
       "4  SEM CATEGORIA  10.1590/S1806-11172001000200006   \n",
       "\n",
       "                                          texto_html  \n",
       "0  <!DOCTYPE html>\\n<div class=\"articleTxt\">\\n <d...  \n",
       "1  <!DOCTYPE html>\\n<div class=\"articleTxt\">\\n <d...  \n",
       "2  <!DOCTYPE html>\\n<div class=\"articleTxt\">\\n <d...  \n",
       "3  <!DOCTYPE html>\\n<div class=\"articleTxt\">\\n <d...  \n",
       "4  <!DOCTYPE html>\\n<div class=\"articleTxt\">\\n <d...  "
      ]
     },
     "execution_count": 16,
     "metadata": {},
     "output_type": "execute_result"
    }
   ],
   "source": [
    "pd.read_feather('scielo_dataset.feather').head()"
   ]
  },
  {
   "cell_type": "code",
   "execution_count": null,
   "metadata": {},
   "outputs": [],
   "source": []
  }
 ],
 "metadata": {
  "kernelspec": {
   "display_name": "Python 3 (ipykernel)",
   "language": "python",
   "name": "python3"
  },
  "language_info": {
   "codemirror_mode": {
    "name": "ipython",
    "version": 3
   },
   "file_extension": ".py",
   "mimetype": "text/x-python",
   "name": "python",
   "nbconvert_exporter": "python",
   "pygments_lexer": "ipython3",
   "version": "3.10.9"
  },
  "vscode": {
   "interpreter": {
    "hash": "e668fd8da83d294f882a9b1881bcdf4fad9aa355d0eef119f9c689d241b75da3"
   }
  }
 },
 "nbformat": 4,
 "nbformat_minor": 4
}
