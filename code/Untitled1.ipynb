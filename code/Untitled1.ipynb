{
 "cells": [
  {
   "cell_type": "code",
   "execution_count": 1,
   "id": "23517604-f479-44e9-90cb-a9cde1938d3d",
   "metadata": {},
   "outputs": [],
   "source": [
    "import numpy as np"
   ]
  },
  {
   "cell_type": "code",
   "execution_count": 4,
   "id": "11fb6026-0c98-408d-93ea-00004806bf3f",
   "metadata": {},
   "outputs": [],
   "source": [
    "def E(n):\n",
    "    soma = 0\n",
    "    for i in range(1, n+1):\n",
    "        soma += n / (n-i+1)\n",
    "    return soma"
   ]
  },
  {
   "cell_type": "code",
   "execution_count": 6,
   "id": "54adb64a-1335-4a29-900c-578d8c9335eb",
   "metadata": {},
   "outputs": [
    {
     "data": {
      "text/plain": [
       "308.17201306853497"
      ]
     },
     "execution_count": 6,
     "metadata": {},
     "output_type": "execute_result"
    }
   ],
   "source": [
    "E(36) + E(118)/4"
   ]
  },
  {
   "cell_type": "code",
   "execution_count": null,
   "id": "2ff831f3-3167-4d75-a218-cc289d113b8a",
   "metadata": {},
   "outputs": [],
   "source": []
  }
 ],
 "metadata": {
  "kernelspec": {
   "display_name": "Python 3 (ipykernel)",
   "language": "python",
   "name": "python3"
  },
  "language_info": {
   "codemirror_mode": {
    "name": "ipython",
    "version": 3
   },
   "file_extension": ".py",
   "mimetype": "text/x-python",
   "name": "python",
   "nbconvert_exporter": "python",
   "pygments_lexer": "ipython3",
   "version": "3.9.15"
  },
  "widgets": {
   "application/vnd.jupyter.widget-state+json": {
    "state": {},
    "version_major": 2,
    "version_minor": 0
   }
  }
 },
 "nbformat": 4,
 "nbformat_minor": 5
}
