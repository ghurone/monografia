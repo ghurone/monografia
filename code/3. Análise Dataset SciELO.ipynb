{
 "cells": [
  {
   "cell_type": "markdown",
   "id": "8ea243e5-255d-4c02-a6b6-76bb49fa5406",
   "metadata": {},
   "source": [
    "# Modelando os tópicos da RBEF ao longo do tempo usando Latent Dirichlet Allocation "
   ]
  },
  {
   "cell_type": "markdown",
   "id": "7f1fb0db-5c72-4e1d-a722-fc9d23ef3054",
   "metadata": {},
   "source": [
    "## Imports\n"
   ]
  },
  {
   "cell_type": "code",
   "execution_count": 1,
   "id": "da882886-3d10-4e8f-9c88-d4947c42017a",
   "metadata": {},
   "outputs": [],
   "source": [
    "%load_ext autoreload\n",
    "%autoreload 2"
   ]
  },
  {
   "cell_type": "code",
   "execution_count": 1,
   "id": "92320070-db72-45c6-8bc2-70ab4585dd37",
   "metadata": {},
   "outputs": [],
   "source": [
    "import os\n",
    "from multiprocessing import Pool\n",
    "\n",
    "import pandas as pd\n",
    "import numpy as np\n",
    "from tqdm.notebook import tqdm\n",
    "\n",
    "from utils.pre_processing import tokenizer, html_to_text\n",
    "from utils.model import add_bigram, create_dictionary, create_corpus\n",
    "from utils.model import ModelLDA, calc_coherence\n",
    "from utils.plots import plot_frequent_words"
   ]
  },
  {
   "cell_type": "markdown",
   "id": "2a92ae04-0dd6-4f02-824a-312f8372a36b",
   "metadata": {},
   "source": [
    "## Leitura do banco de dados"
   ]
  },
  {
   "cell_type": "code",
   "execution_count": 2,
   "id": "2672f4c0-3761-41c1-ada7-910f2d6d2048",
   "metadata": {},
   "outputs": [],
   "source": [
    "df = pd.read_feather('scielo_dataset.feather')"
   ]
  },
  {
   "cell_type": "code",
   "execution_count": 3,
   "id": "28b59566-a961-4013-a420-0d94484d418a",
   "metadata": {},
   "outputs": [
    {
     "name": "stdout",
     "output_type": "stream",
     "text": [
      "<class 'pandas.core.frame.DataFrame'>\n",
      "RangeIndex: 1664 entries, 0 to 1663\n",
      "Data columns (total 5 columns):\n",
      " #   Column      Non-Null Count  Dtype \n",
      "---  ------      --------------  ----- \n",
      " 0   titulo      1664 non-null   object\n",
      " 1   seção       1664 non-null   object\n",
      " 2   nova_seção  1664 non-null   object\n",
      " 3   doi_id      1644 non-null   object\n",
      " 4   texto_html  1664 non-null   object\n",
      "dtypes: object(5)\n",
      "memory usage: 65.1+ KB\n"
     ]
    }
   ],
   "source": [
    "df.info()"
   ]
  },
  {
   "cell_type": "code",
   "execution_count": 4,
   "id": "07007e78-056e-41ed-9c99-4e9520407c70",
   "metadata": {},
   "outputs": [
    {
     "data": {
      "text/plain": [
       "nova_seção\n",
       "artigos gerais                         48.497596\n",
       "pesquisa em ensino de física           14.182692\n",
       "produtos e materiais didáticos         12.139423\n",
       "história da física e ciências afins     9.314904\n",
       "outros                                  8.954327\n",
       "seções especiais                        5.949519\n",
       "SEM CATEGORIA                           0.961538\n",
       "Name: proportion, dtype: float64"
      ]
     },
     "execution_count": 4,
     "metadata": {},
     "output_type": "execute_result"
    }
   ],
   "source": [
    "df['nova_seção'].value_counts(normalize=True) * 100"
   ]
  },
  {
   "cell_type": "markdown",
   "id": "8c418869-92e5-4254-9889-549c2a43e098",
   "metadata": {},
   "source": [
    "## Tokenizaçao e Lemmetização"
   ]
  },
  {
   "cell_type": "code",
   "execution_count": null,
   "id": "21d347b2-5a09-4e76-8e2c-dd939796c988",
   "metadata": {},
   "outputs": [
    {
     "data": {
      "application/vnd.jupyter.widget-view+json": {
       "model_id": "3d7f43e45f644413af43d8d84f3325ab",
       "version_major": 2,
       "version_minor": 0
      },
      "text/plain": [
       "  0%|          | 0/1664 [00:00<?, ?it/s]"
      ]
     },
     "metadata": {},
     "output_type": "display_data"
    },
    {
     "data": {
      "application/vnd.jupyter.widget-view+json": {
       "model_id": "8a7263763f214443879ff4dd96245622",
       "version_major": 2,
       "version_minor": 0
      },
      "text/plain": [
       "  0%|          | 0/1664 [00:00<?, ?it/s]"
      ]
     },
     "metadata": {},
     "output_type": "display_data"
    }
   ],
   "source": [
    "with Pool() as pool:\n",
    "    # limpa o html dos textos.\n",
    "    textos = list(tqdm(pool.imap(html_to_text, df['texto_html']), total=len(df)))\n",
    "    \n",
    "with Pool() as pool:\n",
    "    # tokeniza e lemmetiza os textos.\n",
    "    documentos = list(tqdm(pool.imap(tokenizer, textos), total=len(textos)))"
   ]
  },
  {
   "cell_type": "markdown",
   "id": "834d38f3-1211-4330-9c75-b2757d4ec41b",
   "metadata": {},
   "source": [
    "## Bigram e criação do dicionário"
   ]
  },
  {
   "cell_type": "code",
   "execution_count": null,
   "id": "edd1ca7e-337c-43d6-b7a6-c8526a89aa3f",
   "metadata": {},
   "outputs": [],
   "source": [
    "add_bigram(documentos, min_count=10)"
   ]
  },
  {
   "cell_type": "code",
   "execution_count": null,
   "id": "303749ec-dbda-4ddb-a874-03f2ce306f96",
   "metadata": {},
   "outputs": [],
   "source": [
    "dicionario_sem_filtro = create_dictionary(documentos, filtrar=False)\n",
    "dicionario = create_dictionary(documentos, n_abaixo=30, n_acima=0.5)"
   ]
  },
  {
   "cell_type": "code",
   "execution_count": null,
   "id": "4107cb31-a72b-4b7c-95ca-dc8e54705bec",
   "metadata": {},
   "outputs": [],
   "source": [
    "plot_frequent_words(dicionario_sem_filtro, filename='dicionario_completo.png')"
   ]
  },
  {
   "cell_type": "code",
   "execution_count": null,
   "id": "decf90c5-4a1e-4942-8727-4968186dd469",
   "metadata": {},
   "outputs": [],
   "source": [
    "plot_frequent_words(dicionario, filename='dicionario_filtro.png')"
   ]
  },
  {
   "cell_type": "code",
   "execution_count": null,
   "id": "f0fe5386-a011-4716-ac6a-dc18761213d5",
   "metadata": {},
   "outputs": [],
   "source": [
    "corpus = create_corpus(dicionario, documentos)"
   ]
  },
  {
   "cell_type": "code",
   "execution_count": null,
   "id": "95983104-bab0-458b-b46e-d333a32bb941",
   "metadata": {},
   "outputs": [],
   "source": [
    "lda = ModelLDA(corpus, dicionario, chunksize=2000, iterations=100, passes=25)"
   ]
  },
  {
   "cell_type": "code",
   "execution_count": null,
   "id": "3deb3cdf-5cfc-4630-be73-1aedb99a1ca1",
   "metadata": {},
   "outputs": [],
   "source": [
    "model = lda.run(8)"
   ]
  },
  {
   "cell_type": "code",
   "execution_count": null,
   "id": "d9315cfe-cf4f-4e07-a9c5-3ac87efbd3b8",
   "metadata": {},
   "outputs": [],
   "source": [
    "model.print_topics()"
   ]
  },
  {
   "cell_type": "code",
   "execution_count": null,
   "id": "39f92ee8-145d-462e-b01f-b6d0897a5577",
   "metadata": {},
   "outputs": [],
   "source": [
    "calc_coherence(model, documentos, dicionario, corpus, method='c_v')"
   ]
  },
  {
   "cell_type": "code",
   "execution_count": null,
   "id": "447b2046-5bd0-4196-b92f-014b6b6cc585",
   "metadata": {
    "tags": []
   },
   "outputs": [],
   "source": [
    "topicos = model.get_document_topics(corpus)\n",
    "df['topicos'] = [max(topic, key=lambda x: x[1])[0] for topic in topicos]"
   ]
  },
  {
   "cell_type": "code",
   "execution_count": null,
   "id": "0fc59853-c839-4153-b77b-d98531f25489",
   "metadata": {},
   "outputs": [],
   "source": [
    "pd.crosstab(df['nova_seção'], df['topicos'])"
   ]
  },
  {
   "cell_type": "code",
   "execution_count": null,
   "id": "3024176c-2b9f-4dd6-8ed9-99e553232e2d",
   "metadata": {},
   "outputs": [],
   "source": [
    "len(df.query('topicos.isin([5,3])'))"
   ]
  },
  {
   "cell_type": "code",
   "execution_count": null,
   "id": "1dfb3754-7c66-4fe3-84ec-e7a29c8338bf",
   "metadata": {},
   "outputs": [],
   "source": []
  }
 ],
 "metadata": {
  "kernelspec": {
   "display_name": "Python 3 (ipykernel)",
   "language": "python",
   "name": "python3"
  },
  "language_info": {
   "codemirror_mode": {
    "name": "ipython",
    "version": 3
   },
   "file_extension": ".py",
   "mimetype": "text/x-python",
   "name": "python",
   "nbconvert_exporter": "python",
   "pygments_lexer": "ipython3",
   "version": "3.9.15"
  },
  "widgets": {
   "application/vnd.jupyter.widget-state+json": {
    "state": {
     "07eda1debeb745598337d2e6265f5d98": {
      "model_module": "@jupyter-widgets/controls",
      "model_module_version": "2.0.0",
      "model_name": "FloatProgressModel",
      "state": {
       "bar_style": "success",
       "layout": "IPY_MODEL_8cf30011a09545f9a7bf4956694db035",
       "max": 1664,
       "style": "IPY_MODEL_b24ed1a9e23c4da9a5d919e0e44eaa77",
       "value": 1664
      }
     },
     "12fffaf262b943a193d3d3f0d172fdb6": {
      "model_module": "@jupyter-widgets/controls",
      "model_module_version": "2.0.0",
      "model_name": "FloatProgressModel",
      "state": {
       "bar_style": "success",
       "layout": "IPY_MODEL_df70cdebf4be4247b003b7906324355d",
       "max": 1664,
       "style": "IPY_MODEL_d18721771a174531bac162ae18f98316",
       "value": 1664
      }
     },
     "3d7f43e45f644413af43d8d84f3325ab": {
      "model_module": "@jupyter-widgets/controls",
      "model_module_version": "2.0.0",
      "model_name": "HBoxModel",
      "state": {
       "children": [
        "IPY_MODEL_b53718fee9de4232860ef6eddce0eccf",
        "IPY_MODEL_12fffaf262b943a193d3d3f0d172fdb6",
        "IPY_MODEL_5a73f67f48b648109a97e72ebea0e990"
       ],
       "layout": "IPY_MODEL_52849ce3d1be452cb02a3065628431de"
      }
     },
     "4c12faececf84cef81f187d557e32f7c": {
      "model_module": "@jupyter-widgets/base",
      "model_module_version": "2.0.0",
      "model_name": "LayoutModel",
      "state": {}
     },
     "5245e233f66343d6bb21280c9af4bdb9": {
      "model_module": "@jupyter-widgets/controls",
      "model_module_version": "2.0.0",
      "model_name": "HTMLModel",
      "state": {
       "layout": "IPY_MODEL_96c64d3a9ebb4319b4991e92d26b50cb",
       "style": "IPY_MODEL_5e43e9e1f862489ea00bcd5900555a93",
       "value": "100%"
      }
     },
     "52849ce3d1be452cb02a3065628431de": {
      "model_module": "@jupyter-widgets/base",
      "model_module_version": "2.0.0",
      "model_name": "LayoutModel",
      "state": {}
     },
     "5a0c4467cb6044a5852002cf00fc418f": {
      "model_module": "@jupyter-widgets/base",
      "model_module_version": "2.0.0",
      "model_name": "LayoutModel",
      "state": {}
     },
     "5a73f67f48b648109a97e72ebea0e990": {
      "model_module": "@jupyter-widgets/controls",
      "model_module_version": "2.0.0",
      "model_name": "HTMLModel",
      "state": {
       "layout": "IPY_MODEL_b948c8a81ac04a768c73842fb9232a71",
       "style": "IPY_MODEL_5ee6dd74cc9f460d8557854f89c13f92",
       "value": " 1664/1664 [00:25&lt;00:00, 50.26it/s]"
      }
     },
     "5e43e9e1f862489ea00bcd5900555a93": {
      "model_module": "@jupyter-widgets/controls",
      "model_module_version": "2.0.0",
      "model_name": "HTMLStyleModel",
      "state": {
       "description_width": "",
       "font_size": null,
       "text_color": null
      }
     },
     "5ee6dd74cc9f460d8557854f89c13f92": {
      "model_module": "@jupyter-widgets/controls",
      "model_module_version": "2.0.0",
      "model_name": "HTMLStyleModel",
      "state": {
       "description_width": "",
       "font_size": null,
       "text_color": null
      }
     },
     "7790568094484a1d885754337ac45ae3": {
      "model_module": "@jupyter-widgets/base",
      "model_module_version": "2.0.0",
      "model_name": "LayoutModel",
      "state": {}
     },
     "7fb755a90d664805be45d51c1335cf5f": {
      "model_module": "@jupyter-widgets/controls",
      "model_module_version": "2.0.0",
      "model_name": "HTMLModel",
      "state": {
       "layout": "IPY_MODEL_7790568094484a1d885754337ac45ae3",
       "style": "IPY_MODEL_8f48b61dadc44c7ebbfc7f8e48c1862c",
       "value": " 1664/1664 [04:12&lt;00:00,  4.40it/s]"
      }
     },
     "8a7263763f214443879ff4dd96245622": {
      "model_module": "@jupyter-widgets/controls",
      "model_module_version": "2.0.0",
      "model_name": "HBoxModel",
      "state": {
       "children": [
        "IPY_MODEL_5245e233f66343d6bb21280c9af4bdb9",
        "IPY_MODEL_07eda1debeb745598337d2e6265f5d98",
        "IPY_MODEL_7fb755a90d664805be45d51c1335cf5f"
       ],
       "layout": "IPY_MODEL_5a0c4467cb6044a5852002cf00fc418f"
      }
     },
     "8cf30011a09545f9a7bf4956694db035": {
      "model_module": "@jupyter-widgets/base",
      "model_module_version": "2.0.0",
      "model_name": "LayoutModel",
      "state": {}
     },
     "8f48b61dadc44c7ebbfc7f8e48c1862c": {
      "model_module": "@jupyter-widgets/controls",
      "model_module_version": "2.0.0",
      "model_name": "HTMLStyleModel",
      "state": {
       "description_width": "",
       "font_size": null,
       "text_color": null
      }
     },
     "96c64d3a9ebb4319b4991e92d26b50cb": {
      "model_module": "@jupyter-widgets/base",
      "model_module_version": "2.0.0",
      "model_name": "LayoutModel",
      "state": {}
     },
     "b24ed1a9e23c4da9a5d919e0e44eaa77": {
      "model_module": "@jupyter-widgets/controls",
      "model_module_version": "2.0.0",
      "model_name": "ProgressStyleModel",
      "state": {
       "description_width": ""
      }
     },
     "b53718fee9de4232860ef6eddce0eccf": {
      "model_module": "@jupyter-widgets/controls",
      "model_module_version": "2.0.0",
      "model_name": "HTMLModel",
      "state": {
       "layout": "IPY_MODEL_4c12faececf84cef81f187d557e32f7c",
       "style": "IPY_MODEL_f2b20e0512bb469290cef90ce8a95bf0",
       "value": "100%"
      }
     },
     "b948c8a81ac04a768c73842fb9232a71": {
      "model_module": "@jupyter-widgets/base",
      "model_module_version": "2.0.0",
      "model_name": "LayoutModel",
      "state": {}
     },
     "d18721771a174531bac162ae18f98316": {
      "model_module": "@jupyter-widgets/controls",
      "model_module_version": "2.0.0",
      "model_name": "ProgressStyleModel",
      "state": {
       "description_width": ""
      }
     },
     "df70cdebf4be4247b003b7906324355d": {
      "model_module": "@jupyter-widgets/base",
      "model_module_version": "2.0.0",
      "model_name": "LayoutModel",
      "state": {}
     },
     "f2b20e0512bb469290cef90ce8a95bf0": {
      "model_module": "@jupyter-widgets/controls",
      "model_module_version": "2.0.0",
      "model_name": "HTMLStyleModel",
      "state": {
       "description_width": "",
       "font_size": null,
       "text_color": null
      }
     }
    },
    "version_major": 2,
    "version_minor": 0
   }
  }
 },
 "nbformat": 4,
 "nbformat_minor": 5
}
