{
 "cells": [
  {
   "attachments": {},
   "cell_type": "markdown",
   "metadata": {},
   "source": [
    "# 2.1 Dataset Artigos SciELO"
   ]
  },
  {
   "attachments": {},
   "cell_type": "markdown",
   "metadata": {},
   "source": [
    "## Imports"
   ]
  },
  {
   "cell_type": "code",
   "execution_count": 11,
   "metadata": {},
   "outputs": [],
   "source": [
    "import os\n",
    "\n",
    "import pandas as pd\n",
    "import numpy as np\n",
    "from bs4 import BeautifulSoup, SoupStrainer\n",
    "from tqdm import tqdm"
   ]
  },
  {
   "attachments": {},
   "cell_type": "markdown",
   "metadata": {},
   "source": [
    "## Código"
   ]
  },
  {
   "cell_type": "code",
   "execution_count": 2,
   "metadata": {},
   "outputs": [],
   "source": [
    "path_artigos = os.path.join(os.getcwd(), 'artigos_brutos', 'SciELO')"
   ]
  },
  {
   "cell_type": "code",
   "execution_count": 3,
   "metadata": {},
   "outputs": [
    {
     "name": "stdout",
     "output_type": "stream",
     "text": [
      "Total de artigos: 1681\n"
     ]
    }
   ],
   "source": [
    "# contagem de artigos\n",
    "soma = len(os.listdir(path_artigos))\n",
    "print(f'Total de artigos: {soma}')"
   ]
  },
  {
   "attachments": {},
   "cell_type": "markdown",
   "metadata": {},
   "source": [
    "### Criando o DataSet"
   ]
  },
  {
   "cell_type": "code",
   "execution_count": 4,
   "metadata": {},
   "outputs": [
    {
     "name": "stderr",
     "output_type": "stream",
     "text": [
      "100%|██████████| 1681/1681 [02:29<00:00, 11.25it/s]\n"
     ]
    }
   ],
   "source": [
    "dict_df = {'title': [], 'seção': [], 'ano': [],  'doi_id': [], 'text_html': []}\n",
    "\n",
    "for arquivo in tqdm(os.listdir(path_artigos)):\n",
    "    path_abs  = os.path.join(path_artigos, arquivo)\n",
    "    \n",
    "    with open(path_abs, 'r', encoding='utf8') as arq:\n",
    "        texto_html = arq.read()\n",
    "        \n",
    "    soup = BeautifulSoup(texto_html, 'lxml')\n",
    "    \n",
    "    try:\n",
    "        doi_id = soup.find('a', attrs={'class': '_doi'}).text.strip().removeprefix('https://doi.org/')\n",
    "    except AttributeError:\n",
    "        doi_id = ''\n",
    "\n",
    "    try:\n",
    "        titulo = ' '.join(soup.find('h1', attrs={'class': 'article-title'}).text.split())\n",
    "    except AttributeError:\n",
    "        titulo = ''\n",
    "\n",
    "    try:\n",
    "        seção = soup.find('span', attrs={'class': '_articleBadge'}).text.strip().lower()\n",
    "    except AttributeError:\n",
    "        seção = ''\n",
    "\n",
    "    try:\n",
    "        ano = soup.find('span', attrs={'class': '_editionMeta'}).text.split('•')[-1].strip()\n",
    "        if len(ano) > 4:\n",
    "            ano = ano[-4:]\n",
    "    except AttributeError:\n",
    "        ano = ''\n",
    "\n",
    "    dict_df['title'].append(titulo)\n",
    "    dict_df['doi_id'].append(doi_id)\n",
    "    dict_df['text_html'].append(texto_html)\n",
    "    dict_df['seção'].append(seção)\n",
    "    dict_df['ano'].append(int(ano))\n",
    "        "
   ]
  },
  {
   "cell_type": "code",
   "execution_count": 14,
   "metadata": {},
   "outputs": [],
   "source": [
    "# salvando o dataset em feather\n",
    "df = pd.DataFrame(dict_df)\n",
    "df.to_feather('scielo_dataset.feather')"
   ]
  },
  {
   "cell_type": "code",
   "execution_count": null,
   "metadata": {},
   "outputs": [],
   "source": []
  }
 ],
 "metadata": {
  "kernelspec": {
   "display_name": "monografia",
   "language": "python",
   "name": "python3"
  },
  "language_info": {
   "codemirror_mode": {
    "name": "ipython",
    "version": 3
   },
   "file_extension": ".py",
   "mimetype": "text/x-python",
   "name": "python",
   "nbconvert_exporter": "python",
   "pygments_lexer": "ipython3",
   "version": "3.10.9"
  },
  "orig_nbformat": 4,
  "vscode": {
   "interpreter": {
    "hash": "e668fd8da83d294f882a9b1881bcdf4fad9aa355d0eef119f9c689d241b75da3"
   }
  }
 },
 "nbformat": 4,
 "nbformat_minor": 2
}
