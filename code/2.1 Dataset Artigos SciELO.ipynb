{
 "cells": [
  {
   "attachments": {},
   "cell_type": "markdown",
   "metadata": {},
   "source": [
    "# 2.1 Dataset Artigos SciELO"
   ]
  },
  {
   "attachments": {},
   "cell_type": "markdown",
   "metadata": {},
   "source": [
    "## Imports"
   ]
  },
  {
   "cell_type": "code",
   "execution_count": 5,
   "metadata": {},
   "outputs": [],
   "source": [
    "import os\n",
    "\n",
    "import pandas as pd\n",
    "import numpy as np\n",
    "from bs4 import BeautifulSoup, SoupStrainer\n",
    "from tqdm.notebook import tqdm"
   ]
  },
  {
   "attachments": {},
   "cell_type": "markdown",
   "metadata": {},
   "source": [
    "## Código"
   ]
  },
  {
   "cell_type": "code",
   "execution_count": 6,
   "metadata": {},
   "outputs": [],
   "source": [
    "path_artigos = os.path.join(os.getcwd(), 'artigos_brutos', 'SciELO')"
   ]
  },
  {
   "cell_type": "code",
   "execution_count": 7,
   "metadata": {},
   "outputs": [
    {
     "name": "stdout",
     "output_type": "stream",
     "text": [
      "Total de artigos: 1681\n"
     ]
    }
   ],
   "source": [
    "# contagem de artigos\n",
    "soma = sum(len(os.listdir(os.path.join(path_artigos, a))) for a in os.listdir(path_artigos))\n",
    "print(f'Total de artigos: {soma}')"
   ]
  },
  {
   "attachments": {},
   "cell_type": "markdown",
   "metadata": {},
   "source": [
    "### Criando o DataSet"
   ]
  },
  {
   "cell_type": "code",
   "execution_count": 22,
   "metadata": {},
   "outputs": [
    {
     "data": {
      "application/vnd.jupyter.widget-view+json": {
       "model_id": "dfdc94406c064e4f9f112558df8aa47a",
       "version_major": 2,
       "version_minor": 0
      },
      "text/plain": [
       "  0%|          | 0/22 [00:00<?, ?it/s]"
      ]
     },
     "metadata": {},
     "output_type": "display_data"
    }
   ],
   "source": [
    "dict_df = {'title': [], 'seção': [], 'ano': [],  'doi_id': [], 'text_html': []}\n",
    "\n",
    "for ano in tqdm(os.listdir(path_artigos)):\n",
    "    path_abs  = os.path.join(path_artigos, ano)\n",
    "    \n",
    "    for arquivo in os.listdir(path_abs):\n",
    "        arq_path = os.path.join(path_abs, arquivo)\n",
    "        \n",
    "        with open(arq_path, 'r', encoding='utf8') as arq:\n",
    "            texto_html = arq.read()\n",
    "            \n",
    "        soup = BeautifulSoup(texto_html, 'lxml')\n",
    "        \n",
    "        try:\n",
    "            doi_id = soup.find('a', attrs={'class': '_doi'}).text.strip().removeprefix('https://doi.org/')\n",
    "        except AttributeError:\n",
    "            doi_id = None\n",
    "\n",
    "        try:\n",
    "            titulo = ' '.join(soup.find('h1', attrs={'class': 'article-title'}).text.split())\n",
    "        except AttributeError:\n",
    "            titulo = None\n",
    "\n",
    "        try:\n",
    "            seção = soup.find('span', attrs={'class': '_articleBadge'}).text.strip().lower()\n",
    "        except AttributeError:\n",
    "            seção = None\n",
    "\n",
    "        dict_df['title'].append(titulo)\n",
    "        dict_df['doi_id'].append(doi_id)\n",
    "        dict_df['text_html'].append(texto_html)\n",
    "        dict_df['seção'].append(seção)\n",
    "        dict_df['ano'].append(int(ano))\n",
    "        "
   ]
  },
  {
   "cell_type": "code",
   "execution_count": 23,
   "metadata": {},
   "outputs": [],
   "source": [
    "# salvando o dataset em feather\n",
    "df = pd.DataFrame(dict_df)\n",
    "df['ano'] = df['ano'].astype(np.uint16)\n",
    "df.to_feather('scielo_dataset.feather')"
   ]
  },
  {
   "cell_type": "code",
   "execution_count": 24,
   "metadata": {},
   "outputs": [
    {
     "data": {
      "text/html": [
       "<div>\n",
       "<style scoped>\n",
       "    .dataframe tbody tr th:only-of-type {\n",
       "        vertical-align: middle;\n",
       "    }\n",
       "\n",
       "    .dataframe tbody tr th {\n",
       "        vertical-align: top;\n",
       "    }\n",
       "\n",
       "    .dataframe thead th {\n",
       "        text-align: right;\n",
       "    }\n",
       "</style>\n",
       "<table border=\"1\" class=\"dataframe\">\n",
       "  <thead>\n",
       "    <tr style=\"text-align: right;\">\n",
       "      <th></th>\n",
       "      <th>title</th>\n",
       "      <th>seção</th>\n",
       "      <th>ano</th>\n",
       "      <th>doi_id</th>\n",
       "      <th>text_html</th>\n",
       "    </tr>\n",
       "  </thead>\n",
       "  <tbody>\n",
       "    <tr>\n",
       "      <th>0</th>\n",
       "      <td>\"... E o XIV SNEF aconteceu\"</td>\n",
       "      <td>editorial</td>\n",
       "      <td>2001</td>\n",
       "      <td>10.1590/S1806-11172001000200001</td>\n",
       "      <td>&lt;!DOCTYPE html&gt;\\n&lt;div class=\"articleTxt\"&gt;\\n &lt;d...</td>\n",
       "    </tr>\n",
       "    <tr>\n",
       "      <th>1</th>\n",
       "      <td>Carta ao editor</td>\n",
       "      <td>carta ao editor</td>\n",
       "      <td>2001</td>\n",
       "      <td>10.1590/S1806-11172001000200002</td>\n",
       "      <td>&lt;!DOCTYPE html&gt;\\n&lt;div class=\"articleTxt\"&gt;\\n &lt;d...</td>\n",
       "    </tr>\n",
       "    <tr>\n",
       "      <th>2</th>\n",
       "      <td>Pontos quânticos: átomos artificiais e transis...</td>\n",
       "      <td></td>\n",
       "      <td>2001</td>\n",
       "      <td>10.1590/S1806-11172001000200004</td>\n",
       "      <td>&lt;!DOCTYPE html&gt;\\n&lt;div class=\"articleTxt\"&gt;\\n &lt;d...</td>\n",
       "    </tr>\n",
       "    <tr>\n",
       "      <th>3</th>\n",
       "      <td>As equações de Hamilton sem transformação de L...</td>\n",
       "      <td></td>\n",
       "      <td>2001</td>\n",
       "      <td>10.1590/S1806-11172001000200005</td>\n",
       "      <td>&lt;!DOCTYPE html&gt;\\n&lt;div class=\"articleTxt\"&gt;\\n &lt;d...</td>\n",
       "    </tr>\n",
       "    <tr>\n",
       "      <th>4</th>\n",
       "      <td>Um experimento de oscilador forçado amortecido</td>\n",
       "      <td></td>\n",
       "      <td>2001</td>\n",
       "      <td>10.1590/S1806-11172001000200006</td>\n",
       "      <td>&lt;!DOCTYPE html&gt;\\n&lt;div class=\"articleTxt\"&gt;\\n &lt;d...</td>\n",
       "    </tr>\n",
       "  </tbody>\n",
       "</table>\n",
       "</div>"
      ],
      "text/plain": [
       "                                               title            seção   ano  \\\n",
       "0                       \"... E o XIV SNEF aconteceu\"        editorial  2001   \n",
       "1                                    Carta ao editor  carta ao editor  2001   \n",
       "2  Pontos quânticos: átomos artificiais e transis...                   2001   \n",
       "3  As equações de Hamilton sem transformação de L...                   2001   \n",
       "4     Um experimento de oscilador forçado amortecido                   2001   \n",
       "\n",
       "                            doi_id  \\\n",
       "0  10.1590/S1806-11172001000200001   \n",
       "1  10.1590/S1806-11172001000200002   \n",
       "2  10.1590/S1806-11172001000200004   \n",
       "3  10.1590/S1806-11172001000200005   \n",
       "4  10.1590/S1806-11172001000200006   \n",
       "\n",
       "                                           text_html  \n",
       "0  <!DOCTYPE html>\\n<div class=\"articleTxt\">\\n <d...  \n",
       "1  <!DOCTYPE html>\\n<div class=\"articleTxt\">\\n <d...  \n",
       "2  <!DOCTYPE html>\\n<div class=\"articleTxt\">\\n <d...  \n",
       "3  <!DOCTYPE html>\\n<div class=\"articleTxt\">\\n <d...  \n",
       "4  <!DOCTYPE html>\\n<div class=\"articleTxt\">\\n <d...  "
      ]
     },
     "execution_count": 24,
     "metadata": {},
     "output_type": "execute_result"
    }
   ],
   "source": [
    "df.head()"
   ]
  },
  {
   "cell_type": "code",
   "execution_count": null,
   "metadata": {},
   "outputs": [],
   "source": []
  }
 ],
 "metadata": {
  "kernelspec": {
   "display_name": "monografia",
   "language": "python",
   "name": "python3"
  },
  "language_info": {
   "codemirror_mode": {
    "name": "ipython",
    "version": 3
   },
   "file_extension": ".py",
   "mimetype": "text/x-python",
   "name": "python",
   "nbconvert_exporter": "python",
   "pygments_lexer": "ipython3",
   "version": "3.10.9"
  },
  "orig_nbformat": 4,
  "vscode": {
   "interpreter": {
    "hash": "e668fd8da83d294f882a9b1881bcdf4fad9aa355d0eef119f9c689d241b75da3"
   }
  }
 },
 "nbformat": 4,
 "nbformat_minor": 2
}
