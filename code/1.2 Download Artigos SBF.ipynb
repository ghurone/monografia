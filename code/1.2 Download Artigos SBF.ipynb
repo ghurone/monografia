{
 "cells": [
  {
   "attachments": {},
   "cell_type": "markdown",
   "metadata": {},
   "source": [
    "# 1.2 Download Artigos SBF"
   ]
  },
  {
   "attachments": {},
   "cell_type": "markdown",
   "metadata": {},
   "source": [
    "## Imports"
   ]
  },
  {
   "cell_type": "code",
   "execution_count": 1,
   "metadata": {},
   "outputs": [],
   "source": [
    "import os\n",
    "from urllib.parse import urljoin\n",
    "\n",
    "from bs4 import BeautifulSoup, SoupStrainer\n",
    "from tqdm import tqdm\n",
    "\n",
    "from functions import Request"
   ]
  },
  {
   "cell_type": "code",
   "execution_count": 2,
   "metadata": {},
   "outputs": [],
   "source": [
    "request = Request()"
   ]
  },
  {
   "attachments": {},
   "cell_type": "markdown",
   "metadata": {},
   "source": [
    "## Funções"
   ]
  },
  {
   "cell_type": "code",
   "execution_count": 25,
   "metadata": {},
   "outputs": [],
   "source": [
    "sbf_link = lambda x: urljoin('http://www.sbfisica.org.br/rbef/', x)"
   ]
  },
  {
   "cell_type": "code",
   "execution_count": 26,
   "metadata": {},
   "outputs": [],
   "source": [
    "def volumes_por_ano() -> dict[int:list]:\n",
    "    req = request.get('http://www.sbfisica.org.br/rbef/edicoes.shtml')\n",
    "    soup = BeautifulSoup(req.text, 'html.parser', parse_only=SoupStrainer('table', attrs={'id':'AutoNumber2'}))\n",
    "    links = {}\n",
    "    \n",
    "    for row in soup.find_all('tr', attrs={'bordercolor': '#FFFFFF'}):\n",
    "        linha = row.find_all('td')\n",
    "        \n",
    "        if len(linha) == 6:  # (ano, volume, link1, link2, link3, link4)\n",
    "            ano = int(linha[0].text) \n",
    "            links[ano] = []\n",
    "            \n",
    "            for i in range(2,6):  # do elemento 2 até o elemento 5, são as colunas que possuem urls.\n",
    "                a_tag = linha[i].find('a')\n",
    "                if a_tag:\n",
    "                    links[ano].append(sbf_link(a_tag['href']))\n",
    "                    \n",
    "    return links"
   ]
  },
  {
   "cell_type": "markdown",
   "metadata": {},
   "source": [
    "## Código"
   ]
  },
  {
   "cell_type": "code",
   "execution_count": 69,
   "metadata": {},
   "outputs": [],
   "source": [
    "volumes = volumes_por_ano()"
   ]
  },
  {
   "cell_type": "code",
   "execution_count": 72,
   "metadata": {},
   "outputs": [
    {
     "name": "stdout",
     "output_type": "stream",
     "text": [
      "A pasta `artigos_brutos` já existe!\n",
      "A pasta `artigos_brutos\\SBF` já existe!\n"
     ]
    }
   ],
   "source": [
    "try:\n",
    "    os.mkdir(os.path.join(os.getcwd(), 'artigos_brutos')) # cria a pasta dos artigos brutos\n",
    "except FileExistsError:\n",
    "    print('A pasta `artigos_brutos` já existe!')\n",
    "\n",
    "try:\n",
    "    os.mkdir(os.path.join(os.getcwd(), 'artigos_brutos', 'SBF')) # cria a pasta da SBF dentro dos artigos brutos\n",
    "except FileExistsError:\n",
    "    print('A pasta `artigos_brutos\\SBF` já existe!')"
   ]
  },
  {
   "cell_type": "code",
   "execution_count": 106,
   "metadata": {},
   "outputs": [
    {
     "name": "stderr",
     "output_type": "stream",
     "text": [
      "100%|██████████| 23/23 [02:17<00:00,  5.97s/it]\n"
     ]
    }
   ],
   "source": [
    "for ano, vol in tqdm(volumes.items()):\n",
    "    dir_path = os.path.join(os.getcwd(), 'artigos_brutos', 'SBF', str(ano))\n",
    "    \n",
    "    try:\n",
    "        os.mkdir(dir_path)\n",
    "    except FileExistsError:\n",
    "        pass\n",
    "    \n",
    "    for link in vol:\n",
    "        req = request.get(link)\n",
    "        soup = BeautifulSoup(req.text, 'html.parser', parse_only=SoupStrainer('table'))\n",
    "        \n",
    "        seção = 'Sem Categoria'\n",
    "        try:\n",
    "            os.mkdir(os.path.join(dir_path, seção))\n",
    "        except FileExistsError:\n",
    "            pass\n",
    "        \n",
    "        for row in soup.find_all('tr'):\n",
    "            if row.span:\n",
    "                classe = row.span['class']\n",
    "                \n",
    "                if 'titulosessao' in classe:\n",
    "                    seção = row.span.text.strip()\n",
    "                    if row.span.br:\n",
    "                        seção = next(row.span.stripped_strings)\n",
    "                        \n",
    "                    seção = seção.replace(':', '').replace('/', '').replace('?', '')\n",
    "                    try:\n",
    "                        os.mkdir(os.path.join(dir_path, seção))\n",
    "                    except FileExistsError:\n",
    "                        pass\n",
    "            \n",
    "                elif 'titulo' in classe:\n",
    "                    url_arquivo = sbf_link(row.span.a['href'])\n",
    "                    req = request.get(url_arquivo)\n",
    "                    nome = row.span.a.text.replace(':', '').replace('?', '').replace('/', '').replace('\\r', '').replace('\"', '')\n",
    "                    \n",
    "                    if len(nome) > 150:\n",
    "                        nome = nome[:150]\n",
    "                                            \n",
    "                    nome += '.pdf'\n",
    "                    \n",
    "                    with open(os.path.join(dir_path, seção, nome), 'wb') as file:\n",
    "                        file.write(req.content)"
   ]
  },
  {
   "cell_type": "code",
   "execution_count": null,
   "metadata": {},
   "outputs": [],
   "source": []
  }
 ],
 "metadata": {
  "kernelspec": {
   "display_name": "monografia",
   "language": "python",
   "name": "python3"
  },
  "language_info": {
   "codemirror_mode": {
    "name": "ipython",
    "version": 3
   },
   "file_extension": ".py",
   "mimetype": "text/x-python",
   "name": "python",
   "nbconvert_exporter": "python",
   "pygments_lexer": "ipython3",
   "version": "3.10.9"
  },
  "orig_nbformat": 4,
  "vscode": {
   "interpreter": {
    "hash": "e668fd8da83d294f882a9b1881bcdf4fad9aa355d0eef119f9c689d241b75da3"
   }
  }
 },
 "nbformat": 4,
 "nbformat_minor": 2
}
