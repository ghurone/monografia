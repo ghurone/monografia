{
 "cells": [
  {
   "cell_type": "markdown",
   "id": "18dbb50e-3b0e-413f-b642-0724731fea20",
   "metadata": {},
   "source": [
    "# Análise descritiva da RBEF"
   ]
  },
  {
   "cell_type": "code",
   "execution_count": 2,
   "id": "80f2aa20-890d-4589-a4f6-cf9876aa558d",
   "metadata": {},
   "outputs": [],
   "source": [
    "%load_ext autoreload\n",
    "%autoreload 2"
   ]
  },
  {
   "cell_type": "code",
   "execution_count": 3,
   "id": "e218078c-c2fb-43c3-af42-114380b29287",
   "metadata": {},
   "outputs": [],
   "source": [
    "import utils.sbf as sbf\n",
    "import utils.scielo as scielo\n",
    "from langdetect import detect, detect_langs"
   ]
  },
  {
   "cell_type": "code",
   "execution_count": 6,
   "id": "4954caf1-accc-44b6-b42f-1d9f3a6d1a53",
   "metadata": {},
   "outputs": [],
   "source": [
    "sbf_vol = sbf.volumes_por_ano()\n",
    "scielo_vol = scielo.volumes_por_ano()"
   ]
  },
  {
   "cell_type": "code",
   "execution_count": null,
   "id": "bc12d7fd-42cc-4e51-a261-fad76622c3ac",
   "metadata": {},
   "outputs": [],
   "source": []
  }
 ],
 "metadata": {
  "kernelspec": {
   "display_name": "Python 3 (ipykernel)",
   "language": "python",
   "name": "python3"
  },
  "language_info": {
   "codemirror_mode": {
    "name": "ipython",
    "version": 3
   },
   "file_extension": ".py",
   "mimetype": "text/x-python",
   "name": "python",
   "nbconvert_exporter": "python",
   "pygments_lexer": "ipython3",
   "version": "3.9.15"
  },
  "widgets": {
   "application/vnd.jupyter.widget-state+json": {
    "state": {},
    "version_major": 2,
    "version_minor": 0
   }
  }
 },
 "nbformat": 4,
 "nbformat_minor": 5
}
