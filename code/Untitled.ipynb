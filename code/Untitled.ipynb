{
 "cells": [
  {
   "cell_type": "code",
   "execution_count": 1,
   "id": "4667e22b-f8f4-4ea5-9ed7-a4e5801e5cbb",
   "metadata": {},
   "outputs": [],
   "source": [
    "%load_ext autoreload\n",
    "%autoreload 2"
   ]
  },
  {
   "cell_type": "code",
   "execution_count": 2,
   "id": "815897d4-e046-43bd-8f9f-eea69b30d962",
   "metadata": {},
   "outputs": [],
   "source": [
    "from multiprocessing import Pool\n",
    "\n",
    "import pandas as pd\n",
    "import matplotlib.pyplot as plt\n",
    "from tqdm.notebook import tqdm\n",
    "\n",
    "from utils.pre_processing import tokenizer, html_to_text\n",
    "from utils.model import add_bigram, create_dictionary, create_corpus\n",
    "from utils.model import ModelLDA, calc_coherence"
   ]
  },
  {
   "cell_type": "code",
   "execution_count": 3,
   "id": "d268b6ac-488c-473b-9a2e-689482049ace",
   "metadata": {},
   "outputs": [],
   "source": [
    "df = pd.read_feather('scielo_dataset.feather')"
   ]
  },
  {
   "cell_type": "code",
   "execution_count": 4,
   "id": "c9d09f4a-259d-48f3-bb4b-7872e53a863e",
   "metadata": {},
   "outputs": [
    {
     "data": {
      "application/vnd.jupyter.widget-view+json": {
       "model_id": "4f0559e0b9384283aac68d048f996383",
       "version_major": 2,
       "version_minor": 0
      },
      "text/plain": [
       "  0%|          | 0/1664 [00:00<?, ?it/s]"
      ]
     },
     "metadata": {},
     "output_type": "display_data"
    },
    {
     "data": {
      "application/vnd.jupyter.widget-view+json": {
       "model_id": "3f5ae1c5514c4bcaae5bcec80e2ef81b",
       "version_major": 2,
       "version_minor": 0
      },
      "text/plain": [
       "  0%|          | 0/1664 [00:00<?, ?it/s]"
      ]
     },
     "metadata": {},
     "output_type": "display_data"
    }
   ],
   "source": [
    "with Pool() as pool:\n",
    "    # limpa o html dos textos.\n",
    "    textos = list(tqdm(pool.imap(html_to_text, df['texto_html']), total=len(df)))\n",
    "\n",
    "    # tokeniza e lemmetiza os textos.\n",
    "    documentos = list(tqdm(pool.imap(tokenizer, textos), total=len(textos)))"
   ]
  },
  {
   "cell_type": "code",
   "execution_count": 5,
   "id": "19d20eff-9704-4931-8b22-d74f786550a3",
   "metadata": {},
   "outputs": [],
   "source": [
    "new_documentos = documentos.copy()"
   ]
  },
  {
   "cell_type": "code",
   "execution_count": 6,
   "id": "867fea81-126b-4fa7-a261-58820cd48ea3",
   "metadata": {},
   "outputs": [],
   "source": [
    "add_bigram(new_documentos, min_count=15)\n",
    "dicionario = create_dictionary(new_documentos, n_abaixo=30, n_acima=0.5)\n",
    "corpus = create_corpus(dicionario, new_documentos, use_tfidf=False)"
   ]
  },
  {
   "cell_type": "code",
   "execution_count": 24,
   "id": "f1bc80a0-086e-4809-9a8e-783e1e30242c",
   "metadata": {},
   "outputs": [],
   "source": [
    "results = []"
   ]
  },
  {
   "cell_type": "code",
   "execution_count": 25,
   "id": "0f3300d1-579c-4df0-86c5-d896ff28260a",
   "metadata": {},
   "outputs": [
    {
     "data": {
      "application/vnd.jupyter.widget-view+json": {
       "model_id": "ebeb1ec099ac47b4b6baeeb9f0450a24",
       "version_major": 2,
       "version_minor": 0
      },
      "text/plain": [
       "  0%|          | 0/5 [00:00<?, ?it/s]"
      ]
     },
     "metadata": {},
     "output_type": "display_data"
    },
    {
     "data": {
      "application/vnd.jupyter.widget-view+json": {
       "model_id": "5cb87675108f42d08631ed9fa2c68f42",
       "version_major": 2,
       "version_minor": 0
      },
      "text/plain": [
       "  0%|          | 0/5 [00:00<?, ?it/s]"
      ]
     },
     "metadata": {},
     "output_type": "display_data"
    },
    {
     "data": {
      "application/vnd.jupyter.widget-view+json": {
       "model_id": "6153a57040084f849a6fae4f8a1b9dfb",
       "version_major": 2,
       "version_minor": 0
      },
      "text/plain": [
       "  0%|          | 0/5 [00:00<?, ?it/s]"
      ]
     },
     "metadata": {},
     "output_type": "display_data"
    },
    {
     "data": {
      "application/vnd.jupyter.widget-view+json": {
       "model_id": "a2eac8eeb9e440aa809d0df632136e72",
       "version_major": 2,
       "version_minor": 0
      },
      "text/plain": [
       "  0%|          | 0/5 [00:00<?, ?it/s]"
      ]
     },
     "metadata": {},
     "output_type": "display_data"
    },
    {
     "data": {
      "application/vnd.jupyter.widget-view+json": {
       "model_id": "6f2c0b1b178c47db87e4e29f4694012b",
       "version_major": 2,
       "version_minor": 0
      },
      "text/plain": [
       "  0%|          | 0/5 [00:00<?, ?it/s]"
      ]
     },
     "metadata": {},
     "output_type": "display_data"
    },
    {
     "data": {
      "application/vnd.jupyter.widget-view+json": {
       "model_id": "7b9eaf283ee5442db6c2c0d4c3ba58c1",
       "version_major": 2,
       "version_minor": 0
      },
      "text/plain": [
       "  0%|          | 0/5 [00:00<?, ?it/s]"
      ]
     },
     "metadata": {},
     "output_type": "display_data"
    }
   ],
   "source": [
    "for i in tqdm((10, 100, 200, 300, 400)):\n",
    "    for p in tqdm((1, 5, 10, 25, 50)):\n",
    "        lda = ModelLDA(corpus, dicionario, chunksize=2000, iterations=i, passes=p)\n",
    "        model = lda.run(12)\n",
    "\n",
    "        coerencia = calc_coherence(model, new_documentos, dicionario, corpus, method='c_v')\n",
    "        co = coerencia.get_coherence()\n",
    "        \n",
    "        results.append({'it': i, 'pa':p , 'co':co})"
   ]
  },
  {
   "cell_type": "code",
   "execution_count": 27,
   "id": "bf9f5fae-930a-4009-a28d-8bb6e282c133",
   "metadata": {},
   "outputs": [
    {
     "data": {
      "text/plain": [
       "{'it': 400, 'pa': 50, 'co': 0.6137001539282075}"
      ]
     },
     "execution_count": 27,
     "metadata": {},
     "output_type": "execute_result"
    }
   ],
   "source": [
    "max(results, key = lambda x: x['co'])"
   ]
  },
  {
   "cell_type": "code",
   "execution_count": 30,
   "id": "4286711d-fdb9-47fb-9477-a98bd2103711",
   "metadata": {},
   "outputs": [],
   "source": [
    "it = [r['it']for r in results]\n",
    "pa = [r['pa']for r in results]\n",
    "co  = [r['co'] for r in results]"
   ]
  },
  {
   "cell_type": "code",
   "execution_count": 56,
   "id": "b7b08674-b5fa-4386-9acb-bafc72497727",
   "metadata": {},
   "outputs": [
    {
     "data": {
      "image/png": "[encoded data removed]",
      "text/plain": [
       "<Figure size 800x600 with 2 Axes>"
      ]
     },
     "metadata": {},
     "output_type": "display_data"
    }
   ],
   "source": [
    "plt.figure(figsize=(8,6))\n",
    "plt.scatter(it, pa, c=co, cmap='Purples', s=100)\n",
    "plt.colorbar()\n",
    "\n",
    "plt.show()"
   ]
  },
  {
   "cell_type": "code",
   "execution_count": 42,
   "id": "519961bf-d836-4c9a-9f45-b15302121e3e",
   "metadata": {},
   "outputs": [
    {
     "data": {
      "text/plain": [
       "[{'it': 400, 'pa': 50, 'co': 0.6137001539282075},\n",
       " {'it': 300, 'pa': 50, 'co': 0.6120661777536435},\n",
       " {'it': 200, 'pa': 50, 'co': 0.6107138271210043},\n",
       " {'it': 400, 'pa': 25, 'co': 0.6096889701765897},\n",
       " {'it': 300, 'pa': 25, 'co': 0.6091780716928957},\n",
       " {'it': 200, 'pa': 25, 'co': 0.6081580775786162},\n",
       " {'it': 100, 'pa': 50, 'co': 0.601395018122698},\n",
       " {'it': 10, 'pa': 50, 'co': 0.6010188318067402},\n",
       " {'it': 10, 'pa': 25, 'co': 0.5939981706163221},\n",
       " {'it': 100, 'pa': 25, 'co': 0.5887569026590865},\n",
       " {'it': 400, 'pa': 10, 'co': 0.5808252472002474},\n",
       " {'it': 300, 'pa': 10, 'co': 0.5746964536410615},\n",
       " {'it': 200, 'pa': 10, 'co': 0.5744542727182332},\n",
       " {'it': 100, 'pa': 10, 'co': 0.5512325647644273},\n",
       " {'it': 10, 'pa': 10, 'co': 0.5354015087127404},\n",
       " {'it': 100, 'pa': 5, 'co': 0.5245373691496937},\n",
       " {'it': 200, 'pa': 5, 'co': 0.5245148889817193},\n",
       " {'it': 300, 'pa': 5, 'co': 0.5245007963903296},\n",
       " {'it': 400, 'pa': 5, 'co': 0.5237287112200979},\n",
       " {'it': 10, 'pa': 5, 'co': 0.40141764627312054},\n",
       " {'it': 400, 'pa': 1, 'co': 0.3217676317621971},\n",
       " {'it': 300, 'pa': 1, 'co': 0.319576675238239},\n",
       " {'it': 200, 'pa': 1, 'co': 0.31381245711995626},\n",
       " {'it': 100, 'pa': 1, 'co': 0.31057234185835697},\n",
       " {'it': 10, 'pa': 1, 'co': 0.26460719464697396}]"
      ]
     },
     "execution_count": 42,
     "metadata": {},
     "output_type": "execute_result"
    }
   ],
   "source": [
    "sorted(results, key=lambda x: x['co'], reverse=True)"
   ]
  },
  {
   "cell_type": "code",
   "execution_count": 61,
   "id": "85220285-b906-4fab-8616-63570f182937",
   "metadata": {},
   "outputs": [],
   "source": [
    "results = []"
   ]
  },
  {
   "cell_type": "code",
   "execution_count": null,
   "id": "a2d7f337-84ac-4968-b523-c38e5cb60132",
   "metadata": {},
   "outputs": [
    {
     "data": {
      "application/vnd.jupyter.widget-view+json": {
       "model_id": "6268ffc5eb124436b60b366c9065399a",
       "version_major": 2,
       "version_minor": 0
      },
      "text/plain": [
       "  0%|          | 0/2 [00:00<?, ?it/s]"
      ]
     },
     "metadata": {},
     "output_type": "display_data"
    },
    {
     "data": {
      "application/vnd.jupyter.widget-view+json": {
       "model_id": "79f03327e9f744f4a52e60caeb67f81b",
       "version_major": 2,
       "version_minor": 0
      },
      "text/plain": [
       "  0%|          | 0/2 [00:00<?, ?it/s]"
      ]
     },
     "metadata": {},
     "output_type": "display_data"
    },
    {
     "data": {
      "application/vnd.jupyter.widget-view+json": {
       "model_id": "9104f0122d0147ac9001312463435578",
       "version_major": 2,
       "version_minor": 0
      },
      "text/plain": [
       "  0%|          | 0/3 [00:00<?, ?it/s]"
      ]
     },
     "metadata": {},
     "output_type": "display_data"
    },
    {
     "data": {
      "application/vnd.jupyter.widget-view+json": {
       "model_id": "38d9acf850d24a478ae337860e1bca75",
       "version_major": 2,
       "version_minor": 0
      },
      "text/plain": [
       "  0%|          | 0/3 [00:00<?, ?it/s]"
      ]
     },
     "metadata": {},
     "output_type": "display_data"
    },
    {
     "name": "stderr",
     "output_type": "stream",
     "text": [
      "Exception ignored in: <function tqdm.__del__ at 0x7fb3267108b0>\n",
      "Traceback (most recent call last):\n",
      "  File \"/opt/miniconda3/lib/python3.9/site-packages/tqdm/std.py\", line 1149, in __del__\n",
      "    self.close()\n",
      "  File \"/opt/miniconda3/lib/python3.9/site-packages/tqdm/notebook.py\", line 281, in close\n",
      "    self.disp(bar_style='success', check_delay=False)\n",
      "AttributeError: 'tqdm_notebook' object has no attribute 'disp'\n"
     ]
    }
   ],
   "source": [
    "for bi in tqdm((15, 10)):\n",
    "    for a in tqdm((20, 30)):\n",
    "        for b in tqdm((0.4, 0.5, 0.6)):\n",
    "            new_documentos = documentos.copy()\n",
    "            add_bigram(new_documentos, min_count=bi)\n",
    "            dicionario = create_dictionary(new_documentos, n_abaixo=a, n_acima=b)\n",
    "            corpus = create_corpus(dicionario, new_documentos, use_tfidf=False)\n",
    "\n",
    "            lda = ModelLDA(corpus, dicionario, chunksize=2000, iterations=400, passes=50)\n",
    "            model = lda.run(12)\n",
    "    \n",
    "            coerencia = calc_coherence(model, new_documentos, dicionario, corpus, method='c_v')\n",
    "            co = coerencia.get_coherence()\n",
    "            \n",
    "            results.append({'bi': bi, 'a':a, 'b':b , 'co':co})\n",
    "                "
   ]
  },
  {
   "cell_type": "code",
   "execution_count": null,
   "id": "238ed2e6-de29-477c-a8ee-520ff6f88b10",
   "metadata": {},
   "outputs": [],
   "source": [
    "max(results, key = lambda x: x['co'])"
   ]
  },
  {
   "cell_type": "code",
   "execution_count": null,
   "id": "51e42410-1964-4ea1-b83f-6c3fa90109d5",
   "metadata": {},
   "outputs": [],
   "source": [
    "sorted(results, key=lambda x: x['co'], reverse=True)"
   ]
  },
  {
   "cell_type": "code",
   "execution_count": null,
   "id": "4b34f28a-e23a-4e1c-a03b-bf22296ec76f",
   "metadata": {},
   "outputs": [],
   "source": []
  }
 ],
 "metadata": {
  "kernelspec": {
   "display_name": "Python 3 (ipykernel)",
   "language": "python",
   "name": "python3"
  },
  "language_info": {
   "codemirror_mode": {
    "name": "ipython",
    "version": 3
   },
   "file_extension": ".py",
   "mimetype": "text/x-python",
   "name": "python",
   "nbconvert_exporter": "python",
   "pygments_lexer": "ipython3",
   "version": "3.9.15"
  },
  "widgets": {
   "application/vnd.jupyter.widget-state+json": {
    "state": {},
    "version_major": 2,
    "version_minor": 0
   }
  }
 },
 "nbformat": 4,
 "nbformat_minor": 5
}
