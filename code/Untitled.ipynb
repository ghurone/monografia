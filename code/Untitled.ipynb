{
 "cells": [
  {
   "cell_type": "code",
   "execution_count": 1,
   "id": "4667e22b-f8f4-4ea5-9ed7-a4e5801e5cbb",
   "metadata": {},
   "outputs": [],
   "source": [
    "%load_ext autoreload\n",
    "%autoreload 2"
   ]
  },
  {
   "cell_type": "code",
   "execution_count": 2,
   "id": "815897d4-e046-43bd-8f9f-eea69b30d962",
   "metadata": {},
   "outputs": [],
   "source": [
    "from multiprocessing import Pool\n",
    "\n",
    "import pandas as pd\n",
    "import matplotlib.pyplot as plt\n",
    "from tqdm.notebook import tqdm\n",
    "\n",
    "from utils.pre_processing import tokenizer, html_to_text\n",
    "from utils.model import add_bigram, create_dictionary, create_corpus\n",
    "from utils.model import ModelLDA, calc_coherence"
   ]
  },
  {
   "cell_type": "code",
   "execution_count": 3,
   "id": "d268b6ac-488c-473b-9a2e-689482049ace",
   "metadata": {},
   "outputs": [],
   "source": [
    "df = pd.read_feather('scielo_dataset.feather')"
   ]
  },
  {
   "cell_type": "code",
   "execution_count": 4,
   "id": "c9d09f4a-259d-48f3-bb4b-7872e53a863e",
   "metadata": {},
   "outputs": [
    {
     "data": {
      "application/vnd.jupyter.widget-view+json": {
       "model_id": "4f0559e0b9384283aac68d048f996383",
       "version_major": 2,
       "version_minor": 0
      },
      "text/plain": [
       "  0%|          | 0/1664 [00:00<?, ?it/s]"
      ]
     },
     "metadata": {},
     "output_type": "display_data"
    },
    {
     "data": {
      "application/vnd.jupyter.widget-view+json": {
       "model_id": "3f5ae1c5514c4bcaae5bcec80e2ef81b",
       "version_major": 2,
       "version_minor": 0
      },
      "text/plain": [
       "  0%|          | 0/1664 [00:00<?, ?it/s]"
      ]
     },
     "metadata": {},
     "output_type": "display_data"
    }
   ],
   "source": [
    "with Pool() as pool:\n",
    "    # limpa o html dos textos.\n",
    "    textos = list(tqdm(pool.imap(html_to_text, df['texto_html']), total=len(df)))\n",
    "    \n",
    "with Pool() as pool:\n",
    "    # tokeniza e lemmetiza os textos.\n",
    "    documentos = list(tqdm(pool.imap(tokenizer, textos), total=len(textos)))"
   ]
  },
  {
   "cell_type": "code",
   "execution_count": 5,
   "id": "19d20eff-9704-4931-8b22-d74f786550a3",
   "metadata": {},
   "outputs": [],
   "source": [
    "new_documentos = documentos.copy()"
   ]
  },
  {
   "cell_type": "code",
   "execution_count": 6,
   "id": "867fea81-126b-4fa7-a261-58820cd48ea3",
   "metadata": {},
   "outputs": [],
   "source": [
    "add_bigram(new_documentos, min_count=15)\n",
    "dicionario = create_dictionary(new_documentos, n_abaixo=30, n_acima=0.5)\n",
    "corpus = create_corpus(dicionario, new_documentos, use_tfidf=False)"
   ]
  },
  {
   "cell_type": "code",
   "execution_count": 24,
   "id": "f1bc80a0-086e-4809-9a8e-783e1e30242c",
   "metadata": {},
   "outputs": [],
   "source": [
    "results = []"
   ]
  },
  {
   "cell_type": "code",
   "execution_count": 25,
   "id": "0f3300d1-579c-4df0-86c5-d896ff28260a",
   "metadata": {},
   "outputs": [
    {
     "data": {
      "application/vnd.jupyter.widget-view+json": {
       "model_id": "ebeb1ec099ac47b4b6baeeb9f0450a24",
       "version_major": 2,
       "version_minor": 0
      },
      "text/plain": [
       "  0%|          | 0/5 [00:00<?, ?it/s]"
      ]
     },
     "metadata": {},
     "output_type": "display_data"
    },
    {
     "data": {
      "application/vnd.jupyter.widget-view+json": {
       "model_id": "5cb87675108f42d08631ed9fa2c68f42",
       "version_major": 2,
       "version_minor": 0
      },
      "text/plain": [
       "  0%|          | 0/5 [00:00<?, ?it/s]"
      ]
     },
     "metadata": {},
     "output_type": "display_data"
    },
    {
     "data": {
      "application/vnd.jupyter.widget-view+json": {
       "model_id": "6153a57040084f849a6fae4f8a1b9dfb",
       "version_major": 2,
       "version_minor": 0
      },
      "text/plain": [
       "  0%|          | 0/5 [00:00<?, ?it/s]"
      ]
     },
     "metadata": {},
     "output_type": "display_data"
    },
    {
     "data": {
      "application/vnd.jupyter.widget-view+json": {
       "model_id": "a2eac8eeb9e440aa809d0df632136e72",
       "version_major": 2,
       "version_minor": 0
      },
      "text/plain": [
       "  0%|          | 0/5 [00:00<?, ?it/s]"
      ]
     },
     "metadata": {},
     "output_type": "display_data"
    },
    {
     "data": {
      "application/vnd.jupyter.widget-view+json": {
       "model_id": "6f2c0b1b178c47db87e4e29f4694012b",
       "version_major": 2,
       "version_minor": 0
      },
      "text/plain": [
       "  0%|          | 0/5 [00:00<?, ?it/s]"
      ]
     },
     "metadata": {},
     "output_type": "display_data"
    },
    {
     "data": {
      "application/vnd.jupyter.widget-view+json": {
       "model_id": "7b9eaf283ee5442db6c2c0d4c3ba58c1",
       "version_major": 2,
       "version_minor": 0
      },
      "text/plain": [
       "  0%|          | 0/5 [00:00<?, ?it/s]"
      ]
     },
     "metadata": {},
     "output_type": "display_data"
    }
   ],
   "source": [
    "for i in tqdm((10, 100, 200, 300, 400)):\n",
    "    for p in tqdm((1, 5, 10, 25, 50)):\n",
    "        lda = ModelLDA(corpus, dicionario, chunksize=2000, iterations=i, passes=p)\n",
    "        model = lda.run(12)\n",
    "\n",
    "        coerencia = calc_coherence(model, new_documentos, dicionario, corpus, method='c_v')\n",
    "        co = coerencia.get_coherence()\n",
    "        \n",
    "        results.append({'it': i, 'pa':p , 'co':co})"
   ]
  },
  {
   "cell_type": "code",
   "execution_count": 27,
   "id": "bf9f5fae-930a-4009-a28d-8bb6e282c133",
   "metadata": {},
   "outputs": [
    {
     "data": {
      "text/plain": [
       "{'it': 400, 'pa': 50, 'co': 0.6137001539282075}"
      ]
     },
     "execution_count": 27,
     "metadata": {},
     "output_type": "execute_result"
    }
   ],
   "source": [
    "max(results, key = lambda x: x['co'])"
   ]
  },
  {
   "cell_type": "code",
   "execution_count": 30,
   "id": "4286711d-fdb9-47fb-9477-a98bd2103711",
   "metadata": {},
   "outputs": [],
   "source": [
    "it = [r['it']for r in results]\n",
    "pa = [r['pa']for r in results]\n",
    "co  = [r['co'] for r in results]"
   ]
  },
  {
   "cell_type": "code",
   "execution_count": 56,
   "id": "b7b08674-b5fa-4386-9acb-bafc72497727",
   "metadata": {},
   "outputs": [
    {
     "data": {
      "image/png": "[encoded data removed]",
      "text/plain": [
       "<Figure size 800x600 with 2 Axes>"
      ]
     },
     "metadata": {},
     "output_type": "display_data"
    }
   ],
   "source": [
    "plt.figure(figsize=(8,6))\n",
    "plt.scatter(it, pa, c=co, cmap='Purples', s=100)\n",
    "plt.colorbar()\n",
    "\n",
    "plt.show()"
   ]
  },
  {
   "cell_type": "code",
   "execution_count": 42,
   "id": "519961bf-d836-4c9a-9f45-b15302121e3e",
   "metadata": {},
   "outputs": [
    {
     "data": {
      "text/plain": [
       "[{'it': 400, 'pa': 50, 'co': 0.6137001539282075},\n",
       " {'it': 300, 'pa': 50, 'co': 0.6120661777536435},\n",
       " {'it': 200, 'pa': 50, 'co': 0.6107138271210043},\n",
       " {'it': 400, 'pa': 25, 'co': 0.6096889701765897},\n",
       " {'it': 300, 'pa': 25, 'co': 0.6091780716928957},\n",
       " {'it': 200, 'pa': 25, 'co': 0.6081580775786162},\n",
       " {'it': 100, 'pa': 50, 'co': 0.601395018122698},\n",
       " {'it': 10, 'pa': 50, 'co': 0.6010188318067402},\n",
       " {'it': 10, 'pa': 25, 'co': 0.5939981706163221},\n",
       " {'it': 100, 'pa': 25, 'co': 0.5887569026590865},\n",
       " {'it': 400, 'pa': 10, 'co': 0.5808252472002474},\n",
       " {'it': 300, 'pa': 10, 'co': 0.5746964536410615},\n",
       " {'it': 200, 'pa': 10, 'co': 0.5744542727182332},\n",
       " {'it': 100, 'pa': 10, 'co': 0.5512325647644273},\n",
       " {'it': 10, 'pa': 10, 'co': 0.5354015087127404},\n",
       " {'it': 100, 'pa': 5, 'co': 0.5245373691496937},\n",
       " {'it': 200, 'pa': 5, 'co': 0.5245148889817193},\n",
       " {'it': 300, 'pa': 5, 'co': 0.5245007963903296},\n",
       " {'it': 400, 'pa': 5, 'co': 0.5237287112200979},\n",
       " {'it': 10, 'pa': 5, 'co': 0.40141764627312054},\n",
       " {'it': 400, 'pa': 1, 'co': 0.3217676317621971},\n",
       " {'it': 300, 'pa': 1, 'co': 0.319576675238239},\n",
       " {'it': 200, 'pa': 1, 'co': 0.31381245711995626},\n",
       " {'it': 100, 'pa': 1, 'co': 0.31057234185835697},\n",
       " {'it': 10, 'pa': 1, 'co': 0.26460719464697396}]"
      ]
     },
     "execution_count": 42,
     "metadata": {},
     "output_type": "execute_result"
    }
   ],
   "source": [
    "sorted(results, key=lambda x: x['co'], reverse=True)"
   ]
  },
  {
   "cell_type": "code",
   "execution_count": 61,
   "id": "85220285-b906-4fab-8616-63570f182937",
   "metadata": {},
   "outputs": [],
   "source": [
    "results = []"
   ]
  },
  {
   "cell_type": "code",
   "execution_count": null,
   "id": "a2d7f337-84ac-4968-b523-c38e5cb60132",
   "metadata": {},
   "outputs": [
    {
     "data": {
      "application/vnd.jupyter.widget-view+json": {
       "model_id": "6268ffc5eb124436b60b366c9065399a",
       "version_major": 2,
       "version_minor": 0
      },
      "text/plain": [
       "  0%|          | 0/2 [00:00<?, ?it/s]"
      ]
     },
     "metadata": {},
     "output_type": "display_data"
    },
    {
     "data": {
      "application/vnd.jupyter.widget-view+json": {
       "model_id": "79f03327e9f744f4a52e60caeb67f81b",
       "version_major": 2,
       "version_minor": 0
      },
      "text/plain": [
       "  0%|          | 0/2 [00:00<?, ?it/s]"
      ]
     },
     "metadata": {},
     "output_type": "display_data"
    },
    {
     "data": {
      "application/vnd.jupyter.widget-view+json": {
       "model_id": "9104f0122d0147ac9001312463435578",
       "version_major": 2,
       "version_minor": 0
      },
      "text/plain": [
       "  0%|          | 0/3 [00:00<?, ?it/s]"
      ]
     },
     "metadata": {},
     "output_type": "display_data"
    },
    {
     "data": {
      "application/vnd.jupyter.widget-view+json": {
       "model_id": "38d9acf850d24a478ae337860e1bca75",
       "version_major": 2,
       "version_minor": 0
      },
      "text/plain": [
       "  0%|          | 0/3 [00:00<?, ?it/s]"
      ]
     },
     "metadata": {},
     "output_type": "display_data"
    },
    {
     "name": "stderr",
     "output_type": "stream",
     "text": [
      "Exception ignored in: <function tqdm.__del__ at 0x7fb3267108b0>\n",
      "Traceback (most recent call last):\n",
      "  File \"/opt/miniconda3/lib/python3.9/site-packages/tqdm/std.py\", line 1149, in __del__\n",
      "    self.close()\n",
      "  File \"/opt/miniconda3/lib/python3.9/site-packages/tqdm/notebook.py\", line 281, in close\n",
      "    self.disp(bar_style='success', check_delay=False)\n",
      "AttributeError: 'tqdm_notebook' object has no attribute 'disp'\n"
     ]
    }
   ],
   "source": [
    "for bi in tqdm((15, 10)):\n",
    "    for a in tqdm((20, 30)):\n",
    "        for b in tqdm((0.4, 0.5, 0.6)):\n",
    "            new_documentos = documentos.copy()\n",
    "            add_bigram(new_documentos, min_count=bi)\n",
    "            dicionario = create_dictionary(new_documentos, n_abaixo=a, n_acima=b)\n",
    "            corpus = create_corpus(dicionario, new_documentos, use_tfidf=False)\n",
    "\n",
    "            lda = ModelLDA(corpus, dicionario, chunksize=2000, iterations=400, passes=50)\n",
    "            model = lda.run(12)\n",
    "    \n",
    "            coerencia = calc_coherence(model, new_documentos, dicionario, corpus, method='c_v')\n",
    "            co = coerencia.get_coherence()\n",
    "            \n",
    "            results.append({'bi': bi, 'a':a, 'b':b , 'co':co})\n",
    "                "
   ]
  },
  {
   "cell_type": "code",
   "execution_count": null,
   "id": "238ed2e6-de29-477c-a8ee-520ff6f88b10",
   "metadata": {},
   "outputs": [],
   "source": [
    "max(results, key = lambda x: x['co'])"
   ]
  },
  {
   "cell_type": "code",
   "execution_count": null,
   "id": "51e42410-1964-4ea1-b83f-6c3fa90109d5",
   "metadata": {},
   "outputs": [],
   "source": [
    "sorted(results, key=lambda x: x['co'], reverse=True)"
   ]
  },
  {
   "cell_type": "code",
   "execution_count": null,
   "id": "4b34f28a-e23a-4e1c-a03b-bf22296ec76f",
   "metadata": {},
   "outputs": [],
   "source": []
  }
 ],
 "metadata": {
  "kernelspec": {
   "display_name": "Python 3 (ipykernel)",
   "language": "python",
   "name": "python3"
  },
  "language_info": {
   "codemirror_mode": {
    "name": "ipython",
    "version": 3
   },
   "file_extension": ".py",
   "mimetype": "text/x-python",
   "name": "python",
   "nbconvert_exporter": "python",
   "pygments_lexer": "ipython3",
   "version": "3.9.15"
  },
  "widgets": {
   "application/vnd.jupyter.widget-state+json": {
    "state": {
     "00729fb33e15405888b84a4e1816278c": {
      "model_module": "@jupyter-widgets/controls",
      "model_module_version": "2.0.0",
      "model_name": "HTMLModel",
      "state": {
       "layout": "IPY_MODEL_0d06a26e7a1c4eabbb86b66d2a56e8ca",
       "style": "IPY_MODEL_edb63d26211e4fd886c8b39b5bf952ec",
       "value": " 0/2 [00:00&lt;?, ?it/s]"
      }
     },
     "00b29001d2774e7a8f9c81536874c807": {
      "model_module": "@jupyter-widgets/controls",
      "model_module_version": "2.0.0",
      "model_name": "HTMLStyleModel",
      "state": {
       "description_width": "",
       "font_size": null,
       "text_color": null
      }
     },
     "01b4b9c8c02640ae8b753aa1a87501bd": {
      "model_module": "@jupyter-widgets/base",
      "model_module_version": "2.0.0",
      "model_name": "LayoutModel",
      "state": {}
     },
     "050451376a5a46418872cbe088dbd2b9": {
      "model_module": "@jupyter-widgets/controls",
      "model_module_version": "2.0.0",
      "model_name": "HTMLModel",
      "state": {
       "layout": "IPY_MODEL_0a2ff28be4844df0bcb829a36a79951c",
       "style": "IPY_MODEL_67eb92dbd8564d3b93fb817116b4b976",
       "value": " 0/3 [00:08&lt;?, ?it/s]"
      }
     },
     "06a16fc4fdcb451990e6402def2795a0": {
      "model_module": "@jupyter-widgets/base",
      "model_module_version": "2.0.0",
      "model_name": "LayoutModel",
      "state": {}
     },
     "06a712d7f0fb494a8dac9d871e8e63b9": {
      "model_module": "@jupyter-widgets/controls",
      "model_module_version": "2.0.0",
      "model_name": "ProgressStyleModel",
      "state": {
       "description_width": ""
      }
     },
     "0a2ff28be4844df0bcb829a36a79951c": {
      "model_module": "@jupyter-widgets/base",
      "model_module_version": "2.0.0",
      "model_name": "LayoutModel",
      "state": {}
     },
     "0ace5fe7b71f4ec99afec2dac78ee07d": {
      "model_module": "@jupyter-widgets/base",
      "model_module_version": "2.0.0",
      "model_name": "LayoutModel",
      "state": {}
     },
     "0aeae42d8fd040209cf4025ab32863b2": {
      "model_module": "@jupyter-widgets/base",
      "model_module_version": "2.0.0",
      "model_name": "LayoutModel",
      "state": {}
     },
     "0b5b3e611e66442384a2fc1f84f56d22": {
      "model_module": "@jupyter-widgets/base",
      "model_module_version": "2.0.0",
      "model_name": "LayoutModel",
      "state": {}
     },
     "0ba637f2d7894cc18575eb823a38ef48": {
      "model_module": "@jupyter-widgets/controls",
      "model_module_version": "2.0.0",
      "model_name": "HTMLStyleModel",
      "state": {
       "description_width": "",
       "font_size": null,
       "text_color": null
      }
     },
     "0c318f2cf3ce4f6e9d10970747fe6e1f": {
      "model_module": "@jupyter-widgets/base",
      "model_module_version": "2.0.0",
      "model_name": "LayoutModel",
      "state": {}
     },
     "0d06a26e7a1c4eabbb86b66d2a56e8ca": {
      "model_module": "@jupyter-widgets/base",
      "model_module_version": "2.0.0",
      "model_name": "LayoutModel",
      "state": {}
     },
     "0f39ed9d2db7454f84b719e233c507d1": {
      "model_module": "@jupyter-widgets/base",
      "model_module_version": "2.0.0",
      "model_name": "LayoutModel",
      "state": {}
     },
     "10ad786ac78e4ebe946241c0de7c1d88": {
      "model_module": "@jupyter-widgets/base",
      "model_module_version": "2.0.0",
      "model_name": "LayoutModel",
      "state": {}
     },
     "11e8d7aeb7bb45de99ea0394850e2d77": {
      "model_module": "@jupyter-widgets/controls",
      "model_module_version": "2.0.0",
      "model_name": "HTMLStyleModel",
      "state": {
       "description_width": "",
       "font_size": null,
       "text_color": null
      }
     },
     "14e5aafde10748ab813b460ace3f9405": {
      "model_module": "@jupyter-widgets/base",
      "model_module_version": "2.0.0",
      "model_name": "LayoutModel",
      "state": {}
     },
     "1939437a609e42baa578de593088de4a": {
      "model_module": "@jupyter-widgets/controls",
      "model_module_version": "2.0.0",
      "model_name": "FloatProgressModel",
      "state": {
       "bar_style": "danger",
       "layout": "IPY_MODEL_9de5dda6e7094f64ac05478227d88f30",
       "max": 2,
       "style": "IPY_MODEL_b6c328003308457ab5a1bc090b1d76b6"
      }
     },
     "1b79feba623b48a9855e4efcdbd93fdc": {
      "model_module": "@jupyter-widgets/controls",
      "model_module_version": "2.0.0",
      "model_name": "HTMLStyleModel",
      "state": {
       "description_width": "",
       "font_size": null,
       "text_color": null
      }
     },
     "1bb2788f4c764f45a2088d27d0ee243a": {
      "model_module": "@jupyter-widgets/controls",
      "model_module_version": "2.0.0",
      "model_name": "HTMLModel",
      "state": {
       "layout": "IPY_MODEL_14e5aafde10748ab813b460ace3f9405",
       "style": "IPY_MODEL_af8083249ed44663aabae6108b87dc8e",
       "value": "100%"
      }
     },
     "1dfe78b293e249bcbed36a9705ddc82e": {
      "model_module": "@jupyter-widgets/controls",
      "model_module_version": "2.0.0",
      "model_name": "HTMLStyleModel",
      "state": {
       "description_width": "",
       "font_size": null,
       "text_color": null
      }
     },
     "1ed55719fb264c50bd851b31ddc7da51": {
      "model_module": "@jupyter-widgets/controls",
      "model_module_version": "2.0.0",
      "model_name": "ProgressStyleModel",
      "state": {
       "description_width": ""
      }
     },
     "1f0521f4c7a141a1a977f14c0e5e604e": {
      "model_module": "@jupyter-widgets/controls",
      "model_module_version": "2.0.0",
      "model_name": "ProgressStyleModel",
      "state": {
       "description_width": ""
      }
     },
     "1fc3e50a32e44210adef8b06f638cf2e": {
      "model_module": "@jupyter-widgets/base",
      "model_module_version": "2.0.0",
      "model_name": "LayoutModel",
      "state": {
       "width": "20px"
      }
     },
     "204b1ff9f43b4fef9223830d3a16e00c": {
      "model_module": "@jupyter-widgets/base",
      "model_module_version": "2.0.0",
      "model_name": "LayoutModel",
      "state": {}
     },
     "209dab25965e4fc784103b656fa311d0": {
      "model_module": "@jupyter-widgets/controls",
      "model_module_version": "2.0.0",
      "model_name": "ProgressStyleModel",
      "state": {
       "description_width": ""
      }
     },
     "212eb77b8d7a4b588f51f5fbf92bee5a": {
      "model_module": "@jupyter-widgets/base",
      "model_module_version": "2.0.0",
      "model_name": "LayoutModel",
      "state": {}
     },
     "21599baa0b204f1690edcc6f3a611475": {
      "model_module": "@jupyter-widgets/controls",
      "model_module_version": "2.0.0",
      "model_name": "FloatProgressModel",
      "state": {
       "bar_style": "success",
       "layout": "IPY_MODEL_95798df31153457584b1d0da745b5c49",
       "max": 5,
       "style": "IPY_MODEL_45f45f63a7bc414ca42c30b4f5651374",
       "value": 5
      }
     },
     "2291136003e04ba5b4fc2d3ba1c54c17": {
      "model_module": "@jupyter-widgets/base",
      "model_module_version": "2.0.0",
      "model_name": "LayoutModel",
      "state": {}
     },
     "22d5a479072441c082920285b44d46e2": {
      "model_module": "@jupyter-widgets/base",
      "model_module_version": "2.0.0",
      "model_name": "LayoutModel",
      "state": {}
     },
     "23c13663356147548c7f3df41ba8ae1d": {
      "model_module": "@jupyter-widgets/base",
      "model_module_version": "2.0.0",
      "model_name": "LayoutModel",
      "state": {}
     },
     "25cff35721da47c98cccd1a4bb406dc6": {
      "model_module": "@jupyter-widgets/controls",
      "model_module_version": "2.0.0",
      "model_name": "HBoxModel",
      "state": {
       "children": [
        "IPY_MODEL_ccfea9ab20374e3eb962f658fc7468d5",
        "IPY_MODEL_6df6d479ad704599917c4144d628ac70",
        "IPY_MODEL_ed353c6e5ae0441d85a43d04544ab53c"
       ],
       "layout": "IPY_MODEL_f64790097eda4e7eaeff8e21e8c4308b"
      }
     },
     "25e2928c759c45a1a1606623d6db6d41": {
      "model_module": "@jupyter-widgets/controls",
      "model_module_version": "2.0.0",
      "model_name": "HTMLModel",
      "state": {
       "layout": "IPY_MODEL_b52019e1e7a24baa9135d8e60aeb7089",
       "style": "IPY_MODEL_8dea4d1e4e4248deb228f6d111bdbfc0",
       "value": " 5/5 [24:02&lt;00:00, 389.35s/it]"
      }
     },
     "26b0cc2b62f4496f89b7cc66472b66b2": {
      "model_module": "@jupyter-widgets/controls",
      "model_module_version": "2.0.0",
      "model_name": "ProgressStyleModel",
      "state": {
       "description_width": ""
      }
     },
     "26ba157be5754397a881f311e775921b": {
      "model_module": "@jupyter-widgets/base",
      "model_module_version": "2.0.0",
      "model_name": "LayoutModel",
      "state": {}
     },
     "26bd6627beda40d1b8a40fa3418d21d3": {
      "model_module": "@jupyter-widgets/controls",
      "model_module_version": "2.0.0",
      "model_name": "HTMLStyleModel",
      "state": {
       "description_width": "",
       "font_size": null,
       "text_color": null
      }
     },
     "2b6ea51f86bc4674b2e013417ce181a9": {
      "model_module": "@jupyter-widgets/controls",
      "model_module_version": "2.0.0",
      "model_name": "HTMLStyleModel",
      "state": {
       "description_width": "",
       "font_size": null,
       "text_color": null
      }
     },
     "2d114660016745a298244b217df3166a": {
      "model_module": "@jupyter-widgets/controls",
      "model_module_version": "2.0.0",
      "model_name": "ProgressStyleModel",
      "state": {
       "description_width": ""
      }
     },
     "2d695080a4634d5cb4bc86a41ebd8f6d": {
      "model_module": "@jupyter-widgets/base",
      "model_module_version": "2.0.0",
      "model_name": "LayoutModel",
      "state": {}
     },
     "2eab0b3875774164a1a9b181b3867ede": {
      "model_module": "@jupyter-widgets/controls",
      "model_module_version": "2.0.0",
      "model_name": "FloatProgressModel",
      "state": {
       "layout": "IPY_MODEL_01b4b9c8c02640ae8b753aa1a87501bd",
       "max": 3,
       "style": "IPY_MODEL_e8303be4a406440a970783c0242747cd"
      }
     },
     "2f4cd593bcae4cd798ce48547dbbf054": {
      "model_module": "@jupyter-widgets/controls",
      "model_module_version": "2.0.0",
      "model_name": "HTMLModel",
      "state": {
       "layout": "IPY_MODEL_36ae90e9781842008eae6d8f46840e44",
       "style": "IPY_MODEL_cfc2b25b97cc4633b266dcf4e7202192",
       "value": " 1664/1664 [00:28&lt;00:00, 32.35it/s]"
      }
     },
     "31e033986b0a431ab647c9f47cadd84a": {
      "model_module": "@jupyter-widgets/controls",
      "model_module_version": "2.0.0",
      "model_name": "HTMLStyleModel",
      "state": {
       "description_width": "",
       "font_size": null,
       "text_color": null
      }
     },
     "3270c0b000644ef9b9b0ff712cb297b0": {
      "model_module": "@jupyter-widgets/controls",
      "model_module_version": "2.0.0",
      "model_name": "ProgressStyleModel",
      "state": {
       "description_width": ""
      }
     },
     "32b3c70f89bb4859ba10d335a65b396b": {
      "model_module": "@jupyter-widgets/controls",
      "model_module_version": "2.0.0",
      "model_name": "HTMLModel",
      "state": {
       "layout": "IPY_MODEL_6a805234134944d08d7f0501562e987d",
       "style": "IPY_MODEL_26bd6627beda40d1b8a40fa3418d21d3",
       "value": "  0%"
      }
     },
     "32de3b4ae533422b9a05dafdfa314456": {
      "model_module": "@jupyter-widgets/base",
      "model_module_version": "2.0.0",
      "model_name": "LayoutModel",
      "state": {}
     },
     "3377789086bb4f1eb4659e4801fe0e51": {
      "model_module": "@jupyter-widgets/controls",
      "model_module_version": "2.0.0",
      "model_name": "HBoxModel",
      "state": {
       "children": [
        "IPY_MODEL_e64d61add5694f4bba93cb921dc84639",
        "IPY_MODEL_7da62b02943d46d9a714c089c83a9bf9",
        "IPY_MODEL_3c0d64a4e3614258bf28c32048188c2a"
       ],
       "layout": "IPY_MODEL_3724e83c86e5476bb1036d21360c7da1"
      }
     },
     "34e4f9247d524a22b6ad6d3efe35cfd6": {
      "model_module": "@jupyter-widgets/controls",
      "model_module_version": "2.0.0",
      "model_name": "HBoxModel",
      "state": {
       "children": [
        "IPY_MODEL_d5e78632820143e5845e427f3ebedc38",
        "IPY_MODEL_9b84379bb757453e86d39951bbff4798",
        "IPY_MODEL_725a4dba96ff4e06bc13fe0efa5ae151"
       ],
       "layout": "IPY_MODEL_93d6039ed5ba4c649a8c9f27a19b78d7"
      }
     },
     "356f7a8f336b446eb49e898b2cb02132": {
      "model_module": "@jupyter-widgets/base",
      "model_module_version": "2.0.0",
      "model_name": "LayoutModel",
      "state": {}
     },
     "36ae90e9781842008eae6d8f46840e44": {
      "model_module": "@jupyter-widgets/base",
      "model_module_version": "2.0.0",
      "model_name": "LayoutModel",
      "state": {}
     },
     "36d8538236944d58bc623bc790c16b18": {
      "model_module": "@jupyter-widgets/controls",
      "model_module_version": "2.0.0",
      "model_name": "HTMLStyleModel",
      "state": {
       "description_width": "",
       "font_size": null,
       "text_color": null
      }
     },
     "3724e83c86e5476bb1036d21360c7da1": {
      "model_module": "@jupyter-widgets/base",
      "model_module_version": "2.0.0",
      "model_name": "LayoutModel",
      "state": {}
     },
     "38d9acf850d24a478ae337860e1bca75": {
      "model_module": "@jupyter-widgets/controls",
      "model_module_version": "2.0.0",
      "model_name": "HBoxModel",
      "state": {
       "children": [
        "IPY_MODEL_65a4c54ce34f4d46a49e99c535c20ea1",
        "IPY_MODEL_2eab0b3875774164a1a9b181b3867ede",
        "IPY_MODEL_7c87e7e60a9d4730a311b49d556e9cab"
       ],
       "layout": "IPY_MODEL_4caa3ed1e9894773bc85c6e790e31c81"
      }
     },
     "394cc9634a2143b389423b004eb1fffc": {
      "model_module": "@jupyter-widgets/controls",
      "model_module_version": "2.0.0",
      "model_name": "HBoxModel",
      "state": {
       "children": [
        "IPY_MODEL_32b3c70f89bb4859ba10d335a65b396b",
        "IPY_MODEL_5fba08c197db4706833fdc43b3af1402",
        "IPY_MODEL_535844017116412bbc6523e7f4925864"
       ],
       "layout": "IPY_MODEL_e749b96ba99947cbb49840b4f2e98620"
      }
     },
     "3a10743e45574fd08124fab5bbd13050": {
      "model_module": "@jupyter-widgets/base",
      "model_module_version": "2.0.0",
      "model_name": "LayoutModel",
      "state": {}
     },
     "3c0d64a4e3614258bf28c32048188c2a": {
      "model_module": "@jupyter-widgets/controls",
      "model_module_version": "2.0.0",
      "model_name": "HTMLModel",
      "state": {
       "layout": "IPY_MODEL_c35a3fda73f0429e863bca2cc33db896",
       "style": "IPY_MODEL_00b29001d2774e7a8f9c81536874c807",
       "value": " 0/5 [00:20&lt;?, ?it/s]"
      }
     },
     "3c91ef5309384b7e9c4a748ac3a445b6": {
      "model_module": "@jupyter-widgets/controls",
      "model_module_version": "2.0.0",
      "model_name": "HTMLModel",
      "state": {
       "layout": "IPY_MODEL_204b1ff9f43b4fef9223830d3a16e00c",
       "style": "IPY_MODEL_a60c35cae7914eb7a4f3b734a9f5278d",
       "value": " 5/5 [1:36:17&lt;00:00, 1323.49s/it]"
      }
     },
     "3e3f639defd541cab08957a4434e1789": {
      "model_module": "@jupyter-widgets/controls",
      "model_module_version": "2.0.0",
      "model_name": "HTMLModel",
      "state": {
       "layout": "IPY_MODEL_b08b53a2236f4262b9e6c339ace53ff6",
       "style": "IPY_MODEL_ede99aac028f4bdd834ddcabee23d829",
       "value": " 5/5 [22:22&lt;00:00, 367.65s/it]"
      }
     },
     "3f5ae1c5514c4bcaae5bcec80e2ef81b": {
      "model_module": "@jupyter-widgets/controls",
      "model_module_version": "2.0.0",
      "model_name": "HBoxModel",
      "state": {
       "children": [
        "IPY_MODEL_4a5913bd0b934eada5b3734448629124",
        "IPY_MODEL_524db4bddf0048bcae0eef9bb1d62948",
        "IPY_MODEL_6b312f370ea44b08bc91dd68a2aa561a"
       ],
       "layout": "IPY_MODEL_852c7376f20d4fa580d364fed8a66433"
      }
     },
     "3f77714be6194b3f99e509cd3d7e8b83": {
      "model_module": "@jupyter-widgets/controls",
      "model_module_version": "2.0.0",
      "model_name": "HTMLModel",
      "state": {
       "layout": "IPY_MODEL_62bbfc32726945499ec9381fe7d90d61",
       "style": "IPY_MODEL_fb13e5cc447b430494f80625b732f358",
       "value": "  0%"
      }
     },
     "41311202a473473885bd2877be491a95": {
      "model_module": "@jupyter-widgets/controls",
      "model_module_version": "2.0.0",
      "model_name": "FloatProgressModel",
      "state": {
       "bar_style": "danger",
       "layout": "IPY_MODEL_bfb3b761b4d84eafa17282a9d7648138",
       "max": 5,
       "style": "IPY_MODEL_209dab25965e4fc784103b656fa311d0"
      }
     },
     "45eb2cd720cd4fa38c25f96561cc0e4a": {
      "model_module": "@jupyter-widgets/base",
      "model_module_version": "2.0.0",
      "model_name": "LayoutModel",
      "state": {}
     },
     "45f45f63a7bc414ca42c30b4f5651374": {
      "model_module": "@jupyter-widgets/controls",
      "model_module_version": "2.0.0",
      "model_name": "ProgressStyleModel",
      "state": {
       "description_width": ""
      }
     },
     "476cf9c7f65a4c53ad4287a9d42d665c": {
      "model_module": "@jupyter-widgets/controls",
      "model_module_version": "2.0.0",
      "model_name": "HTMLStyleModel",
      "state": {
       "description_width": "",
       "font_size": null,
       "text_color": null
      }
     },
     "4a5913bd0b934eada5b3734448629124": {
      "model_module": "@jupyter-widgets/controls",
      "model_module_version": "2.0.0",
      "model_name": "HTMLModel",
      "state": {
       "layout": "IPY_MODEL_a842d3db569d4c2e9366143e7c6156da",
       "style": "IPY_MODEL_688a4c93cecf4d33b4732d033e4244f3",
       "value": "100%"
      }
     },
     "4c8bf5473dd342ef9ca083669bddf295": {
      "model_module": "@jupyter-widgets/controls",
      "model_module_version": "2.0.0",
      "model_name": "ProgressStyleModel",
      "state": {
       "description_width": ""
      }
     },
     "4caa3ed1e9894773bc85c6e790e31c81": {
      "model_module": "@jupyter-widgets/base",
      "model_module_version": "2.0.0",
      "model_name": "LayoutModel",
      "state": {}
     },
     "4da5811f56264b99bd29b6806a070c17": {
      "model_module": "@jupyter-widgets/controls",
      "model_module_version": "2.0.0",
      "model_name": "HTMLModel",
      "state": {
       "layout": "IPY_MODEL_882892b84f1e4f89a13809a0988ed8c2",
       "style": "IPY_MODEL_f722032acbb940d0938f5a8c2546a581"
      }
     },
     "4f0559e0b9384283aac68d048f996383": {
      "model_module": "@jupyter-widgets/controls",
      "model_module_version": "2.0.0",
      "model_name": "HBoxModel",
      "state": {
       "children": [
        "IPY_MODEL_d6dc813188194c51906f0d8d844fb8af",
        "IPY_MODEL_ef19d5c82af54461a8a2c04fb07bf06e",
        "IPY_MODEL_2f4cd593bcae4cd798ce48547dbbf054"
       ],
       "layout": "IPY_MODEL_74301717d2464a19a0541ead2c8f23c8"
      }
     },
     "4f668e06b2bf4960964519bc0c0c70bc": {
      "model_module": "@jupyter-widgets/controls",
      "model_module_version": "2.0.0",
      "model_name": "ProgressStyleModel",
      "state": {
       "description_width": ""
      }
     },
     "50bde7094bb04e3cbe990b4a8aff9503": {
      "model_module": "@jupyter-widgets/base",
      "model_module_version": "2.0.0",
      "model_name": "LayoutModel",
      "state": {}
     },
     "50fb56499c284236ba8c94e7e3e4ebd4": {
      "model_module": "@jupyter-widgets/base",
      "model_module_version": "2.0.0",
      "model_name": "LayoutModel",
      "state": {}
     },
     "524db4bddf0048bcae0eef9bb1d62948": {
      "model_module": "@jupyter-widgets/controls",
      "model_module_version": "2.0.0",
      "model_name": "FloatProgressModel",
      "state": {
       "bar_style": "success",
       "layout": "IPY_MODEL_45eb2cd720cd4fa38c25f96561cc0e4a",
       "max": 1664,
       "style": "IPY_MODEL_7b4f9ac054504ca7adf17d61b9fd58f8",
       "value": 1664
      }
     },
     "535844017116412bbc6523e7f4925864": {
      "model_module": "@jupyter-widgets/controls",
      "model_module_version": "2.0.0",
      "model_name": "HTMLModel",
      "state": {
       "layout": "IPY_MODEL_50bde7094bb04e3cbe990b4a8aff9503",
       "style": "IPY_MODEL_de4be4c4e7644dbc8a1ef977019a785f",
       "value": " 0/5 [00:16&lt;?, ?it/s]"
      }
     },
     "546e2615bb2a40b9ac5d59d6ecd0eeca": {
      "model_module": "@jupyter-widgets/base",
      "model_module_version": "2.0.0",
      "model_name": "LayoutModel",
      "state": {}
     },
     "55bd25730593483a846377c4e093d7f1": {
      "model_module": "@jupyter-widgets/controls",
      "model_module_version": "2.0.0",
      "model_name": "HTMLModel",
      "state": {
       "layout": "IPY_MODEL_26ba157be5754397a881f311e775921b",
       "style": "IPY_MODEL_e6f5e9df05424b739f2153515e0737ac",
       "value": "  0%"
      }
     },
     "56daae8658154af7bbc592004caac89b": {
      "model_module": "@jupyter-widgets/controls",
      "model_module_version": "2.0.0",
      "model_name": "HTMLModel",
      "state": {
       "layout": "IPY_MODEL_50fb56499c284236ba8c94e7e3e4ebd4",
       "style": "IPY_MODEL_31e033986b0a431ab647c9f47cadd84a",
       "value": " 50%"
      }
     },
     "5862c044312640d2bc1a462ef3f7e4e1": {
      "model_module": "@jupyter-widgets/base",
      "model_module_version": "2.0.0",
      "model_name": "LayoutModel",
      "state": {}
     },
     "5abe03c0e68c445583fb7c93448c1604": {
      "model_module": "@jupyter-widgets/controls",
      "model_module_version": "2.0.0",
      "model_name": "HTMLStyleModel",
      "state": {
       "description_width": "",
       "font_size": null,
       "text_color": null
      }
     },
     "5abe16b7f1094f58a0cd626706e60f0a": {
      "model_module": "@jupyter-widgets/base",
      "model_module_version": "2.0.0",
      "model_name": "LayoutModel",
      "state": {}
     },
     "5ba22f12e14646fe8f59aff43397940e": {
      "model_module": "@jupyter-widgets/controls",
      "model_module_version": "2.0.0",
      "model_name": "ProgressStyleModel",
      "state": {
       "description_width": ""
      }
     },
     "5cb87675108f42d08631ed9fa2c68f42": {
      "model_module": "@jupyter-widgets/controls",
      "model_module_version": "2.0.0",
      "model_name": "HBoxModel",
      "state": {
       "children": [
        "IPY_MODEL_fb027773464f43149eb5bbf587500383",
        "IPY_MODEL_8151659c62a24493b90d9bd4c79ea4d6",
        "IPY_MODEL_e08f90e84a424452a778ed34e56f3b50"
       ],
       "layout": "IPY_MODEL_0c318f2cf3ce4f6e9d10970747fe6e1f"
      }
     },
     "5fba08c197db4706833fdc43b3af1402": {
      "model_module": "@jupyter-widgets/controls",
      "model_module_version": "2.0.0",
      "model_name": "FloatProgressModel",
      "state": {
       "bar_style": "danger",
       "layout": "IPY_MODEL_f4f98bb52a874fd992e44cb31c2bf2d5",
       "max": 5,
       "style": "IPY_MODEL_4c8bf5473dd342ef9ca083669bddf295"
      }
     },
     "60a386075cda47b8b02c4db17a0eef1a": {
      "model_module": "@jupyter-widgets/controls",
      "model_module_version": "2.0.0",
      "model_name": "HTMLModel",
      "state": {
       "layout": "IPY_MODEL_2291136003e04ba5b4fc2d3ba1c54c17",
       "style": "IPY_MODEL_846e2ceb5fb7412f8a194c14c4067ec8",
       "value": " 0/2 [00:08&lt;?, ?it/s]"
      }
     },
     "6138a28267f040ffbfb3f52ae28a3ce5": {
      "model_module": "@jupyter-widgets/base",
      "model_module_version": "2.0.0",
      "model_name": "LayoutModel",
      "state": {}
     },
     "614d3dcc0f7746d2ba6953adff21e845": {
      "model_module": "@jupyter-widgets/controls",
      "model_module_version": "2.0.0",
      "model_name": "ProgressStyleModel",
      "state": {
       "description_width": ""
      }
     },
     "6153a57040084f849a6fae4f8a1b9dfb": {
      "model_module": "@jupyter-widgets/controls",
      "model_module_version": "2.0.0",
      "model_name": "HBoxModel",
      "state": {
       "children": [
        "IPY_MODEL_d4ca65d36c44415782684667a61e9f14",
        "IPY_MODEL_cfec70188ad64b13bbb849c40b1e701c",
        "IPY_MODEL_7e5d6312649c480b96f4472b549ffd78"
       ],
       "layout": "IPY_MODEL_f489908339834d18b91daa73ce83fa7e"
      }
     },
     "6268ffc5eb124436b60b366c9065399a": {
      "model_module": "@jupyter-widgets/controls",
      "model_module_version": "2.0.0",
      "model_name": "HBoxModel",
      "state": {
       "children": [
        "IPY_MODEL_55bd25730593483a846377c4e093d7f1",
        "IPY_MODEL_8fea75f11b2d49f095f3c93e94f97c9b",
        "IPY_MODEL_00729fb33e15405888b84a4e1816278c"
       ],
       "layout": "IPY_MODEL_e72a050e366e49bf9c64514ef074ab26"
      }
     },
     "62bbfc32726945499ec9381fe7d90d61": {
      "model_module": "@jupyter-widgets/base",
      "model_module_version": "2.0.0",
      "model_name": "LayoutModel",
      "state": {}
     },
     "65a4c54ce34f4d46a49e99c535c20ea1": {
      "model_module": "@jupyter-widgets/controls",
      "model_module_version": "2.0.0",
      "model_name": "HTMLModel",
      "state": {
       "layout": "IPY_MODEL_546e2615bb2a40b9ac5d59d6ecd0eeca",
       "style": "IPY_MODEL_6930a1ff1d494e95be80cb7056abe4a6",
       "value": "  0%"
      }
     },
     "67eb92dbd8564d3b93fb817116b4b976": {
      "model_module": "@jupyter-widgets/controls",
      "model_module_version": "2.0.0",
      "model_name": "HTMLStyleModel",
      "state": {
       "description_width": "",
       "font_size": null,
       "text_color": null
      }
     },
     "688a4c93cecf4d33b4732d033e4244f3": {
      "model_module": "@jupyter-widgets/controls",
      "model_module_version": "2.0.0",
      "model_name": "HTMLStyleModel",
      "state": {
       "description_width": "",
       "font_size": null,
       "text_color": null
      }
     },
     "6930a1ff1d494e95be80cb7056abe4a6": {
      "model_module": "@jupyter-widgets/controls",
      "model_module_version": "2.0.0",
      "model_name": "HTMLStyleModel",
      "state": {
       "description_width": "",
       "font_size": null,
       "text_color": null
      }
     },
     "6a57761882ac4a4f952db9e4f0f080c5": {
      "model_module": "@jupyter-widgets/controls",
      "model_module_version": "2.0.0",
      "model_name": "FloatProgressModel",
      "state": {
       "bar_style": "danger",
       "layout": "IPY_MODEL_d7012d0f67384257ab24517982b808c9",
       "max": 3,
       "style": "IPY_MODEL_1ed55719fb264c50bd851b31ddc7da51"
      }
     },
     "6a805234134944d08d7f0501562e987d": {
      "model_module": "@jupyter-widgets/base",
      "model_module_version": "2.0.0",
      "model_name": "LayoutModel",
      "state": {}
     },
     "6b312f370ea44b08bc91dd68a2aa561a": {
      "model_module": "@jupyter-widgets/controls",
      "model_module_version": "2.0.0",
      "model_name": "HTMLModel",
      "state": {
       "layout": "IPY_MODEL_06a16fc4fdcb451990e6402def2795a0",
       "style": "IPY_MODEL_eb1806286ce5464bafc1ef2703a86571",
       "value": " 1664/1664 [04:21&lt;00:00,  7.66it/s]"
      }
     },
     "6b81da85fcc547a089ef739c650bc242": {
      "model_module": "@jupyter-widgets/controls",
      "model_module_version": "2.0.0",
      "model_name": "HTMLStyleModel",
      "state": {
       "description_width": "",
       "font_size": null,
       "text_color": null
      }
     },
     "6df6d479ad704599917c4144d628ac70": {
      "model_module": "@jupyter-widgets/controls",
      "model_module_version": "2.0.0",
      "model_name": "FloatProgressModel",
      "state": {
       "bar_style": "danger",
       "layout": "IPY_MODEL_b2e2c5062b264041a4804b1f56aeb61b",
       "max": 5,
       "style": "IPY_MODEL_f90c7b84276b43eea637771f1085cf0a",
       "value": 1
      }
     },
     "6ecda4b730b14d67a38afe3a75695d76": {
      "model_module": "@jupyter-widgets/base",
      "model_module_version": "2.0.0",
      "model_name": "LayoutModel",
      "state": {}
     },
     "6f2c0b1b178c47db87e4e29f4694012b": {
      "model_module": "@jupyter-widgets/controls",
      "model_module_version": "2.0.0",
      "model_name": "HBoxModel",
      "state": {
       "children": [
        "IPY_MODEL_f201294cf14d436496404eac7245d5e6",
        "IPY_MODEL_f73123f270834ed1acb2c5d55e612d63",
        "IPY_MODEL_25e2928c759c45a1a1606623d6db6d41"
       ],
       "layout": "IPY_MODEL_0ace5fe7b71f4ec99afec2dac78ee07d"
      }
     },
     "71a63145e65b43458dceb90512ff7cab": {
      "model_module": "@jupyter-widgets/base",
      "model_module_version": "2.0.0",
      "model_name": "LayoutModel",
      "state": {}
     },
     "71b04718732444f69a6b8bc71790e2cc": {
      "model_module": "@jupyter-widgets/controls",
      "model_module_version": "2.0.0",
      "model_name": "HTMLStyleModel",
      "state": {
       "description_width": "",
       "font_size": null,
       "text_color": null
      }
     },
     "725a4dba96ff4e06bc13fe0efa5ae151": {
      "model_module": "@jupyter-widgets/controls",
      "model_module_version": "2.0.0",
      "model_name": "HTMLModel",
      "state": {
       "layout": "IPY_MODEL_10ad786ac78e4ebe946241c0de7c1d88",
       "style": "IPY_MODEL_a5eff3fb2dfd4ca6985963110588e854",
       "value": " 0/25 [00:10&lt;?, ?it/s]"
      }
     },
     "74301717d2464a19a0541ead2c8f23c8": {
      "model_module": "@jupyter-widgets/base",
      "model_module_version": "2.0.0",
      "model_name": "LayoutModel",
      "state": {}
     },
     "75c8a0848d4c40c98e71346988165922": {
      "model_module": "@jupyter-widgets/controls",
      "model_module_version": "2.0.0",
      "model_name": "ProgressStyleModel",
      "state": {
       "description_width": ""
      }
     },
     "786dd548d7b242659f16524b16706e8b": {
      "model_module": "@jupyter-widgets/controls",
      "model_module_version": "2.0.0",
      "model_name": "HTMLModel",
      "state": {
       "layout": "IPY_MODEL_bda291fcc3b14dbd88f9f72f25e6bb61",
       "style": "IPY_MODEL_1dfe78b293e249bcbed36a9705ddc82e",
       "value": "  0%"
      }
     },
     "79f03327e9f744f4a52e60caeb67f81b": {
      "model_module": "@jupyter-widgets/controls",
      "model_module_version": "2.0.0",
      "model_name": "HBoxModel",
      "state": {
       "children": [
        "IPY_MODEL_56daae8658154af7bbc592004caac89b",
        "IPY_MODEL_b299b0122c6a420e80449a1e4f78ebb1",
        "IPY_MODEL_9039193948f6426494c212c08b09652a"
       ],
       "layout": "IPY_MODEL_23c13663356147548c7f3df41ba8ae1d"
      }
     },
     "79f3367c55d04795bf251238efa98b3d": {
      "model_module": "@jupyter-widgets/base",
      "model_module_version": "2.0.0",
      "model_name": "LayoutModel",
      "state": {}
     },
     "7b4f9ac054504ca7adf17d61b9fd58f8": {
      "model_module": "@jupyter-widgets/controls",
      "model_module_version": "2.0.0",
      "model_name": "ProgressStyleModel",
      "state": {
       "description_width": ""
      }
     },
     "7b53ff3f2a084f36be11a47b887080e2": {
      "model_module": "@jupyter-widgets/base",
      "model_module_version": "2.0.0",
      "model_name": "LayoutModel",
      "state": {}
     },
     "7b9eaf283ee5442db6c2c0d4c3ba58c1": {
      "model_module": "@jupyter-widgets/controls",
      "model_module_version": "2.0.0",
      "model_name": "HBoxModel",
      "state": {
       "children": [
        "IPY_MODEL_ea633b470a884d709f9a438d7b594007",
        "IPY_MODEL_f6eaf59763384d6e830bfa2b2b62716d",
        "IPY_MODEL_f0dae19beb084707b4ddd055b304a074"
       ],
       "layout": "IPY_MODEL_0f39ed9d2db7454f84b719e233c507d1"
      }
     },
     "7c1f36fe3c0e4f9389754f8d13bc82d1": {
      "model_module": "@jupyter-widgets/base",
      "model_module_version": "2.0.0",
      "model_name": "LayoutModel",
      "state": {}
     },
     "7c44add8fd6543b9b27c1c3637755c03": {
      "model_module": "@jupyter-widgets/controls",
      "model_module_version": "2.0.0",
      "model_name": "HBoxModel",
      "state": {
       "children": [
        "IPY_MODEL_b95417edeaa0473b83c776d58bc0dac2",
        "IPY_MODEL_41311202a473473885bd2877be491a95",
        "IPY_MODEL_fc0032e8b51e402987262f4cedc8cc17"
       ],
       "layout": "IPY_MODEL_91f8902ab00e4e589ad0e650bc888702"
      }
     },
     "7c87e7e60a9d4730a311b49d556e9cab": {
      "model_module": "@jupyter-widgets/controls",
      "model_module_version": "2.0.0",
      "model_name": "HTMLModel",
      "state": {
       "layout": "IPY_MODEL_71a63145e65b43458dceb90512ff7cab",
       "style": "IPY_MODEL_0ba637f2d7894cc18575eb823a38ef48",
       "value": " 0/3 [00:00&lt;?, ?it/s]"
      }
     },
     "7da62b02943d46d9a714c089c83a9bf9": {
      "model_module": "@jupyter-widgets/controls",
      "model_module_version": "2.0.0",
      "model_name": "FloatProgressModel",
      "state": {
       "bar_style": "danger",
       "layout": "IPY_MODEL_5abe16b7f1094f58a0cd626706e60f0a",
       "max": 5,
       "style": "IPY_MODEL_cd5427fe86e149aa9a0552afcd5936f6"
      }
     },
     "7e05705864534d9db15fb70bba2babe8": {
      "model_module": "@jupyter-widgets/base",
      "model_module_version": "2.0.0",
      "model_name": "LayoutModel",
      "state": {}
     },
     "7e131d9683664c81a54e8a932275663d": {
      "model_module": "@jupyter-widgets/controls",
      "model_module_version": "2.0.0",
      "model_name": "HBoxModel",
      "state": {
       "children": [
        "IPY_MODEL_786dd548d7b242659f16524b16706e8b",
        "IPY_MODEL_6a57761882ac4a4f952db9e4f0f080c5",
        "IPY_MODEL_050451376a5a46418872cbe088dbd2b9"
       ],
       "layout": "IPY_MODEL_0b5b3e611e66442384a2fc1f84f56d22"
      }
     },
     "7e5d6312649c480b96f4472b549ffd78": {
      "model_module": "@jupyter-widgets/controls",
      "model_module_version": "2.0.0",
      "model_name": "HTMLModel",
      "state": {
       "layout": "IPY_MODEL_6ecda4b730b14d67a38afe3a75695d76",
       "style": "IPY_MODEL_855a852d242a40ab9a578d2071e9ace6",
       "value": " 5/5 [17:59&lt;00:00, 301.02s/it]"
      }
     },
     "7f5a49c7824b4dc199cc39ec3a9a1b11": {
      "model_module": "@jupyter-widgets/base",
      "model_module_version": "2.0.0",
      "model_name": "LayoutModel",
      "state": {}
     },
     "7f8843ca11024a0195c9c6f0225ee1a4": {
      "model_module": "@jupyter-widgets/controls",
      "model_module_version": "2.0.0",
      "model_name": "HTMLStyleModel",
      "state": {
       "description_width": "",
       "font_size": null,
       "text_color": null
      }
     },
     "8151659c62a24493b90d9bd4c79ea4d6": {
      "model_module": "@jupyter-widgets/controls",
      "model_module_version": "2.0.0",
      "model_name": "FloatProgressModel",
      "state": {
       "bar_style": "success",
       "layout": "IPY_MODEL_79f3367c55d04795bf251238efa98b3d",
       "max": 5,
       "style": "IPY_MODEL_2d114660016745a298244b217df3166a",
       "value": 5
      }
     },
     "8403ea804b254b10bb088ee022822139": {
      "model_module": "@jupyter-widgets/base",
      "model_module_version": "2.0.0",
      "model_name": "LayoutModel",
      "state": {}
     },
     "846e2ceb5fb7412f8a194c14c4067ec8": {
      "model_module": "@jupyter-widgets/controls",
      "model_module_version": "2.0.0",
      "model_name": "HTMLStyleModel",
      "state": {
       "description_width": "",
       "font_size": null,
       "text_color": null
      }
     },
     "852c7376f20d4fa580d364fed8a66433": {
      "model_module": "@jupyter-widgets/base",
      "model_module_version": "2.0.0",
      "model_name": "LayoutModel",
      "state": {}
     },
     "855a852d242a40ab9a578d2071e9ace6": {
      "model_module": "@jupyter-widgets/controls",
      "model_module_version": "2.0.0",
      "model_name": "HTMLStyleModel",
      "state": {
       "description_width": "",
       "font_size": null,
       "text_color": null
      }
     },
     "882892b84f1e4f89a13809a0988ed8c2": {
      "model_module": "@jupyter-widgets/base",
      "model_module_version": "2.0.0",
      "model_name": "LayoutModel",
      "state": {}
     },
     "8b365ccc42b7449190fe76d520642fbc": {
      "model_module": "@jupyter-widgets/controls",
      "model_module_version": "2.0.0",
      "model_name": "HTMLStyleModel",
      "state": {
       "description_width": "",
       "font_size": null,
       "text_color": null
      }
     },
     "8d1aeeb2062f461c89e2ffaaa1a8e3b5": {
      "model_module": "@jupyter-widgets/base",
      "model_module_version": "2.0.0",
      "model_name": "LayoutModel",
      "state": {}
     },
     "8dea4d1e4e4248deb228f6d111bdbfc0": {
      "model_module": "@jupyter-widgets/controls",
      "model_module_version": "2.0.0",
      "model_name": "HTMLStyleModel",
      "state": {
       "description_width": "",
       "font_size": null,
       "text_color": null
      }
     },
     "8f0fa8da1193459891aa2881933089b6": {
      "model_module": "@jupyter-widgets/base",
      "model_module_version": "2.0.0",
      "model_name": "LayoutModel",
      "state": {}
     },
     "8fea75f11b2d49f095f3c93e94f97c9b": {
      "model_module": "@jupyter-widgets/controls",
      "model_module_version": "2.0.0",
      "model_name": "FloatProgressModel",
      "state": {
       "layout": "IPY_MODEL_5862c044312640d2bc1a462ef3f7e4e1",
       "max": 2,
       "style": "IPY_MODEL_5ba22f12e14646fe8f59aff43397940e"
      }
     },
     "9039193948f6426494c212c08b09652a": {
      "model_module": "@jupyter-widgets/controls",
      "model_module_version": "2.0.0",
      "model_name": "HTMLModel",
      "state": {
       "layout": "IPY_MODEL_df47c75ef06d4267bd014a67b51a25b7",
       "style": "IPY_MODEL_d91c24381c554d5f9f7e8d82da0599d2",
       "value": " 1/2 [38:08&lt;38:08, 2288.56s/it]"
      }
     },
     "9104f0122d0147ac9001312463435578": {
      "model_module": "@jupyter-widgets/controls",
      "model_module_version": "2.0.0",
      "model_name": "HBoxModel",
      "state": {
       "children": [
        "IPY_MODEL_d4f7d0af869f4aae961ee7722514fc8b",
        "IPY_MODEL_b526aa901eae4ba2a3ddf206a2c783ed",
        "IPY_MODEL_eaa8d1f0584f4c208d26218b1f430bda"
       ],
       "layout": "IPY_MODEL_3a10743e45574fd08124fab5bbd13050"
      }
     },
     "91f8902ab00e4e589ad0e650bc888702": {
      "model_module": "@jupyter-widgets/base",
      "model_module_version": "2.0.0",
      "model_name": "LayoutModel",
      "state": {}
     },
     "9383c6900bcf4b1a9c8b8ccd47352980": {
      "model_module": "@jupyter-widgets/controls",
      "model_module_version": "2.0.0",
      "model_name": "HTMLStyleModel",
      "state": {
       "description_width": "",
       "font_size": null,
       "text_color": null
      }
     },
     "93d6039ed5ba4c649a8c9f27a19b78d7": {
      "model_module": "@jupyter-widgets/base",
      "model_module_version": "2.0.0",
      "model_name": "LayoutModel",
      "state": {}
     },
     "94a372db3b114c8f8b7e557191f568c4": {
      "model_module": "@jupyter-widgets/controls",
      "model_module_version": "2.0.0",
      "model_name": "HTMLStyleModel",
      "state": {
       "description_width": "",
       "font_size": null,
       "text_color": null
      }
     },
     "95798df31153457584b1d0da745b5c49": {
      "model_module": "@jupyter-widgets/base",
      "model_module_version": "2.0.0",
      "model_name": "LayoutModel",
      "state": {}
     },
     "9ae6f78b5676481dab444e16741e8b14": {
      "model_module": "@jupyter-widgets/controls",
      "model_module_version": "2.0.0",
      "model_name": "HTMLStyleModel",
      "state": {
       "description_width": "",
       "font_size": null,
       "text_color": null
      }
     },
     "9ae84e9798634179ab8f6fd2d8859cd5": {
      "model_module": "@jupyter-widgets/controls",
      "model_module_version": "2.0.0",
      "model_name": "ProgressStyleModel",
      "state": {
       "description_width": ""
      }
     },
     "9b84379bb757453e86d39951bbff4798": {
      "model_module": "@jupyter-widgets/controls",
      "model_module_version": "2.0.0",
      "model_name": "FloatProgressModel",
      "state": {
       "bar_style": "danger",
       "layout": "IPY_MODEL_6138a28267f040ffbfb3f52ae28a3ce5",
       "max": 25,
       "style": "IPY_MODEL_c1016f143adf440ca9e0a978ffafdeba"
      }
     },
     "9d9832801ba345a2939dbf7bdfa3ebec": {
      "model_module": "@jupyter-widgets/controls",
      "model_module_version": "2.0.0",
      "model_name": "HTMLStyleModel",
      "state": {
       "description_width": "",
       "font_size": null,
       "text_color": null
      }
     },
     "9de5dda6e7094f64ac05478227d88f30": {
      "model_module": "@jupyter-widgets/base",
      "model_module_version": "2.0.0",
      "model_name": "LayoutModel",
      "state": {}
     },
     "a0e43146dfa143c1814171e20cc752bc": {
      "model_module": "@jupyter-widgets/controls",
      "model_module_version": "2.0.0",
      "model_name": "ProgressStyleModel",
      "state": {
       "description_width": ""
      }
     },
     "a2eac8eeb9e440aa809d0df632136e72": {
      "model_module": "@jupyter-widgets/controls",
      "model_module_version": "2.0.0",
      "model_name": "HBoxModel",
      "state": {
       "children": [
        "IPY_MODEL_1bb2788f4c764f45a2088d27d0ee243a",
        "IPY_MODEL_21599baa0b204f1690edcc6f3a611475",
        "IPY_MODEL_3e3f639defd541cab08957a4434e1789"
       ],
       "layout": "IPY_MODEL_22d5a479072441c082920285b44d46e2"
      }
     },
     "a5eff3fb2dfd4ca6985963110588e854": {
      "model_module": "@jupyter-widgets/controls",
      "model_module_version": "2.0.0",
      "model_name": "HTMLStyleModel",
      "state": {
       "description_width": "",
       "font_size": null,
       "text_color": null
      }
     },
     "a60c35cae7914eb7a4f3b734a9f5278d": {
      "model_module": "@jupyter-widgets/controls",
      "model_module_version": "2.0.0",
      "model_name": "HTMLStyleModel",
      "state": {
       "description_width": "",
       "font_size": null,
       "text_color": null
      }
     },
     "a681c7b65f344a3696ee9082eb050e0f": {
      "model_module": "@jupyter-widgets/base",
      "model_module_version": "2.0.0",
      "model_name": "LayoutModel",
      "state": {}
     },
     "a842d3db569d4c2e9366143e7c6156da": {
      "model_module": "@jupyter-widgets/base",
      "model_module_version": "2.0.0",
      "model_name": "LayoutModel",
      "state": {}
     },
     "a84b006ae03944fea9215bb23692baec": {
      "model_module": "@jupyter-widgets/controls",
      "model_module_version": "2.0.0",
      "model_name": "HTMLStyleModel",
      "state": {
       "description_width": "",
       "font_size": null,
       "text_color": null
      }
     },
     "ad039e9a563f4edc9be57b9df23c2fc6": {
      "model_module": "@jupyter-widgets/controls",
      "model_module_version": "2.0.0",
      "model_name": "HTMLModel",
      "state": {
       "layout": "IPY_MODEL_8d1aeeb2062f461c89e2ffaaa1a8e3b5",
       "style": "IPY_MODEL_2b6ea51f86bc4674b2e013417ce181a9",
       "value": "100%"
      }
     },
     "af8083249ed44663aabae6108b87dc8e": {
      "model_module": "@jupyter-widgets/controls",
      "model_module_version": "2.0.0",
      "model_name": "HTMLStyleModel",
      "state": {
       "description_width": "",
       "font_size": null,
       "text_color": null
      }
     },
     "b08b53a2236f4262b9e6c339ace53ff6": {
      "model_module": "@jupyter-widgets/base",
      "model_module_version": "2.0.0",
      "model_name": "LayoutModel",
      "state": {}
     },
     "b0eae2d916874e47b5ae04c9f8fed2d6": {
      "model_module": "@jupyter-widgets/base",
      "model_module_version": "2.0.0",
      "model_name": "LayoutModel",
      "state": {}
     },
     "b299b0122c6a420e80449a1e4f78ebb1": {
      "model_module": "@jupyter-widgets/controls",
      "model_module_version": "2.0.0",
      "model_name": "FloatProgressModel",
      "state": {
       "layout": "IPY_MODEL_d3158e22595f4144ae3b1fb6909d4b1e",
       "max": 2,
       "style": "IPY_MODEL_1f0521f4c7a141a1a977f14c0e5e604e",
       "value": 1
      }
     },
     "b2e2c5062b264041a4804b1f56aeb61b": {
      "model_module": "@jupyter-widgets/base",
      "model_module_version": "2.0.0",
      "model_name": "LayoutModel",
      "state": {}
     },
     "b453a74fc9cd498da8d35749166e0cc5": {
      "model_module": "@jupyter-widgets/controls",
      "model_module_version": "2.0.0",
      "model_name": "HTMLStyleModel",
      "state": {
       "description_width": "",
       "font_size": null,
       "text_color": null
      }
     },
     "b4f280ed3e564764a1635a5b78a7393b": {
      "model_module": "@jupyter-widgets/controls",
      "model_module_version": "2.0.0",
      "model_name": "HTMLStyleModel",
      "state": {
       "description_width": "",
       "font_size": null,
       "text_color": null
      }
     },
     "b52019e1e7a24baa9135d8e60aeb7089": {
      "model_module": "@jupyter-widgets/base",
      "model_module_version": "2.0.0",
      "model_name": "LayoutModel",
      "state": {}
     },
     "b526aa901eae4ba2a3ddf206a2c783ed": {
      "model_module": "@jupyter-widgets/controls",
      "model_module_version": "2.0.0",
      "model_name": "FloatProgressModel",
      "state": {
       "bar_style": "success",
       "layout": "IPY_MODEL_f19de7e0bb514334a215838e1902bfa1",
       "max": 3,
       "style": "IPY_MODEL_75c8a0848d4c40c98e71346988165922",
       "value": 3
      }
     },
     "b5a6a8c662a74ef9aa91966bd389591f": {
      "model_module": "@jupyter-widgets/controls",
      "model_module_version": "2.0.0",
      "model_name": "FloatProgressModel",
      "state": {
       "bar_style": "info",
       "layout": "IPY_MODEL_1fc3e50a32e44210adef8b06f638cf2e",
       "max": 1,
       "style": "IPY_MODEL_4f668e06b2bf4960964519bc0c0c70bc",
       "value": 1
      }
     },
     "b6c328003308457ab5a1bc090b1d76b6": {
      "model_module": "@jupyter-widgets/controls",
      "model_module_version": "2.0.0",
      "model_name": "ProgressStyleModel",
      "state": {
       "description_width": ""
      }
     },
     "b83ac4ff351945f99354676e6b49cb78": {
      "model_module": "@jupyter-widgets/controls",
      "model_module_version": "2.0.0",
      "model_name": "HBoxModel",
      "state": {
       "children": [
        "IPY_MODEL_3f77714be6194b3f99e509cd3d7e8b83",
        "IPY_MODEL_d9f9c74698d84b71868dfbc95cfddf99",
        "IPY_MODEL_cf2b9acfc30b4bd98370ff28c42489a0"
       ],
       "layout": "IPY_MODEL_bf5c20d64f0546c09a7dc55105351b50"
      }
     },
     "b95417edeaa0473b83c776d58bc0dac2": {
      "model_module": "@jupyter-widgets/controls",
      "model_module_version": "2.0.0",
      "model_name": "HTMLModel",
      "state": {
       "layout": "IPY_MODEL_7c1f36fe3c0e4f9389754f8d13bc82d1",
       "style": "IPY_MODEL_9d9832801ba345a2939dbf7bdfa3ebec",
       "value": "  0%"
      }
     },
     "bb8ab3dfc71e41318e284de9f8f32a59": {
      "model_module": "@jupyter-widgets/base",
      "model_module_version": "2.0.0",
      "model_name": "LayoutModel",
      "state": {}
     },
     "bcb4c300f1b0484c9833dd130d2bd73a": {
      "model_module": "@jupyter-widgets/base",
      "model_module_version": "2.0.0",
      "model_name": "LayoutModel",
      "state": {}
     },
     "bda291fcc3b14dbd88f9f72f25e6bb61": {
      "model_module": "@jupyter-widgets/base",
      "model_module_version": "2.0.0",
      "model_name": "LayoutModel",
      "state": {}
     },
     "bf5c20d64f0546c09a7dc55105351b50": {
      "model_module": "@jupyter-widgets/base",
      "model_module_version": "2.0.0",
      "model_name": "LayoutModel",
      "state": {}
     },
     "bfb3b761b4d84eafa17282a9d7648138": {
      "model_module": "@jupyter-widgets/base",
      "model_module_version": "2.0.0",
      "model_name": "LayoutModel",
      "state": {}
     },
     "bfca9ba4eb8c450eaed88ef423d15b2d": {
      "model_module": "@jupyter-widgets/base",
      "model_module_version": "2.0.0",
      "model_name": "LayoutModel",
      "state": {}
     },
     "bff2ea98a75d484fabd17899b3d1e4b7": {
      "model_module": "@jupyter-widgets/controls",
      "model_module_version": "2.0.0",
      "model_name": "HTMLModel",
      "state": {
       "layout": "IPY_MODEL_a681c7b65f344a3696ee9082eb050e0f",
       "style": "IPY_MODEL_36d8538236944d58bc623bc790c16b18"
      }
     },
     "c1016f143adf440ca9e0a978ffafdeba": {
      "model_module": "@jupyter-widgets/controls",
      "model_module_version": "2.0.0",
      "model_name": "ProgressStyleModel",
      "state": {
       "description_width": ""
      }
     },
     "c35a3fda73f0429e863bca2cc33db896": {
      "model_module": "@jupyter-widgets/base",
      "model_module_version": "2.0.0",
      "model_name": "LayoutModel",
      "state": {}
     },
     "ccfea9ab20374e3eb962f658fc7468d5": {
      "model_module": "@jupyter-widgets/controls",
      "model_module_version": "2.0.0",
      "model_name": "HTMLModel",
      "state": {
       "layout": "IPY_MODEL_fc529fdfcefa48e7adf0fc90e69674fe",
       "style": "IPY_MODEL_94a372db3b114c8f8b7e557191f568c4",
       "value": " 20%"
      }
     },
     "cd5427fe86e149aa9a0552afcd5936f6": {
      "model_module": "@jupyter-widgets/controls",
      "model_module_version": "2.0.0",
      "model_name": "ProgressStyleModel",
      "state": {
       "description_width": ""
      }
     },
     "cf2b9acfc30b4bd98370ff28c42489a0": {
      "model_module": "@jupyter-widgets/controls",
      "model_module_version": "2.0.0",
      "model_name": "HTMLModel",
      "state": {
       "layout": "IPY_MODEL_7f5a49c7824b4dc199cc39ec3a9a1b11",
       "style": "IPY_MODEL_7f8843ca11024a0195c9c6f0225ee1a4",
       "value": " 0/2 [00:08&lt;?, ?it/s]"
      }
     },
     "cfc2b25b97cc4633b266dcf4e7202192": {
      "model_module": "@jupyter-widgets/controls",
      "model_module_version": "2.0.0",
      "model_name": "HTMLStyleModel",
      "state": {
       "description_width": "",
       "font_size": null,
       "text_color": null
      }
     },
     "cfe7cb6b569c41e2bfb19317704023bc": {
      "model_module": "@jupyter-widgets/base",
      "model_module_version": "2.0.0",
      "model_name": "LayoutModel",
      "state": {}
     },
     "cfec70188ad64b13bbb849c40b1e701c": {
      "model_module": "@jupyter-widgets/controls",
      "model_module_version": "2.0.0",
      "model_name": "FloatProgressModel",
      "state": {
       "bar_style": "success",
       "layout": "IPY_MODEL_7e05705864534d9db15fb70bba2babe8",
       "max": 5,
       "style": "IPY_MODEL_3270c0b000644ef9b9b0ff712cb297b0",
       "value": 5
      }
     },
     "d3158e22595f4144ae3b1fb6909d4b1e": {
      "model_module": "@jupyter-widgets/base",
      "model_module_version": "2.0.0",
      "model_name": "LayoutModel",
      "state": {}
     },
     "d4ca65d36c44415782684667a61e9f14": {
      "model_module": "@jupyter-widgets/controls",
      "model_module_version": "2.0.0",
      "model_name": "HTMLModel",
      "state": {
       "layout": "IPY_MODEL_7b53ff3f2a084f36be11a47b887080e2",
       "style": "IPY_MODEL_b4f280ed3e564764a1635a5b78a7393b",
       "value": "100%"
      }
     },
     "d4f7d0af869f4aae961ee7722514fc8b": {
      "model_module": "@jupyter-widgets/controls",
      "model_module_version": "2.0.0",
      "model_name": "HTMLModel",
      "state": {
       "layout": "IPY_MODEL_0aeae42d8fd040209cf4025ab32863b2",
       "style": "IPY_MODEL_9383c6900bcf4b1a9c8b8ccd47352980",
       "value": "100%"
      }
     },
     "d5e78632820143e5845e427f3ebedc38": {
      "model_module": "@jupyter-widgets/controls",
      "model_module_version": "2.0.0",
      "model_name": "HTMLModel",
      "state": {
       "layout": "IPY_MODEL_e5cba3b2a5d34dd29857199eec099449",
       "style": "IPY_MODEL_5abe03c0e68c445583fb7c93448c1604",
       "value": "  0%"
      }
     },
     "d6dc813188194c51906f0d8d844fb8af": {
      "model_module": "@jupyter-widgets/controls",
      "model_module_version": "2.0.0",
      "model_name": "HTMLModel",
      "state": {
       "layout": "IPY_MODEL_f2b89169f69f4df5b4ea24ae42b5391a",
       "style": "IPY_MODEL_1b79feba623b48a9855e4efcdbd93fdc",
       "value": "100%"
      }
     },
     "d7012d0f67384257ab24517982b808c9": {
      "model_module": "@jupyter-widgets/base",
      "model_module_version": "2.0.0",
      "model_name": "LayoutModel",
      "state": {}
     },
     "d91c24381c554d5f9f7e8d82da0599d2": {
      "model_module": "@jupyter-widgets/controls",
      "model_module_version": "2.0.0",
      "model_name": "HTMLStyleModel",
      "state": {
       "description_width": "",
       "font_size": null,
       "text_color": null
      }
     },
     "d9f9c74698d84b71868dfbc95cfddf99": {
      "model_module": "@jupyter-widgets/controls",
      "model_module_version": "2.0.0",
      "model_name": "FloatProgressModel",
      "state": {
       "bar_style": "danger",
       "layout": "IPY_MODEL_e132079608654b70bbff20bc959288a0",
       "max": 2,
       "style": "IPY_MODEL_06a712d7f0fb494a8dac9d871e8e63b9"
      }
     },
     "da284dadb28740e0af2bafb6d929eaac": {
      "model_module": "@jupyter-widgets/base",
      "model_module_version": "2.0.0",
      "model_name": "LayoutModel",
      "state": {}
     },
     "de4be4c4e7644dbc8a1ef977019a785f": {
      "model_module": "@jupyter-widgets/controls",
      "model_module_version": "2.0.0",
      "model_name": "HTMLStyleModel",
      "state": {
       "description_width": "",
       "font_size": null,
       "text_color": null
      }
     },
     "df47c75ef06d4267bd014a67b51a25b7": {
      "model_module": "@jupyter-widgets/base",
      "model_module_version": "2.0.0",
      "model_name": "LayoutModel",
      "state": {}
     },
     "e08f90e84a424452a778ed34e56f3b50": {
      "model_module": "@jupyter-widgets/controls",
      "model_module_version": "2.0.0",
      "model_name": "HTMLModel",
      "state": {
       "layout": "IPY_MODEL_cfe7cb6b569c41e2bfb19317704023bc",
       "style": "IPY_MODEL_11e8d7aeb7bb45de99ea0394850e2d77",
       "value": " 5/5 [06:09&lt;00:00, 95.86s/it]"
      }
     },
     "e132079608654b70bbff20bc959288a0": {
      "model_module": "@jupyter-widgets/base",
      "model_module_version": "2.0.0",
      "model_name": "LayoutModel",
      "state": {}
     },
     "e544f162d850423b87b2486cf27c4b89": {
      "model_module": "@jupyter-widgets/controls",
      "model_module_version": "2.0.0",
      "model_name": "HTMLStyleModel",
      "state": {
       "description_width": "",
       "font_size": null,
       "text_color": null
      }
     },
     "e54a189b004f42fab65379ee064aa8cd": {
      "model_module": "@jupyter-widgets/base",
      "model_module_version": "2.0.0",
      "model_name": "LayoutModel",
      "state": {}
     },
     "e5cba3b2a5d34dd29857199eec099449": {
      "model_module": "@jupyter-widgets/base",
      "model_module_version": "2.0.0",
      "model_name": "LayoutModel",
      "state": {}
     },
     "e64d61add5694f4bba93cb921dc84639": {
      "model_module": "@jupyter-widgets/controls",
      "model_module_version": "2.0.0",
      "model_name": "HTMLModel",
      "state": {
       "layout": "IPY_MODEL_356f7a8f336b446eb49e898b2cb02132",
       "style": "IPY_MODEL_6b81da85fcc547a089ef739c650bc242",
       "value": "  0%"
      }
     },
     "e6f5e9df05424b739f2153515e0737ac": {
      "model_module": "@jupyter-widgets/controls",
      "model_module_version": "2.0.0",
      "model_name": "HTMLStyleModel",
      "state": {
       "description_width": "",
       "font_size": null,
       "text_color": null
      }
     },
     "e72a050e366e49bf9c64514ef074ab26": {
      "model_module": "@jupyter-widgets/base",
      "model_module_version": "2.0.0",
      "model_name": "LayoutModel",
      "state": {}
     },
     "e749b96ba99947cbb49840b4f2e98620": {
      "model_module": "@jupyter-widgets/base",
      "model_module_version": "2.0.0",
      "model_name": "LayoutModel",
      "state": {}
     },
     "e8263fc57ce14117a8dc77502677cd96": {
      "model_module": "@jupyter-widgets/base",
      "model_module_version": "2.0.0",
      "model_name": "LayoutModel",
      "state": {}
     },
     "e8303be4a406440a970783c0242747cd": {
      "model_module": "@jupyter-widgets/controls",
      "model_module_version": "2.0.0",
      "model_name": "ProgressStyleModel",
      "state": {
       "description_width": ""
      }
     },
     "e8dd02ee17e54584ab94acd4141bc7c3": {
      "model_module": "@jupyter-widgets/controls",
      "model_module_version": "2.0.0",
      "model_name": "HTMLStyleModel",
      "state": {
       "description_width": "",
       "font_size": null,
       "text_color": null
      }
     },
     "ea633b470a884d709f9a438d7b594007": {
      "model_module": "@jupyter-widgets/controls",
      "model_module_version": "2.0.0",
      "model_name": "HTMLModel",
      "state": {
       "layout": "IPY_MODEL_ee1e6be66a8945778bc8495b29674a8c",
       "style": "IPY_MODEL_476cf9c7f65a4c53ad4287a9d42d665c",
       "value": "100%"
      }
     },
     "eaa8d1f0584f4c208d26218b1f430bda": {
      "model_module": "@jupyter-widgets/controls",
      "model_module_version": "2.0.0",
      "model_name": "HTMLModel",
      "state": {
       "layout": "IPY_MODEL_bb8ab3dfc71e41318e284de9f8f32a59",
       "style": "IPY_MODEL_b453a74fc9cd498da8d35749166e0cc5",
       "value": " 3/3 [38:08&lt;00:00, 799.21s/it]"
      }
     },
     "eb1806286ce5464bafc1ef2703a86571": {
      "model_module": "@jupyter-widgets/controls",
      "model_module_version": "2.0.0",
      "model_name": "HTMLStyleModel",
      "state": {
       "description_width": "",
       "font_size": null,
       "text_color": null
      }
     },
     "ebeb1ec099ac47b4b6baeeb9f0450a24": {
      "model_module": "@jupyter-widgets/controls",
      "model_module_version": "2.0.0",
      "model_name": "HBoxModel",
      "state": {
       "children": [
        "IPY_MODEL_ad039e9a563f4edc9be57b9df23c2fc6",
        "IPY_MODEL_fe06c0614fc344bc9c28fc3a50d088b6",
        "IPY_MODEL_3c91ef5309384b7e9c4a748ac3a445b6"
       ],
       "layout": "IPY_MODEL_e54a189b004f42fab65379ee064aa8cd"
      }
     },
     "ed2d2755d48046839264f1eddff87a0f": {
      "model_module": "@jupyter-widgets/controls",
      "model_module_version": "2.0.0",
      "model_name": "HBoxModel",
      "state": {
       "children": [
        "IPY_MODEL_fc782cf6212c47549ca9a142943a9ada",
        "IPY_MODEL_1939437a609e42baa578de593088de4a",
        "IPY_MODEL_60a386075cda47b8b02c4db17a0eef1a"
       ],
       "layout": "IPY_MODEL_e8263fc57ce14117a8dc77502677cd96"
      }
     },
     "ed353c6e5ae0441d85a43d04544ab53c": {
      "model_module": "@jupyter-widgets/controls",
      "model_module_version": "2.0.0",
      "model_name": "HTMLModel",
      "state": {
       "layout": "IPY_MODEL_da284dadb28740e0af2bafb6d929eaac",
       "style": "IPY_MODEL_e8dd02ee17e54584ab94acd4141bc7c3",
       "value": " 1/5 [00:20&lt;00:22,  5.67s/it]"
      }
     },
     "edb63d26211e4fd886c8b39b5bf952ec": {
      "model_module": "@jupyter-widgets/controls",
      "model_module_version": "2.0.0",
      "model_name": "HTMLStyleModel",
      "state": {
       "description_width": "",
       "font_size": null,
       "text_color": null
      }
     },
     "ede99aac028f4bdd834ddcabee23d829": {
      "model_module": "@jupyter-widgets/controls",
      "model_module_version": "2.0.0",
      "model_name": "HTMLStyleModel",
      "state": {
       "description_width": "",
       "font_size": null,
       "text_color": null
      }
     },
     "ee1e6be66a8945778bc8495b29674a8c": {
      "model_module": "@jupyter-widgets/base",
      "model_module_version": "2.0.0",
      "model_name": "LayoutModel",
      "state": {}
     },
     "ef19d5c82af54461a8a2c04fb07bf06e": {
      "model_module": "@jupyter-widgets/controls",
      "model_module_version": "2.0.0",
      "model_name": "FloatProgressModel",
      "state": {
       "bar_style": "success",
       "layout": "IPY_MODEL_bcb4c300f1b0484c9833dd130d2bd73a",
       "max": 1664,
       "style": "IPY_MODEL_a0e43146dfa143c1814171e20cc752bc",
       "value": 1664
      }
     },
     "f0dae19beb084707b4ddd055b304a074": {
      "model_module": "@jupyter-widgets/controls",
      "model_module_version": "2.0.0",
      "model_name": "HTMLModel",
      "state": {
       "layout": "IPY_MODEL_212eb77b8d7a4b588f51f5fbf92bee5a",
       "style": "IPY_MODEL_71b04718732444f69a6b8bc71790e2cc",
       "value": " 5/5 [25:43&lt;00:00, 413.62s/it]"
      }
     },
     "f19de7e0bb514334a215838e1902bfa1": {
      "model_module": "@jupyter-widgets/base",
      "model_module_version": "2.0.0",
      "model_name": "LayoutModel",
      "state": {}
     },
     "f201294cf14d436496404eac7245d5e6": {
      "model_module": "@jupyter-widgets/controls",
      "model_module_version": "2.0.0",
      "model_name": "HTMLModel",
      "state": {
       "layout": "IPY_MODEL_2d695080a4634d5cb4bc86a41ebd8f6d",
       "style": "IPY_MODEL_a84b006ae03944fea9215bb23692baec",
       "value": "100%"
      }
     },
     "f2b89169f69f4df5b4ea24ae42b5391a": {
      "model_module": "@jupyter-widgets/base",
      "model_module_version": "2.0.0",
      "model_name": "LayoutModel",
      "state": {}
     },
     "f489908339834d18b91daa73ce83fa7e": {
      "model_module": "@jupyter-widgets/base",
      "model_module_version": "2.0.0",
      "model_name": "LayoutModel",
      "state": {}
     },
     "f4f98bb52a874fd992e44cb31c2bf2d5": {
      "model_module": "@jupyter-widgets/base",
      "model_module_version": "2.0.0",
      "model_name": "LayoutModel",
      "state": {}
     },
     "f64790097eda4e7eaeff8e21e8c4308b": {
      "model_module": "@jupyter-widgets/base",
      "model_module_version": "2.0.0",
      "model_name": "LayoutModel",
      "state": {}
     },
     "f6eaf59763384d6e830bfa2b2b62716d": {
      "model_module": "@jupyter-widgets/controls",
      "model_module_version": "2.0.0",
      "model_name": "FloatProgressModel",
      "state": {
       "bar_style": "success",
       "layout": "IPY_MODEL_f8ad2b0a4e014de59b6fcf63c3082a5d",
       "max": 5,
       "style": "IPY_MODEL_26b0cc2b62f4496f89b7cc66472b66b2",
       "value": 5
      }
     },
     "f722032acbb940d0938f5a8c2546a581": {
      "model_module": "@jupyter-widgets/controls",
      "model_module_version": "2.0.0",
      "model_name": "HTMLStyleModel",
      "state": {
       "description_width": "",
       "font_size": null,
       "text_color": null
      }
     },
     "f73123f270834ed1acb2c5d55e612d63": {
      "model_module": "@jupyter-widgets/controls",
      "model_module_version": "2.0.0",
      "model_name": "FloatProgressModel",
      "state": {
       "bar_style": "success",
       "layout": "IPY_MODEL_b0eae2d916874e47b5ae04c9f8fed2d6",
       "max": 5,
       "style": "IPY_MODEL_614d3dcc0f7746d2ba6953adff21e845",
       "value": 5
      }
     },
     "f8ad2b0a4e014de59b6fcf63c3082a5d": {
      "model_module": "@jupyter-widgets/base",
      "model_module_version": "2.0.0",
      "model_name": "LayoutModel",
      "state": {}
     },
     "f90c7b84276b43eea637771f1085cf0a": {
      "model_module": "@jupyter-widgets/controls",
      "model_module_version": "2.0.0",
      "model_name": "ProgressStyleModel",
      "state": {
       "description_width": ""
      }
     },
     "fb027773464f43149eb5bbf587500383": {
      "model_module": "@jupyter-widgets/controls",
      "model_module_version": "2.0.0",
      "model_name": "HTMLModel",
      "state": {
       "layout": "IPY_MODEL_8403ea804b254b10bb088ee022822139",
       "style": "IPY_MODEL_9ae6f78b5676481dab444e16741e8b14",
       "value": "100%"
      }
     },
     "fb13e5cc447b430494f80625b732f358": {
      "model_module": "@jupyter-widgets/controls",
      "model_module_version": "2.0.0",
      "model_name": "HTMLStyleModel",
      "state": {
       "description_width": "",
       "font_size": null,
       "text_color": null
      }
     },
     "fc0032e8b51e402987262f4cedc8cc17": {
      "model_module": "@jupyter-widgets/controls",
      "model_module_version": "2.0.0",
      "model_name": "HTMLModel",
      "state": {
       "layout": "IPY_MODEL_bfca9ba4eb8c450eaed88ef423d15b2d",
       "style": "IPY_MODEL_8b365ccc42b7449190fe76d520642fbc",
       "value": " 0/5 [00:16&lt;?, ?it/s]"
      }
     },
     "fc529fdfcefa48e7adf0fc90e69674fe": {
      "model_module": "@jupyter-widgets/base",
      "model_module_version": "2.0.0",
      "model_name": "LayoutModel",
      "state": {}
     },
     "fc782cf6212c47549ca9a142943a9ada": {
      "model_module": "@jupyter-widgets/controls",
      "model_module_version": "2.0.0",
      "model_name": "HTMLModel",
      "state": {
       "layout": "IPY_MODEL_32de3b4ae533422b9a05dafdfa314456",
       "style": "IPY_MODEL_e544f162d850423b87b2486cf27c4b89",
       "value": "  0%"
      }
     },
     "fe06c0614fc344bc9c28fc3a50d088b6": {
      "model_module": "@jupyter-widgets/controls",
      "model_module_version": "2.0.0",
      "model_name": "FloatProgressModel",
      "state": {
       "bar_style": "success",
       "layout": "IPY_MODEL_8f0fa8da1193459891aa2881933089b6",
       "max": 5,
       "style": "IPY_MODEL_9ae84e9798634179ab8f6fd2d8859cd5",
       "value": 5
      }
     }
    },
    "version_major": 2,
    "version_minor": 0
   }
  }
 },
 "nbformat": 4,
 "nbformat_minor": 5
}
