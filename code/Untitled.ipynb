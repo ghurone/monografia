{
 "cells": [
  {
   "cell_type": "code",
   "execution_count": 1,
   "id": "fefaeee5-1ad4-415d-92f7-1916b69e7811",
   "metadata": {},
   "outputs": [],
   "source": [
    "from utils.scielo import *"
   ]
  },
  {
   "cell_type": "code",
   "execution_count": 2,
   "id": "cb04e69f-a4fe-4c75-a8d9-550871987878",
   "metadata": {},
   "outputs": [],
   "source": [
    "vol = volumes_por_ano()"
   ]
  },
  {
   "cell_type": "code",
   "execution_count": 3,
   "id": "36f0f5b7-b1d6-4ac3-bff0-268995305376",
   "metadata": {},
   "outputs": [],
   "source": [
    "del vol[2023]"
   ]
  },
  {
   "cell_type": "code",
   "execution_count": 4,
   "id": "37e0461e-0b74-4aa5-ae8c-daab599ac13b",
   "metadata": {},
   "outputs": [],
   "source": [
    "soma = 0"
   ]
  },
  {
   "cell_type": "code",
   "execution_count": 8,
   "id": "0d1b80ab-4a4f-4870-a956-a89dcb0f8b2d",
   "metadata": {},
   "outputs": [],
   "source": [
    "for ano, urls in vol.items():\n",
    "    for url in urls:\n",
    "        req = request.get(url)\n",
    "        soup = BeautifulSoup(req.text, 'lxml', parse_only=SoupStrainer('ul', attrs={'class': 'articles'}))\n",
    "        soma += len(soup.find_all('li', attrs={'data-date':True}))"
   ]
  },
  {
   "cell_type": "code",
   "execution_count": 9,
   "id": "e211716e-475a-49c7-a7a9-65bbd4ce4898",
   "metadata": {},
   "outputs": [
    {
     "name": "stdout",
     "output_type": "stream",
     "text": [
      "2104\n"
     ]
    }
   ],
   "source": [
    "print(soma)"
   ]
  },
  {
   "cell_type": "code",
   "execution_count": 10,
   "id": "fb89f0fd-07f2-4e69-be29-b66ce7cbdef7",
   "metadata": {},
   "outputs": [
    {
     "data": {
      "text/plain": [
       "0.7908745247148289"
      ]
     },
     "execution_count": 10,
     "metadata": {},
     "output_type": "execute_result"
    }
   ],
   "source": [
    "1664/soma"
   ]
  },
  {
   "cell_type": "code",
   "execution_count": null,
   "id": "9281dbf5-0c57-449f-b4bc-dc52a08dccef",
   "metadata": {},
   "outputs": [],
   "source": []
  }
 ],
 "metadata": {
  "kernelspec": {
   "display_name": "Python 3 (ipykernel)",
   "language": "python",
   "name": "python3"
  },
  "language_info": {
   "codemirror_mode": {
    "name": "ipython",
    "version": 3
   },
   "file_extension": ".py",
   "mimetype": "text/x-python",
   "name": "python",
   "nbconvert_exporter": "python",
   "pygments_lexer": "ipython3",
   "version": "3.9.15"
  },
  "widgets": {
   "application/vnd.jupyter.widget-state+json": {
    "state": {},
    "version_major": 2,
    "version_minor": 0
   }
  }
 },
 "nbformat": 4,
 "nbformat_minor": 5
}
